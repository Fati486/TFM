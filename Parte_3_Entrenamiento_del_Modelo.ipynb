{
  "nbformat": 4,
  "nbformat_minor": 0,
  "metadata": {
    "colab": {
      "name": "Parte 3- Entrenamiento del Modelo.ipynb",
      "version": "0.3.2",
      "provenance": [],
      "collapsed_sections": []
    },
    "kernelspec": {
      "name": "python3",
      "display_name": "Python 3"
    },
    "accelerator": "GPU"
  },
  "cells": [
    {
      "cell_type": "markdown",
      "metadata": {
        "id": "DmicyuhvjaOX",
        "colab_type": "text"
      },
      "source": [
        "## Parte 3- Entrenamiento del Modelo\n",
        "\n"
      ]
    },
    {
      "cell_type": "markdown",
      "metadata": {
        "id": "wrzC6vjjFIae",
        "colab_type": "text"
      },
      "source": [
        "En el Notebook Parte 2 se han analizado practicamente todas las variables que influyen en el grado de calidad del vino, y en este Notebook, dividiremos nuestro dataset en Train y Test, y aplicaremos diferentes modelos de Machine Learning para el entrenamiento. Compararemos los diferentes modelos, y analizaremos los resultados obtenidos. "
      ]
    },
    {
      "cell_type": "code",
      "metadata": {
        "id": "OQNClNFoM7mC",
        "colab_type": "code",
        "colab": {}
      },
      "source": [
        "# Cargando algunas librerias\n",
        "import pandas as pd\n",
        "from sklearn.svm import SVC\n",
        "import matplotlib.pyplot as plt\n",
        "import seaborn as sns\n",
        "import numpy as np\n",
        "%matplotlib inline\n",
        "\n",
        "# Ignore the warnings\n",
        "import warnings\n",
        "warnings.filterwarnings('always')\n",
        "warnings.filterwarnings('ignore')"
      ],
      "execution_count": 0,
      "outputs": []
    },
    {
      "cell_type": "code",
      "metadata": {
        "id": "WyN84J-WE3nw",
        "colab_type": "code",
        "colab": {}
      },
      "source": [
        "# Carga del Dataset winequalityX2.csv desde la Máquina Virtual\n",
        "wineX3 = pd.read_csv(\"/home/dsc/Data/wineX3.csv\")\n",
        "\n",
        "# Obtenemos una muestra de 20 registros\n",
        "wineX3.head(20)"
      ],
      "execution_count": 0,
      "outputs": []
    },
    {
      "cell_type": "markdown",
      "metadata": {
        "id": "pSWiM3KI5tuH",
        "colab_type": "text"
      },
      "source": [
        "###Pre-procesado de los Datos para aplicar Algoritmos de Machine Learning\n",
        "#### Definición de variables y división de los datos"
      ]
    },
    {
      "cell_type": "code",
      "metadata": {
        "id": "8L5zguJRvsea",
        "colab_type": "code",
        "colab": {}
      },
      "source": [
        "# Creamos las variables 'x' e 'y', para ello quitamos \n",
        "# las últimas dos columnas 'Calidad' y 'Categoria' del dataset\n",
        "\n",
        "x = wineX3.iloc[:,1:11]  #'x' serán los features\n",
        "y = wineX3['Categoria']  #'y' será la variable objetivo (1=Malo, 2=Aceptable, 3=Bueno)"
      ],
      "execution_count": 0,
      "outputs": []
    },
    {
      "cell_type": "code",
      "metadata": {
        "id": "1qIN6eNlxkJP",
        "colab_type": "code",
        "outputId": "795d6035-7bb2-4898-b23d-75166f633bb0",
        "colab": {
          "base_uri": "https://localhost:8080/",
          "height": 363
        }
      },
      "source": [
        "x.head(10)"
      ],
      "execution_count": 0,
      "outputs": [
        {
          "output_type": "execute_result",
          "data": {
            "text/html": [
              "<div>\n",
              "<style scoped>\n",
              "    .dataframe tbody tr th:only-of-type {\n",
              "        vertical-align: middle;\n",
              "    }\n",
              "\n",
              "    .dataframe tbody tr th {\n",
              "        vertical-align: top;\n",
              "    }\n",
              "\n",
              "    .dataframe thead th {\n",
              "        text-align: right;\n",
              "    }\n",
              "</style>\n",
              "<table border=\"1\" class=\"dataframe\">\n",
              "  <thead>\n",
              "    <tr style=\"text-align: right;\">\n",
              "      <th></th>\n",
              "      <th>Acidez_Volatil</th>\n",
              "      <th>Acido_Citrico</th>\n",
              "      <th>Azucar_Residual</th>\n",
              "      <th>Cloruro</th>\n",
              "      <th>Dioxido_Azufre_Libre</th>\n",
              "      <th>Dioxido_Azufre_Total</th>\n",
              "      <th>Densidad</th>\n",
              "      <th>pH</th>\n",
              "      <th>Sulfatos</th>\n",
              "      <th>Alcohol</th>\n",
              "    </tr>\n",
              "  </thead>\n",
              "  <tbody>\n",
              "    <tr>\n",
              "      <th>0</th>\n",
              "      <td>0.70</td>\n",
              "      <td>0.00</td>\n",
              "      <td>1.9</td>\n",
              "      <td>0.076</td>\n",
              "      <td>11.0</td>\n",
              "      <td>34.0</td>\n",
              "      <td>0.9978</td>\n",
              "      <td>3.51</td>\n",
              "      <td>0.56</td>\n",
              "      <td>9.4</td>\n",
              "    </tr>\n",
              "    <tr>\n",
              "      <th>1</th>\n",
              "      <td>0.88</td>\n",
              "      <td>0.00</td>\n",
              "      <td>2.6</td>\n",
              "      <td>0.098</td>\n",
              "      <td>25.0</td>\n",
              "      <td>67.0</td>\n",
              "      <td>0.9968</td>\n",
              "      <td>3.20</td>\n",
              "      <td>0.68</td>\n",
              "      <td>9.8</td>\n",
              "    </tr>\n",
              "    <tr>\n",
              "      <th>2</th>\n",
              "      <td>0.76</td>\n",
              "      <td>0.04</td>\n",
              "      <td>2.3</td>\n",
              "      <td>0.092</td>\n",
              "      <td>15.0</td>\n",
              "      <td>54.0</td>\n",
              "      <td>0.9970</td>\n",
              "      <td>3.26</td>\n",
              "      <td>0.65</td>\n",
              "      <td>9.8</td>\n",
              "    </tr>\n",
              "    <tr>\n",
              "      <th>3</th>\n",
              "      <td>0.28</td>\n",
              "      <td>0.56</td>\n",
              "      <td>1.9</td>\n",
              "      <td>0.075</td>\n",
              "      <td>17.0</td>\n",
              "      <td>60.0</td>\n",
              "      <td>0.9980</td>\n",
              "      <td>3.16</td>\n",
              "      <td>0.58</td>\n",
              "      <td>9.8</td>\n",
              "    </tr>\n",
              "    <tr>\n",
              "      <th>4</th>\n",
              "      <td>0.70</td>\n",
              "      <td>0.00</td>\n",
              "      <td>1.9</td>\n",
              "      <td>0.076</td>\n",
              "      <td>11.0</td>\n",
              "      <td>34.0</td>\n",
              "      <td>0.9978</td>\n",
              "      <td>3.51</td>\n",
              "      <td>0.56</td>\n",
              "      <td>9.4</td>\n",
              "    </tr>\n",
              "    <tr>\n",
              "      <th>5</th>\n",
              "      <td>0.66</td>\n",
              "      <td>0.00</td>\n",
              "      <td>1.8</td>\n",
              "      <td>0.075</td>\n",
              "      <td>13.0</td>\n",
              "      <td>40.0</td>\n",
              "      <td>0.9978</td>\n",
              "      <td>3.51</td>\n",
              "      <td>0.56</td>\n",
              "      <td>9.4</td>\n",
              "    </tr>\n",
              "    <tr>\n",
              "      <th>6</th>\n",
              "      <td>0.60</td>\n",
              "      <td>0.06</td>\n",
              "      <td>1.6</td>\n",
              "      <td>0.069</td>\n",
              "      <td>15.0</td>\n",
              "      <td>59.0</td>\n",
              "      <td>0.9964</td>\n",
              "      <td>3.30</td>\n",
              "      <td>0.46</td>\n",
              "      <td>9.4</td>\n",
              "    </tr>\n",
              "    <tr>\n",
              "      <th>7</th>\n",
              "      <td>0.65</td>\n",
              "      <td>0.00</td>\n",
              "      <td>1.2</td>\n",
              "      <td>0.065</td>\n",
              "      <td>15.0</td>\n",
              "      <td>21.0</td>\n",
              "      <td>0.9946</td>\n",
              "      <td>3.39</td>\n",
              "      <td>0.47</td>\n",
              "      <td>10.0</td>\n",
              "    </tr>\n",
              "    <tr>\n",
              "      <th>8</th>\n",
              "      <td>0.58</td>\n",
              "      <td>0.02</td>\n",
              "      <td>2.0</td>\n",
              "      <td>0.073</td>\n",
              "      <td>9.0</td>\n",
              "      <td>18.0</td>\n",
              "      <td>0.9968</td>\n",
              "      <td>3.36</td>\n",
              "      <td>0.57</td>\n",
              "      <td>9.5</td>\n",
              "    </tr>\n",
              "    <tr>\n",
              "      <th>9</th>\n",
              "      <td>0.50</td>\n",
              "      <td>0.36</td>\n",
              "      <td>6.1</td>\n",
              "      <td>0.071</td>\n",
              "      <td>17.0</td>\n",
              "      <td>102.0</td>\n",
              "      <td>0.9978</td>\n",
              "      <td>3.35</td>\n",
              "      <td>0.80</td>\n",
              "      <td>10.5</td>\n",
              "    </tr>\n",
              "  </tbody>\n",
              "</table>\n",
              "</div>"
            ],
            "text/plain": [
              "   Acidez_Volatil  Acido_Citrico  Azucar_Residual  Cloruro  \\\n",
              "0            0.70           0.00              1.9    0.076   \n",
              "1            0.88           0.00              2.6    0.098   \n",
              "2            0.76           0.04              2.3    0.092   \n",
              "3            0.28           0.56              1.9    0.075   \n",
              "4            0.70           0.00              1.9    0.076   \n",
              "5            0.66           0.00              1.8    0.075   \n",
              "6            0.60           0.06              1.6    0.069   \n",
              "7            0.65           0.00              1.2    0.065   \n",
              "8            0.58           0.02              2.0    0.073   \n",
              "9            0.50           0.36              6.1    0.071   \n",
              "\n",
              "   Dioxido_Azufre_Libre  Dioxido_Azufre_Total  Densidad    pH  Sulfatos  \\\n",
              "0                  11.0                  34.0    0.9978  3.51      0.56   \n",
              "1                  25.0                  67.0    0.9968  3.20      0.68   \n",
              "2                  15.0                  54.0    0.9970  3.26      0.65   \n",
              "3                  17.0                  60.0    0.9980  3.16      0.58   \n",
              "4                  11.0                  34.0    0.9978  3.51      0.56   \n",
              "5                  13.0                  40.0    0.9978  3.51      0.56   \n",
              "6                  15.0                  59.0    0.9964  3.30      0.46   \n",
              "7                  15.0                  21.0    0.9946  3.39      0.47   \n",
              "8                   9.0                  18.0    0.9968  3.36      0.57   \n",
              "9                  17.0                 102.0    0.9978  3.35      0.80   \n",
              "\n",
              "   Alcohol  \n",
              "0      9.4  \n",
              "1      9.8  \n",
              "2      9.8  \n",
              "3      9.8  \n",
              "4      9.4  \n",
              "5      9.4  \n",
              "6      9.4  \n",
              "7     10.0  \n",
              "8      9.5  \n",
              "9     10.5  "
            ]
          },
          "metadata": {
            "tags": []
          },
          "execution_count": 44
        }
      ]
    },
    {
      "cell_type": "code",
      "metadata": {
        "id": "CSIYwyJGKsKP",
        "colab_type": "code",
        "outputId": "cb4f427f-4842-456c-876d-f934ed3fff59",
        "colab": {
          "base_uri": "https://localhost:8080/",
          "height": 219
        }
      },
      "source": [
        "y.head(10)"
      ],
      "execution_count": 0,
      "outputs": [
        {
          "output_type": "execute_result",
          "data": {
            "text/plain": [
              "0    2\n",
              "1    2\n",
              "2    2\n",
              "3    2\n",
              "4    2\n",
              "5    2\n",
              "6    2\n",
              "7    3\n",
              "8    3\n",
              "9    2\n",
              "Name: Categoria, dtype: object"
            ]
          },
          "metadata": {
            "tags": []
          },
          "execution_count": 45
        }
      ]
    },
    {
      "cell_type": "markdown",
      "metadata": {
        "id": "ETTpyBrVG77p",
        "colab_type": "text"
      },
      "source": [
        "###Característica de escalado ###\n",
        "\n",
        "Antes de continuar, debemos escalar nuestros datos de modo que cada característica tenga una variación de unidades. La biblioteca de scikit proporciona varios tipos de escaladores, incluidos MinMax Scaler y StandardScaler. A continuación, se utilizará el StandardScaler para escalar los datos."
      ]
    },
    {
      "cell_type": "code",
      "metadata": {
        "id": "E63UPPCd_WlB",
        "colab_type": "code",
        "colab": {}
      },
      "source": [
        "from sklearn.preprocessing import StandardScaler\n",
        "xn = wineX3.iloc[:,1:11].values\n",
        "\n",
        "sc=StandardScaler()\n",
        "xsc=sc.fit_transform(xn[:,:])"
      ],
      "execution_count": 0,
      "outputs": []
    },
    {
      "cell_type": "code",
      "metadata": {
        "id": "C7EYgsAjFBuI",
        "colab_type": "code",
        "outputId": "c303d6bb-57c6-4228-9de2-0a49af56cfe3",
        "colab": {
          "base_uri": "https://localhost:8080/",
          "height": 256
        }
      },
      "source": [
        "print(xsc)"
      ],
      "execution_count": 0,
      "outputs": [
        {
          "output_type": "stream",
          "text": [
            "[[ 0.96187667 -1.39147228 -0.45321841 ...  1.28864292 -0.57920652\n",
            "  -0.96024611]\n",
            " [ 1.96744245 -1.39147228  0.04341614 ... -0.7199333   0.1289504\n",
            "  -0.58477711]\n",
            " [ 1.29706527 -1.18607043 -0.16942723 ... -0.33117661 -0.04808883\n",
            "  -0.58477711]\n",
            " ...\n",
            " [-0.09955388 -0.72391627 -0.16942723 ...  0.70550789  0.54204194\n",
            "   0.54162988]\n",
            " [ 0.65462046 -0.77526673 -0.38227061 ...  1.6773996   0.30598963\n",
            "  -0.20930812]\n",
            " [-1.21684919  1.02199944  0.75289408 ...  0.51112954  0.01092425\n",
            "   0.54162988]]\n"
          ],
          "name": "stdout"
        }
      ]
    },
    {
      "cell_type": "markdown",
      "metadata": {
        "id": "iZBu8CSA3VoJ",
        "colab_type": "text"
      },
      "source": [
        "**Datasets para el Training y el Test**\n",
        "\n",
        "Se dividen los datos en conjuntos de entrenamiento y validación.\n"
      ]
    },
    {
      "cell_type": "code",
      "metadata": {
        "id": "lrEPA_vX3VSo",
        "colab_type": "code",
        "colab": {}
      },
      "source": [
        "# Dividimos el dataset en 2 partes: 80% para train y 20% para test\n",
        "from sklearn.model_selection import train_test_split\n",
        "X_train, X_test, y_train, y_test = train_test_split(xsc, y, test_size = 0.20, random_state = 42)"
      ],
      "execution_count": 0,
      "outputs": []
    },
    {
      "cell_type": "code",
      "metadata": {
        "id": "OWzy6lQ3OAgv",
        "colab_type": "code",
        "outputId": "63b71749-989f-43fc-9b97-4af5d327ac06",
        "colab": {
          "base_uri": "https://localhost:8080/",
          "height": 35
        }
      },
      "source": [
        "X_train.shape, y_train.shape, X_test.shape, y_test.shape "
      ],
      "execution_count": 0,
      "outputs": [
        {
          "output_type": "execute_result",
          "data": {
            "text/plain": [
              "((1279, 10), (1279,), (320, 10), (320,))"
            ]
          },
          "metadata": {
            "tags": []
          },
          "execution_count": 49
        }
      ]
    },
    {
      "cell_type": "code",
      "metadata": {
        "id": "rPW_nFb54JF3",
        "colab_type": "code",
        "outputId": "ace40eb9-9fc2-4c69-f4b3-584ad73d423f",
        "colab": {
          "base_uri": "https://localhost:8080/",
          "height": 256
        }
      },
      "source": [
        "# comprobamos el train y el test  \n",
        "print(X_test)"
      ],
      "execution_count": 0,
      "outputs": [
        {
          "output_type": "stream",
          "text": [
            "[[ 0.17976995 -0.98066858 -0.02753165 ... -0.46076217  0.01092425\n",
            "  -0.77251161]\n",
            " [-0.15541864 -0.51851442 -0.66606179 ...  0.51112954 -1.05131114\n",
            "  -0.86637886]\n",
            " [ 0.79428237 -0.26176211  0.11436394 ... -0.20159105  1.89934271\n",
            "  -0.49090986]\n",
            " ...\n",
            " [ 0.40322901 -0.10771073 -0.24037503 ... -1.0438972  -0.75624575\n",
            "  -0.58477711]\n",
            " [-1.44030825  0.61119574 -0.38227061 ... -1.0438972   0.18796348\n",
            "   0.72936437]\n",
            " [ 1.32499765 -1.18607043 -0.66606179 ... -0.13679827 -0.69723268\n",
            "  -0.67864436]]\n"
          ],
          "name": "stdout"
        }
      ]
    },
    {
      "cell_type": "code",
      "metadata": {
        "id": "b_Y_7WKGIPgQ",
        "colab_type": "code",
        "outputId": "8b56ddbd-c376-4246-9d32-30a083bbfbc0",
        "colab": {
          "base_uri": "https://localhost:8080/",
          "height": 256
        }
      },
      "source": [
        "print(X_train)"
      ],
      "execution_count": 0,
      "outputs": [
        {
          "output_type": "stream",
          "text": [
            "[[ 0.90601191  0.20039205  0.32720732 ...  1.09426457  0.48302886\n",
            "   1.10483337]\n",
            " [-1.77549685  0.66254621 -0.80795737 ... -0.39596939 -0.40216729\n",
            "   1.38643512]\n",
            " [-0.76993107  1.02199944 -0.5241662  ... -0.07200549  0.54204194\n",
            "  -0.58477711]\n",
            " ...\n",
            " [ 0.51495855 -1.08336951  0.11436394 ...  1.28864292 -0.69723268\n",
            "  -0.86637886]\n",
            " [-1.83136161  0.4057939  -0.59511399 ...  0.05758008  0.83710732\n",
            "   1.38643512]\n",
            " [-1.32857872 -0.05636026 -0.59511399 ...  0.51112954 -0.69723268\n",
            "   2.8883111 ]]\n"
          ],
          "name": "stdout"
        }
      ]
    },
    {
      "cell_type": "code",
      "metadata": {
        "id": "l4xTybMK-5vo",
        "colab_type": "code",
        "colab": {}
      },
      "source": [
        "# Creamos listas vacías para ir guardando los valores obtenidos\n",
        "# para las métricas en cada modelo a evaluar a continuación\n",
        "acc={}\n",
        "prec={}\n",
        "rec={}\n",
        "auroc={}\n"
      ],
      "execution_count": 0,
      "outputs": []
    },
    {
      "cell_type": "markdown",
      "metadata": {
        "id": "2F8NZvqlviz4",
        "colab_type": "text"
      },
      "source": [
        "### **Entrenamiento del Modelo y Predicciones sobre el Test Dataset**\n",
        "\n",
        "Un dato que debemos considerar es que por sí sola la precisión no es una buena opción a la hora de evaluar un modelo. Esto se debe a que, dado que los datos están sesgados, incluso un algoritmo que clasifica el objetivo como el que pertenece a la clase mayoritaria en todo momento logrará una precisión muy alta. Por lo tanto, en este tipo de situaciones conviene también usar otras métricas como:\n",
        "\n",
        "    Precision: (verdaderos positivos) / (verdaderos positivos + falsos positivos)\n",
        "    Recall: (verdaderos positivos) / (verdaderos positivos + falsos negativos)\n",
        "    Accuracy: el resultado armónico de la precision y el recall\n",
        "    AUC ROC (Curva ROC): es la gráfica entre la precision y el recall\n",
        "\n",
        "\n",
        "En esta sección, se han usado diferentes modelos de la biblioteca de scikit y los hemos entrenado en los datos previamente escalados y que luego serán utilizados para cumplir los propósitos de predicción.\n",
        "\n",
        "Comenzaremos con el modelo '***Support Vector Machine***' (SVM):"
      ]
    },
    {
      "cell_type": "code",
      "metadata": {
        "id": "p9WSgUzg448F",
        "colab_type": "code",
        "colab": {}
      },
      "source": [
        "from sklearn.svm import SVC\n",
        "from sklearn.metrics import confusion_matrix, classification_report, accuracy_score, precision_score, recall_score,confusion_matrix,roc_curve,roc_auc_score\n",
        "from sklearn import metrics"
      ],
      "execution_count": 0,
      "outputs": []
    },
    {
      "cell_type": "code",
      "metadata": {
        "id": "Dz_EcDCnviLj",
        "colab_type": "code",
        "outputId": "31cdc553-0bf8-403b-dcc7-468b85cbde91",
        "colab": {
          "base_uri": "https://localhost:8080/",
          "height": 201
        }
      },
      "source": [
        "svm = SVC()\n",
        "svm.fit(X_train,y_train)\n",
        "predicho_svm =svm.predict(X_test)\n",
        "print(classification_report(y_test,predicho_svm))"
      ],
      "execution_count": 0,
      "outputs": [
        {
          "output_type": "stream",
          "text": [
            "              precision    recall  f1-score   support\n",
            "\n",
            "           1       0.00      0.00      0.00        11\n",
            "           2       0.85      0.98      0.91       262\n",
            "           3       0.72      0.28      0.40        47\n",
            "\n",
            "   micro avg       0.84      0.84      0.84       320\n",
            "   macro avg       0.52      0.42      0.44       320\n",
            "weighted avg       0.80      0.84      0.80       320\n",
            "\n"
          ],
          "name": "stdout"
        }
      ]
    },
    {
      "cell_type": "code",
      "metadata": {
        "id": "78G_aDAT4tbe",
        "colab_type": "code",
        "outputId": "e384ee6f-24ae-4118-c4d0-04fb4e691e8f",
        "colab": {
          "base_uri": "https://localhost:8080/",
          "height": 90
        }
      },
      "source": [
        "svm_cmatrix = confusion_matrix(y_test, predicho_svm)\n",
        "svm_accuracy = accuracy_score(y_test, predicho_svm)\n",
        "print(svm_cmatrix)\n",
        "print(svm_accuracy*100)\n",
        "acc.update({'Support_Vector_Machine': svm_accuracy*100})"
      ],
      "execution_count": 0,
      "outputs": [
        {
          "output_type": "stream",
          "text": [
            "[[  0  11   0]\n",
            " [  0 257   5]\n",
            " [  0  34  13]]\n",
            "84.375\n"
          ],
          "name": "stdout"
        }
      ]
    },
    {
      "cell_type": "markdown",
      "metadata": {
        "id": "6PwdmZvLXUXc",
        "colab_type": "text"
      },
      "source": [
        "***Support Vector Machine* obtiene 84% de Accuracy, y valores altos de Precision y Recall para los grupos de calidad 'Aceptable' y 'Buena'.**"
      ]
    },
    {
      "cell_type": "markdown",
      "metadata": {
        "id": "aLWHNwdPBEqq",
        "colab_type": "text"
      },
      "source": [
        "Ahora probaremos el modelo '***Random Forest:***':"
      ]
    },
    {
      "cell_type": "code",
      "metadata": {
        "id": "Fltwi0ueBu4D",
        "colab_type": "code",
        "colab": {}
      },
      "source": [
        "from sklearn.ensemble import RandomForestClassifier"
      ],
      "execution_count": 0,
      "outputs": []
    },
    {
      "cell_type": "code",
      "metadata": {
        "id": "Pk6dEaOA9C8_",
        "colab_type": "code",
        "outputId": "fd9ca412-a215-4f4c-ad7d-bc3c9b1713a4",
        "colab": {
          "base_uri": "https://localhost:8080/",
          "height": 201
        }
      },
      "source": [
        "rclf = RandomForestClassifier(n_estimators=200, max_depth=20, oob_score=True)\n",
        "rclf.fit(X_train, y_train)\n",
        "predicho_rclf = rclf.predict(X_test)\n",
        "print(classification_report(y_test, predicho_rclf))"
      ],
      "execution_count": 0,
      "outputs": [
        {
          "output_type": "stream",
          "text": [
            "              precision    recall  f1-score   support\n",
            "\n",
            "           1       0.00      0.00      0.00        11\n",
            "           2       0.88      0.96      0.92       262\n",
            "           3       0.69      0.51      0.59        47\n",
            "\n",
            "   micro avg       0.86      0.86      0.86       320\n",
            "   macro avg       0.52      0.49      0.50       320\n",
            "weighted avg       0.82      0.86      0.84       320\n",
            "\n"
          ],
          "name": "stdout"
        }
      ]
    },
    {
      "cell_type": "code",
      "metadata": {
        "id": "UWy3PsaEClWE",
        "colab_type": "code",
        "outputId": "fa5d6f75-877b-4cf3-bd3a-d10983c6b0d6",
        "colab": {
          "base_uri": "https://localhost:8080/",
          "height": 90
        }
      },
      "source": [
        "rclf_cmatrix = confusion_matrix(y_test, predicho_rclf)\n",
        "rclf_accuracy = accuracy_score(y_test, predicho_rclf)\n",
        "print(rclf_cmatrix)\n",
        "print(rclf_accuracy*100)\n",
        "acc.update({'Random_Forest_Classifier': rclf_accuracy*100})"
      ],
      "execution_count": 0,
      "outputs": [
        {
          "output_type": "stream",
          "text": [
            "[[  0  11   0]\n",
            " [  0 251  11]\n",
            " [  0  23  24]]\n",
            "85.9375\n"
          ],
          "name": "stdout"
        }
      ]
    },
    {
      "cell_type": "markdown",
      "metadata": {
        "id": "ma3xkhZnaWIW",
        "colab_type": "text"
      },
      "source": [
        "***Random Forest* obtiene 85.9% de Accuracy, y valores altos de Precision y Recall para los grupos de calidad 'Aceptable' y 'Buena'.**"
      ]
    },
    {
      "cell_type": "markdown",
      "metadata": {
        "id": "wu9S0qtE3Fk0",
        "colab_type": "text"
      },
      "source": [
        "Probaremos a continuación el modelo '***Decision Tree Classifier***':\n",
        "\n",
        "\n"
      ]
    },
    {
      "cell_type": "code",
      "metadata": {
        "id": "JgCiot1SEjeF",
        "colab_type": "code",
        "colab": {}
      },
      "source": [
        "from sklearn.tree import DecisionTreeClassifier"
      ],
      "execution_count": 0,
      "outputs": []
    },
    {
      "cell_type": "code",
      "metadata": {
        "id": "VyV2X2Kc2mT-",
        "colab_type": "code",
        "outputId": "ea669a05-d092-47b8-8bf7-e89a5de8cee0",
        "colab": {
          "base_uri": "https://localhost:8080/",
          "height": 201
        }
      },
      "source": [
        "tree = DecisionTreeClassifier(max_depth=2)\n",
        "tr2 = tree.fit(X_train,y_train)\n",
        "predicho_tree = tree.predict(X_test)\n",
        "print(classification_report(y_test, predicho_tree))"
      ],
      "execution_count": 0,
      "outputs": [
        {
          "output_type": "stream",
          "text": [
            "              precision    recall  f1-score   support\n",
            "\n",
            "           1       0.00      0.00      0.00        11\n",
            "           2       0.85      0.96      0.90       262\n",
            "           3       0.58      0.30      0.39        47\n",
            "\n",
            "   micro avg       0.83      0.83      0.83       320\n",
            "   macro avg       0.48      0.42      0.43       320\n",
            "weighted avg       0.78      0.83      0.80       320\n",
            "\n"
          ],
          "name": "stdout"
        }
      ]
    },
    {
      "cell_type": "code",
      "metadata": {
        "id": "95miXAWS2mg1",
        "colab_type": "code",
        "outputId": "88a3223e-06c2-4b19-df52-d6528618669a",
        "colab": {
          "base_uri": "https://localhost:8080/",
          "height": 90
        }
      },
      "source": [
        "tree_cmatrix = confusion_matrix(y_test, predicho_tree)\n",
        "tree_accuracy = accuracy_score(y_test, predicho_tree)\n",
        "print(tree_cmatrix)\n",
        "print(tree_accuracy*100)\n",
        "acc.update({'Decision_Tree_Classifier': tree_accuracy*100})"
      ],
      "execution_count": 0,
      "outputs": [
        {
          "output_type": "stream",
          "text": [
            "[[  0  11   0]\n",
            " [  0 252  10]\n",
            " [  0  33  14]]\n",
            "83.125\n"
          ],
          "name": "stdout"
        }
      ]
    },
    {
      "cell_type": "markdown",
      "metadata": {
        "id": "C2DnJ96YasMl",
        "colab_type": "text"
      },
      "source": [
        "***Decision Tree* obtiene 83% de Accuracy, y valores altos de Precision y Recall para el grupo de calidad 'Aceptable'.**"
      ]
    },
    {
      "cell_type": "markdown",
      "metadata": {
        "id": "1K4hUTupF4OV",
        "colab_type": "text"
      },
      "source": [
        "Ahora probaremos el ***'K-Nearest Neighbors' (KNN):***"
      ]
    },
    {
      "cell_type": "code",
      "metadata": {
        "id": "aMG8_e6I2mx1",
        "colab_type": "code",
        "colab": {}
      },
      "source": [
        "from sklearn.neighbors import KNeighborsClassifier"
      ],
      "execution_count": 0,
      "outputs": []
    },
    {
      "cell_type": "code",
      "metadata": {
        "id": "VZ1yDLpV2m1S",
        "colab_type": "code",
        "outputId": "13280b39-973a-4c6d-fa97-98e2a391e0de",
        "colab": {
          "base_uri": "https://localhost:8080/",
          "height": 201
        }
      },
      "source": [
        "kvecinos = KNeighborsClassifier()\n",
        "kvecinos.fit(X_train,y_train)\n",
        "predicho_kvecinos=kvecinos.predict(X_test)\n",
        "print(classification_report(y_test, predicho_kvecinos))"
      ],
      "execution_count": 0,
      "outputs": [
        {
          "output_type": "stream",
          "text": [
            "              precision    recall  f1-score   support\n",
            "\n",
            "           1       0.00      0.00      0.00        11\n",
            "           2       0.87      0.95      0.91       262\n",
            "           3       0.62      0.43      0.51        47\n",
            "\n",
            "   micro avg       0.84      0.84      0.84       320\n",
            "   macro avg       0.50      0.46      0.47       320\n",
            "weighted avg       0.80      0.84      0.82       320\n",
            "\n"
          ],
          "name": "stdout"
        }
      ]
    },
    {
      "cell_type": "code",
      "metadata": {
        "id": "fg7f8W6t2muM",
        "colab_type": "code",
        "outputId": "4fc78bc5-66cd-4933-e0cb-8c8e47787102",
        "colab": {
          "base_uri": "https://localhost:8080/",
          "height": 90
        }
      },
      "source": [
        "kvecinos_cmatrix = confusion_matrix(y_test, predicho_kvecinos)\n",
        "kvecinos_accuracy = accuracy_score(y_test, predicho_kvecinos)\n",
        "print(kvecinos_cmatrix)\n",
        "print(kvecinos_accuracy*100)\n",
        "acc.update({'K_Nearest_Neighbors': kvecinos_accuracy*100})"
      ],
      "execution_count": 0,
      "outputs": [
        {
          "output_type": "stream",
          "text": [
            "[[  0  11   0]\n",
            " [  1 249  12]\n",
            " [  0  27  20]]\n",
            "84.0625\n"
          ],
          "name": "stdout"
        }
      ]
    },
    {
      "cell_type": "markdown",
      "metadata": {
        "id": "_yFXPCYfbHrf",
        "colab_type": "text"
      },
      "source": [
        "***K-Nearest Neighbors* obtiene 84% de Accuracy, y valores altos de Precision y Recall para el grupo de calidad 'Aceptable'.**"
      ]
    },
    {
      "cell_type": "markdown",
      "metadata": {
        "id": "b4j_lgnORQ9N",
        "colab_type": "text"
      },
      "source": [
        "Ahora probaremos con el modelo '***Logistic Regression***':"
      ]
    },
    {
      "cell_type": "code",
      "metadata": {
        "id": "5edCe7NCRnF_",
        "colab_type": "code",
        "colab": {}
      },
      "source": [
        "from sklearn.linear_model import LogisticRegression"
      ],
      "execution_count": 0,
      "outputs": []
    },
    {
      "cell_type": "code",
      "metadata": {
        "id": "jGe-tcNSRnR5",
        "colab_type": "code",
        "outputId": "99fa5cc4-6add-47a0-d4bd-72664642ade5",
        "colab": {
          "base_uri": "https://localhost:8080/",
          "height": 201
        }
      },
      "source": [
        "regresion = LogisticRegression()\n",
        "regresion.fit(X_train, y_train)\n",
        "predicho_regresion = regresion.predict(X_test)\n",
        "print(classification_report(y_test, predicho_regresion))"
      ],
      "execution_count": 0,
      "outputs": [
        {
          "output_type": "stream",
          "text": [
            "              precision    recall  f1-score   support\n",
            "\n",
            "           1       0.00      0.00      0.00        11\n",
            "           2       0.84      0.97      0.90       262\n",
            "           3       0.61      0.23      0.34        47\n",
            "\n",
            "   micro avg       0.83      0.83      0.83       320\n",
            "   macro avg       0.49      0.40      0.41       320\n",
            "weighted avg       0.78      0.83      0.79       320\n",
            "\n"
          ],
          "name": "stdout"
        }
      ]
    },
    {
      "cell_type": "code",
      "metadata": {
        "id": "YEObt680Rnhp",
        "colab_type": "code",
        "outputId": "67d28e96-9ee9-4432-bc00-55fc7edef172",
        "colab": {
          "base_uri": "https://localhost:8080/",
          "height": 90
        }
      },
      "source": [
        "regresion_cmatrix = confusion_matrix(y_test, predicho_regresion)\n",
        "regresion_accuracy = accuracy_score(y_test, predicho_regresion)\n",
        "print(regresion_cmatrix)\n",
        "print(regresion_accuracy*100)\n",
        "acc.update({'Logistic_Regression': regresion_accuracy*100})"
      ],
      "execution_count": 0,
      "outputs": [
        {
          "output_type": "stream",
          "text": [
            "[[  0  11   0]\n",
            " [  0 255   7]\n",
            " [  0  36  11]]\n",
            "83.125\n"
          ],
          "name": "stdout"
        }
      ]
    },
    {
      "cell_type": "markdown",
      "metadata": {
        "id": "GwAWht54bl_P",
        "colab_type": "text"
      },
      "source": [
        "***Logistic Regression* obtiene 83% de Accuracy, y valores altos de Precision y Recall para el grupo de calidad 'Aceptable'.**"
      ]
    },
    {
      "cell_type": "markdown",
      "metadata": {
        "id": "MosZeKFyRyau",
        "colab_type": "text"
      },
      "source": [
        "Ahora probaremos con el modelo '***Stochastic Gradient Decent Classifier (SGDC)***':"
      ]
    },
    {
      "cell_type": "code",
      "metadata": {
        "id": "ZOZsBjTpSqwV",
        "colab_type": "code",
        "colab": {}
      },
      "source": [
        "from sklearn.linear_model import SGDClassifier"
      ],
      "execution_count": 0,
      "outputs": []
    },
    {
      "cell_type": "code",
      "metadata": {
        "id": "gZ2_EyrDRs6g",
        "colab_type": "code",
        "outputId": "922e559f-8f97-4675-a07a-5fced56ff85a",
        "colab": {
          "base_uri": "https://localhost:8080/",
          "height": 201
        }
      },
      "source": [
        "GD = SGDClassifier(penalty=None)\n",
        "GD.fit(X_train, y_train)\n",
        "predicho_GD = GD.predict(X_test)\n",
        "print(classification_report(y_test, predicho_GD))"
      ],
      "execution_count": 0,
      "outputs": [
        {
          "output_type": "stream",
          "text": [
            "              precision    recall  f1-score   support\n",
            "\n",
            "           1       0.10      0.09      0.10        11\n",
            "           2       0.87      0.90      0.88       262\n",
            "           3       0.49      0.40      0.44        47\n",
            "\n",
            "   micro avg       0.80      0.80      0.80       320\n",
            "   macro avg       0.48      0.46      0.47       320\n",
            "weighted avg       0.78      0.80      0.79       320\n",
            "\n"
          ],
          "name": "stdout"
        }
      ]
    },
    {
      "cell_type": "code",
      "metadata": {
        "id": "NCtbWsllRtOF",
        "colab_type": "code",
        "outputId": "21e488ab-a30c-4d77-e236-48cae09a6f8b",
        "colab": {
          "base_uri": "https://localhost:8080/",
          "height": 90
        }
      },
      "source": [
        "GD_cmatrix = confusion_matrix(y_test, predicho_GD)\n",
        "GD_accuracy = accuracy_score(y_test, predicho_GD)\n",
        "print(GD_cmatrix)\n",
        "print(GD_accuracy*100)\n",
        "acc.update({'SGDC': GD_accuracy*100})"
      ],
      "execution_count": 0,
      "outputs": [
        {
          "output_type": "stream",
          "text": [
            "[[  1  10   0]\n",
            " [  7 235  20]\n",
            " [  2  26  19]]\n",
            "79.6875\n"
          ],
          "name": "stdout"
        }
      ]
    },
    {
      "cell_type": "markdown",
      "metadata": {
        "id": "iMeq8rx2b0OJ",
        "colab_type": "text"
      },
      "source": [
        "***Stochastic Gradient Decent* obtiene 79% de Accuracy, y valores altos de Precision y Recall para el grupo de calidad 'Aceptable'.**"
      ]
    },
    {
      "cell_type": "markdown",
      "metadata": {
        "id": "sXh6fYEgIsWx",
        "colab_type": "text"
      },
      "source": [
        "### Comparando los diferentes modelos"
      ]
    },
    {
      "cell_type": "code",
      "metadata": {
        "id": "yVffMmCB2mrX",
        "colab_type": "code",
        "outputId": "b79fad78-8262-4ac7-9d0c-abd9f33929d1",
        "colab": {
          "base_uri": "https://localhost:8080/",
          "height": 238
        }
      },
      "source": [
        "evaluacion_modelo = pd.DataFrame()\n",
        "evaluacion_modelo['Modelo'] = acc.keys() \n",
        "evaluacion_modelo['Accuracy'] = acc.values()\n",
        "\n",
        "result = evaluacion_modelo.sort_values('Accuracy',ascending=False)\n",
        "result"
      ],
      "execution_count": 0,
      "outputs": [
        {
          "output_type": "execute_result",
          "data": {
            "text/html": [
              "<div>\n",
              "<style scoped>\n",
              "    .dataframe tbody tr th:only-of-type {\n",
              "        vertical-align: middle;\n",
              "    }\n",
              "\n",
              "    .dataframe tbody tr th {\n",
              "        vertical-align: top;\n",
              "    }\n",
              "\n",
              "    .dataframe thead th {\n",
              "        text-align: right;\n",
              "    }\n",
              "</style>\n",
              "<table border=\"1\" class=\"dataframe\">\n",
              "  <thead>\n",
              "    <tr style=\"text-align: right;\">\n",
              "      <th></th>\n",
              "      <th>Modelo</th>\n",
              "      <th>Accuracy</th>\n",
              "    </tr>\n",
              "  </thead>\n",
              "  <tbody>\n",
              "    <tr>\n",
              "      <th>1</th>\n",
              "      <td>Random_Forest_Classifier</td>\n",
              "      <td>85.9375</td>\n",
              "    </tr>\n",
              "    <tr>\n",
              "      <th>0</th>\n",
              "      <td>Support_Vector_Machine</td>\n",
              "      <td>84.3750</td>\n",
              "    </tr>\n",
              "    <tr>\n",
              "      <th>3</th>\n",
              "      <td>K_Nearest_Neighbors</td>\n",
              "      <td>84.0625</td>\n",
              "    </tr>\n",
              "    <tr>\n",
              "      <th>2</th>\n",
              "      <td>Decision_Tree_Classifier</td>\n",
              "      <td>83.1250</td>\n",
              "    </tr>\n",
              "    <tr>\n",
              "      <th>4</th>\n",
              "      <td>Logistic_Regression</td>\n",
              "      <td>83.1250</td>\n",
              "    </tr>\n",
              "    <tr>\n",
              "      <th>5</th>\n",
              "      <td>SGDC</td>\n",
              "      <td>79.6875</td>\n",
              "    </tr>\n",
              "  </tbody>\n",
              "</table>\n",
              "</div>"
            ],
            "text/plain": [
              "                     Modelo  Accuracy\n",
              "1  Random_Forest_Classifier   85.9375\n",
              "0    Support_Vector_Machine   84.3750\n",
              "3       K_Nearest_Neighbors   84.0625\n",
              "2  Decision_Tree_Classifier   83.1250\n",
              "4       Logistic_Regression   83.1250\n",
              "5                      SGDC   79.6875"
            ]
          },
          "metadata": {
            "tags": []
          },
          "execution_count": 90
        }
      ]
    },
    {
      "cell_type": "code",
      "metadata": {
        "id": "9OfAQUI72mkg",
        "colab_type": "code",
        "outputId": "d3dc8f6f-b59d-4c45-8263-e73d1e1b3764",
        "colab": {
          "base_uri": "https://localhost:8080/",
          "height": 445
        }
      },
      "source": [
        "from matplotlib.pyplot import xticks\n",
        "\n",
        "plt.suptitle(\"Resultados de los Modelos\", fontsize=20)\n",
        "sns.lineplot(x='Modelo', y='Accuracy',data=result)\n",
        "xticks(rotation=90)"
      ],
      "execution_count": 0,
      "outputs": [
        {
          "output_type": "execute_result",
          "data": {
            "text/plain": [
              "([0, 1, 2, 3, 4, 5], <a list of 6 Text xticklabel objects>)"
            ]
          },
          "metadata": {
            "tags": []
          },
          "execution_count": 91
        },
        {
          "output_type": "display_data",
          "data": {
            "image/png": "[encoded data removed]",
            "text/plain": [
              "<Figure size 432x288 with 1 Axes>"
            ]
          },
          "metadata": {
            "tags": []
          }
        }
      ]
    },
    {
      "cell_type": "markdown",
      "metadata": {
        "id": "gqiC10VpWMoy",
        "colab_type": "text"
      },
      "source": [
        "**Comentarios**: Después de haber analizado diferentes modelos, los mejores resultados obtenidos fueron para el modelo 'Random Forest' con un Accuracy de 85.93%, seguido del modelo SVM con 84.37%. \n",
        "\n",
        "Se lograron obtener valores altos de Precision y Recall sobre todo en la categoría de 'Aceptable', pero no así en la categoría de calidad 'Malo' cuyos valores fueron nulos en todos los casos. Entendemos que los modelos fueron capacez de predecir bien en las categorias de 'Aceptable' y 'Bueno', debido a que la cantidad de muestras que era mayor y con lo cual tuvieron un mejor aprendizaje. Debido al escaso número de muestras para la calidad 'Mala', los modelos no lograron aprender lo suficiente. Una opción en este caso pudiera ser tratar de balancear un poco mejor los grupos, con técnicas como SMOTE (lo cual revisaremos en breve).\n",
        "\n"
      ]
    },
    {
      "cell_type": "markdown",
      "metadata": {
        "id": "QEww4C-cs53t",
        "colab_type": "text"
      },
      "source": [
        "### Features de Importancia"
      ]
    },
    {
      "cell_type": "markdown",
      "metadata": {
        "id": "5vOb7-rBUfOR",
        "colab_type": "text"
      },
      "source": [
        "Hemos visto que para 'Random Forest' los resultados obtenidos han sido mejores comparando con otros modelos; no obstante, intentaremos ajustar los hiperparámetros para el modelo 'Random Forest' y ver si con ello podemos mejorar un poco más los resultados.\n"
      ]
    },
    {
      "cell_type": "code",
      "metadata": {
        "id": "I8XXxpZ7UcuR",
        "colab_type": "code",
        "outputId": "f8108d4a-3efd-4c34-9172-69836d8db047",
        "colab": {
          "base_uri": "https://localhost:8080/",
          "height": 35
        }
      },
      "source": [
        "rclf.oob_score_"
      ],
      "execution_count": 0,
      "outputs": [
        {
          "output_type": "execute_result",
          "data": {
            "text/plain": [
              "0.8772478498827209"
            ]
          },
          "metadata": {
            "tags": []
          },
          "execution_count": 92
        }
      ]
    },
    {
      "cell_type": "code",
      "metadata": {
        "id": "eGJaxNjzs-xZ",
        "colab_type": "code",
        "outputId": "0ac86e56-7124-4a1c-8c0c-daa80f413ec4",
        "colab": {
          "base_uri": "https://localhost:8080/",
          "height": 269
        }
      },
      "source": [
        "plt.plot(sorted(rclf.feature_importances_,reverse=True))\n",
        "plt.show()"
      ],
      "execution_count": 0,
      "outputs": [
        {
          "output_type": "display_data",
          "data": {
            "image/png": "[encoded data removed]",
            "text/plain": [
              "<Figure size 432x288 with 1 Axes>"
            ]
          },
          "metadata": {
            "tags": []
          }
        }
      ]
    },
    {
      "cell_type": "markdown",
      "metadata": {
        "id": "uaNC2g8vtTWu",
        "colab_type": "text"
      },
      "source": [
        "Como podemos ver en el gráfico de arriba, hay 8 variables principales. Más allá de esto, el modelo se mantiene estable. Veamos cuales son las variables:"
      ]
    },
    {
      "cell_type": "code",
      "metadata": {
        "id": "Hn-ZzPGBs--o",
        "colab_type": "code",
        "outputId": "f8b679d4-595e-4268-dd66-3f41bc3eedd0",
        "colab": {
          "base_uri": "https://localhost:8080/",
          "height": 55
        }
      },
      "source": [
        "print (sorted(zip(map(lambda x: round(x, 4), rclf.feature_importances_), x), reverse=True))"
      ],
      "execution_count": 0,
      "outputs": [
        {
          "output_type": "stream",
          "text": [
            "[(0.1672, 'Alcohol'), (0.1214, 'Acidez_Volatil'), (0.1173, 'Sulfatos'), (0.0991, 'Dioxido_Azufre_Total'), (0.0888, 'Acido_Citrico'), (0.0863, 'Densidad'), (0.0861, 'Cloruro'), (0.0841, 'Azucar_Residual'), (0.0807, 'pH'), (0.0691, 'Dioxido_Azufre_Libre')]\n"
          ],
          "name": "stdout"
        }
      ]
    },
    {
      "cell_type": "code",
      "metadata": {
        "id": "-8CwaXTms-Cz",
        "colab_type": "code",
        "outputId": "a0dfaae0-45f7-4d3c-f473-52f326965623",
        "colab": {
          "base_uri": "https://localhost:8080/",
          "height": 431
        }
      },
      "source": [
        "nombres = list(x.columns)\n",
        "importantes = rclf.feature_importances_\n",
        "\n",
        "# Graficamos las variables importantes \n",
        "plt.figure(figsize=(10,5))\n",
        "plt.title(\"Variables Importantes\")\n",
        "y_pos = np.arange(len(nombres))\n",
        "plt.bar(y_pos, importantes, align='center')\n",
        "plt.xticks(y_pos, nombres, rotation=90)\n",
        "plt.show()"
      ],
      "execution_count": 0,
      "outputs": [
        {
          "output_type": "display_data",
          "data": {
            "image/png": "[encoded data removed]",
            "text/plain": [
              "<Figure size 720x360 with 1 Axes>"
            ]
          },
          "metadata": {
            "tags": []
          }
        }
      ]
    },
    {
      "cell_type": "markdown",
      "metadata": {
        "id": "oTghES3wtmpW",
        "colab_type": "text"
      },
      "source": [
        "**Comentarios**: Las características que contribuyen más a la calidad del vino incluyen el alcohol (el más alto), seguido de la ácidez volátil, los sulfatos, y la densidad. Estos resultados concuerdan con los análisis previos que observamos anteriormente.\n",
        "\n",
        "De ahora en adelante, usaremos solo estas 8 variables y eliminaremos las variables menos importantes del modelo."
      ]
    },
    {
      "cell_type": "code",
      "metadata": {
        "id": "0qUoZM2Ss99E",
        "colab_type": "code",
        "colab": {}
      },
      "source": [
        "x_newrclf = x[['Acidez_Volatil', 'Acido_Citrico', 'Azucar_Residual', 'Cloruro', 'Dioxido_Azufre_Total', 'Densidad', 'Sulfatos', 'Alcohol']]"
      ],
      "execution_count": 0,
      "outputs": []
    },
    {
      "cell_type": "code",
      "metadata": {
        "id": "RwvD_pvUUmQe",
        "colab_type": "code",
        "outputId": "b9931ac4-0dee-4478-93b5-30ae5f4b62d5",
        "colab": {
          "base_uri": "https://localhost:8080/",
          "height": 72
        }
      },
      "source": [
        "# Comprobamos los resultados\n",
        "x_newrclf.columns"
      ],
      "execution_count": 0,
      "outputs": [
        {
          "output_type": "execute_result",
          "data": {
            "text/plain": [
              "Index(['Acidez_Volatil', 'Acido_Citrico', 'Azucar_Residual', 'Cloruro',\n",
              "       'Dioxido_Azufre_Total', 'Densidad', 'Sulfatos', 'Alcohol'],\n",
              "      dtype='object')"
            ]
          },
          "metadata": {
            "tags": []
          },
          "execution_count": 99
        }
      ]
    },
    {
      "cell_type": "markdown",
      "metadata": {
        "id": "yTzIJCSpt73L",
        "colab_type": "text"
      },
      "source": [
        "Escalamos otra vez (x_newrclf):"
      ]
    },
    {
      "cell_type": "code",
      "metadata": {
        "id": "OoTCX09AZxoY",
        "colab_type": "code",
        "colab": {}
      },
      "source": [
        "from sklearn.preprocessing import StandardScaler\n",
        "xn2 = x_newrclf.iloc[:,:].values\n",
        "\n",
        "sc=StandardScaler()\n",
        "xsc2=sc.fit_transform(xn2[:,:])"
      ],
      "execution_count": 0,
      "outputs": []
    },
    {
      "cell_type": "markdown",
      "metadata": {
        "id": "lnTdsrkpuCyE",
        "colab_type": "text"
      },
      "source": [
        "Dividimos el dataset otra vez :"
      ]
    },
    {
      "cell_type": "code",
      "metadata": {
        "id": "koDpKaGqtzqV",
        "colab_type": "code",
        "colab": {}
      },
      "source": [
        "from sklearn.model_selection import train_test_split\n",
        "X_train1, X_test1, y_train1, y_test1 = train_test_split(xsc2, y, test_size = 0.20, random_state = 42)"
      ],
      "execution_count": 0,
      "outputs": []
    },
    {
      "cell_type": "markdown",
      "metadata": {
        "id": "WGi1q9J5uV8Q",
        "colab_type": "text"
      },
      "source": [
        "Y entrenamos por segunda vez con 'Random Forest' para ver que resultados obtenemos:"
      ]
    },
    {
      "cell_type": "code",
      "metadata": {
        "id": "iS8lJ8L8uLdM",
        "colab_type": "code",
        "outputId": "e634e06f-465a-4527-b2ae-7e111b61412f",
        "colab": {
          "base_uri": "https://localhost:8080/",
          "height": 201
        }
      },
      "source": [
        "rclf2 = RandomForestClassifier(n_estimators=200, max_depth=20, oob_score=True)\n",
        "rclf2.fit(X_train1, y_train1)\n",
        "predicho_rclf2 = rclf2.predict(X_test1)\n",
        "print(classification_report(y_test1, predicho_rclf2))"
      ],
      "execution_count": 0,
      "outputs": [
        {
          "output_type": "stream",
          "text": [
            "              precision    recall  f1-score   support\n",
            "\n",
            "           1       0.00      0.00      0.00        11\n",
            "           2       0.89      0.96      0.92       262\n",
            "           3       0.72      0.55      0.63        47\n",
            "\n",
            "   micro avg       0.87      0.87      0.87       320\n",
            "   macro avg       0.54      0.51      0.52       320\n",
            "weighted avg       0.83      0.87      0.85       320\n",
            "\n"
          ],
          "name": "stdout"
        }
      ]
    },
    {
      "cell_type": "code",
      "metadata": {
        "id": "OfaMtEvstz3S",
        "colab_type": "code",
        "outputId": "82b1795f-67c6-4aa5-b920-3cbf1b1fbd75",
        "colab": {
          "base_uri": "https://localhost:8080/",
          "height": 90
        }
      },
      "source": [
        "rclf2_cmatrix = confusion_matrix(y_test1, predicho_rclf2)\n",
        "rclf2_accuracy = accuracy_score(y_test1, predicho_rclf2)\n",
        "print(rclf2_cmatrix)\n",
        "print(rclf2_accuracy*100)\n",
        "acc.update({'Random_Forest_Classifier': rclf2_accuracy*100})"
      ],
      "execution_count": 0,
      "outputs": [
        {
          "output_type": "stream",
          "text": [
            "[[  0  11   0]\n",
            " [  0 252  10]\n",
            " [  0  21  26]]\n",
            "86.875\n"
          ],
          "name": "stdout"
        }
      ]
    },
    {
      "cell_type": "markdown",
      "metadata": {
        "id": "VYCbzbIlu1bl",
        "colab_type": "text"
      },
      "source": [
        "**Comentarios**: En nuestro caso los resultados obtenidos con 'Random Forest' (dejando solo las variables de más importancia), han logrado mejorar el resultado de la precisión. Los nuevos valores de precisión y recall han sido ligeramente más altos, así como el accuracy alcanzado de 87.18 %, contra un 85.93 % del ejemplo anterior en el que usabamos todas las variables involucradas. \n",
        "\n",
        "\n",
        "Las ventajas de usar la función del 'feature importance' puede ser más notoria en situaciones donde haya un mayor número de variables, y en el que la eliminación de algunas de ellas (no tan significativas) compense con una mejoría, ya sea para comprender la lógica del modelo, o para tener un rendimiento similar o en un tiempo de entrenamiento mucho más corto. En nuestro caso, evidentemente ha habido una mejoría sobre todo en el precision y el accuracy.\n"
      ]
    },
    {
      "cell_type": "markdown",
      "metadata": {
        "id": "HIga1mmsX7jl",
        "colab_type": "text"
      },
      "source": [
        "### Técnica sobremuestreo (SMOTE)\n",
        "\n",
        "Como ya hemos visto, para el caso del grado de calidad tenemos un conjunto de datos desbalanceado, con predominio de vinos Aceptables (82.5%) sobre los vinos Buenos (13.6%) y Malos (3.9%).\n",
        "\n",
        "Para intentar mejorar el rendimiento de nuestros modelos, utilizaremos la técnica de sobremuestreo conocida como SMOTE (Técnica de sobremuestreo de minorías sintéticas) que crea aleatoriamente algunos casos 'sintéticos' de las clases minoritarias para que las observaciones netas de todas clases se equilibren.\n",
        "\n",
        "Utilizaremos el paquete 'imblearn' para muestrear las clases minoritarias y lo realizaremos sobre el grupo de datos de training y validacion obtenido del punto anterior (es decir, conservando solo las variables más significativas). Luego entrenaremos nuevamente el modelo 'Randon Forest' para observar los cambios.\n"
      ]
    },
    {
      "cell_type": "markdown",
      "metadata": {
        "id": "-tfJA954b1LT",
        "colab_type": "text"
      },
      "source": [
        "Dividiremos nuevamente nuestro dataset aplicando SMOTE utilizando el X_train1 y y_train1 del paso anterior:"
      ]
    },
    {
      "cell_type": "code",
      "metadata": {
        "id": "Bczx-DOLW5Ih",
        "colab_type": "code",
        "colab": {}
      },
      "source": [
        "!pip install imblearn"
      ],
      "execution_count": 0,
      "outputs": []
    },
    {
      "cell_type": "code",
      "metadata": {
        "id": "y7si3xe_dTJb",
        "colab_type": "code",
        "outputId": "2b10d3d6-0aa4-473c-8195-26933fc51d80",
        "colab": {
          "base_uri": "https://localhost:8080/",
          "height": 35
        }
      },
      "source": [
        "from imblearn.over_sampling import SMOTE\n",
        "\n",
        "smote = SMOTE('minority')   #Usamos el ratio='minority' para remuestrear la clase minoritaria\n",
        "X_train_sm, y_train_sm = smote.fit_sample(X_train1, y_train1)\n",
        "print(X_train_sm.shape, y_train_sm.shape)\n"
      ],
      "execution_count": 0,
      "outputs": [
        {
          "output_type": "stream",
          "text": [
            "(2284, 8) (2284,)\n"
          ],
          "name": "stdout"
        }
      ]
    },
    {
      "cell_type": "markdown",
      "metadata": {
        "id": "wNavS2KlhIcL",
        "colab_type": "text"
      },
      "source": [
        "Volvemos a entrenar el modelo obtenido con mejor resultado: Random Forest"
      ]
    },
    {
      "cell_type": "code",
      "metadata": {
        "id": "WS_CZO8pXn71",
        "colab_type": "code",
        "outputId": "4e9ee10e-c313-48bd-e2d7-4f7febcbc9ea",
        "colab": {
          "base_uri": "https://localhost:8080/",
          "height": 201
        }
      },
      "source": [
        "rclf3 = RandomForestClassifier(n_estimators=200, max_depth=20, oob_score=True)\n",
        "rclf3.fit(X_train_sm, y_train_sm)\n",
        "predicho_rclf3 = rclf3.predict(X_test1)\n",
        "print(classification_report(y_test1, predicho_rclf3))"
      ],
      "execution_count": 0,
      "outputs": [
        {
          "output_type": "stream",
          "text": [
            "              precision    recall  f1-score   support\n",
            "\n",
            "           1       0.20      0.36      0.26        11\n",
            "           2       0.89      0.92      0.90       262\n",
            "           3       0.77      0.51      0.62        47\n",
            "\n",
            "   micro avg       0.84      0.84      0.84       320\n",
            "   macro avg       0.62      0.60      0.59       320\n",
            "weighted avg       0.85      0.84      0.84       320\n",
            "\n"
          ],
          "name": "stdout"
        }
      ]
    },
    {
      "cell_type": "code",
      "metadata": {
        "id": "ZCH92nRwXnzm",
        "colab_type": "code",
        "outputId": "9add16e9-2b21-4654-a960-fdcb75538beb",
        "colab": {
          "base_uri": "https://localhost:8080/",
          "height": 90
        }
      },
      "source": [
        "rclf3_cmatrix = confusion_matrix(y_test1, predicho_rclf3)\n",
        "rclf3_accuracy = accuracy_score(y_test1, predicho_rclf3)\n",
        "print(rclf3_cmatrix)\n",
        "print(rclf3_accuracy*100)\n",
        "acc.update({'Random_Forest_Classifier': rclf3_accuracy*100})"
      ],
      "execution_count": 0,
      "outputs": [
        {
          "output_type": "stream",
          "text": [
            "[[  4   7   0]\n",
            " [ 15 240   7]\n",
            " [  1  22  24]]\n",
            "83.75\n"
          ],
          "name": "stdout"
        }
      ]
    },
    {
      "cell_type": "markdown",
      "metadata": {
        "id": "V6FZjn5AvR8u",
        "colab_type": "text"
      },
      "source": [
        "###Comentario:### \n",
        "Como hemos visto aplicando la técnica del sobremuestreo el 'Accuracy' no mejoró (ha sido más bajo que en los dos ejemplos anteriores), no obstante sí se pueden observar como ya se obtienen valores de 'Precision' y de 'Recall' para las predicciones del vino de 'Mala' calidad. El 'Recall' obtenido es alto y la 'Precision' baja."
      ]
    },
    {
      "cell_type": "markdown",
      "metadata": {
        "id": "qk2NYwegoaTS",
        "colab_type": "text"
      },
      "source": [
        "###Conclusiones:### \n",
        "Hemos podido ver que el modelo que alcanzó mayor valores de 'Precision', 'Recall' y 'Accuracy', corresponde al clasificador *'Random Forest*' con un 85% de 'Accuracy'. Adicionalmente vimos que las variables más significativas y fiables que influyen en poder determinar un vino como 'Bueno' corresponden al 'Alcohol', la 'Acidez Volátil', los 'Sulfuros', y la 'Densidad', no obstante se aconseja disponer de un dataset con un mayor número de registros para las calidades de vino más pobres y superiores, a fin de lograr un mayor aprendizaje del modelo y por ende mayor precisión en las predicciones del grupo de calidad pobre. \n",
        "La técnica del sobremuestro ha sido útil para confirmar que en los ejemplos anteriores las muestras para la calidad pobre eran insuficientes para que el modelo pudiera tener un buen aprendizaje, no obstante al introducir al dataset muestras ficticias esto no ha mejorado los valores de las métricas para las predicciones (más bien las ha degradado)."
      ]
    }
  ]
}