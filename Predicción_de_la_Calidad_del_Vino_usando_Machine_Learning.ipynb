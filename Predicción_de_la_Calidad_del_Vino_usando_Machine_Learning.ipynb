{
  "nbformat": 4,
  "nbformat_minor": 0,
  "metadata": {
    "colab": {
      "name": "Predicción de la Calidad del Vino usando Machine Learning.ipynb",
      "version": "0.3.2",
      "provenance": [],
      "collapsed_sections": []
    },
    "kernelspec": {
      "name": "python3",
      "display_name": "Python 3"
    },
    "accelerator": "GPU"
  },
  "cells": [
    {
      "metadata": {
        "id": "XysaW8XfSpSm",
        "colab_type": "text"
      },
      "cell_type": "markdown",
      "source": [
        "\n",
        "## Parte 1- Carga del Dataset\n",
        "\n",
        "### **Introducción**\n",
        "Este proyecto explora principalmente la relación existente entre la calidad del vino y las variables fisicoquímicas y sensoriales del vino (acidez fija; acidez volátil; ácido cítrico; azúcar residual; cloruros; dióxido de sulfuro libre; total dióxido de sulfuro; densidad; pH; sulfatos; alcohol). Para la exploración y el análisis de los datos se utilizó gráficos (como seaborn y ggplot), y varios algoritmos de aprendizaje automático para determinar qué propiedades fisicoquímicas poseen un mayor impacto en la calidad de un vino.\n",
        "\n",
        "Para el desarrollo del proyecto se ha utilizado el Dataset (winequalityX.csv) sobre diferentes muestras de vino. Este dataset ha sido obtenido de la página https://www.kaggle.com/, con própositos de aprendizaje, y consta de 6497 filas y 13 columnas de atributos physicoquímicos (Ej: pH) y sensoriales (calidad percibida). Los valores de calidad de este dataset están basados en la media de al menos 3 evaluaciones hechas por expertos, donde cada experto calificó la calidad del vino entre 0 (muy malo) y 10 (excelente). \n",
        "\n",
        "####**Entorno de Desarrollo**\n",
        "\n",
        "El entorno de trabajo para el desarrollo del código y elaboración del proyecto ha sido la plataforma Google Colaboratory, no obstante; el correcto funcionamiento del código también se ha validado en el entorno de la máquina virtual facilitada por la escuela Kschool (Jupyter Notebook).\n",
        "\n",
        "Los notebooks subidos serán los validados desde la máquina virtual, no obstante, se dejará comentado el código utilizado en la fase de desarrollo desde la plataforma google colaboratory.\n",
        "\n",
        "\n",
        "\n",
        "\n"
      ]
    },
    {
      "metadata": {
        "id": "K9bVjkKT5WF4",
        "colab_type": "code",
        "colab": {}
      },
      "cell_type": "code",
      "source": [
        "# Instalando librerias\n",
        "!pip install seaborn --upgrade catplot"
      ],
      "execution_count": 0,
      "outputs": []
    },
    {
      "metadata": {
        "id": "6WToEqyOfVYH",
        "colab_type": "code",
        "colab": {}
      },
      "cell_type": "code",
      "source": [
        "# Cargando otras librerias\n",
        "import pandas as pd\n",
        "from sklearn.svm import SVC\n",
        "import matplotlib.pyplot as plt\n",
        "import seaborn as sns\n",
        "import numpy as np"
      ],
      "execution_count": 0,
      "outputs": []
    },
    {
      "metadata": {
        "id": "zVzmsACehg0o",
        "colab_type": "code",
        "colab": {
          "base_uri": "https://localhost:8080/",
          "height": 54
        },
        "outputId": "990aacd8-1386-433e-da39-a723bd14cbee"
      },
      "cell_type": "code",
      "source": [
        "# Autenticación y autorización en google drive\n",
        "!pip install -U -q PyDrive\n",
        "from pydrive.auth import GoogleAuth\n",
        "from pydrive.drive import GoogleDrive\n",
        "from google.colab import auth\n",
        "from oauth2client.client import GoogleCredentials\n",
        "\n",
        "auth.authenticate_user()\n",
        "gauth = GoogleAuth()\n",
        "gauth.credentials = GoogleCredentials.get_application_default()\n",
        "drive = GoogleDrive(gauth)\n"
      ],
      "execution_count": 3,
      "outputs": [
        {
          "output_type": "stream",
          "text": [
            "\u001b[?25l\r\u001b[K    1% |▎                               | 10kB 21.2MB/s eta 0:00:01\r\u001b[K    2% |▋                               | 20kB 2.2MB/s eta 0:00:01\r\u001b[K    3% |█                               | 30kB 3.2MB/s eta 0:00:01\r\u001b[K    4% |█▎                              | 40kB 2.1MB/s eta 0:00:01\r\u001b[K    5% |█▋                              | 51kB 2.6MB/s eta 0:00:01\r\u001b[K    6% |██                              | 61kB 3.1MB/s eta 0:00:01\r\u001b[K    7% |██▎                             | 71kB 3.6MB/s eta 0:00:01\r\u001b[K    8% |██▋                             | 81kB 4.0MB/s eta 0:00:01\r\u001b[K    9% |███                             | 92kB 4.5MB/s eta 0:00:01\r\u001b[K    10% |███▎                            | 102kB 3.4MB/s eta 0:00:01\r\u001b[K    11% |███▋                            | 112kB 3.4MB/s eta 0:00:01\r\u001b[K    12% |████                            | 122kB 4.8MB/s eta 0:00:01\r\u001b[K    13% |████▎                           | 133kB 4.8MB/s eta 0:00:01\r\u001b[K    14% |████▋                           | 143kB 9.0MB/s eta 0:00:01\r\u001b[K    15% |█████                           | 153kB 9.1MB/s eta 0:00:01\r\u001b[K    16% |█████▎                          | 163kB 9.1MB/s eta 0:00:01\r\u001b[K    17% |█████▋                          | 174kB 9.2MB/s eta 0:00:01\r\u001b[K    18% |██████                          | 184kB 9.2MB/s eta 0:00:01\r\u001b[K    19% |██████▎                         | 194kB 9.2MB/s eta 0:00:01\r\u001b[K    20% |██████▋                         | 204kB 48.8MB/s eta 0:00:01\r\u001b[K    21% |███████                         | 215kB 10.1MB/s eta 0:00:01\r\u001b[K    22% |███████▎                        | 225kB 10.1MB/s eta 0:00:01\r\u001b[K    23% |███████▋                        | 235kB 10.2MB/s eta 0:00:01\r\u001b[K    24% |████████                        | 245kB 10.2MB/s eta 0:00:01\r\u001b[K    25% |████████▎                       | 256kB 10.2MB/s eta 0:00:01\r\u001b[K    26% |████████▋                       | 266kB 10.0MB/s eta 0:00:01\r\u001b[K    27% |█████████                       | 276kB 10.1MB/s eta 0:00:01\r\u001b[K    29% |█████████▎                      | 286kB 10.1MB/s eta 0:00:01\r\u001b[K    30% |█████████▋                      | 296kB 10.0MB/s eta 0:00:01\r\u001b[K    31% |██████████                      | 307kB 10.3MB/s eta 0:00:01\r\u001b[K    32% |██████████▎                     | 317kB 58.3MB/s eta 0:00:01\r\u001b[K    33% |██████████▋                     | 327kB 60.7MB/s eta 0:00:01\r\u001b[K    34% |███████████                     | 337kB 63.4MB/s eta 0:00:01\r\u001b[K    35% |███████████▎                    | 348kB 56.9MB/s eta 0:00:01\r\u001b[K    36% |███████████▋                    | 358kB 56.2MB/s eta 0:00:01\r\u001b[K    37% |████████████                    | 368kB 65.0MB/s eta 0:00:01\r\u001b[K    38% |████████████▎                   | 378kB 65.7MB/s eta 0:00:01\r\u001b[K    39% |████████████▋                   | 389kB 65.8MB/s eta 0:00:01\r\u001b[K    40% |█████████████                   | 399kB 66.8MB/s eta 0:00:01\r\u001b[K    41% |█████████████▎                  | 409kB 66.0MB/s eta 0:00:01\r\u001b[K    42% |█████████████▋                  | 419kB 66.9MB/s eta 0:00:01\r\u001b[K    43% |██████████████                  | 430kB 67.7MB/s eta 0:00:01\r\u001b[K    44% |██████████████▎                 | 440kB 67.6MB/s eta 0:00:01\r\u001b[K    45% |██████████████▋                 | 450kB 12.6MB/s eta 0:00:01\r\u001b[K    46% |███████████████                 | 460kB 12.4MB/s eta 0:00:01\r\u001b[K    47% |███████████████▎                | 471kB 12.3MB/s eta 0:00:01\r\u001b[K    48% |███████████████▋                | 481kB 12.2MB/s eta 0:00:01\r\u001b[K    49% |████████████████                | 491kB 12.2MB/s eta 0:00:01\r\u001b[K    50% |████████████████▎               | 501kB 12.2MB/s eta 0:00:01\r\u001b[K    51% |████████████████▋               | 512kB 12.1MB/s eta 0:00:01\r\u001b[K    52% |█████████████████               | 522kB 12.0MB/s eta 0:00:01\r\u001b[K    53% |█████████████████▎              | 532kB 12.0MB/s eta 0:00:01\r\u001b[K    54% |█████████████████▋              | 542kB 12.0MB/s eta 0:00:01\r\u001b[K    55% |██████████████████              | 552kB 59.8MB/s eta 0:00:01\r\u001b[K    57% |██████████████████▎             | 563kB 64.0MB/s eta 0:00:01\r\u001b[K    58% |██████████████████▋             | 573kB 67.6MB/s eta 0:00:01\r\u001b[K    59% |███████████████████             | 583kB 69.6MB/s eta 0:00:01\r\u001b[K    60% |███████████████████▎            | 593kB 70.2MB/s eta 0:00:01\r\u001b[K    61% |███████████████████▋            | 604kB 70.3MB/s eta 0:00:01\r\u001b[K    62% |████████████████████            | 614kB 78.1MB/s eta 0:00:01\r\u001b[K    63% |████████████████████▎           | 624kB 78.7MB/s eta 0:00:01\r\u001b[K    64% |████████████████████▋           | 634kB 81.5MB/s eta 0:00:01\r\u001b[K    65% |█████████████████████           | 645kB 81.9MB/s eta 0:00:01\r\u001b[K    66% |█████████████████████▎          | 655kB 81.4MB/s eta 0:00:01\r\u001b[K    67% |█████████████████████▋          | 665kB 60.0MB/s eta 0:00:01\r\u001b[K    68% |██████████████████████          | 675kB 59.5MB/s eta 0:00:01\r\u001b[K    69% |██████████████████████▎         | 686kB 59.5MB/s eta 0:00:01\r\u001b[K    70% |██████████████████████▋         | 696kB 59.0MB/s eta 0:00:01\r\u001b[K    71% |███████████████████████         | 706kB 59.0MB/s eta 0:00:01\r\u001b[K    72% |███████████████████████▎        | 716kB 59.3MB/s eta 0:00:01\r\u001b[K    73% |███████████████████████▋        | 727kB 59.0MB/s eta 0:00:01\r\u001b[K    74% |████████████████████████        | 737kB 58.4MB/s eta 0:00:01\r\u001b[K    75% |████████████████████████▎       | 747kB 59.0MB/s eta 0:00:01\r\u001b[K    76% |████████████████████████▋       | 757kB 59.3MB/s eta 0:00:01\r\u001b[K    77% |████████████████████████▉       | 768kB 81.2MB/s eta 0:00:01\r\u001b[K    78% |█████████████████████████▏      | 778kB 16.7MB/s eta 0:00:01\r\u001b[K    79% |█████████████████████████▌      | 788kB 16.5MB/s eta 0:00:01\r\u001b[K    80% |█████████████████████████▉      | 798kB 16.5MB/s eta 0:00:01\r\u001b[K    81% |██████████████████████████▏     | 808kB 16.2MB/s eta 0:00:01\r\u001b[K    82% |██████████████████████████▌     | 819kB 16.1MB/s eta 0:00:01\r\u001b[K    83% |██████████████████████████▉     | 829kB 16.1MB/s eta 0:00:01\r\u001b[K    85% |███████████████████████████▏    | 839kB 16.1MB/s eta 0:00:01\r\u001b[K    86% |███████████████████████████▌    | 849kB 16.0MB/s eta 0:00:01\r\u001b[K    87% |███████████████████████████▉    | 860kB 15.6MB/s eta 0:00:01\r\u001b[K    88% |████████████████████████████▏   | 870kB 15.4MB/s eta 0:00:01\r\u001b[K    89% |████████████████████████████▌   | 880kB 59.5MB/s eta 0:00:01\r\u001b[K    90% |████████████████████████████▉   | 890kB 61.0MB/s eta 0:00:01\r\u001b[K    91% |█████████████████████████████▏  | 901kB 61.8MB/s eta 0:00:01\r\u001b[K    92% |█████████████████████████████▌  | 911kB 65.1MB/s eta 0:00:01\r\u001b[K    93% |█████████████████████████████▉  | 921kB 67.1MB/s eta 0:00:01\r\u001b[K    94% |██████████████████████████████▏ | 931kB 68.1MB/s eta 0:00:01\r\u001b[K    95% |██████████████████████████████▌ | 942kB 68.7MB/s eta 0:00:01\r\u001b[K    96% |██████████████████████████████▉ | 952kB 68.5MB/s eta 0:00:01\r\u001b[K    97% |███████████████████████████████▏| 962kB 79.9MB/s eta 0:00:01\r\u001b[K    98% |███████████████████████████████▌| 972kB 82.8MB/s eta 0:00:01\r\u001b[K    99% |███████████████████████████████▉| 983kB 83.0MB/s eta 0:00:01\r\u001b[K    100% |████████████████████████████████| 993kB 24.7MB/s \n",
            "\u001b[?25h  Building wheel for PyDrive (setup.py) ... \u001b[?25ldone\n",
            "\u001b[?25h"
          ],
          "name": "stdout"
        }
      ]
    },
    {
      "metadata": {
        "id": "DyZzuBcTmLtH",
        "colab_type": "code",
        "colab": {}
      },
      "cell_type": "code",
      "source": [
        "# Carga del Fichero desde GoogleDrive\n",
        "file_id = '1rWjes9InpCzyJp-Rx4rT1GETycQhVjSY'                \n",
        "downloaded = drive.CreateFile({'id': file_id})\n",
        "downloaded.GetContentFile(\"winequalityX.csv\")  \n"
      ],
      "execution_count": 0,
      "outputs": []
    },
    {
      "metadata": {
        "id": "svW_AlUxmMR4",
        "colab_type": "code",
        "outputId": "008da669-d7bf-4a95-f126-fba06edf2497",
        "colab": {
          "base_uri": "https://localhost:8080/",
          "height": 35
        }
      },
      "cell_type": "code",
      "source": [
        "!ls"
      ],
      "execution_count": 5,
      "outputs": [
        {
          "output_type": "stream",
          "text": [
            "adc.json  sample_data  winequalityX.csv\n"
          ],
          "name": "stdout"
        }
      ]
    },
    {
      "metadata": {
        "id": "s3c3KdypeWxE",
        "colab_type": "code",
        "outputId": "c6ed1e13-485e-44d7-81cc-0c275ca970cf",
        "colab": {
          "base_uri": "https://localhost:8080/",
          "height": 694
        }
      },
      "cell_type": "code",
      "source": [
        "# Carga del Dataset winequalityX.csv\n",
        "wineX = pd.read_csv('winequalityX.csv')\n",
        "\n",
        "# Obtenemos una muestra de 20 registros\n",
        "wineX.head(20)\n"
      ],
      "execution_count": 7,
      "outputs": [
        {
          "output_type": "execute_result",
          "data": {
            "text/html": [
              "<div>\n",
              "<style scoped>\n",
              "    .dataframe tbody tr th:only-of-type {\n",
              "        vertical-align: middle;\n",
              "    }\n",
              "\n",
              "    .dataframe tbody tr th {\n",
              "        vertical-align: top;\n",
              "    }\n",
              "\n",
              "    .dataframe thead th {\n",
              "        text-align: right;\n",
              "    }\n",
              "</style>\n",
              "<table border=\"1\" class=\"dataframe\">\n",
              "  <thead>\n",
              "    <tr style=\"text-align: right;\">\n",
              "      <th></th>\n",
              "      <th>type</th>\n",
              "      <th>fixed acidity</th>\n",
              "      <th>volatile acidity</th>\n",
              "      <th>citric acid</th>\n",
              "      <th>residual sugar</th>\n",
              "      <th>chlorides</th>\n",
              "      <th>free sulfur dioxide</th>\n",
              "      <th>total sulfur dioxide</th>\n",
              "      <th>density</th>\n",
              "      <th>pH</th>\n",
              "      <th>sulphates</th>\n",
              "      <th>alcohol</th>\n",
              "      <th>quality</th>\n",
              "    </tr>\n",
              "  </thead>\n",
              "  <tbody>\n",
              "    <tr>\n",
              "      <th>0</th>\n",
              "      <td>white</td>\n",
              "      <td>7.0</td>\n",
              "      <td>0.27</td>\n",
              "      <td>0.36</td>\n",
              "      <td>20.70</td>\n",
              "      <td>0.045</td>\n",
              "      <td>45.0</td>\n",
              "      <td>170.0</td>\n",
              "      <td>1.0010</td>\n",
              "      <td>3.00</td>\n",
              "      <td>0.45</td>\n",
              "      <td>8.8</td>\n",
              "      <td>6</td>\n",
              "    </tr>\n",
              "    <tr>\n",
              "      <th>1</th>\n",
              "      <td>white</td>\n",
              "      <td>6.3</td>\n",
              "      <td>0.30</td>\n",
              "      <td>0.34</td>\n",
              "      <td>1.60</td>\n",
              "      <td>0.049</td>\n",
              "      <td>14.0</td>\n",
              "      <td>132.0</td>\n",
              "      <td>0.9940</td>\n",
              "      <td>3.30</td>\n",
              "      <td>0.49</td>\n",
              "      <td>9.5</td>\n",
              "      <td>6</td>\n",
              "    </tr>\n",
              "    <tr>\n",
              "      <th>2</th>\n",
              "      <td>white</td>\n",
              "      <td>8.1</td>\n",
              "      <td>0.28</td>\n",
              "      <td>0.40</td>\n",
              "      <td>6.90</td>\n",
              "      <td>0.050</td>\n",
              "      <td>30.0</td>\n",
              "      <td>97.0</td>\n",
              "      <td>0.9951</td>\n",
              "      <td>3.26</td>\n",
              "      <td>0.44</td>\n",
              "      <td>10.1</td>\n",
              "      <td>6</td>\n",
              "    </tr>\n",
              "    <tr>\n",
              "      <th>3</th>\n",
              "      <td>white</td>\n",
              "      <td>7.2</td>\n",
              "      <td>0.23</td>\n",
              "      <td>0.32</td>\n",
              "      <td>8.50</td>\n",
              "      <td>0.058</td>\n",
              "      <td>47.0</td>\n",
              "      <td>186.0</td>\n",
              "      <td>0.9956</td>\n",
              "      <td>3.19</td>\n",
              "      <td>0.40</td>\n",
              "      <td>9.9</td>\n",
              "      <td>6</td>\n",
              "    </tr>\n",
              "    <tr>\n",
              "      <th>4</th>\n",
              "      <td>white</td>\n",
              "      <td>7.2</td>\n",
              "      <td>0.23</td>\n",
              "      <td>0.32</td>\n",
              "      <td>8.50</td>\n",
              "      <td>0.058</td>\n",
              "      <td>47.0</td>\n",
              "      <td>186.0</td>\n",
              "      <td>0.9956</td>\n",
              "      <td>3.19</td>\n",
              "      <td>0.40</td>\n",
              "      <td>9.9</td>\n",
              "      <td>6</td>\n",
              "    </tr>\n",
              "    <tr>\n",
              "      <th>5</th>\n",
              "      <td>white</td>\n",
              "      <td>8.1</td>\n",
              "      <td>0.28</td>\n",
              "      <td>0.40</td>\n",
              "      <td>6.90</td>\n",
              "      <td>0.050</td>\n",
              "      <td>30.0</td>\n",
              "      <td>97.0</td>\n",
              "      <td>0.9951</td>\n",
              "      <td>3.26</td>\n",
              "      <td>0.44</td>\n",
              "      <td>10.1</td>\n",
              "      <td>6</td>\n",
              "    </tr>\n",
              "    <tr>\n",
              "      <th>6</th>\n",
              "      <td>white</td>\n",
              "      <td>6.2</td>\n",
              "      <td>0.32</td>\n",
              "      <td>0.16</td>\n",
              "      <td>7.00</td>\n",
              "      <td>0.045</td>\n",
              "      <td>30.0</td>\n",
              "      <td>136.0</td>\n",
              "      <td>0.9949</td>\n",
              "      <td>3.18</td>\n",
              "      <td>0.47</td>\n",
              "      <td>9.6</td>\n",
              "      <td>6</td>\n",
              "    </tr>\n",
              "    <tr>\n",
              "      <th>7</th>\n",
              "      <td>white</td>\n",
              "      <td>7.0</td>\n",
              "      <td>0.27</td>\n",
              "      <td>0.36</td>\n",
              "      <td>20.70</td>\n",
              "      <td>0.045</td>\n",
              "      <td>45.0</td>\n",
              "      <td>170.0</td>\n",
              "      <td>1.0010</td>\n",
              "      <td>3.00</td>\n",
              "      <td>0.45</td>\n",
              "      <td>8.8</td>\n",
              "      <td>6</td>\n",
              "    </tr>\n",
              "    <tr>\n",
              "      <th>8</th>\n",
              "      <td>white</td>\n",
              "      <td>6.3</td>\n",
              "      <td>0.30</td>\n",
              "      <td>0.34</td>\n",
              "      <td>1.60</td>\n",
              "      <td>0.049</td>\n",
              "      <td>14.0</td>\n",
              "      <td>132.0</td>\n",
              "      <td>0.9940</td>\n",
              "      <td>3.30</td>\n",
              "      <td>0.49</td>\n",
              "      <td>9.5</td>\n",
              "      <td>6</td>\n",
              "    </tr>\n",
              "    <tr>\n",
              "      <th>9</th>\n",
              "      <td>white</td>\n",
              "      <td>8.1</td>\n",
              "      <td>0.22</td>\n",
              "      <td>0.43</td>\n",
              "      <td>1.50</td>\n",
              "      <td>0.044</td>\n",
              "      <td>28.0</td>\n",
              "      <td>129.0</td>\n",
              "      <td>0.9938</td>\n",
              "      <td>3.22</td>\n",
              "      <td>0.45</td>\n",
              "      <td>11.0</td>\n",
              "      <td>6</td>\n",
              "    </tr>\n",
              "    <tr>\n",
              "      <th>10</th>\n",
              "      <td>white</td>\n",
              "      <td>8.1</td>\n",
              "      <td>0.27</td>\n",
              "      <td>0.41</td>\n",
              "      <td>1.45</td>\n",
              "      <td>0.033</td>\n",
              "      <td>11.0</td>\n",
              "      <td>63.0</td>\n",
              "      <td>0.9908</td>\n",
              "      <td>2.99</td>\n",
              "      <td>0.56</td>\n",
              "      <td>12.0</td>\n",
              "      <td>5</td>\n",
              "    </tr>\n",
              "    <tr>\n",
              "      <th>11</th>\n",
              "      <td>white</td>\n",
              "      <td>8.6</td>\n",
              "      <td>0.23</td>\n",
              "      <td>0.40</td>\n",
              "      <td>4.20</td>\n",
              "      <td>0.035</td>\n",
              "      <td>17.0</td>\n",
              "      <td>109.0</td>\n",
              "      <td>0.9947</td>\n",
              "      <td>3.14</td>\n",
              "      <td>0.53</td>\n",
              "      <td>9.7</td>\n",
              "      <td>5</td>\n",
              "    </tr>\n",
              "    <tr>\n",
              "      <th>12</th>\n",
              "      <td>white</td>\n",
              "      <td>7.9</td>\n",
              "      <td>0.18</td>\n",
              "      <td>0.37</td>\n",
              "      <td>1.20</td>\n",
              "      <td>0.040</td>\n",
              "      <td>16.0</td>\n",
              "      <td>75.0</td>\n",
              "      <td>0.9920</td>\n",
              "      <td>3.18</td>\n",
              "      <td>0.63</td>\n",
              "      <td>10.8</td>\n",
              "      <td>5</td>\n",
              "    </tr>\n",
              "    <tr>\n",
              "      <th>13</th>\n",
              "      <td>white</td>\n",
              "      <td>6.6</td>\n",
              "      <td>0.16</td>\n",
              "      <td>0.40</td>\n",
              "      <td>1.50</td>\n",
              "      <td>0.044</td>\n",
              "      <td>48.0</td>\n",
              "      <td>143.0</td>\n",
              "      <td>0.9912</td>\n",
              "      <td>3.54</td>\n",
              "      <td>0.52</td>\n",
              "      <td>12.4</td>\n",
              "      <td>7</td>\n",
              "    </tr>\n",
              "    <tr>\n",
              "      <th>14</th>\n",
              "      <td>white</td>\n",
              "      <td>8.3</td>\n",
              "      <td>0.42</td>\n",
              "      <td>0.62</td>\n",
              "      <td>19.25</td>\n",
              "      <td>0.040</td>\n",
              "      <td>41.0</td>\n",
              "      <td>172.0</td>\n",
              "      <td>1.0002</td>\n",
              "      <td>2.98</td>\n",
              "      <td>0.67</td>\n",
              "      <td>9.7</td>\n",
              "      <td>5</td>\n",
              "    </tr>\n",
              "    <tr>\n",
              "      <th>15</th>\n",
              "      <td>white</td>\n",
              "      <td>6.6</td>\n",
              "      <td>0.17</td>\n",
              "      <td>0.38</td>\n",
              "      <td>1.50</td>\n",
              "      <td>0.032</td>\n",
              "      <td>28.0</td>\n",
              "      <td>112.0</td>\n",
              "      <td>0.9914</td>\n",
              "      <td>3.25</td>\n",
              "      <td>0.55</td>\n",
              "      <td>11.4</td>\n",
              "      <td>7</td>\n",
              "    </tr>\n",
              "    <tr>\n",
              "      <th>16</th>\n",
              "      <td>white</td>\n",
              "      <td>6.3</td>\n",
              "      <td>0.48</td>\n",
              "      <td>0.04</td>\n",
              "      <td>1.10</td>\n",
              "      <td>0.046</td>\n",
              "      <td>30.0</td>\n",
              "      <td>99.0</td>\n",
              "      <td>0.9928</td>\n",
              "      <td>3.24</td>\n",
              "      <td>0.36</td>\n",
              "      <td>9.6</td>\n",
              "      <td>6</td>\n",
              "    </tr>\n",
              "    <tr>\n",
              "      <th>17</th>\n",
              "      <td>white</td>\n",
              "      <td>NaN</td>\n",
              "      <td>0.66</td>\n",
              "      <td>0.48</td>\n",
              "      <td>1.20</td>\n",
              "      <td>0.029</td>\n",
              "      <td>29.0</td>\n",
              "      <td>75.0</td>\n",
              "      <td>0.9892</td>\n",
              "      <td>3.33</td>\n",
              "      <td>0.39</td>\n",
              "      <td>12.8</td>\n",
              "      <td>8</td>\n",
              "    </tr>\n",
              "    <tr>\n",
              "      <th>18</th>\n",
              "      <td>white</td>\n",
              "      <td>7.4</td>\n",
              "      <td>0.34</td>\n",
              "      <td>0.42</td>\n",
              "      <td>1.10</td>\n",
              "      <td>0.033</td>\n",
              "      <td>17.0</td>\n",
              "      <td>171.0</td>\n",
              "      <td>0.9917</td>\n",
              "      <td>3.12</td>\n",
              "      <td>0.53</td>\n",
              "      <td>11.3</td>\n",
              "      <td>6</td>\n",
              "    </tr>\n",
              "    <tr>\n",
              "      <th>19</th>\n",
              "      <td>white</td>\n",
              "      <td>6.5</td>\n",
              "      <td>0.31</td>\n",
              "      <td>0.14</td>\n",
              "      <td>7.50</td>\n",
              "      <td>0.044</td>\n",
              "      <td>34.0</td>\n",
              "      <td>133.0</td>\n",
              "      <td>0.9955</td>\n",
              "      <td>3.22</td>\n",
              "      <td>0.50</td>\n",
              "      <td>9.5</td>\n",
              "      <td>5</td>\n",
              "    </tr>\n",
              "  </tbody>\n",
              "</table>\n",
              "</div>"
            ],
            "text/plain": [
              "     type  fixed acidity  volatile acidity  citric acid  residual sugar  \\\n",
              "0   white            7.0              0.27         0.36           20.70   \n",
              "1   white            6.3              0.30         0.34            1.60   \n",
              "2   white            8.1              0.28         0.40            6.90   \n",
              "3   white            7.2              0.23         0.32            8.50   \n",
              "4   white            7.2              0.23         0.32            8.50   \n",
              "5   white            8.1              0.28         0.40            6.90   \n",
              "6   white            6.2              0.32         0.16            7.00   \n",
              "7   white            7.0              0.27         0.36           20.70   \n",
              "8   white            6.3              0.30         0.34            1.60   \n",
              "9   white            8.1              0.22         0.43            1.50   \n",
              "10  white            8.1              0.27         0.41            1.45   \n",
              "11  white            8.6              0.23         0.40            4.20   \n",
              "12  white            7.9              0.18         0.37            1.20   \n",
              "13  white            6.6              0.16         0.40            1.50   \n",
              "14  white            8.3              0.42         0.62           19.25   \n",
              "15  white            6.6              0.17         0.38            1.50   \n",
              "16  white            6.3              0.48         0.04            1.10   \n",
              "17  white            NaN              0.66         0.48            1.20   \n",
              "18  white            7.4              0.34         0.42            1.10   \n",
              "19  white            6.5              0.31         0.14            7.50   \n",
              "\n",
              "    chlorides  free sulfur dioxide  total sulfur dioxide  density    pH  \\\n",
              "0       0.045                 45.0                 170.0   1.0010  3.00   \n",
              "1       0.049                 14.0                 132.0   0.9940  3.30   \n",
              "2       0.050                 30.0                  97.0   0.9951  3.26   \n",
              "3       0.058                 47.0                 186.0   0.9956  3.19   \n",
              "4       0.058                 47.0                 186.0   0.9956  3.19   \n",
              "5       0.050                 30.0                  97.0   0.9951  3.26   \n",
              "6       0.045                 30.0                 136.0   0.9949  3.18   \n",
              "7       0.045                 45.0                 170.0   1.0010  3.00   \n",
              "8       0.049                 14.0                 132.0   0.9940  3.30   \n",
              "9       0.044                 28.0                 129.0   0.9938  3.22   \n",
              "10      0.033                 11.0                  63.0   0.9908  2.99   \n",
              "11      0.035                 17.0                 109.0   0.9947  3.14   \n",
              "12      0.040                 16.0                  75.0   0.9920  3.18   \n",
              "13      0.044                 48.0                 143.0   0.9912  3.54   \n",
              "14      0.040                 41.0                 172.0   1.0002  2.98   \n",
              "15      0.032                 28.0                 112.0   0.9914  3.25   \n",
              "16      0.046                 30.0                  99.0   0.9928  3.24   \n",
              "17      0.029                 29.0                  75.0   0.9892  3.33   \n",
              "18      0.033                 17.0                 171.0   0.9917  3.12   \n",
              "19      0.044                 34.0                 133.0   0.9955  3.22   \n",
              "\n",
              "    sulphates  alcohol  quality  \n",
              "0        0.45      8.8        6  \n",
              "1        0.49      9.5        6  \n",
              "2        0.44     10.1        6  \n",
              "3        0.40      9.9        6  \n",
              "4        0.40      9.9        6  \n",
              "5        0.44     10.1        6  \n",
              "6        0.47      9.6        6  \n",
              "7        0.45      8.8        6  \n",
              "8        0.49      9.5        6  \n",
              "9        0.45     11.0        6  \n",
              "10       0.56     12.0        5  \n",
              "11       0.53      9.7        5  \n",
              "12       0.63     10.8        5  \n",
              "13       0.52     12.4        7  \n",
              "14       0.67      9.7        5  \n",
              "15       0.55     11.4        7  \n",
              "16       0.36      9.6        6  \n",
              "17       0.39     12.8        8  \n",
              "18       0.53     11.3        6  \n",
              "19       0.50      9.5        5  "
            ]
          },
          "metadata": {
            "tags": []
          },
          "execution_count": 7
        }
      ]
    },
    {
      "metadata": {
        "id": "Nr83z-5cLP2e",
        "colab_type": "text"
      },
      "cell_type": "markdown",
      "source": [
        "**Comentario:** Tras la fase de carga del Dataset, nos encontramos con una serie de datos numéricos y categóricos. Vamos a realizar una serie de comprobaciones sencillas como es la integridad de los datos para ver si hay valores nulos o NaN"
      ]
    },
    {
      "metadata": {
        "id": "QrtYvOKghg8g",
        "colab_type": "code",
        "outputId": "0ceb52f4-3cfb-44bb-ee71-1c58827def5a",
        "colab": {
          "base_uri": "https://localhost:8080/",
          "height": 35
        }
      },
      "cell_type": "code",
      "source": [
        "# Comprobamos el número de filas y columnas\n",
        "wineX.shape"
      ],
      "execution_count": 9,
      "outputs": [
        {
          "output_type": "execute_result",
          "data": {
            "text/plain": [
              "(6497, 13)"
            ]
          },
          "metadata": {
            "tags": []
          },
          "execution_count": 9
        }
      ]
    },
    {
      "metadata": {
        "id": "ptmlMzjmhhBb",
        "colab_type": "code",
        "outputId": "b59a4f10-b9b7-4831-f8b5-6154ab27cea1",
        "colab": {
          "base_uri": "https://localhost:8080/",
          "height": 348
        }
      },
      "cell_type": "code",
      "source": [
        "# Comprobamos la estructura del Data Set y que no haya ningún valor nulo o \n",
        "# NaN dentro del Dataset\n",
        "wineX.info()"
      ],
      "execution_count": 8,
      "outputs": [
        {
          "output_type": "stream",
          "text": [
            "<class 'pandas.core.frame.DataFrame'>\n",
            "RangeIndex: 6497 entries, 0 to 6496\n",
            "Data columns (total 13 columns):\n",
            "type                    6497 non-null object\n",
            "fixed acidity           6487 non-null float64\n",
            "volatile acidity        6489 non-null float64\n",
            "citric acid             6494 non-null float64\n",
            "residual sugar          6495 non-null float64\n",
            "chlorides               6495 non-null float64\n",
            "free sulfur dioxide     6497 non-null float64\n",
            "total sulfur dioxide    6497 non-null float64\n",
            "density                 6497 non-null float64\n",
            "pH                      6488 non-null float64\n",
            "sulphates               6493 non-null float64\n",
            "alcohol                 6497 non-null float64\n",
            "quality                 6497 non-null int64\n",
            "dtypes: float64(11), int64(1), object(1)\n",
            "memory usage: 659.9+ KB\n"
          ],
          "name": "stdout"
        }
      ]
    },
    {
      "metadata": {
        "id": "Z_l2-T2Shg5U",
        "colab_type": "code",
        "outputId": "0b37bc59-cf96-40a9-a20a-f3f87d1375a6",
        "colab": {
          "base_uri": "https://localhost:8080/",
          "height": 109
        }
      },
      "cell_type": "code",
      "source": [
        "#Obtenemos la descripción de los campos de las columnas\n",
        "wineX.columns"
      ],
      "execution_count": 10,
      "outputs": [
        {
          "output_type": "execute_result",
          "data": {
            "text/plain": [
              "Index(['type', 'fixed acidity', 'volatile acidity', 'citric acid',\n",
              "       'residual sugar', 'chlorides', 'free sulfur dioxide',\n",
              "       'total sulfur dioxide', 'density', 'pH', 'sulphates', 'alcohol',\n",
              "       'quality'],\n",
              "      dtype='object')"
            ]
          },
          "metadata": {
            "tags": []
          },
          "execution_count": 10
        }
      ]
    },
    {
      "metadata": {
        "id": "cQzi-FV2g1Q0",
        "colab_type": "text"
      },
      "cell_type": "markdown",
      "source": [
        "En total, tenemos 13 características numéricas que incluyen tanto las características categóricas como las numéricas. La variable objetivo es el 'quality' (Calidad del vino), que puede ser buena o mala según el valor que tenga del 0 al 10.\n"
      ]
    },
    {
      "metadata": {
        "id": "T1lxUAwBgZ3p",
        "colab_type": "code",
        "colab": {
          "base_uri": "https://localhost:8080/",
          "height": 274
        },
        "outputId": "609846c7-3fd5-4780-aa19-f277db321005"
      },
      "cell_type": "code",
      "source": [
        "#Revisamos los valores NA para cada columna\n",
        "wineX.isna().sum() "
      ],
      "execution_count": 66,
      "outputs": [
        {
          "output_type": "execute_result",
          "data": {
            "text/plain": [
              "Tipo                       0\n",
              "Acidez_Fija               10\n",
              "Acidez_Volatil             8\n",
              "Acido_Citrico              3\n",
              "Azucar_Residual            2\n",
              "Sal                        2\n",
              "Dioxido_Sulfuro_Libres     0\n",
              "Dioxido_Sulfuro_Total      0\n",
              "Densidad                   0\n",
              "pH                         9\n",
              "Sulfatos                   4\n",
              "Alcohol                    0\n",
              "Calidad                    5\n",
              "dtype: int64"
            ]
          },
          "metadata": {
            "tags": []
          },
          "execution_count": 66
        }
      ]
    },
    {
      "metadata": {
        "id": "iQ1sb_rBgrue",
        "colab_type": "text"
      },
      "cell_type": "markdown",
      "source": [
        "A pesar de encontrarse valores de Cero '0' para las columnas: Ácidez_Fija; Ácidez_Volátil; Ácido_Cítrico; Azúcar_Residual;  Sal; pH; y Sulfatos, los mismos están dentro de los posibles valores a obtenerse para esas características, por tanto los dejaremos."
      ]
    },
    {
      "metadata": {
        "id": "hW6L395cF0oy",
        "colab_type": "text"
      },
      "cell_type": "markdown",
      "source": [
        "\n",
        "**Comentario**: El Dataset que se utilizará en los tratamientos de la parte 2 del proyecto será el \"winequalityX.csv\".\n"
      ]
    },
    {
      "metadata": {
        "id": "6alYsHoAhq0v",
        "colab_type": "text"
      },
      "cell_type": "markdown",
      "source": [
        "## Parte 2- Exploración y Análisis de Datos\n",
        "\n",
        "### **Introducción**:\n",
        "\n",
        "En esta parte segunda parte, se realizarán las modificaciones necesarias al dataset para adaptarlo a las necesidades del proyecto.\n",
        "\n",
        "\n",
        "\n",
        "\n"
      ]
    },
    {
      "metadata": {
        "id": "H7b15gj8PdRU",
        "colab_type": "text"
      },
      "cell_type": "markdown",
      "source": [
        "**Términos Enológicos como variables del dataset y su significado: **\n",
        "\n",
        "   **fixed acidity:** Es el conjunto de ácidos naturales procedentes de la uva (tartárico, málico, cítrico y succínico) o formados en la fermentación maloláctica (láctico). En general, los ácidos (acidez fija) son preservantes naturales del vino y ayudan a mantener el color y las cualidades aromáticas del mismo.\n",
        "\n",
        "   **volatile acidity:** Es el conjunto de ácidos formados durante la fermentación o como consecuencia de alteraciones microbianas; su valor es un índice de la degradación del vino. Estos ácidos son: ácido acético, ácido propionico, ácido butírico y ácido sulfúrico; no obstante el más importante es el ácido acético, síntoma de la transformación del vino en vinagre. \n",
        "    Si la acidez volátil, presente en todos los vinos, es muy elevada el vino se picará y avigranará con el paso del tiempo. Es conveniente que la acidez volatil de un vino sea lo más baja posible.\n",
        "    El contenido en acidez volátil no puede ser superior a: a) 18 miliequivalentes por litro para los mostos de uva parcialmente fermentados, b) 18 miliequivalentes por litro para los vinos blancos y rosados, c) 20 miliequivalentes por litro para los vinos tintos.\n",
        "\n",
        "   **citric acid:** En pequeñas cantidades este ácido puede añadir frescor y sabor a los vinos (es un ácido fijo).\n",
        "\n",
        "   **residual sugar:** Durante la fermentación, y por acción de las levaduras, el azucar (glucosa + fructosa) se transforma en alcohol etílico, anhídrido carbónico y otras muchas sustancias que caracterizan al vino. Cuando la fermentación es prácticamente total se dice que el vino es seco, pero lo normal es que en todo vino quede cierta cantidad de azúcares sin fermentar, denominados azúcares residuales. \n",
        "    \n",
        "   **chlorides:** Cantidad de sal en el vino.\n",
        "\n",
        "   **free sulfur dioxide:** Previene del crecimiento microbial y de la oxidación del vino. La oxidación enturbia sus colores característicos (tornándolos en amarillos intensos e, incluso, marrones. Por lo que respecta al gusto, al beberlo notaremos sabores más secos y ásperos, incluso amargos en algunos casos.\n",
        "\n",
        "   **total sulfur dioxide:** Suma de concentraciones libres y amarradas de S02; concentraciones de dioxodo de sulfuro libres superiores a 50 ppm se vuelven evidentes en el sabor y olor.\n",
        "\n",
        "   **density:** densidad del vino, suele ser similar al del agua dependiendo de la concentración de azucar y de alcohol.\n",
        "\n",
        "   **pH:** Describe cómo de ácido o básico es el vino: 0 (muy ácido) a 14 (muy básico). La mayoría de vinos se encuentra en la escala 3-4.\n",
        "\n",
        "   **sulphates:** Actua como un antimicrobial y antioxidante. Un agua con una cantidad de sulfatos inferior a 250mg/l se considera en este aspecto un agua de calidad y con valores superiores a 400mg/l insalubre.\n",
        "\n",
        "   **alcohol:** cantidad de alcohol del vino. Tras el agua, es el componente más abundante en el vino y el que lo caracteriza. Se produce por la transformación de los azúcares del mosto durante la fermentación. La riqueza alcohólica de un vino se mide en porcentaje en volumen o grado y en la etiqueta se expresa con la fórmula % vol. Significa que un vino de 12 grados (12%vol) contiene un 12% de alcohol puro.\n",
        "\n",
        "   **quality:** calidad del vino entre 0 y 10.\n",
        "\n"
      ]
    },
    {
      "metadata": {
        "id": "9Q2_D_N5Y_8E",
        "colab_type": "text"
      },
      "cell_type": "markdown",
      "source": [
        "**Comentario:** Con el objetivo de poder realizar una mejor comprensión en la fase de análisis, se modificarán los nombres de las columnas para adaptarlas a la terminología española."
      ]
    },
    {
      "metadata": {
        "id": "ixUd3kuuOEeZ",
        "colab_type": "code",
        "colab": {}
      },
      "cell_type": "code",
      "source": [
        "# Renombramos los nombres de las columnas para adaptarlas \n",
        "# a los términos enológicos en español\n",
        "\n",
        "wineX.rename(columns=\n",
        " {'type':'Tipo','fixed acidity':'Acidez_Fija', \n",
        "  'volatile acidity':'Acidez_Volatil','citric acid':'Acido_Citrico',\n",
        "  'residual sugar':'Azucar_Residual','chlorides':'Sal',\n",
        "  'free sulfur dioxide':'Dioxido_Sulfuro_Libres','total sulfur dioxide':'Dioxido_Sulfuro_Total',\n",
        "  'density':'Densidad',\n",
        "  'pH':'pH','sulphates':'Sulfatos',\n",
        "  'alcohol':'Alcohol','quality':'Calidad'}, inplace=True)"
      ],
      "execution_count": 0,
      "outputs": []
    },
    {
      "metadata": {
        "id": "gyHr86t8YpJd",
        "colab_type": "code",
        "colab": {
          "base_uri": "https://localhost:8080/",
          "height": 697
        },
        "outputId": "b821b743-62a2-4d3b-cd0d-25e89bfcc0cc"
      },
      "cell_type": "code",
      "source": [
        "# Comprobamos los cambios realizados\n",
        "wineX.head(20)"
      ],
      "execution_count": 16,
      "outputs": [
        {
          "output_type": "execute_result",
          "data": {
            "text/html": [
              "<div>\n",
              "<style scoped>\n",
              "    .dataframe tbody tr th:only-of-type {\n",
              "        vertical-align: middle;\n",
              "    }\n",
              "\n",
              "    .dataframe tbody tr th {\n",
              "        vertical-align: top;\n",
              "    }\n",
              "\n",
              "    .dataframe thead th {\n",
              "        text-align: right;\n",
              "    }\n",
              "</style>\n",
              "<table border=\"1\" class=\"dataframe\">\n",
              "  <thead>\n",
              "    <tr style=\"text-align: right;\">\n",
              "      <th></th>\n",
              "      <th>Tipo</th>\n",
              "      <th>Acidez_Fija</th>\n",
              "      <th>Acidez_Volatil</th>\n",
              "      <th>Acido_Citrico</th>\n",
              "      <th>Azucar_Residual</th>\n",
              "      <th>Sal</th>\n",
              "      <th>Dioxido_Sulfuro_Libres</th>\n",
              "      <th>Dioxido_Sulfuro_Total</th>\n",
              "      <th>Densidad</th>\n",
              "      <th>pH</th>\n",
              "      <th>Sulfatos</th>\n",
              "      <th>Alcohol</th>\n",
              "      <th>Calidad</th>\n",
              "    </tr>\n",
              "  </thead>\n",
              "  <tbody>\n",
              "    <tr>\n",
              "      <th>0</th>\n",
              "      <td>white</td>\n",
              "      <td>7.0</td>\n",
              "      <td>0.27</td>\n",
              "      <td>0.36</td>\n",
              "      <td>20.70</td>\n",
              "      <td>0.045</td>\n",
              "      <td>45.0</td>\n",
              "      <td>170.0</td>\n",
              "      <td>1.0010</td>\n",
              "      <td>3.00</td>\n",
              "      <td>0.45</td>\n",
              "      <td>8.8</td>\n",
              "      <td>6</td>\n",
              "    </tr>\n",
              "    <tr>\n",
              "      <th>1</th>\n",
              "      <td>white</td>\n",
              "      <td>6.3</td>\n",
              "      <td>0.30</td>\n",
              "      <td>0.34</td>\n",
              "      <td>1.60</td>\n",
              "      <td>0.049</td>\n",
              "      <td>14.0</td>\n",
              "      <td>132.0</td>\n",
              "      <td>0.9940</td>\n",
              "      <td>3.30</td>\n",
              "      <td>0.49</td>\n",
              "      <td>9.5</td>\n",
              "      <td>6</td>\n",
              "    </tr>\n",
              "    <tr>\n",
              "      <th>2</th>\n",
              "      <td>white</td>\n",
              "      <td>8.1</td>\n",
              "      <td>0.28</td>\n",
              "      <td>0.40</td>\n",
              "      <td>6.90</td>\n",
              "      <td>0.050</td>\n",
              "      <td>30.0</td>\n",
              "      <td>97.0</td>\n",
              "      <td>0.9951</td>\n",
              "      <td>3.26</td>\n",
              "      <td>0.44</td>\n",
              "      <td>10.1</td>\n",
              "      <td>6</td>\n",
              "    </tr>\n",
              "    <tr>\n",
              "      <th>3</th>\n",
              "      <td>white</td>\n",
              "      <td>7.2</td>\n",
              "      <td>0.23</td>\n",
              "      <td>0.32</td>\n",
              "      <td>8.50</td>\n",
              "      <td>0.058</td>\n",
              "      <td>47.0</td>\n",
              "      <td>186.0</td>\n",
              "      <td>0.9956</td>\n",
              "      <td>3.19</td>\n",
              "      <td>0.40</td>\n",
              "      <td>9.9</td>\n",
              "      <td>6</td>\n",
              "    </tr>\n",
              "    <tr>\n",
              "      <th>4</th>\n",
              "      <td>white</td>\n",
              "      <td>7.2</td>\n",
              "      <td>0.23</td>\n",
              "      <td>0.32</td>\n",
              "      <td>8.50</td>\n",
              "      <td>0.058</td>\n",
              "      <td>47.0</td>\n",
              "      <td>186.0</td>\n",
              "      <td>0.9956</td>\n",
              "      <td>3.19</td>\n",
              "      <td>0.40</td>\n",
              "      <td>9.9</td>\n",
              "      <td>6</td>\n",
              "    </tr>\n",
              "    <tr>\n",
              "      <th>5</th>\n",
              "      <td>white</td>\n",
              "      <td>8.1</td>\n",
              "      <td>0.28</td>\n",
              "      <td>0.40</td>\n",
              "      <td>6.90</td>\n",
              "      <td>0.050</td>\n",
              "      <td>30.0</td>\n",
              "      <td>97.0</td>\n",
              "      <td>0.9951</td>\n",
              "      <td>3.26</td>\n",
              "      <td>0.44</td>\n",
              "      <td>10.1</td>\n",
              "      <td>6</td>\n",
              "    </tr>\n",
              "    <tr>\n",
              "      <th>6</th>\n",
              "      <td>white</td>\n",
              "      <td>6.2</td>\n",
              "      <td>0.32</td>\n",
              "      <td>0.16</td>\n",
              "      <td>7.00</td>\n",
              "      <td>0.045</td>\n",
              "      <td>30.0</td>\n",
              "      <td>136.0</td>\n",
              "      <td>0.9949</td>\n",
              "      <td>3.18</td>\n",
              "      <td>0.47</td>\n",
              "      <td>9.6</td>\n",
              "      <td>6</td>\n",
              "    </tr>\n",
              "    <tr>\n",
              "      <th>7</th>\n",
              "      <td>white</td>\n",
              "      <td>7.0</td>\n",
              "      <td>0.27</td>\n",
              "      <td>0.36</td>\n",
              "      <td>20.70</td>\n",
              "      <td>0.045</td>\n",
              "      <td>45.0</td>\n",
              "      <td>170.0</td>\n",
              "      <td>1.0010</td>\n",
              "      <td>3.00</td>\n",
              "      <td>0.45</td>\n",
              "      <td>8.8</td>\n",
              "      <td>6</td>\n",
              "    </tr>\n",
              "    <tr>\n",
              "      <th>8</th>\n",
              "      <td>white</td>\n",
              "      <td>6.3</td>\n",
              "      <td>0.30</td>\n",
              "      <td>0.34</td>\n",
              "      <td>1.60</td>\n",
              "      <td>0.049</td>\n",
              "      <td>14.0</td>\n",
              "      <td>132.0</td>\n",
              "      <td>0.9940</td>\n",
              "      <td>3.30</td>\n",
              "      <td>0.49</td>\n",
              "      <td>9.5</td>\n",
              "      <td>6</td>\n",
              "    </tr>\n",
              "    <tr>\n",
              "      <th>9</th>\n",
              "      <td>white</td>\n",
              "      <td>8.1</td>\n",
              "      <td>0.22</td>\n",
              "      <td>0.43</td>\n",
              "      <td>1.50</td>\n",
              "      <td>0.044</td>\n",
              "      <td>28.0</td>\n",
              "      <td>129.0</td>\n",
              "      <td>0.9938</td>\n",
              "      <td>3.22</td>\n",
              "      <td>0.45</td>\n",
              "      <td>11.0</td>\n",
              "      <td>6</td>\n",
              "    </tr>\n",
              "    <tr>\n",
              "      <th>10</th>\n",
              "      <td>white</td>\n",
              "      <td>8.1</td>\n",
              "      <td>0.27</td>\n",
              "      <td>0.41</td>\n",
              "      <td>1.45</td>\n",
              "      <td>0.033</td>\n",
              "      <td>11.0</td>\n",
              "      <td>63.0</td>\n",
              "      <td>0.9908</td>\n",
              "      <td>2.99</td>\n",
              "      <td>0.56</td>\n",
              "      <td>12.0</td>\n",
              "      <td>5</td>\n",
              "    </tr>\n",
              "    <tr>\n",
              "      <th>11</th>\n",
              "      <td>white</td>\n",
              "      <td>8.6</td>\n",
              "      <td>0.23</td>\n",
              "      <td>0.40</td>\n",
              "      <td>4.20</td>\n",
              "      <td>0.035</td>\n",
              "      <td>17.0</td>\n",
              "      <td>109.0</td>\n",
              "      <td>0.9947</td>\n",
              "      <td>3.14</td>\n",
              "      <td>0.53</td>\n",
              "      <td>9.7</td>\n",
              "      <td>5</td>\n",
              "    </tr>\n",
              "    <tr>\n",
              "      <th>12</th>\n",
              "      <td>white</td>\n",
              "      <td>7.9</td>\n",
              "      <td>0.18</td>\n",
              "      <td>0.37</td>\n",
              "      <td>1.20</td>\n",
              "      <td>0.040</td>\n",
              "      <td>16.0</td>\n",
              "      <td>75.0</td>\n",
              "      <td>0.9920</td>\n",
              "      <td>3.18</td>\n",
              "      <td>0.63</td>\n",
              "      <td>10.8</td>\n",
              "      <td>5</td>\n",
              "    </tr>\n",
              "    <tr>\n",
              "      <th>13</th>\n",
              "      <td>white</td>\n",
              "      <td>6.6</td>\n",
              "      <td>0.16</td>\n",
              "      <td>0.40</td>\n",
              "      <td>1.50</td>\n",
              "      <td>0.044</td>\n",
              "      <td>48.0</td>\n",
              "      <td>143.0</td>\n",
              "      <td>0.9912</td>\n",
              "      <td>3.54</td>\n",
              "      <td>0.52</td>\n",
              "      <td>12.4</td>\n",
              "      <td>7</td>\n",
              "    </tr>\n",
              "    <tr>\n",
              "      <th>14</th>\n",
              "      <td>white</td>\n",
              "      <td>8.3</td>\n",
              "      <td>0.42</td>\n",
              "      <td>0.62</td>\n",
              "      <td>19.25</td>\n",
              "      <td>0.040</td>\n",
              "      <td>41.0</td>\n",
              "      <td>172.0</td>\n",
              "      <td>1.0002</td>\n",
              "      <td>2.98</td>\n",
              "      <td>0.67</td>\n",
              "      <td>9.7</td>\n",
              "      <td>5</td>\n",
              "    </tr>\n",
              "    <tr>\n",
              "      <th>15</th>\n",
              "      <td>white</td>\n",
              "      <td>6.6</td>\n",
              "      <td>0.17</td>\n",
              "      <td>0.38</td>\n",
              "      <td>1.50</td>\n",
              "      <td>0.032</td>\n",
              "      <td>28.0</td>\n",
              "      <td>112.0</td>\n",
              "      <td>0.9914</td>\n",
              "      <td>3.25</td>\n",
              "      <td>0.55</td>\n",
              "      <td>11.4</td>\n",
              "      <td>7</td>\n",
              "    </tr>\n",
              "    <tr>\n",
              "      <th>16</th>\n",
              "      <td>white</td>\n",
              "      <td>6.3</td>\n",
              "      <td>0.48</td>\n",
              "      <td>0.04</td>\n",
              "      <td>1.10</td>\n",
              "      <td>0.046</td>\n",
              "      <td>30.0</td>\n",
              "      <td>99.0</td>\n",
              "      <td>0.9928</td>\n",
              "      <td>3.24</td>\n",
              "      <td>0.36</td>\n",
              "      <td>9.6</td>\n",
              "      <td>6</td>\n",
              "    </tr>\n",
              "    <tr>\n",
              "      <th>17</th>\n",
              "      <td>white</td>\n",
              "      <td>NaN</td>\n",
              "      <td>0.66</td>\n",
              "      <td>0.48</td>\n",
              "      <td>1.20</td>\n",
              "      <td>0.029</td>\n",
              "      <td>29.0</td>\n",
              "      <td>75.0</td>\n",
              "      <td>0.9892</td>\n",
              "      <td>3.33</td>\n",
              "      <td>0.39</td>\n",
              "      <td>12.8</td>\n",
              "      <td>8</td>\n",
              "    </tr>\n",
              "    <tr>\n",
              "      <th>18</th>\n",
              "      <td>white</td>\n",
              "      <td>7.4</td>\n",
              "      <td>0.34</td>\n",
              "      <td>0.42</td>\n",
              "      <td>1.10</td>\n",
              "      <td>0.033</td>\n",
              "      <td>17.0</td>\n",
              "      <td>171.0</td>\n",
              "      <td>0.9917</td>\n",
              "      <td>3.12</td>\n",
              "      <td>0.53</td>\n",
              "      <td>11.3</td>\n",
              "      <td>6</td>\n",
              "    </tr>\n",
              "    <tr>\n",
              "      <th>19</th>\n",
              "      <td>white</td>\n",
              "      <td>6.5</td>\n",
              "      <td>0.31</td>\n",
              "      <td>0.14</td>\n",
              "      <td>7.50</td>\n",
              "      <td>0.044</td>\n",
              "      <td>34.0</td>\n",
              "      <td>133.0</td>\n",
              "      <td>0.9955</td>\n",
              "      <td>3.22</td>\n",
              "      <td>0.50</td>\n",
              "      <td>9.5</td>\n",
              "      <td>5</td>\n",
              "    </tr>\n",
              "  </tbody>\n",
              "</table>\n",
              "</div>"
            ],
            "text/plain": [
              "     Tipo  Acidez_Fija  Acidez_Volatil  Acido_Citrico  Azucar_Residual    Sal  \\\n",
              "0   white          7.0            0.27           0.36            20.70  0.045   \n",
              "1   white          6.3            0.30           0.34             1.60  0.049   \n",
              "2   white          8.1            0.28           0.40             6.90  0.050   \n",
              "3   white          7.2            0.23           0.32             8.50  0.058   \n",
              "4   white          7.2            0.23           0.32             8.50  0.058   \n",
              "5   white          8.1            0.28           0.40             6.90  0.050   \n",
              "6   white          6.2            0.32           0.16             7.00  0.045   \n",
              "7   white          7.0            0.27           0.36            20.70  0.045   \n",
              "8   white          6.3            0.30           0.34             1.60  0.049   \n",
              "9   white          8.1            0.22           0.43             1.50  0.044   \n",
              "10  white          8.1            0.27           0.41             1.45  0.033   \n",
              "11  white          8.6            0.23           0.40             4.20  0.035   \n",
              "12  white          7.9            0.18           0.37             1.20  0.040   \n",
              "13  white          6.6            0.16           0.40             1.50  0.044   \n",
              "14  white          8.3            0.42           0.62            19.25  0.040   \n",
              "15  white          6.6            0.17           0.38             1.50  0.032   \n",
              "16  white          6.3            0.48           0.04             1.10  0.046   \n",
              "17  white          NaN            0.66           0.48             1.20  0.029   \n",
              "18  white          7.4            0.34           0.42             1.10  0.033   \n",
              "19  white          6.5            0.31           0.14             7.50  0.044   \n",
              "\n",
              "    Dioxido_Sulfuro_Libres  Dioxido_Sulfuro_Total  Densidad    pH  Sulfatos  \\\n",
              "0                     45.0                  170.0    1.0010  3.00      0.45   \n",
              "1                     14.0                  132.0    0.9940  3.30      0.49   \n",
              "2                     30.0                   97.0    0.9951  3.26      0.44   \n",
              "3                     47.0                  186.0    0.9956  3.19      0.40   \n",
              "4                     47.0                  186.0    0.9956  3.19      0.40   \n",
              "5                     30.0                   97.0    0.9951  3.26      0.44   \n",
              "6                     30.0                  136.0    0.9949  3.18      0.47   \n",
              "7                     45.0                  170.0    1.0010  3.00      0.45   \n",
              "8                     14.0                  132.0    0.9940  3.30      0.49   \n",
              "9                     28.0                  129.0    0.9938  3.22      0.45   \n",
              "10                    11.0                   63.0    0.9908  2.99      0.56   \n",
              "11                    17.0                  109.0    0.9947  3.14      0.53   \n",
              "12                    16.0                   75.0    0.9920  3.18      0.63   \n",
              "13                    48.0                  143.0    0.9912  3.54      0.52   \n",
              "14                    41.0                  172.0    1.0002  2.98      0.67   \n",
              "15                    28.0                  112.0    0.9914  3.25      0.55   \n",
              "16                    30.0                   99.0    0.9928  3.24      0.36   \n",
              "17                    29.0                   75.0    0.9892  3.33      0.39   \n",
              "18                    17.0                  171.0    0.9917  3.12      0.53   \n",
              "19                    34.0                  133.0    0.9955  3.22      0.50   \n",
              "\n",
              "    Alcohol  Calidad  \n",
              "0       8.8        6  \n",
              "1       9.5        6  \n",
              "2      10.1        6  \n",
              "3       9.9        6  \n",
              "4       9.9        6  \n",
              "5      10.1        6  \n",
              "6       9.6        6  \n",
              "7       8.8        6  \n",
              "8       9.5        6  \n",
              "9      11.0        6  \n",
              "10     12.0        5  \n",
              "11      9.7        5  \n",
              "12     10.8        5  \n",
              "13     12.4        7  \n",
              "14      9.7        5  \n",
              "15     11.4        7  \n",
              "16      9.6        6  \n",
              "17     12.8        8  \n",
              "18     11.3        6  \n",
              "19      9.5        5  "
            ]
          },
          "metadata": {
            "tags": []
          },
          "execution_count": 16
        }
      ]
    },
    {
      "metadata": {
        "id": "6wzZDRdDaG5k",
        "colab_type": "code",
        "colab": {
          "base_uri": "https://localhost:8080/",
          "height": 226
        },
        "outputId": "a97e99b4-8d8c-4633-daec-87cf833ae2b6"
      },
      "cell_type": "code",
      "source": [
        "# Actualizamos los valores de las columnas con el fin de adaptarlos \n",
        "# a las necesidades del proyecto\n",
        "wineX.replace({'Tipo' : \"white\"}, \"Blanco\", inplace=True)\n",
        "wineX.replace({'Tipo' : \"red\"}, \"Rojo\", inplace=True)\n",
        "\n",
        "#Comprobamos los resultados\n",
        "wineX.head()"
      ],
      "execution_count": 17,
      "outputs": [
        {
          "output_type": "execute_result",
          "data": {
            "text/html": [
              "<div>\n",
              "<style scoped>\n",
              "    .dataframe tbody tr th:only-of-type {\n",
              "        vertical-align: middle;\n",
              "    }\n",
              "\n",
              "    .dataframe tbody tr th {\n",
              "        vertical-align: top;\n",
              "    }\n",
              "\n",
              "    .dataframe thead th {\n",
              "        text-align: right;\n",
              "    }\n",
              "</style>\n",
              "<table border=\"1\" class=\"dataframe\">\n",
              "  <thead>\n",
              "    <tr style=\"text-align: right;\">\n",
              "      <th></th>\n",
              "      <th>Tipo</th>\n",
              "      <th>Acidez_Fija</th>\n",
              "      <th>Acidez_Volatil</th>\n",
              "      <th>Acido_Citrico</th>\n",
              "      <th>Azucar_Residual</th>\n",
              "      <th>Sal</th>\n",
              "      <th>Dioxido_Sulfuro_Libres</th>\n",
              "      <th>Dioxido_Sulfuro_Total</th>\n",
              "      <th>Densidad</th>\n",
              "      <th>pH</th>\n",
              "      <th>Sulfatos</th>\n",
              "      <th>Alcohol</th>\n",
              "      <th>Calidad</th>\n",
              "    </tr>\n",
              "  </thead>\n",
              "  <tbody>\n",
              "    <tr>\n",
              "      <th>0</th>\n",
              "      <td>Blanco</td>\n",
              "      <td>7.0</td>\n",
              "      <td>0.27</td>\n",
              "      <td>0.36</td>\n",
              "      <td>20.7</td>\n",
              "      <td>0.045</td>\n",
              "      <td>45.0</td>\n",
              "      <td>170.0</td>\n",
              "      <td>1.0010</td>\n",
              "      <td>3.00</td>\n",
              "      <td>0.45</td>\n",
              "      <td>8.8</td>\n",
              "      <td>6</td>\n",
              "    </tr>\n",
              "    <tr>\n",
              "      <th>1</th>\n",
              "      <td>Blanco</td>\n",
              "      <td>6.3</td>\n",
              "      <td>0.30</td>\n",
              "      <td>0.34</td>\n",
              "      <td>1.6</td>\n",
              "      <td>0.049</td>\n",
              "      <td>14.0</td>\n",
              "      <td>132.0</td>\n",
              "      <td>0.9940</td>\n",
              "      <td>3.30</td>\n",
              "      <td>0.49</td>\n",
              "      <td>9.5</td>\n",
              "      <td>6</td>\n",
              "    </tr>\n",
              "    <tr>\n",
              "      <th>2</th>\n",
              "      <td>Blanco</td>\n",
              "      <td>8.1</td>\n",
              "      <td>0.28</td>\n",
              "      <td>0.40</td>\n",
              "      <td>6.9</td>\n",
              "      <td>0.050</td>\n",
              "      <td>30.0</td>\n",
              "      <td>97.0</td>\n",
              "      <td>0.9951</td>\n",
              "      <td>3.26</td>\n",
              "      <td>0.44</td>\n",
              "      <td>10.1</td>\n",
              "      <td>6</td>\n",
              "    </tr>\n",
              "    <tr>\n",
              "      <th>3</th>\n",
              "      <td>Blanco</td>\n",
              "      <td>7.2</td>\n",
              "      <td>0.23</td>\n",
              "      <td>0.32</td>\n",
              "      <td>8.5</td>\n",
              "      <td>0.058</td>\n",
              "      <td>47.0</td>\n",
              "      <td>186.0</td>\n",
              "      <td>0.9956</td>\n",
              "      <td>3.19</td>\n",
              "      <td>0.40</td>\n",
              "      <td>9.9</td>\n",
              "      <td>6</td>\n",
              "    </tr>\n",
              "    <tr>\n",
              "      <th>4</th>\n",
              "      <td>Blanco</td>\n",
              "      <td>7.2</td>\n",
              "      <td>0.23</td>\n",
              "      <td>0.32</td>\n",
              "      <td>8.5</td>\n",
              "      <td>0.058</td>\n",
              "      <td>47.0</td>\n",
              "      <td>186.0</td>\n",
              "      <td>0.9956</td>\n",
              "      <td>3.19</td>\n",
              "      <td>0.40</td>\n",
              "      <td>9.9</td>\n",
              "      <td>6</td>\n",
              "    </tr>\n",
              "  </tbody>\n",
              "</table>\n",
              "</div>"
            ],
            "text/plain": [
              "     Tipo  Acidez_Fija  Acidez_Volatil  Acido_Citrico  Azucar_Residual    Sal  \\\n",
              "0  Blanco          7.0            0.27           0.36             20.7  0.045   \n",
              "1  Blanco          6.3            0.30           0.34              1.6  0.049   \n",
              "2  Blanco          8.1            0.28           0.40              6.9  0.050   \n",
              "3  Blanco          7.2            0.23           0.32              8.5  0.058   \n",
              "4  Blanco          7.2            0.23           0.32              8.5  0.058   \n",
              "\n",
              "   Dioxido_Sulfuro_Libres  Dioxido_Sulfuro_Total  Densidad    pH  Sulfatos  \\\n",
              "0                    45.0                  170.0    1.0010  3.00      0.45   \n",
              "1                    14.0                  132.0    0.9940  3.30      0.49   \n",
              "2                    30.0                   97.0    0.9951  3.26      0.44   \n",
              "3                    47.0                  186.0    0.9956  3.19      0.40   \n",
              "4                    47.0                  186.0    0.9956  3.19      0.40   \n",
              "\n",
              "   Alcohol  Calidad  \n",
              "0      8.8        6  \n",
              "1      9.5        6  \n",
              "2     10.1        6  \n",
              "3      9.9        6  \n",
              "4      9.9        6  "
            ]
          },
          "metadata": {
            "tags": []
          },
          "execution_count": 17
        }
      ]
    },
    {
      "metadata": {
        "id": "s4ZQK18Cj-NW",
        "colab_type": "code",
        "outputId": "7f0f31f9-3437-4b85-f9c3-9fae08f87f99",
        "colab": {
          "base_uri": "https://localhost:8080/",
          "height": 320
        }
      },
      "cell_type": "code",
      "source": [
        "# Obtenemos un resumen estadistico\n",
        "wineX.describe()\n",
        "# El 50% del cuantil es en realidad la mediana del conjunto de datos"
      ],
      "execution_count": 18,
      "outputs": [
        {
          "output_type": "execute_result",
          "data": {
            "text/html": [
              "<div>\n",
              "<style scoped>\n",
              "    .dataframe tbody tr th:only-of-type {\n",
              "        vertical-align: middle;\n",
              "    }\n",
              "\n",
              "    .dataframe tbody tr th {\n",
              "        vertical-align: top;\n",
              "    }\n",
              "\n",
              "    .dataframe thead th {\n",
              "        text-align: right;\n",
              "    }\n",
              "</style>\n",
              "<table border=\"1\" class=\"dataframe\">\n",
              "  <thead>\n",
              "    <tr style=\"text-align: right;\">\n",
              "      <th></th>\n",
              "      <th>Acidez_Fija</th>\n",
              "      <th>Acidez_Volatil</th>\n",
              "      <th>Acido_Citrico</th>\n",
              "      <th>Azucar_Residual</th>\n",
              "      <th>Sal</th>\n",
              "      <th>Dioxido_Sulfuro_Libres</th>\n",
              "      <th>Dioxido_Sulfuro_Total</th>\n",
              "      <th>Densidad</th>\n",
              "      <th>pH</th>\n",
              "      <th>Sulfatos</th>\n",
              "      <th>Alcohol</th>\n",
              "      <th>Calidad</th>\n",
              "    </tr>\n",
              "  </thead>\n",
              "  <tbody>\n",
              "    <tr>\n",
              "      <th>count</th>\n",
              "      <td>6487.000000</td>\n",
              "      <td>6489.000000</td>\n",
              "      <td>6494.000000</td>\n",
              "      <td>6495.000000</td>\n",
              "      <td>6495.000000</td>\n",
              "      <td>6497.000000</td>\n",
              "      <td>6497.000000</td>\n",
              "      <td>6497.000000</td>\n",
              "      <td>6488.000000</td>\n",
              "      <td>6493.000000</td>\n",
              "      <td>6497.000000</td>\n",
              "      <td>6497.000000</td>\n",
              "    </tr>\n",
              "    <tr>\n",
              "      <th>mean</th>\n",
              "      <td>7.216579</td>\n",
              "      <td>0.339691</td>\n",
              "      <td>0.318722</td>\n",
              "      <td>5.444326</td>\n",
              "      <td>0.056042</td>\n",
              "      <td>30.525319</td>\n",
              "      <td>115.744574</td>\n",
              "      <td>0.994697</td>\n",
              "      <td>3.218395</td>\n",
              "      <td>0.531215</td>\n",
              "      <td>10.491801</td>\n",
              "      <td>5.818378</td>\n",
              "    </tr>\n",
              "    <tr>\n",
              "      <th>std</th>\n",
              "      <td>1.296750</td>\n",
              "      <td>0.164649</td>\n",
              "      <td>0.145265</td>\n",
              "      <td>4.758125</td>\n",
              "      <td>0.035036</td>\n",
              "      <td>17.749400</td>\n",
              "      <td>56.521855</td>\n",
              "      <td>0.002999</td>\n",
              "      <td>0.160748</td>\n",
              "      <td>0.148814</td>\n",
              "      <td>1.192712</td>\n",
              "      <td>0.873255</td>\n",
              "    </tr>\n",
              "    <tr>\n",
              "      <th>min</th>\n",
              "      <td>3.800000</td>\n",
              "      <td>0.080000</td>\n",
              "      <td>0.000000</td>\n",
              "      <td>0.600000</td>\n",
              "      <td>0.009000</td>\n",
              "      <td>1.000000</td>\n",
              "      <td>6.000000</td>\n",
              "      <td>0.987110</td>\n",
              "      <td>2.720000</td>\n",
              "      <td>0.220000</td>\n",
              "      <td>8.000000</td>\n",
              "      <td>3.000000</td>\n",
              "    </tr>\n",
              "    <tr>\n",
              "      <th>25%</th>\n",
              "      <td>6.400000</td>\n",
              "      <td>0.230000</td>\n",
              "      <td>0.250000</td>\n",
              "      <td>1.800000</td>\n",
              "      <td>0.038000</td>\n",
              "      <td>17.000000</td>\n",
              "      <td>77.000000</td>\n",
              "      <td>0.992340</td>\n",
              "      <td>3.110000</td>\n",
              "      <td>0.430000</td>\n",
              "      <td>9.500000</td>\n",
              "      <td>5.000000</td>\n",
              "    </tr>\n",
              "    <tr>\n",
              "      <th>50%</th>\n",
              "      <td>7.000000</td>\n",
              "      <td>0.290000</td>\n",
              "      <td>0.310000</td>\n",
              "      <td>3.000000</td>\n",
              "      <td>0.047000</td>\n",
              "      <td>29.000000</td>\n",
              "      <td>118.000000</td>\n",
              "      <td>0.994890</td>\n",
              "      <td>3.210000</td>\n",
              "      <td>0.510000</td>\n",
              "      <td>10.300000</td>\n",
              "      <td>6.000000</td>\n",
              "    </tr>\n",
              "    <tr>\n",
              "      <th>75%</th>\n",
              "      <td>7.700000</td>\n",
              "      <td>0.400000</td>\n",
              "      <td>0.390000</td>\n",
              "      <td>8.100000</td>\n",
              "      <td>0.065000</td>\n",
              "      <td>41.000000</td>\n",
              "      <td>156.000000</td>\n",
              "      <td>0.996990</td>\n",
              "      <td>3.320000</td>\n",
              "      <td>0.600000</td>\n",
              "      <td>11.300000</td>\n",
              "      <td>6.000000</td>\n",
              "    </tr>\n",
              "    <tr>\n",
              "      <th>max</th>\n",
              "      <td>15.900000</td>\n",
              "      <td>1.580000</td>\n",
              "      <td>1.660000</td>\n",
              "      <td>65.800000</td>\n",
              "      <td>0.611000</td>\n",
              "      <td>289.000000</td>\n",
              "      <td>440.000000</td>\n",
              "      <td>1.038980</td>\n",
              "      <td>4.010000</td>\n",
              "      <td>2.000000</td>\n",
              "      <td>14.900000</td>\n",
              "      <td>9.000000</td>\n",
              "    </tr>\n",
              "  </tbody>\n",
              "</table>\n",
              "</div>"
            ],
            "text/plain": [
              "       Acidez_Fija  Acidez_Volatil  Acido_Citrico  Azucar_Residual  \\\n",
              "count  6487.000000     6489.000000    6494.000000      6495.000000   \n",
              "mean      7.216579        0.339691       0.318722         5.444326   \n",
              "std       1.296750        0.164649       0.145265         4.758125   \n",
              "min       3.800000        0.080000       0.000000         0.600000   \n",
              "25%       6.400000        0.230000       0.250000         1.800000   \n",
              "50%       7.000000        0.290000       0.310000         3.000000   \n",
              "75%       7.700000        0.400000       0.390000         8.100000   \n",
              "max      15.900000        1.580000       1.660000        65.800000   \n",
              "\n",
              "               Sal  Dioxido_Sulfuro_Libres  Dioxido_Sulfuro_Total  \\\n",
              "count  6495.000000             6497.000000            6497.000000   \n",
              "mean      0.056042               30.525319             115.744574   \n",
              "std       0.035036               17.749400              56.521855   \n",
              "min       0.009000                1.000000               6.000000   \n",
              "25%       0.038000               17.000000              77.000000   \n",
              "50%       0.047000               29.000000             118.000000   \n",
              "75%       0.065000               41.000000             156.000000   \n",
              "max       0.611000              289.000000             440.000000   \n",
              "\n",
              "          Densidad           pH     Sulfatos      Alcohol      Calidad  \n",
              "count  6497.000000  6488.000000  6493.000000  6497.000000  6497.000000  \n",
              "mean      0.994697     3.218395     0.531215    10.491801     5.818378  \n",
              "std       0.002999     0.160748     0.148814     1.192712     0.873255  \n",
              "min       0.987110     2.720000     0.220000     8.000000     3.000000  \n",
              "25%       0.992340     3.110000     0.430000     9.500000     5.000000  \n",
              "50%       0.994890     3.210000     0.510000    10.300000     6.000000  \n",
              "75%       0.996990     3.320000     0.600000    11.300000     6.000000  \n",
              "max       1.038980     4.010000     2.000000    14.900000     9.000000  "
            ]
          },
          "metadata": {
            "tags": []
          },
          "execution_count": 18
        }
      ]
    },
    {
      "metadata": {
        "id": "hZnV5PHHqYVQ",
        "colab_type": "text"
      },
      "cell_type": "markdown",
      "source": [
        "**Comentarios:** Si miramos los datos obtenidos, podemos notar que:\n",
        "\n",
        "- El valor promedio es mayor que el valor de la mediana (50%) para casi todas las columnas.\n",
        "- Existente una diferencia notoriamente grande entre el 75% y el valor máximo para las columnas como: Azúcar_Residual, Sal, Dioxido_Sulfuro_Libres, y Dioxido_Sulfuro_Total.\n",
        "\n",
        "Por tanto, las observaciones anteriores sugieren que existen valores extremos (outliers) en nuestro conjunto de datos. "
      ]
    },
    {
      "metadata": {
        "id": "zI5M8CxVfwVD",
        "colab_type": "text"
      },
      "cell_type": "markdown",
      "source": [
        "## Análisis general de todas las variables\n",
        "\n",
        "Graficaremos algunas variables para observar mejor como están distribuidas y relacionadas entre sí.\n"
      ]
    },
    {
      "metadata": {
        "id": "IKmJQWJNYoU_",
        "colab_type": "code",
        "colab": {}
      },
      "cell_type": "code",
      "source": [
        "# Librerias a emplear\n",
        "import matplotlib.pyplot as plt \n",
        "import numpy as np \n",
        "import seaborn as sns "
      ],
      "execution_count": 0,
      "outputs": []
    },
    {
      "metadata": {
        "id": "AhOEtx48jS_Y",
        "colab_type": "text"
      },
      "cell_type": "markdown",
      "source": [
        "**Calidad:**"
      ]
    },
    {
      "metadata": {
        "id": "zkbBPd7Yqg9o",
        "colab_type": "code",
        "outputId": "c0e487f0-b660-4733-f3a6-0fc778c7c273",
        "colab": {
          "base_uri": "https://localhost:8080/",
          "height": 35
        }
      },
      "cell_type": "code",
      "source": [
        "# Posibles valores que tiene la columna 'Calidad' \n",
        "wineX.Calidad.unique()\n"
      ],
      "execution_count": 19,
      "outputs": [
        {
          "output_type": "execute_result",
          "data": {
            "text/plain": [
              "array([6, 5, 7, 8, 4, 3, 9])"
            ]
          },
          "metadata": {
            "tags": []
          },
          "execution_count": 19
        }
      ]
    },
    {
      "metadata": {
        "id": "vK9ZI8wpqhP9",
        "colab_type": "code",
        "outputId": "421442bd-cff4-4037-e37c-c226dbaecdfb",
        "colab": {
          "base_uri": "https://localhost:8080/",
          "height": 164
        }
      },
      "cell_type": "code",
      "source": [
        "# Observamos la manera en la que están agrupados\n",
        "wineX.Calidad.value_counts()"
      ],
      "execution_count": 20,
      "outputs": [
        {
          "output_type": "execute_result",
          "data": {
            "text/plain": [
              "6    2836\n",
              "5    2138\n",
              "7    1079\n",
              "4     216\n",
              "8     193\n",
              "3      30\n",
              "9       5\n",
              "Name: Calidad, dtype: int64"
            ]
          },
          "metadata": {
            "tags": []
          },
          "execution_count": 20
        }
      ]
    },
    {
      "metadata": {
        "id": "pEK1X-k5dt_C",
        "colab_type": "code",
        "colab": {
          "base_uri": "https://localhost:8080/",
          "height": 301
        },
        "outputId": "95f4efc3-af55-40bf-d14c-4445a84c61e0"
      },
      "cell_type": "code",
      "source": [
        "#Graficamos para ver mejor como es la distribución\n",
        "sns.countplot(wineX['Calidad'])"
      ],
      "execution_count": 24,
      "outputs": [
        {
          "output_type": "execute_result",
          "data": {
            "text/plain": [
              "<matplotlib.axes._subplots.AxesSubplot at 0x7febe73229b0>"
            ]
          },
          "metadata": {
            "tags": []
          },
          "execution_count": 24
        },
        {
          "output_type": "display_data",
          "data": {
            "image/png": "[encoded data removed]",
            "text/plain": [
              "<Figure size 432x288 with 1 Axes>"
            ]
          },
          "metadata": {
            "tags": []
          }
        }
      ]
    },
    {
      "metadata": {
        "id": "jHMWyHJW9bq8",
        "colab_type": "text"
      },
      "cell_type": "markdown",
      "source": [
        "**Comentarios:** Podemos ver que\n",
        "- La variable dependiente 'Calidad' es discreta y de naturaleza categórica (varían de 3 a 9, donde 3 es malo y 9 es bueno).\n",
        "- Se observa una calificación de calidad entre 3 y 9, es decir; los grados de calidad 1, 2 y 10 no aparecen en el dataset.\n",
        "- La mayor concentración de la calificación de calidad se concentra de 5 a 7, y la menor se concentra en las puntuaciones de 3 y 9. Las clases están ordenadas pero no están equilibradas (por ejemplo, hay más vinos normales que excelentes o pobres).\n",
        "- Dado que la distribución de las muestras para los diferentes valores de calidad no es uniforme, se podría utilizar algún algoritmo de detección de 'Outliers' y retirarlos de nuestro dataset, o no eliminar ningún valor pero sí tenerlo en cuenta al dividir el conjunto de datos de entrenamiento y de validación.\n",
        "- En este caso no eliminaremos los outliers, dado a que la creación de un vino es meramente una reacción química, y los valores extremos que se presentan son posibles. Podemos decir que dichos outliers pertenecen a vinos que tienen características muy diferentes al resto."
      ]
    },
    {
      "metadata": {
        "id": "0Wsrl9d_jDH9",
        "colab_type": "text"
      },
      "cell_type": "markdown",
      "source": [
        "Seguidamente vamos a representar cada una de las otras columnas contra la variable objetivo \"Calidad\", para posteriormente analizar y obtener las primeras conclusiones. "
      ]
    },
    {
      "metadata": {
        "id": "rhyEBQU7g90z",
        "colab_type": "text"
      },
      "cell_type": "markdown",
      "source": [
        "**Acidez Fija vs Calidad:**"
      ]
    },
    {
      "metadata": {
        "id": "1BEtdjJAhG56",
        "colab_type": "code",
        "colab": {
          "base_uri": "https://localhost:8080/",
          "height": 404
        },
        "outputId": "6d45002a-ec1e-4f3e-9b7e-aa0bd64979ec"
      },
      "cell_type": "code",
      "source": [
        "cm_surv = [\"darkblue\" , \"orange\"]\n",
        "img1 = plt.figure(figsize = (10,6))\n",
        "sns.barplot(x='Calidad', y='Acidez_Fija', data=wineX, palette=cm_surv)\n",
        "plt.title(\"Acidez Fija como función de la Calidad del Vino\")\n",
        "plt.show()\n",
        "   "
      ],
      "execution_count": 122,
      "outputs": [
        {
          "output_type": "display_data",
          "data": {
            "image/png": "[encoded data removed]",
            "text/plain": [
              "<Figure size 720x432 with 1 Axes>"
            ]
          },
          "metadata": {
            "tags": []
          }
        }
      ]
    },
    {
      "metadata": {
        "id": "sz1d74z47Kim",
        "colab_type": "code",
        "colab": {
          "base_uri": "https://localhost:8080/",
          "height": 814
        },
        "outputId": "38f0eed2-f228-4b0f-9111-8b9bf7a57b55"
      },
      "cell_type": "code",
      "source": [
        "plot('Alcohol','Calidad')"
      ],
      "execution_count": 98,
      "outputs": [
        {
          "output_type": "stream",
          "text": [
            "/usr/local/lib/python3.6/dist-packages/seaborn/categorical.py:3666: UserWarning: The `factorplot` function has been renamed to `catplot`. The original name will be removed in a future release. Please update your code. Note that the default `kind` in `factorplot` (`'point'`) has changed `'strip'` in `catplot`.\n",
            "  warnings.warn(msg)\n",
            "/usr/local/lib/python3.6/dist-packages/seaborn/categorical.py:3672: UserWarning: The `size` paramter has been renamed to `height`; please update your code.\n",
            "  warnings.warn(msg, UserWarning)\n"
          ],
          "name": "stderr"
        },
        {
          "output_type": "display_data",
          "data": {
            "image/png": "[encoded data removed]",
            "text/plain": [
              "<Figure size 360x360 with 1 Axes>"
            ]
          },
          "metadata": {
            "tags": []
          }
        },
        {
          "output_type": "display_data",
          "data": {
            "image/png": "[encoded data removed]",
            "text/plain": [
              "<Figure size 360x360 with 1 Axes>"
            ]
          },
          "metadata": {
            "tags": []
          }
        }
      ]
    },
    {
      "metadata": {
        "id": "gEomH4SFhrnP",
        "colab_type": "text"
      },
      "cell_type": "markdown",
      "source": [
        "**Comentarios:** Vemos que la acidez fija no da ninguna especificación para clasificar la calidad."
      ]
    },
    {
      "metadata": {
        "id": "9T5E1vjYh3HM",
        "colab_type": "text"
      },
      "cell_type": "markdown",
      "source": [
        "**Acidez Vólatil vs Calidad:**"
      ]
    },
    {
      "metadata": {
        "id": "xzZk3V0wgm7l",
        "colab_type": "code",
        "colab": {
          "base_uri": "https://localhost:8080/",
          "height": 404
        },
        "outputId": "5551aae0-e95a-44c3-f788-7c5a0e296da2"
      },
      "cell_type": "code",
      "source": [
        "#img2 = plt.figure(figsize = (10,6))\n",
        "#sns.barplot(x = 'Calidad', y = 'Acidez_Volatil', data = wineX)\n",
        "\n",
        "cm_surv = [\"darkblue\" , \"orange\"]\n",
        "img2 = plt.figure(figsize = (10,6))\n",
        "sns.barplot(x = 'Calidad', y = 'Acidez_Volatil', data = wineX, palette=cm_surv)\n",
        "plt.title(\"Ácidez Volátil como función de la Calidad del Vino\")\n",
        "plt.show()"
      ],
      "execution_count": 123,
      "outputs": [
        {
          "output_type": "display_data",
          "data": {
            "image/png": "[encoded data removed]",
            "text/plain": [
              "<Figure size 720x432 with 1 Axes>"
            ]
          },
          "metadata": {
            "tags": []
          }
        }
      ]
    },
    {
      "metadata": {
        "id": "z0fRaRRqiIMc",
        "colab_type": "text"
      },
      "cell_type": "markdown",
      "source": [
        "**Comentarios:** Se observa una tendencia bastante descendente en la acidez volátil a medida que aumentamos la calidad."
      ]
    },
    {
      "metadata": {
        "id": "UgonQZW5iZMt",
        "colab_type": "text"
      },
      "cell_type": "markdown",
      "source": [
        "**Ácido Citrico vs Calidad:**"
      ]
    },
    {
      "metadata": {
        "id": "dXlN9Q_KkHWw",
        "colab_type": "code",
        "colab": {
          "base_uri": "https://localhost:8080/",
          "height": 410
        },
        "outputId": "2ca57cd8-9f03-4a5c-ae9f-9bc7c8f0f4d7"
      },
      "cell_type": "code",
      "source": [
        "img3 = plt.figure(figsize = (10,6))\n",
        "sns.barplot(x = 'Calidad', y = 'Acido_Citrico', data = wineX)\n",
        "\n"
      ],
      "execution_count": 27,
      "outputs": [
        {
          "output_type": "execute_result",
          "data": {
            "text/plain": [
              "<matplotlib.axes._subplots.AxesSubplot at 0x7febe46add30>"
            ]
          },
          "metadata": {
            "tags": []
          },
          "execution_count": 27
        },
        {
          "output_type": "display_data",
          "data": {
            "image/png": "[encoded data removed]",
            "text/plain": [
              "<Figure size 720x432 with 1 Axes>"
            ]
          },
          "metadata": {
            "tags": []
          }
        }
      ]
    },
    {
      "metadata": {
        "id": "n013TaT8mKRV",
        "colab_type": "text"
      },
      "cell_type": "markdown",
      "source": [
        "**Comentarios**: La composición del ácido cítrico aumenta a medida que avanzamos en la calidad del vino."
      ]
    },
    {
      "metadata": {
        "id": "PH3IlyJhmZt8",
        "colab_type": "text"
      },
      "cell_type": "markdown",
      "source": [
        "**Azúcar Residual vs Calidad: **"
      ]
    },
    {
      "metadata": {
        "id": "M2YgL45Nme7u",
        "colab_type": "code",
        "colab": {
          "base_uri": "https://localhost:8080/",
          "height": 410
        },
        "outputId": "7a49f7ce-50ef-4373-f0d7-ae4d82e80df1"
      },
      "cell_type": "code",
      "source": [
        "img4 = plt.figure(figsize = (10,6))\n",
        "sns.barplot(x = 'Calidad', y = 'Azucar_Residual', data = wineX)"
      ],
      "execution_count": 28,
      "outputs": [
        {
          "output_type": "execute_result",
          "data": {
            "text/plain": [
              "<matplotlib.axes._subplots.AxesSubplot at 0x7febe4627dd8>"
            ]
          },
          "metadata": {
            "tags": []
          },
          "execution_count": 28
        },
        {
          "output_type": "display_data",
          "data": {
            "image/png": "[encoded data removed]",
            "text/plain": [
              "<Figure size 720x432 with 1 Axes>"
            ]
          },
          "metadata": {
            "tags": []
          }
        }
      ]
    },
    {
      "metadata": {
        "id": "elR4TBJCmq7k",
        "colab_type": "text"
      },
      "cell_type": "markdown",
      "source": [
        "**Comentarios:** Vemos que la Azúcar Residual no da ninguna especificación para clasificar la calidad."
      ]
    },
    {
      "metadata": {
        "id": "sURrAqoHm9cN",
        "colab_type": "text"
      },
      "cell_type": "markdown",
      "source": [
        "**Sal vs Calidad:**"
      ]
    },
    {
      "metadata": {
        "id": "pkiowszwmnhq",
        "colab_type": "code",
        "colab": {
          "base_uri": "https://localhost:8080/",
          "height": 410
        },
        "outputId": "cf384c57-d88e-471a-e888-d44358e4d547"
      },
      "cell_type": "code",
      "source": [
        "img5 = plt.figure(figsize = (10,6))\n",
        "sns.barplot(x = 'Calidad', y = 'Sal', data = wineX)"
      ],
      "execution_count": 29,
      "outputs": [
        {
          "output_type": "execute_result",
          "data": {
            "text/plain": [
              "<matplotlib.axes._subplots.AxesSubplot at 0x7febe46a49b0>"
            ]
          },
          "metadata": {
            "tags": []
          },
          "execution_count": 29
        },
        {
          "output_type": "display_data",
          "data": {
            "image/png": "[encoded data removed]",
            "text/plain": [
              "<Figure size 720x432 with 1 Axes>"
            ]
          },
          "metadata": {
            "tags": []
          }
        }
      ]
    },
    {
      "metadata": {
        "id": "u3g452axnhnB",
        "colab_type": "text"
      },
      "cell_type": "markdown",
      "source": [
        "**Comentarios**: La composición del cloruro también disminuye a medida que avanzamos en la calidad del vino."
      ]
    },
    {
      "metadata": {
        "id": "HJH_g4GxoYVN",
        "colab_type": "text"
      },
      "cell_type": "markdown",
      "source": [
        "**Dioxido Sulfuro Libres vs Calidad:**"
      ]
    },
    {
      "metadata": {
        "id": "vpVsSBuun24M",
        "colab_type": "code",
        "colab": {
          "base_uri": "https://localhost:8080/",
          "height": 410
        },
        "outputId": "bbe0ab02-770c-435d-90bf-f247dc7ce2e8"
      },
      "cell_type": "code",
      "source": [
        "img6 = plt.figure(figsize = (10,6))\n",
        "sns.barplot(x = 'Calidad', y = 'Dioxido_Sulfuro_Libres', data = wineX)"
      ],
      "execution_count": 30,
      "outputs": [
        {
          "output_type": "execute_result",
          "data": {
            "text/plain": [
              "<matplotlib.axes._subplots.AxesSubplot at 0x7febe44eecf8>"
            ]
          },
          "metadata": {
            "tags": []
          },
          "execution_count": 30
        },
        {
          "output_type": "display_data",
          "data": {
            "image/png": "[encoded data removed]",
            "text/plain": [
              "<Figure size 720x432 with 1 Axes>"
            ]
          },
          "metadata": {
            "tags": []
          }
        }
      ]
    },
    {
      "metadata": {
        "id": "aycF8ZcPovt4",
        "colab_type": "text"
      },
      "cell_type": "markdown",
      "source": [
        "**Comentarios**: Vemos que la Dióxido de Sulfuro Libre no es de mucho aporte para clasificar la calidad. Puede existir vinos de baja y de alta calidad con elevadas concentraciones de dioxodo de sulfuro libres."
      ]
    },
    {
      "metadata": {
        "id": "OO49MvxnqH1l",
        "colab_type": "text"
      },
      "cell_type": "markdown",
      "source": [
        "**Dióxido Sulfuro Total vs Calidad:**"
      ]
    },
    {
      "metadata": {
        "id": "1bBNdMfqqZWf",
        "colab_type": "code",
        "colab": {
          "base_uri": "https://localhost:8080/",
          "height": 410
        },
        "outputId": "c5b04978-3bbf-4c1e-b0f8-11e83a9e8f0a"
      },
      "cell_type": "code",
      "source": [
        "img7 = plt.figure(figsize = (10,6))\n",
        "sns.barplot(x = 'Calidad', y = 'Dioxido_Sulfuro_Total', data = wineX)"
      ],
      "execution_count": 31,
      "outputs": [
        {
          "output_type": "execute_result",
          "data": {
            "text/plain": [
              "<matplotlib.axes._subplots.AxesSubplot at 0x7febe445f5c0>"
            ]
          },
          "metadata": {
            "tags": []
          },
          "execution_count": 31
        },
        {
          "output_type": "display_data",
          "data": {
            "image/png": "[encoded data removed]",
            "text/plain": [
              "<Figure size 720x432 with 1 Axes>"
            ]
          },
          "metadata": {
            "tags": []
          }
        }
      ]
    },
    {
      "metadata": {
        "id": "yOapo1MwBpDW",
        "colab_type": "text"
      },
      "cell_type": "markdown",
      "source": [
        "**Densidad vs Calidad:**"
      ]
    },
    {
      "metadata": {
        "id": "1mhBWd21BwGU",
        "colab_type": "code",
        "colab": {
          "base_uri": "https://localhost:8080/",
          "height": 410
        },
        "outputId": "5c27ae26-9655-4bb6-cd77-06fe69470f07"
      },
      "cell_type": "code",
      "source": [
        "img8 = plt.figure(figsize = (10,6))\n",
        "sns.barplot(x = 'Calidad', y = 'Densidad', data = wineX)"
      ],
      "execution_count": 52,
      "outputs": [
        {
          "output_type": "execute_result",
          "data": {
            "text/plain": [
              "<matplotlib.axes._subplots.AxesSubplot at 0x7febe3797208>"
            ]
          },
          "metadata": {
            "tags": []
          },
          "execution_count": 52
        },
        {
          "output_type": "display_data",
          "data": {
            "image/png": "[encoded data removed]",
            "text/plain": [
              "<Figure size 720x432 with 1 Axes>"
            ]
          },
          "metadata": {
            "tags": []
          }
        }
      ]
    },
    {
      "metadata": {
        "id": "e-jqibDCHrFm",
        "colab_type": "code",
        "colab": {
          "base_uri": "https://localhost:8080/",
          "height": 301
        },
        "outputId": "e649c035-8dc5-4aae-afd3-0f3c1324ad89"
      },
      "cell_type": "code",
      "source": [
        "wineX.groupby('Calidad')['Densidad'].mean().plot.line()\n",
        "plt.ylabel(\"Densidad\")"
      ],
      "execution_count": 54,
      "outputs": [
        {
          "output_type": "execute_result",
          "data": {
            "text/plain": [
              "Text(0, 0.5, 'Densidad')"
            ]
          },
          "metadata": {
            "tags": []
          },
          "execution_count": 54
        },
        {
          "output_type": "display_data",
          "data": {
            "image/png": "[encoded data removed]",
            "text/plain": [
              "<Figure size 432x288 with 1 Axes>"
            ]
          },
          "metadata": {
            "tags": []
          }
        }
      ]
    },
    {
      "metadata": {
        "id": "uEfyDYuiCMXu",
        "colab_type": "text"
      },
      "cell_type": "markdown",
      "source": [
        "**Comentarios**: En el gráfico lineal se aprecia mejor como la Densidad tiene una relacion inversa con la Calidad."
      ]
    },
    {
      "metadata": {
        "id": "nZbRwQkjuaCc",
        "colab_type": "text"
      },
      "cell_type": "markdown",
      "source": [
        "**pH vs Calidad:**"
      ]
    },
    {
      "metadata": {
        "id": "hFgR_bnCuehS",
        "colab_type": "code",
        "colab": {
          "base_uri": "https://localhost:8080/",
          "height": 410
        },
        "outputId": "0fa2d014-2e89-4f61-95c0-8d6f4c74bf77"
      },
      "cell_type": "code",
      "source": [
        "img9 = plt.figure(figsize = (10,6))\n",
        "sns.barplot(x = 'Calidad', y = 'pH', data = wineX)"
      ],
      "execution_count": 35,
      "outputs": [
        {
          "output_type": "execute_result",
          "data": {
            "text/plain": [
              "<matplotlib.axes._subplots.AxesSubplot at 0x7febe42f3748>"
            ]
          },
          "metadata": {
            "tags": []
          },
          "execution_count": 35
        },
        {
          "output_type": "display_data",
          "data": {
            "image/png": "[encoded data removed]",
            "text/plain": [
              "<Figure size 720x432 with 1 Axes>"
            ]
          },
          "metadata": {
            "tags": []
          }
        }
      ]
    },
    {
      "metadata": {
        "id": "in8nO7Q5ura2",
        "colab_type": "text"
      },
      "cell_type": "markdown",
      "source": [
        "**Comentarios**: Vemos que el pH tampoco es de mucho aporte para clasificar la calidad. "
      ]
    },
    {
      "metadata": {
        "id": "27qvHqpLqpi_",
        "colab_type": "text"
      },
      "cell_type": "markdown",
      "source": [
        "**Sulfatos vs Calidad:**"
      ]
    },
    {
      "metadata": {
        "id": "FP9bIBTuqwd1",
        "colab_type": "code",
        "colab": {
          "base_uri": "https://localhost:8080/",
          "height": 410
        },
        "outputId": "ad0fae01-317f-4f1f-de0e-3d40753413f5"
      },
      "cell_type": "code",
      "source": [
        "img10 = plt.figure(figsize = (10,6))\n",
        "sns.barplot(x = 'Calidad', y = 'Sulfatos', data = wineX)\n"
      ],
      "execution_count": 36,
      "outputs": [
        {
          "output_type": "execute_result",
          "data": {
            "text/plain": [
              "<matplotlib.axes._subplots.AxesSubplot at 0x7febe42bffd0>"
            ]
          },
          "metadata": {
            "tags": []
          },
          "execution_count": 36
        },
        {
          "output_type": "display_data",
          "data": {
            "image/png": "[encoded data removed]",
            "text/plain": [
              "<Figure size 720x432 with 1 Axes>"
            ]
          },
          "metadata": {
            "tags": []
          }
        }
      ]
    },
    {
      "metadata": {
        "id": "UsXQVBINrRcP",
        "colab_type": "text"
      },
      "cell_type": "markdown",
      "source": [
        "**Comentarios**: El nivel de sulfatos aumenta con la calidad del vino."
      ]
    },
    {
      "metadata": {
        "id": "c3PqHFczrdkD",
        "colab_type": "text"
      },
      "cell_type": "markdown",
      "source": [
        "**Alcohol vs Calidad: **"
      ]
    },
    {
      "metadata": {
        "id": "_6zjYvYjrhBy",
        "colab_type": "code",
        "colab": {
          "base_uri": "https://localhost:8080/",
          "height": 410
        },
        "outputId": "5b346491-b4fd-4817-ec6b-9298bdf68c74"
      },
      "cell_type": "code",
      "source": [
        "img11 = plt.figure(figsize = (10,6))\n",
        "sns.barplot(x = 'Calidad', y = 'Alcohol', data = wineX)"
      ],
      "execution_count": 37,
      "outputs": [
        {
          "output_type": "execute_result",
          "data": {
            "text/plain": [
              "<matplotlib.axes._subplots.AxesSubplot at 0x7febe4235588>"
            ]
          },
          "metadata": {
            "tags": []
          },
          "execution_count": 37
        },
        {
          "output_type": "display_data",
          "data": {
            "image/png": "[encoded data removed]",
            "text/plain": [
              "<Figure size 720x432 with 1 Axes>"
            ]
          },
          "metadata": {
            "tags": []
          }
        }
      ]
    },
    {
      "metadata": {
        "id": "lMsd1hglroaM",
        "colab_type": "text"
      },
      "cell_type": "markdown",
      "source": [
        "**Comentarios**: El nivel de alcohol también aumenta a medida que aumenta la calidad del vino."
      ]
    },
    {
      "metadata": {
        "id": "cNscaM3keJbE",
        "colab_type": "text"
      },
      "cell_type": "markdown",
      "source": [
        "**Mapa de Calor (Correlation Heatmap):**"
      ]
    },
    {
      "metadata": {
        "id": "qLtZnomYBye6",
        "colab_type": "code",
        "outputId": "bd168d7c-e81a-453d-f4a6-03d55711eb5d",
        "colab": {
          "base_uri": "https://localhost:8080/",
          "height": 825
        }
      },
      "cell_type": "code",
      "source": [
        "#Pintamos la correlacion entre variables\n",
        "corr_map= wineX.corr()\n",
        "mask = np.array(corr_map)\n",
        "mask[np.tril_indices_from(mask)] = False\n",
        "img=plt.gcf()\n",
        "img.set_size_inches(30,12)\n",
        "sns.heatmap(data=corr_map,mask=mask,square=True,annot=True,cbar=True)\n"
      ],
      "execution_count": 49,
      "outputs": [
        {
          "output_type": "execute_result",
          "data": {
            "text/plain": [
              "<matplotlib.axes._subplots.AxesSubplot at 0x7febe3a507f0>"
            ]
          },
          "metadata": {
            "tags": []
          },
          "execution_count": 49
        },
        {
          "output_type": "display_data",
          "data": {
            "image/png": "[encoded data removed]",
            "text/plain": [
              "<Figure size 2160x864 with 2 Axes>"
            ]
          },
          "metadata": {
            "tags": []
          }
        }
      ]
    },
    {
      "metadata": {
        "id": "tNC3sLfnM7Kn",
        "colab_type": "text"
      },
      "cell_type": "markdown",
      "source": [
        "**Comentarios:** Una cosa que la gráfica de correlación nos dice es que hay muy pocas características fuertemente correlacionadas entre sí. Desde el punto de vista de incluir estas características en nuestros modelos ML, esto significa que no hay mucha información redundante, y que cada característica lleva consigo información única. No obstante:\n",
        "\n",
        "- La variable dependiente \"Calidad\" del vino está altamente relacionada con el \"Alcohol\". Más que cualquier otra variable, el \"Alcohol\" es la que más correlacionada con la \"Calidad\" en un 0.44. Fuertemente relacionadas pero de manera inversa, también tenemos el \"Alcohol\" y la \"Densidad\" en -0.69. Por tanto, podemos centrarnos en las relaciones de calidad-alcohol y las relaciones densidad-alcohol para obtener una exploración significativa. \n",
        "\n",
        "- Otras relaciones directas que podemos ver con el mapa de calor, son:\n",
        "       \"Dióxido de Sulfuro Total\" con \"Dióxido de Sulfuro Libres\"; \n",
        "       \"Ácidez Fija\" con \"Densidad\" y \"Ácido Cítrico\"; \n",
        "       \"Azúcar Residual\" con \"Densidad\" y \"Dióxido de Sulfuro Total\"; \n",
        "\n",
        "- El pH está altamente relacionado de manera inversa con el \"Ácido Cítrico\" y la \"Ácidez Fija\", lo cual se esperaba ya que sabemos que los ácidos tienen valores de pH mucho más pequeños.\n",
        "\n",
        "- El \"Azúcar Residual\", el \"Dióxido de Sulfuro Total\", y la \"Ácidez Fija\", tienen baja correlacion con la \"calidad\".\n",
        "\n",
        "- La auto-relación, es decir, de una característica para sí misma es 1 como se esperaba.\n",
        "\n",
        "-\n",
        "-\n",
        "\n",
        "- Una opción podría ser eliminar algunas características altamente relacionadas, aunque en nuestro caso nos quedaramos con ellas para observar los resultados. \n",
        "\n"
      ]
    },
    {
      "metadata": {
        "id": "CR9ftZOYTPIE",
        "colab_type": "code",
        "colab": {}
      },
      "cell_type": "code",
      "source": [
        "fig,ax = plt.subplots(2,1, figsize=(12,6))             \n",
        "plt.suptitle(\"Distribución de Variables más Correlacionadas con la Calidad\", fontsize=10)\n",
        "sns.barplot(x = 'Calidad', y = 'Alcohol', data = wineX, palette=\"Reds\",ax = ax[0,0])\n",
        "sns.jointplot(y=df[\"Densidad\"],x=df[\"Alcohol\"],kind=\"hex\",ax = ax[1,0])\n",
        "plt.xticks(rotation=20)\n",
        "plt.subplots_adjust(bottom=0.4)\n",
        "plt.show()"
      ],
      "execution_count": 0,
      "outputs": []
    },
    {
      "metadata": {
        "id": "4oxgCk_FW762",
        "colab_type": "text"
      },
      "cell_type": "markdown",
      "source": [
        ""
      ]
    },
    {
      "metadata": {
        "id": "YqOUvKg6K8HT",
        "colab_type": "code",
        "colab": {}
      },
      "cell_type": "code",
      "source": [
        ""
      ],
      "execution_count": 0,
      "outputs": []
    },
    {
      "metadata": {
        "id": "AIIzuOndSmQu",
        "colab_type": "text"
      },
      "cell_type": "markdown",
      "source": [
        "## Parte 3- Pre-procesado de los Datos para aplicar Algoritmos de Machine Learning\n"
      ]
    },
    {
      "metadata": {
        "id": "bhDMmhRwVtCv",
        "colab_type": "code",
        "colab": {}
      },
      "cell_type": "code",
      "source": [
        "#Librerias a utilizar\n",
        "from sklearn.preprocessing import LabelEncoder"
      ],
      "execution_count": 0,
      "outputs": []
    },
    {
      "metadata": {
        "id": "Vm5ZxpRLTo4K",
        "colab_type": "text"
      },
      "cell_type": "markdown",
      "source": [
        "A continuación realizaremos una clasificación para la variable de respuesta 'Calidad'. Para ello reemplazamos los valores númericos enteros de la columna 'Calidad' por las categorias 'Buena', 'Aceptable' o 'Mala'. Daremos el límite a la calidad basándonos en los valores obtenidos en la parte 2 del proyecto, para el promedio, el percentil 25, 50 y 75 de la columna 'Calidad'."
      ]
    },
    {
      "metadata": {
        "id": "ukM0ba9EKOuO",
        "colab_type": "code",
        "colab": {
          "base_uri": "https://localhost:8080/",
          "height": 109
        },
        "outputId": "ef7785a5-2cb7-41b2-fb83-63aef48d4332"
      },
      "cell_type": "code",
      "source": [
        "wineX['Calidad'].describe()"
      ],
      "execution_count": 125,
      "outputs": [
        {
          "output_type": "execute_result",
          "data": {
            "text/plain": [
              "count     6492\n",
              "unique       2\n",
              "top       Mala\n",
              "freq      5220\n",
              "Name: Calidad, dtype: object"
            ]
          },
          "metadata": {
            "tags": []
          },
          "execution_count": 125
        }
      ]
    },
    {
      "metadata": {
        "id": "9y01C87oKUW9",
        "colab_type": "code",
        "colab": {}
      },
      "cell_type": "code",
      "source": [
        "val, base = np.histogram(wineX['Calidad'], bins=20)\n",
        "Acumulado = np.cumsum(val/wineX.shape[0])\n",
        "plt.plot(base[:-1], Acumulado, c='blue')\n",
        "plt.xlabel('Calidad')\n",
        "plt.ylabel('Frecuencia')\n",
        "plt.show()"
      ],
      "execution_count": 0,
      "outputs": []
    },
    {
      "metadata": {
        "id": "W3ZBT0rBLa11",
        "colab_type": "text"
      },
      "cell_type": "markdown",
      "source": [
        "Dado que la mediana para la 'Calidad' es 6, y el promedio está entre 5 y 6; clasificamos el vino como 'Malo' si la calidad es menor o igual a 4, 'Aceptable' si la calidad es de 5 ó 6, y de lo contrario, clasificamos el vino como 'Bueno'. \n"
      ]
    },
    {
      "metadata": {
        "id": "wbHLw3GYY_jL",
        "colab_type": "code",
        "colab": {}
      },
      "cell_type": "code",
      "source": [
        "quality = df[\"Calidad\"].values\n",
        "categoria = []\n",
        "for num in quality:\n",
        "    if num<5:\n",
        "        category.append(\"Malo\")\n",
        "    elif num>6:\n",
        "        category.append(\"Bueno\")\n",
        "    else:\n",
        "        category.append(\"Aceptable\")"
      ],
      "execution_count": 0,
      "outputs": []
    },
    {
      "metadata": {
        "id": "QQj4-EALTLbR",
        "colab_type": "code",
        "colab": {}
      },
      "cell_type": "code",
      "source": [
        "binx = (2, 6.5, 8)\n",
        "quality_name = ['Mala', 'Buena']\n",
        "wineX['Calidad'] = pd.cut(wineX['Calidad'], bins = binx, labels = quality_name)"
      ],
      "execution_count": 0,
      "outputs": []
    },
    {
      "metadata": {
        "id": "d7v7ppViKitB",
        "colab_type": "code",
        "colab": {
          "base_uri": "https://localhost:8080/",
          "height": 226
        },
        "outputId": "e670a08b-1fd5-49aa-98be-53eba135966b"
      },
      "cell_type": "code",
      "source": [
        "wineX.head()"
      ],
      "execution_count": 59,
      "outputs": [
        {
          "output_type": "execute_result",
          "data": {
            "text/html": [
              "<div>\n",
              "<style scoped>\n",
              "    .dataframe tbody tr th:only-of-type {\n",
              "        vertical-align: middle;\n",
              "    }\n",
              "\n",
              "    .dataframe tbody tr th {\n",
              "        vertical-align: top;\n",
              "    }\n",
              "\n",
              "    .dataframe thead th {\n",
              "        text-align: right;\n",
              "    }\n",
              "</style>\n",
              "<table border=\"1\" class=\"dataframe\">\n",
              "  <thead>\n",
              "    <tr style=\"text-align: right;\">\n",
              "      <th></th>\n",
              "      <th>Tipo</th>\n",
              "      <th>Acidez_Fija</th>\n",
              "      <th>Acidez_Volatil</th>\n",
              "      <th>Acido_Citrico</th>\n",
              "      <th>Azucar_Residual</th>\n",
              "      <th>Sal</th>\n",
              "      <th>Dioxido_Sulfuro_Libres</th>\n",
              "      <th>Dioxido_Sulfuro_Total</th>\n",
              "      <th>Densidad</th>\n",
              "      <th>pH</th>\n",
              "      <th>Sulfatos</th>\n",
              "      <th>Alcohol</th>\n",
              "      <th>Calidad</th>\n",
              "    </tr>\n",
              "  </thead>\n",
              "  <tbody>\n",
              "    <tr>\n",
              "      <th>0</th>\n",
              "      <td>Blanco</td>\n",
              "      <td>7.0</td>\n",
              "      <td>0.27</td>\n",
              "      <td>0.36</td>\n",
              "      <td>20.7</td>\n",
              "      <td>0.045</td>\n",
              "      <td>45.0</td>\n",
              "      <td>170.0</td>\n",
              "      <td>1.0010</td>\n",
              "      <td>3.00</td>\n",
              "      <td>0.45</td>\n",
              "      <td>8.8</td>\n",
              "      <td>Mala</td>\n",
              "    </tr>\n",
              "    <tr>\n",
              "      <th>1</th>\n",
              "      <td>Blanco</td>\n",
              "      <td>6.3</td>\n",
              "      <td>0.30</td>\n",
              "      <td>0.34</td>\n",
              "      <td>1.6</td>\n",
              "      <td>0.049</td>\n",
              "      <td>14.0</td>\n",
              "      <td>132.0</td>\n",
              "      <td>0.9940</td>\n",
              "      <td>3.30</td>\n",
              "      <td>0.49</td>\n",
              "      <td>9.5</td>\n",
              "      <td>Mala</td>\n",
              "    </tr>\n",
              "    <tr>\n",
              "      <th>2</th>\n",
              "      <td>Blanco</td>\n",
              "      <td>8.1</td>\n",
              "      <td>0.28</td>\n",
              "      <td>0.40</td>\n",
              "      <td>6.9</td>\n",
              "      <td>0.050</td>\n",
              "      <td>30.0</td>\n",
              "      <td>97.0</td>\n",
              "      <td>0.9951</td>\n",
              "      <td>3.26</td>\n",
              "      <td>0.44</td>\n",
              "      <td>10.1</td>\n",
              "      <td>Mala</td>\n",
              "    </tr>\n",
              "    <tr>\n",
              "      <th>3</th>\n",
              "      <td>Blanco</td>\n",
              "      <td>7.2</td>\n",
              "      <td>0.23</td>\n",
              "      <td>0.32</td>\n",
              "      <td>8.5</td>\n",
              "      <td>0.058</td>\n",
              "      <td>47.0</td>\n",
              "      <td>186.0</td>\n",
              "      <td>0.9956</td>\n",
              "      <td>3.19</td>\n",
              "      <td>0.40</td>\n",
              "      <td>9.9</td>\n",
              "      <td>Mala</td>\n",
              "    </tr>\n",
              "    <tr>\n",
              "      <th>4</th>\n",
              "      <td>Blanco</td>\n",
              "      <td>7.2</td>\n",
              "      <td>0.23</td>\n",
              "      <td>0.32</td>\n",
              "      <td>8.5</td>\n",
              "      <td>0.058</td>\n",
              "      <td>47.0</td>\n",
              "      <td>186.0</td>\n",
              "      <td>0.9956</td>\n",
              "      <td>3.19</td>\n",
              "      <td>0.40</td>\n",
              "      <td>9.9</td>\n",
              "      <td>Mala</td>\n",
              "    </tr>\n",
              "  </tbody>\n",
              "</table>\n",
              "</div>"
            ],
            "text/plain": [
              "     Tipo  Acidez_Fija  Acidez_Volatil  Acido_Citrico  Azucar_Residual    Sal  \\\n",
              "0  Blanco          7.0            0.27           0.36             20.7  0.045   \n",
              "1  Blanco          6.3            0.30           0.34              1.6  0.049   \n",
              "2  Blanco          8.1            0.28           0.40              6.9  0.050   \n",
              "3  Blanco          7.2            0.23           0.32              8.5  0.058   \n",
              "4  Blanco          7.2            0.23           0.32              8.5  0.058   \n",
              "\n",
              "   Dioxido_Sulfuro_Libres  Dioxido_Sulfuro_Total  Densidad    pH  Sulfatos  \\\n",
              "0                    45.0                  170.0    1.0010  3.00      0.45   \n",
              "1                    14.0                  132.0    0.9940  3.30      0.49   \n",
              "2                    30.0                   97.0    0.9951  3.26      0.44   \n",
              "3                    47.0                  186.0    0.9956  3.19      0.40   \n",
              "4                    47.0                  186.0    0.9956  3.19      0.40   \n",
              "\n",
              "   Alcohol Calidad  \n",
              "0      8.8    Mala  \n",
              "1      9.5    Mala  \n",
              "2     10.1    Mala  \n",
              "3      9.9    Mala  \n",
              "4      9.9    Mala  "
            ]
          },
          "metadata": {
            "tags": []
          },
          "execution_count": 59
        }
      ]
    },
    {
      "metadata": {
        "id": "GWWjESqIWplT",
        "colab_type": "code",
        "colab": {
          "base_uri": "https://localhost:8080/",
          "height": 72
        },
        "outputId": "571ab271-8ca9-499c-eae4-97eaa3781a7b"
      },
      "cell_type": "code",
      "source": [
        "#Echamos un vistazo de como ha quedado la distribución de \"Mala\" y \"Buena\" Calidad\n",
        "wineX['Calidad'].value_counts()"
      ],
      "execution_count": 64,
      "outputs": [
        {
          "output_type": "execute_result",
          "data": {
            "text/plain": [
              "Mala     5220\n",
              "Buena    1272\n",
              "Name: Calidad, dtype: int64"
            ]
          },
          "metadata": {
            "tags": []
          },
          "execution_count": 64
        }
      ]
    },
    {
      "metadata": {
        "id": "aVr40pfWXKkf",
        "colab_type": "code",
        "colab": {
          "base_uri": "https://localhost:8080/",
          "height": 301
        },
        "outputId": "0a88651a-ca42-466f-8337-2c6c56678939"
      },
      "cell_type": "code",
      "source": [
        "sns.countplot(wineX['Calidad'])"
      ],
      "execution_count": 65,
      "outputs": [
        {
          "output_type": "execute_result",
          "data": {
            "text/plain": [
              "<matplotlib.axes._subplots.AxesSubplot at 0x7febe336bba8>"
            ]
          },
          "metadata": {
            "tags": []
          },
          "execution_count": 65
        },
        {
          "output_type": "display_data",
          "data": {
            "image/png": "[encoded data removed]",
            "text/plain": [
              "<Figure size 432x288 with 1 Axes>"
            ]
          },
          "metadata": {
            "tags": []
          }
        }
      ]
    },
    {
      "metadata": {
        "id": "JawHIGArKixQ",
        "colab_type": "code",
        "colab": {}
      },
      "cell_type": "code",
      "source": [
        "#Asignamos etiquetas a la variable \"Calidad\"\n",
        "etiqueta_quality = LabelEncoder()"
      ],
      "execution_count": 0,
      "outputs": []
    },
    {
      "metadata": {
        "id": "Hmf2P-LuKi3N",
        "colab_type": "code",
        "colab": {}
      },
      "cell_type": "code",
      "source": [
        "#\"Malo\" será 0 y \"Bueno\" será 1 \n",
        "wineX['Calidad'] = etiqueta_quality.fit_transform(wineX['Calidad'])"
      ],
      "execution_count": 0,
      "outputs": []
    },
    {
      "metadata": {
        "id": "vyzkcDL5UsFg",
        "colab_type": "code",
        "colab": {}
      },
      "cell_type": "code",
      "source": [
        ""
      ],
      "execution_count": 0,
      "outputs": []
    },
    {
      "metadata": {
        "id": "-87w8NpKUsJd",
        "colab_type": "code",
        "colab": {}
      },
      "cell_type": "code",
      "source": [
        ""
      ],
      "execution_count": 0,
      "outputs": []
    },
    {
      "metadata": {
        "id": "nRC9b0exUsBN",
        "colab_type": "code",
        "colab": {}
      },
      "cell_type": "code",
      "source": [
        ""
      ],
      "execution_count": 0,
      "outputs": []
    },
    {
      "metadata": {
        "id": "TDVIg5SWHUzM",
        "colab_type": "code",
        "colab": {}
      },
      "cell_type": "code",
      "source": [
        ""
      ],
      "execution_count": 0,
      "outputs": []
    },
    {
      "metadata": {
        "id": "iUfvGdEHIpZF",
        "colab_type": "code",
        "colab": {}
      },
      "cell_type": "code",
      "source": [
        ""
      ],
      "execution_count": 0,
      "outputs": []
    },
    {
      "metadata": {
        "id": "aogOMm1FYDv3",
        "colab_type": "code",
        "colab": {}
      },
      "cell_type": "code",
      "source": [
        ""
      ],
      "execution_count": 0,
      "outputs": []
    },
    {
      "metadata": {
        "id": "Bcn2W7IZoB_C",
        "colab_type": "code",
        "colab": {}
      },
      "cell_type": "code",
      "source": [
        ""
      ],
      "execution_count": 0,
      "outputs": []
    },
    {
      "metadata": {
        "id": "fAlnkxAbYDXx",
        "colab_type": "code",
        "colab": {}
      },
      "cell_type": "code",
      "source": [
        ""
      ],
      "execution_count": 0,
      "outputs": []
    },
    {
      "metadata": {
        "id": "W0EICpPYWZ9b",
        "colab_type": "code",
        "colab": {}
      },
      "cell_type": "code",
      "source": [
        ""
      ],
      "execution_count": 0,
      "outputs": []
    },
    {
      "metadata": {
        "id": "j3PpRXzaWaE6",
        "colab_type": "code",
        "colab": {}
      },
      "cell_type": "code",
      "source": [
        ""
      ],
      "execution_count": 0,
      "outputs": []
    },
    {
      "metadata": {
        "id": "INzVmeFzWZ2s",
        "colab_type": "code",
        "colab": {}
      },
      "cell_type": "code",
      "source": [
        ""
      ],
      "execution_count": 0,
      "outputs": []
    },
    {
      "metadata": {
        "id": "3MnS_YX3AMHq",
        "colab_type": "code",
        "colab": {}
      },
      "cell_type": "code",
      "source": [
        ""
      ],
      "execution_count": 0,
      "outputs": []
    },
    {
      "metadata": {
        "id": "YgSoEbxuAMKs",
        "colab_type": "code",
        "colab": {}
      },
      "cell_type": "code",
      "source": [
        ""
      ],
      "execution_count": 0,
      "outputs": []
    },
    {
      "metadata": {
        "id": "YWSSEbPHCVdE",
        "colab_type": "code",
        "colab": {}
      },
      "cell_type": "code",
      "source": [
        ""
      ],
      "execution_count": 0,
      "outputs": []
    },
    {
      "metadata": {
        "id": "fmtsADrOCVjO",
        "colab_type": "code",
        "colab": {}
      },
      "cell_type": "code",
      "source": [
        ""
      ],
      "execution_count": 0,
      "outputs": []
    },
    {
      "metadata": {
        "id": "_EkxdKVTCVgR",
        "colab_type": "code",
        "colab": {}
      },
      "cell_type": "code",
      "source": [
        ""
      ],
      "execution_count": 0,
      "outputs": []
    },
    {
      "metadata": {
        "id": "nnI6uNtBCVl8",
        "colab_type": "code",
        "colab": {}
      },
      "cell_type": "code",
      "source": [
        ""
      ],
      "execution_count": 0,
      "outputs": []
    },
    {
      "metadata": {
        "id": "vEQ7E5sPCVW0",
        "colab_type": "code",
        "colab": {}
      },
      "cell_type": "code",
      "source": [
        ""
      ],
      "execution_count": 0,
      "outputs": []
    },
    {
      "metadata": {
        "id": "-LTEy_8Is3Zn",
        "colab_type": "text"
      },
      "cell_type": "markdown",
      "source": [
        ""
      ]
    },
    {
      "metadata": {
        "id": "oVJNbs1AvWGh",
        "colab_type": "code",
        "colab": {}
      },
      "cell_type": "code",
      "source": [
        ""
      ],
      "execution_count": 0,
      "outputs": []
    },
    {
      "metadata": {
        "id": "iv_IIEeC2W-J",
        "colab_type": "code",
        "colab": {}
      },
      "cell_type": "code",
      "source": [
        ""
      ],
      "execution_count": 0,
      "outputs": []
    },
    {
      "metadata": {
        "id": "1B8w7WtB2XBd",
        "colab_type": "code",
        "colab": {}
      },
      "cell_type": "code",
      "source": [
        ""
      ],
      "execution_count": 0,
      "outputs": []
    }
  ]
}