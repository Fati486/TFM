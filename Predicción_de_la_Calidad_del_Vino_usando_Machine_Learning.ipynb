{
  "nbformat": 4,
  "nbformat_minor": 0,
  "metadata": {
    "colab": {
      "name": "Predicción de la Calidad del Vino usando Machine Learning.ipynb",
      "version": "0.3.2",
      "provenance": [],
      "collapsed_sections": []
    },
    "kernelspec": {
      "name": "python3",
      "display_name": "Python 3"
    },
    "accelerator": "GPU"
  },
  "cells": [
    {
      "metadata": {
        "id": "XysaW8XfSpSm",
        "colab_type": "text"
      },
      "cell_type": "markdown",
      "source": [
        "\n",
        "## Parte 1- Carga del Dataset\n",
        "\n",
        "### **Introducción**\n",
        "Este proyecto explora principalmente la relación existente entre la calidad del vino y las variables fisicoquímicas y sensoriales del mismo (como por ejemplo la ácidez, el pH, y el alcohol). El objetivo principal es análizar cuales de estas variables hacen que un vino sea considerado bueno.\n",
        "\n",
        "Para el desarrollo del proyecto se ha utilizado el Dataset (winequalityX2.csv) sobre diferentes muestras de vino. Este dataset ha sido obtenido de la página https://www.kaggle.com/, con própositos de aprendizaje, y consta de 1599 filas y 12 columnas de atributos physicoquímicos (Ej: pH) y sensoriales (calidad percibida). Los valores de calidad de este dataset están basados en la media de al menos 3 evaluaciones hechas por expertos, donde cada experto calificó la calidad del vino entre 0 (muy malo) y 10 (excelente). \n",
        "\n",
        "A continuación se muestran las variables de los que consta nuestro dataset:\n",
        "1.     fixed acidity\n",
        "2.     volatile acidity\n",
        "3.     citric acid\n",
        "4.     residual sugar\n",
        "5.     chlorides\n",
        "6.     free sulfur dioxide\n",
        "7.     total sulfur dioxide\n",
        "8.     density\n",
        "9.     pH\n",
        "10.   sulphates\n",
        "11.   alcohol\n",
        "12.   quality (calificación entre 0 y 10 basada en la percepción sensorial de los usuarios) \n",
        "\n",
        "Para la exploración y el análisis de los datos se utilizó gráficos (como seaborn y ggplot), y varios algoritmos de aprendizaje automático para determinar qué propiedades fisicoquímicas poseen un mayor impacto en la calidad de un vino.\n",
        "\n",
        "####**Entorno de Desarrollo**\n",
        "\n",
        "El entorno de trabajo para el desarrollo del código y la elaboración del proyecto ha sido la plataforma Google Colaboratory, no obstante; el correcto funcionamiento del código también se ha validado en el entorno de la máquina virtual facilitada por la escuela Kschool (Jupyter Notebook).\n",
        "\n",
        "Los notebooks subidos serán los validados desde la máquina virtual, no obstante, se dejará comentado el código utilizado en la fase de desarrollo desde la plataforma google colaboratory.\n",
        "\n",
        "\n",
        "\n",
        "\n"
      ]
    },
    {
      "metadata": {
        "id": "K9bVjkKT5WF4",
        "colab_type": "code",
        "colab": {
          "base_uri": "https://localhost:8080/",
          "height": 276
        },
        "outputId": "814ac85b-4874-4e53-f166-d961f8cb26e7"
      },
      "cell_type": "code",
      "source": [
        "# Instalando librerias\n",
        "!pip install seaborn --upgrade catplot"
      ],
      "execution_count": 201,
      "outputs": [
        {
          "output_type": "stream",
          "text": [
            "Requirement already up-to-date: seaborn in /usr/local/lib/python3.6/dist-packages (0.9.0)\n",
            "Requirement already up-to-date: catplot in /usr/local/lib/python3.6/dist-packages (1.3.3)\n",
            "Requirement already satisfied, skipping upgrade: scipy>=0.14.0 in /usr/local/lib/python3.6/dist-packages (from seaborn) (1.2.1)\n",
            "Requirement already satisfied, skipping upgrade: matplotlib>=1.4.3 in /usr/local/lib/python3.6/dist-packages (from seaborn) (3.0.3)\n",
            "Requirement already satisfied, skipping upgrade: pandas>=0.15.2 in /usr/local/lib/python3.6/dist-packages (from seaborn) (0.23.4)\n",
            "Requirement already satisfied, skipping upgrade: numpy>=1.9.3 in /usr/local/lib/python3.6/dist-packages (from seaborn) (1.16.2)\n",
            "Requirement already satisfied, skipping upgrade: kiwisolver>=1.0.1 in /usr/local/lib/python3.6/dist-packages (from matplotlib>=1.4.3->seaborn) (1.0.1)\n",
            "Requirement already satisfied, skipping upgrade: cycler>=0.10 in /usr/local/lib/python3.6/dist-packages (from matplotlib>=1.4.3->seaborn) (0.10.0)\n",
            "Requirement already satisfied, skipping upgrade: pyparsing!=2.0.4,!=2.1.2,!=2.1.6,>=2.0.1 in /usr/local/lib/python3.6/dist-packages (from matplotlib>=1.4.3->seaborn) (2.4.0)\n",
            "Requirement already satisfied, skipping upgrade: python-dateutil>=2.1 in /usr/local/lib/python3.6/dist-packages (from matplotlib>=1.4.3->seaborn) (2.5.3)\n",
            "Requirement already satisfied, skipping upgrade: pytz>=2011k in /usr/local/lib/python3.6/dist-packages (from pandas>=0.15.2->seaborn) (2018.9)\n",
            "Requirement already satisfied, skipping upgrade: setuptools in /usr/local/lib/python3.6/dist-packages (from kiwisolver>=1.0.1->matplotlib>=1.4.3->seaborn) (40.9.0)\n",
            "Requirement already satisfied, skipping upgrade: six in /usr/local/lib/python3.6/dist-packages (from cycler>=0.10->matplotlib>=1.4.3->seaborn) (1.11.0)\n"
          ],
          "name": "stdout"
        }
      ]
    },
    {
      "metadata": {
        "id": "6WToEqyOfVYH",
        "colab_type": "code",
        "colab": {}
      },
      "cell_type": "code",
      "source": [
        "# Cargando otras librerias\n",
        "import pandas as pd\n",
        "from sklearn.svm import SVC\n",
        "import matplotlib.pyplot as plt\n",
        "import seaborn as sns\n",
        "import numpy as np"
      ],
      "execution_count": 0,
      "outputs": []
    },
    {
      "metadata": {
        "id": "zVzmsACehg0o",
        "colab_type": "code",
        "colab": {}
      },
      "cell_type": "code",
      "source": [
        "# Autenticación y autorización en google drive\n",
        "!pip install -U -q PyDrive\n",
        "from pydrive.auth import GoogleAuth\n",
        "from pydrive.drive import GoogleDrive\n",
        "from google.colab import auth\n",
        "from oauth2client.client import GoogleCredentials\n",
        "\n",
        "auth.authenticate_user()\n",
        "gauth = GoogleAuth()\n",
        "gauth.credentials = GoogleCredentials.get_application_default()\n",
        "drive = GoogleDrive(gauth)\n"
      ],
      "execution_count": 0,
      "outputs": []
    },
    {
      "metadata": {
        "id": "DyZzuBcTmLtH",
        "colab_type": "code",
        "colab": {}
      },
      "cell_type": "code",
      "source": [
        "# Carga del Fichero desde GoogleDrive\n",
        "file_id = '14dMLG12VMVRQodfEJ5iQz7tgBPYzOQJP'    \n",
        "downloaded = drive.CreateFile({'id': file_id})\n",
        "downloaded.GetContentFile(\"winequalityX2.csv\")  "
      ],
      "execution_count": 0,
      "outputs": []
    },
    {
      "metadata": {
        "id": "svW_AlUxmMR4",
        "colab_type": "code",
        "outputId": "0c21c36f-04a4-46e2-894a-7123868aac1c",
        "colab": {
          "base_uri": "https://localhost:8080/",
          "height": 35
        }
      },
      "cell_type": "code",
      "source": [
        "!ls"
      ],
      "execution_count": 205,
      "outputs": [
        {
          "output_type": "stream",
          "text": [
            "adc.json  sample_data  winequalityX2.csv  winequalityX.csv\n"
          ],
          "name": "stdout"
        }
      ]
    },
    {
      "metadata": {
        "id": "s3c3KdypeWxE",
        "colab_type": "code",
        "outputId": "69e6b917-3454-40e6-b25d-863dd4c7c97a",
        "colab": {
          "base_uri": "https://localhost:8080/",
          "height": 694
        }
      },
      "cell_type": "code",
      "source": [
        "# Carga del Dataset winequalityX2.csv\n",
        "wineX = pd.read_csv('winequalityX2.csv')\n",
        "\n",
        "# Obtenemos una muestra de 20 registros\n",
        "wineX.head(20)\n"
      ],
      "execution_count": 206,
      "outputs": [
        {
          "output_type": "execute_result",
          "data": {
            "text/html": [
              "<div>\n",
              "<style scoped>\n",
              "    .dataframe tbody tr th:only-of-type {\n",
              "        vertical-align: middle;\n",
              "    }\n",
              "\n",
              "    .dataframe tbody tr th {\n",
              "        vertical-align: top;\n",
              "    }\n",
              "\n",
              "    .dataframe thead th {\n",
              "        text-align: right;\n",
              "    }\n",
              "</style>\n",
              "<table border=\"1\" class=\"dataframe\">\n",
              "  <thead>\n",
              "    <tr style=\"text-align: right;\">\n",
              "      <th></th>\n",
              "      <th>fixed acidity</th>\n",
              "      <th>volatile acidity</th>\n",
              "      <th>citric acid</th>\n",
              "      <th>residual sugar</th>\n",
              "      <th>chlorides</th>\n",
              "      <th>free sulfur dioxide</th>\n",
              "      <th>total sulfur dioxide</th>\n",
              "      <th>density</th>\n",
              "      <th>pH</th>\n",
              "      <th>sulphates</th>\n",
              "      <th>alcohol</th>\n",
              "      <th>quality</th>\n",
              "    </tr>\n",
              "  </thead>\n",
              "  <tbody>\n",
              "    <tr>\n",
              "      <th>0</th>\n",
              "      <td>7.4</td>\n",
              "      <td>0.700</td>\n",
              "      <td>0.00</td>\n",
              "      <td>1.9</td>\n",
              "      <td>0.076</td>\n",
              "      <td>11.0</td>\n",
              "      <td>34.0</td>\n",
              "      <td>0.9978</td>\n",
              "      <td>3.51</td>\n",
              "      <td>0.56</td>\n",
              "      <td>9.4</td>\n",
              "      <td>5</td>\n",
              "    </tr>\n",
              "    <tr>\n",
              "      <th>1</th>\n",
              "      <td>7.8</td>\n",
              "      <td>0.880</td>\n",
              "      <td>0.00</td>\n",
              "      <td>2.6</td>\n",
              "      <td>0.098</td>\n",
              "      <td>25.0</td>\n",
              "      <td>67.0</td>\n",
              "      <td>0.9968</td>\n",
              "      <td>3.20</td>\n",
              "      <td>0.68</td>\n",
              "      <td>9.8</td>\n",
              "      <td>5</td>\n",
              "    </tr>\n",
              "    <tr>\n",
              "      <th>2</th>\n",
              "      <td>7.8</td>\n",
              "      <td>0.760</td>\n",
              "      <td>0.04</td>\n",
              "      <td>2.3</td>\n",
              "      <td>0.092</td>\n",
              "      <td>15.0</td>\n",
              "      <td>54.0</td>\n",
              "      <td>0.9970</td>\n",
              "      <td>3.26</td>\n",
              "      <td>0.65</td>\n",
              "      <td>9.8</td>\n",
              "      <td>5</td>\n",
              "    </tr>\n",
              "    <tr>\n",
              "      <th>3</th>\n",
              "      <td>11.2</td>\n",
              "      <td>0.280</td>\n",
              "      <td>0.56</td>\n",
              "      <td>1.9</td>\n",
              "      <td>0.075</td>\n",
              "      <td>17.0</td>\n",
              "      <td>60.0</td>\n",
              "      <td>0.9980</td>\n",
              "      <td>3.16</td>\n",
              "      <td>0.58</td>\n",
              "      <td>9.8</td>\n",
              "      <td>6</td>\n",
              "    </tr>\n",
              "    <tr>\n",
              "      <th>4</th>\n",
              "      <td>7.4</td>\n",
              "      <td>0.700</td>\n",
              "      <td>0.00</td>\n",
              "      <td>1.9</td>\n",
              "      <td>0.076</td>\n",
              "      <td>11.0</td>\n",
              "      <td>34.0</td>\n",
              "      <td>0.9978</td>\n",
              "      <td>3.51</td>\n",
              "      <td>0.56</td>\n",
              "      <td>9.4</td>\n",
              "      <td>5</td>\n",
              "    </tr>\n",
              "    <tr>\n",
              "      <th>5</th>\n",
              "      <td>7.4</td>\n",
              "      <td>0.660</td>\n",
              "      <td>0.00</td>\n",
              "      <td>1.8</td>\n",
              "      <td>0.075</td>\n",
              "      <td>13.0</td>\n",
              "      <td>40.0</td>\n",
              "      <td>0.9978</td>\n",
              "      <td>3.51</td>\n",
              "      <td>0.56</td>\n",
              "      <td>9.4</td>\n",
              "      <td>5</td>\n",
              "    </tr>\n",
              "    <tr>\n",
              "      <th>6</th>\n",
              "      <td>7.9</td>\n",
              "      <td>0.600</td>\n",
              "      <td>0.06</td>\n",
              "      <td>1.6</td>\n",
              "      <td>0.069</td>\n",
              "      <td>15.0</td>\n",
              "      <td>59.0</td>\n",
              "      <td>0.9964</td>\n",
              "      <td>3.30</td>\n",
              "      <td>0.46</td>\n",
              "      <td>9.4</td>\n",
              "      <td>5</td>\n",
              "    </tr>\n",
              "    <tr>\n",
              "      <th>7</th>\n",
              "      <td>7.3</td>\n",
              "      <td>0.650</td>\n",
              "      <td>0.00</td>\n",
              "      <td>1.2</td>\n",
              "      <td>0.065</td>\n",
              "      <td>15.0</td>\n",
              "      <td>21.0</td>\n",
              "      <td>0.9946</td>\n",
              "      <td>3.39</td>\n",
              "      <td>0.47</td>\n",
              "      <td>10.0</td>\n",
              "      <td>7</td>\n",
              "    </tr>\n",
              "    <tr>\n",
              "      <th>8</th>\n",
              "      <td>7.8</td>\n",
              "      <td>0.580</td>\n",
              "      <td>0.02</td>\n",
              "      <td>2.0</td>\n",
              "      <td>0.073</td>\n",
              "      <td>9.0</td>\n",
              "      <td>18.0</td>\n",
              "      <td>0.9968</td>\n",
              "      <td>3.36</td>\n",
              "      <td>0.57</td>\n",
              "      <td>9.5</td>\n",
              "      <td>7</td>\n",
              "    </tr>\n",
              "    <tr>\n",
              "      <th>9</th>\n",
              "      <td>7.5</td>\n",
              "      <td>0.500</td>\n",
              "      <td>0.36</td>\n",
              "      <td>6.1</td>\n",
              "      <td>0.071</td>\n",
              "      <td>17.0</td>\n",
              "      <td>102.0</td>\n",
              "      <td>0.9978</td>\n",
              "      <td>3.35</td>\n",
              "      <td>0.80</td>\n",
              "      <td>10.5</td>\n",
              "      <td>5</td>\n",
              "    </tr>\n",
              "    <tr>\n",
              "      <th>10</th>\n",
              "      <td>6.7</td>\n",
              "      <td>0.580</td>\n",
              "      <td>0.08</td>\n",
              "      <td>1.8</td>\n",
              "      <td>0.097</td>\n",
              "      <td>15.0</td>\n",
              "      <td>65.0</td>\n",
              "      <td>0.9959</td>\n",
              "      <td>3.28</td>\n",
              "      <td>0.54</td>\n",
              "      <td>9.2</td>\n",
              "      <td>5</td>\n",
              "    </tr>\n",
              "    <tr>\n",
              "      <th>11</th>\n",
              "      <td>7.5</td>\n",
              "      <td>0.500</td>\n",
              "      <td>0.36</td>\n",
              "      <td>6.1</td>\n",
              "      <td>0.071</td>\n",
              "      <td>17.0</td>\n",
              "      <td>102.0</td>\n",
              "      <td>0.9978</td>\n",
              "      <td>3.35</td>\n",
              "      <td>0.80</td>\n",
              "      <td>10.5</td>\n",
              "      <td>5</td>\n",
              "    </tr>\n",
              "    <tr>\n",
              "      <th>12</th>\n",
              "      <td>5.6</td>\n",
              "      <td>0.615</td>\n",
              "      <td>0.00</td>\n",
              "      <td>1.6</td>\n",
              "      <td>0.089</td>\n",
              "      <td>16.0</td>\n",
              "      <td>59.0</td>\n",
              "      <td>0.9943</td>\n",
              "      <td>3.58</td>\n",
              "      <td>0.52</td>\n",
              "      <td>9.9</td>\n",
              "      <td>5</td>\n",
              "    </tr>\n",
              "    <tr>\n",
              "      <th>13</th>\n",
              "      <td>7.8</td>\n",
              "      <td>0.610</td>\n",
              "      <td>0.29</td>\n",
              "      <td>1.6</td>\n",
              "      <td>0.114</td>\n",
              "      <td>9.0</td>\n",
              "      <td>29.0</td>\n",
              "      <td>0.9974</td>\n",
              "      <td>3.26</td>\n",
              "      <td>1.56</td>\n",
              "      <td>9.1</td>\n",
              "      <td>5</td>\n",
              "    </tr>\n",
              "    <tr>\n",
              "      <th>14</th>\n",
              "      <td>8.9</td>\n",
              "      <td>0.620</td>\n",
              "      <td>0.18</td>\n",
              "      <td>3.8</td>\n",
              "      <td>0.176</td>\n",
              "      <td>52.0</td>\n",
              "      <td>145.0</td>\n",
              "      <td>0.9986</td>\n",
              "      <td>3.16</td>\n",
              "      <td>0.88</td>\n",
              "      <td>9.2</td>\n",
              "      <td>5</td>\n",
              "    </tr>\n",
              "    <tr>\n",
              "      <th>15</th>\n",
              "      <td>8.9</td>\n",
              "      <td>0.620</td>\n",
              "      <td>0.19</td>\n",
              "      <td>3.9</td>\n",
              "      <td>0.170</td>\n",
              "      <td>51.0</td>\n",
              "      <td>148.0</td>\n",
              "      <td>0.9986</td>\n",
              "      <td>3.17</td>\n",
              "      <td>0.93</td>\n",
              "      <td>9.2</td>\n",
              "      <td>5</td>\n",
              "    </tr>\n",
              "    <tr>\n",
              "      <th>16</th>\n",
              "      <td>8.5</td>\n",
              "      <td>0.280</td>\n",
              "      <td>0.56</td>\n",
              "      <td>1.8</td>\n",
              "      <td>0.092</td>\n",
              "      <td>35.0</td>\n",
              "      <td>103.0</td>\n",
              "      <td>0.9969</td>\n",
              "      <td>3.30</td>\n",
              "      <td>0.75</td>\n",
              "      <td>10.5</td>\n",
              "      <td>7</td>\n",
              "    </tr>\n",
              "    <tr>\n",
              "      <th>17</th>\n",
              "      <td>8.1</td>\n",
              "      <td>0.560</td>\n",
              "      <td>0.28</td>\n",
              "      <td>1.7</td>\n",
              "      <td>0.368</td>\n",
              "      <td>16.0</td>\n",
              "      <td>56.0</td>\n",
              "      <td>0.9968</td>\n",
              "      <td>3.11</td>\n",
              "      <td>1.28</td>\n",
              "      <td>9.3</td>\n",
              "      <td>5</td>\n",
              "    </tr>\n",
              "    <tr>\n",
              "      <th>18</th>\n",
              "      <td>7.4</td>\n",
              "      <td>0.590</td>\n",
              "      <td>0.08</td>\n",
              "      <td>4.4</td>\n",
              "      <td>0.086</td>\n",
              "      <td>6.0</td>\n",
              "      <td>29.0</td>\n",
              "      <td>0.9974</td>\n",
              "      <td>3.38</td>\n",
              "      <td>0.50</td>\n",
              "      <td>9.0</td>\n",
              "      <td>4</td>\n",
              "    </tr>\n",
              "    <tr>\n",
              "      <th>19</th>\n",
              "      <td>7.9</td>\n",
              "      <td>0.320</td>\n",
              "      <td>0.51</td>\n",
              "      <td>1.8</td>\n",
              "      <td>0.341</td>\n",
              "      <td>17.0</td>\n",
              "      <td>56.0</td>\n",
              "      <td>0.9969</td>\n",
              "      <td>3.04</td>\n",
              "      <td>1.08</td>\n",
              "      <td>9.2</td>\n",
              "      <td>6</td>\n",
              "    </tr>\n",
              "  </tbody>\n",
              "</table>\n",
              "</div>"
            ],
            "text/plain": [
              "    fixed acidity  volatile acidity  citric acid  residual sugar  chlorides  \\\n",
              "0             7.4             0.700         0.00             1.9      0.076   \n",
              "1             7.8             0.880         0.00             2.6      0.098   \n",
              "2             7.8             0.760         0.04             2.3      0.092   \n",
              "3            11.2             0.280         0.56             1.9      0.075   \n",
              "4             7.4             0.700         0.00             1.9      0.076   \n",
              "5             7.4             0.660         0.00             1.8      0.075   \n",
              "6             7.9             0.600         0.06             1.6      0.069   \n",
              "7             7.3             0.650         0.00             1.2      0.065   \n",
              "8             7.8             0.580         0.02             2.0      0.073   \n",
              "9             7.5             0.500         0.36             6.1      0.071   \n",
              "10            6.7             0.580         0.08             1.8      0.097   \n",
              "11            7.5             0.500         0.36             6.1      0.071   \n",
              "12            5.6             0.615         0.00             1.6      0.089   \n",
              "13            7.8             0.610         0.29             1.6      0.114   \n",
              "14            8.9             0.620         0.18             3.8      0.176   \n",
              "15            8.9             0.620         0.19             3.9      0.170   \n",
              "16            8.5             0.280         0.56             1.8      0.092   \n",
              "17            8.1             0.560         0.28             1.7      0.368   \n",
              "18            7.4             0.590         0.08             4.4      0.086   \n",
              "19            7.9             0.320         0.51             1.8      0.341   \n",
              "\n",
              "    free sulfur dioxide  total sulfur dioxide  density    pH  sulphates  \\\n",
              "0                  11.0                  34.0   0.9978  3.51       0.56   \n",
              "1                  25.0                  67.0   0.9968  3.20       0.68   \n",
              "2                  15.0                  54.0   0.9970  3.26       0.65   \n",
              "3                  17.0                  60.0   0.9980  3.16       0.58   \n",
              "4                  11.0                  34.0   0.9978  3.51       0.56   \n",
              "5                  13.0                  40.0   0.9978  3.51       0.56   \n",
              "6                  15.0                  59.0   0.9964  3.30       0.46   \n",
              "7                  15.0                  21.0   0.9946  3.39       0.47   \n",
              "8                   9.0                  18.0   0.9968  3.36       0.57   \n",
              "9                  17.0                 102.0   0.9978  3.35       0.80   \n",
              "10                 15.0                  65.0   0.9959  3.28       0.54   \n",
              "11                 17.0                 102.0   0.9978  3.35       0.80   \n",
              "12                 16.0                  59.0   0.9943  3.58       0.52   \n",
              "13                  9.0                  29.0   0.9974  3.26       1.56   \n",
              "14                 52.0                 145.0   0.9986  3.16       0.88   \n",
              "15                 51.0                 148.0   0.9986  3.17       0.93   \n",
              "16                 35.0                 103.0   0.9969  3.30       0.75   \n",
              "17                 16.0                  56.0   0.9968  3.11       1.28   \n",
              "18                  6.0                  29.0   0.9974  3.38       0.50   \n",
              "19                 17.0                  56.0   0.9969  3.04       1.08   \n",
              "\n",
              "    alcohol  quality  \n",
              "0       9.4        5  \n",
              "1       9.8        5  \n",
              "2       9.8        5  \n",
              "3       9.8        6  \n",
              "4       9.4        5  \n",
              "5       9.4        5  \n",
              "6       9.4        5  \n",
              "7      10.0        7  \n",
              "8       9.5        7  \n",
              "9      10.5        5  \n",
              "10      9.2        5  \n",
              "11     10.5        5  \n",
              "12      9.9        5  \n",
              "13      9.1        5  \n",
              "14      9.2        5  \n",
              "15      9.2        5  \n",
              "16     10.5        7  \n",
              "17      9.3        5  \n",
              "18      9.0        4  \n",
              "19      9.2        6  "
            ]
          },
          "metadata": {
            "tags": []
          },
          "execution_count": 206
        }
      ]
    },
    {
      "metadata": {
        "id": "Nr83z-5cLP2e",
        "colab_type": "text"
      },
      "cell_type": "markdown",
      "source": [
        "**Comentario:** Tras la fase de carga del Dataset, nos encontramos con una serie de datos numéricos y categóricos. Vamos a realizar una serie de comprobaciones sencillas como es la integridad de los datos para ver si hay valores nulos o NaN"
      ]
    },
    {
      "metadata": {
        "id": "QrtYvOKghg8g",
        "colab_type": "code",
        "outputId": "53ac20a8-deff-4a9c-859c-2810912bd0fa",
        "colab": {
          "base_uri": "https://localhost:8080/",
          "height": 35
        }
      },
      "cell_type": "code",
      "source": [
        "# Comprobamos el número de filas y columnas\n",
        "wineX.shape"
      ],
      "execution_count": 207,
      "outputs": [
        {
          "output_type": "execute_result",
          "data": {
            "text/plain": [
              "(1599, 12)"
            ]
          },
          "metadata": {
            "tags": []
          },
          "execution_count": 207
        }
      ]
    },
    {
      "metadata": {
        "id": "ptmlMzjmhhBb",
        "colab_type": "code",
        "outputId": "20ce0bc9-6835-4591-ad77-273b679a07dd",
        "colab": {
          "base_uri": "https://localhost:8080/",
          "height": 329
        }
      },
      "cell_type": "code",
      "source": [
        "# Comprobamos la estructura del Data Set y que no haya ningún valor nulo \n",
        "# dentro del Dataset\n",
        "wineX.info()"
      ],
      "execution_count": 208,
      "outputs": [
        {
          "output_type": "stream",
          "text": [
            "<class 'pandas.core.frame.DataFrame'>\n",
            "RangeIndex: 1599 entries, 0 to 1598\n",
            "Data columns (total 12 columns):\n",
            "fixed acidity           1599 non-null float64\n",
            "volatile acidity        1599 non-null float64\n",
            "citric acid             1599 non-null float64\n",
            "residual sugar          1599 non-null float64\n",
            "chlorides               1599 non-null float64\n",
            "free sulfur dioxide     1599 non-null float64\n",
            "total sulfur dioxide    1599 non-null float64\n",
            "density                 1599 non-null float64\n",
            "pH                      1599 non-null float64\n",
            "sulphates               1599 non-null float64\n",
            "alcohol                 1599 non-null float64\n",
            "quality                 1599 non-null int64\n",
            "dtypes: float64(11), int64(1)\n",
            "memory usage: 150.0 KB\n"
          ],
          "name": "stdout"
        }
      ]
    },
    {
      "metadata": {
        "id": "Z_l2-T2Shg5U",
        "colab_type": "code",
        "outputId": "7c9408a1-fd17-457b-b816-77b7eb6a405c",
        "colab": {
          "base_uri": "https://localhost:8080/",
          "height": 90
        }
      },
      "cell_type": "code",
      "source": [
        "#Obtenemos la descripción de los campos de las columnas\n",
        "wineX.columns"
      ],
      "execution_count": 209,
      "outputs": [
        {
          "output_type": "execute_result",
          "data": {
            "text/plain": [
              "Index(['fixed acidity', 'volatile acidity', 'citric acid', 'residual sugar',\n",
              "       'chlorides', 'free sulfur dioxide', 'total sulfur dioxide', 'density',\n",
              "       'pH', 'sulphates', 'alcohol', 'quality'],\n",
              "      dtype='object')"
            ]
          },
          "metadata": {
            "tags": []
          },
          "execution_count": 209
        }
      ]
    },
    {
      "metadata": {
        "id": "cQzi-FV2g1Q0",
        "colab_type": "text"
      },
      "cell_type": "markdown",
      "source": [
        "En total, tenemos 12 características numéricas. La variable objetivo es el 'quality' (Calidad del vino), que puede ser buena o mala según el valor que tenga del 0 al 10.\n"
      ]
    },
    {
      "metadata": {
        "id": "T1lxUAwBgZ3p",
        "colab_type": "code",
        "outputId": "a79c2453-f8ff-4e43-db35-3803f39735d2",
        "colab": {
          "base_uri": "https://localhost:8080/",
          "height": 256
        }
      },
      "cell_type": "code",
      "source": [
        "#Revisamos los valores NA para cada columna\n",
        "wineX.isna().sum() "
      ],
      "execution_count": 210,
      "outputs": [
        {
          "output_type": "execute_result",
          "data": {
            "text/plain": [
              "fixed acidity           0\n",
              "volatile acidity        0\n",
              "citric acid             0\n",
              "residual sugar          0\n",
              "chlorides               0\n",
              "free sulfur dioxide     0\n",
              "total sulfur dioxide    0\n",
              "density                 0\n",
              "pH                      0\n",
              "sulphates               0\n",
              "alcohol                 0\n",
              "quality                 0\n",
              "dtype: int64"
            ]
          },
          "metadata": {
            "tags": []
          },
          "execution_count": 210
        }
      ]
    },
    {
      "metadata": {
        "id": "iQ1sb_rBgrue",
        "colab_type": "text"
      },
      "cell_type": "markdown",
      "source": [
        "No se han encontrado valores de NaN en nuestro dataset."
      ]
    },
    {
      "metadata": {
        "id": "hW6L395cF0oy",
        "colab_type": "text"
      },
      "cell_type": "markdown",
      "source": [
        "\n",
        "**Comentario**: El Dataset que seguiremos utilizando en los tratamientos de la parte 2 del proyecto será el \"winequalityX2.csv\".\n"
      ]
    },
    {
      "metadata": {
        "id": "6alYsHoAhq0v",
        "colab_type": "text"
      },
      "cell_type": "markdown",
      "source": [
        "## Parte 2- Exploración y Análisis de Datos\n",
        "\n",
        "### **Introducción**:\n",
        "\n",
        "En esta parte segunda parte, se realizarán las modificaciones necesarias al dataset para adaptarlo a las necesidades del proyecto.\n",
        "\n",
        "\n",
        "\n",
        "\n"
      ]
    },
    {
      "metadata": {
        "id": "H7b15gj8PdRU",
        "colab_type": "text"
      },
      "cell_type": "markdown",
      "source": [
        "**Términos Enológicos como variables del dataset y su significado: **\n",
        "\n",
        "   **Fixed Acidity (Ácidez Fija):** Es el conjunto de ácidos naturales procedentes de la uva (tartárico, málico, cítrico y succínico) o formados en la fermentación maloláctica (láctico). En general, los ácidos (acidez fija) son preservantes naturales del vino y ayudan a mantener el color y las cualidades aromáticas del mismo.\n",
        "\n",
        "   **Volatile Acidity (Ácidez Volátil):** Es el conjunto de ácidos formados durante la fermentación o como consecuencia de alteraciones microbianas; su valor es un índice de la degradación del vino. Estos ácidos son: ácido acético, ácido propionico, ácido butírico y ácido sulfúrico; no obstante el más importante es el ácido acético, síntoma de la transformación del vino en vinagre. \n",
        "    Si la acidez volátil, presente en todos los vinos, es muy elevada el vino se picará y avigranará con el paso del tiempo. Es conveniente que la acidez volátil de un vino sea lo más baja posible.\n",
        "    El contenido en ácidez volátil no puede ser superior a: a) 18 miliequivalentes por litro para los mostos de uva parcialmente fermentados, b) 18 miliequivalentes por litro para los vinos blancos y rosados, c) 20 miliequivalentes por litro para los vinos tintos.\n",
        "\n",
        "   **Citric Acid (Ácido Cítrico):** En pequeñas cantidades este ácido puede añadir frescor y sabor a los vinos (es un ácido fijo).\n",
        "\n",
        "   **Residual Sugar (Azúcar Residual):** Durante la fermentación, y por acción de las levaduras, el azucar (glucosa + fructosa) se transforma en alcohol etílico, anhídrido carbónico y otras muchas sustancias que caracterizan al vino. Cuando la fermentación es prácticamente total se dice que el vino es seco, pero lo normal es que en todo vino quede cierta cantidad de azúcares sin fermentar, denominados azúcares residuales. \n",
        "    \n",
        "   **Chlorides (Cloruros):** Cantidad de sal en el vino.\n",
        "\n",
        "   **Free Sulfur Dioxide (Dióxido de Azúfre Libre):** El SO2 es una herramienta indispensable en la elaboración y conservación de vinos. Una correcta utilización del SO2 permite obtener vinos menos oxidados, dotados de un mejor color y aroma, y una menor acidez volátil, debido a sus efectos como:\n",
        "   \n",
        "   →Antioxidante: posee propiedades reductoras, acaparando oxígeno e impidiendo la oxidación.\n",
        "   →Antioxidásico: Destruye las oxidasas evitando quiebras.\n",
        "   →Antimicrobiano: Ejerce una actividad inhibidora sobre levaduras, bacterias lácticas y bacterias acéticas. \n",
        " \n",
        " Es también conocido como anhídrido sulfuroso o como óxido de azufre.\n",
        "\n",
        "   **Total Sulfur Dioxide (Dióxido de Azúfre Total):** Suma de concentraciones libres y amarradas de S02; concentraciones de dioxodo de sulfuro libres superiores a 50 ppm se vuelven evidentes en el sabor y olor.\n",
        "\n",
        "   **Density (Densidad):** densidad del vino, suele ser similar al del agua dependiendo de la concentración de azucar y de alcohol.\n",
        "\n",
        "   **pH:** Describe cómo de ácido o básico es el vino: 0 (muy ácido) a 14 (muy básico). La mayoría de vinos se encuentra en la escala 3-4.\n",
        "\n",
        "   **Sulphates (Sulfatos):** Actua como un antimicrobial y antioxidante. Un agua con una cantidad de sulfatos inferior a 250mg/l se considera en este aspecto un agua de calidad y con valores superiores a 400mg/l insalubre.\n",
        "\n",
        "   **Alcohol:** cantidad de alcohol del vino. Tras el agua, es el componente más abundante en el vino y el que lo caracteriza. Se produce por la transformación de los azúcares del mosto durante la fermentación. La riqueza alcohólica de un vino se mide en porcentaje en volumen o grado y en la etiqueta se expresa con la fórmula % vol. Significa que un vino de 12 grados (12%vol) contiene un 12% de alcohol puro.\n",
        "\n",
        "   **Quality (Calidad):** calidad del vino entre 0 y 10 catada por lo usuarios.\n",
        "\n"
      ]
    },
    {
      "metadata": {
        "id": "9Q2_D_N5Y_8E",
        "colab_type": "text"
      },
      "cell_type": "markdown",
      "source": [
        "**Comentario:** Con el objetivo de poder realizar una mejor comprensión en la fase de análisis, se modificarán los nombres de las columnas para adaptarlas a la terminología española."
      ]
    },
    {
      "metadata": {
        "id": "ixUd3kuuOEeZ",
        "colab_type": "code",
        "colab": {}
      },
      "cell_type": "code",
      "source": [
        "# Renombramos los nombres de las columnas para adaptarlas \n",
        "# a los términos enológicos en español\n",
        "\n",
        "wineX.rename(columns=\n",
        " {'type':'Tipo','fixed acidity':'Acidez_Fija', \n",
        "  'volatile acidity':'Acidez_Volatil','citric acid':'Acido_Citrico',\n",
        "  'residual sugar':'Azucar_Residual','chlorides':'Sal',\n",
        "  'free sulfur dioxide':'Dioxido_Azufre_Libre','total sulfur dioxide':'Dioxido_Azufre_Total',\n",
        "  'density':'Densidad',\n",
        "  'pH':'pH','sulphates':'Sulfatos',\n",
        "  'alcohol':'Alcohol','quality':'Calidad'}, inplace=True)"
      ],
      "execution_count": 0,
      "outputs": []
    },
    {
      "metadata": {
        "id": "gyHr86t8YpJd",
        "colab_type": "code",
        "outputId": "f4df16b9-2e7a-4df6-ec63-ed0fa53264e4",
        "colab": {
          "base_uri": "https://localhost:8080/",
          "height": 697
        }
      },
      "cell_type": "code",
      "source": [
        "# Comprobamos los cambios realizados\n",
        "wineX.head(20)"
      ],
      "execution_count": 212,
      "outputs": [
        {
          "output_type": "execute_result",
          "data": {
            "text/html": [
              "<div>\n",
              "<style scoped>\n",
              "    .dataframe tbody tr th:only-of-type {\n",
              "        vertical-align: middle;\n",
              "    }\n",
              "\n",
              "    .dataframe tbody tr th {\n",
              "        vertical-align: top;\n",
              "    }\n",
              "\n",
              "    .dataframe thead th {\n",
              "        text-align: right;\n",
              "    }\n",
              "</style>\n",
              "<table border=\"1\" class=\"dataframe\">\n",
              "  <thead>\n",
              "    <tr style=\"text-align: right;\">\n",
              "      <th></th>\n",
              "      <th>Acidez_Fija</th>\n",
              "      <th>Acidez_Volatil</th>\n",
              "      <th>Acido_Citrico</th>\n",
              "      <th>Azucar_Residual</th>\n",
              "      <th>Sal</th>\n",
              "      <th>Dioxido_Azufre_Libre</th>\n",
              "      <th>Dioxido_Azufre_Total</th>\n",
              "      <th>Densidad</th>\n",
              "      <th>pH</th>\n",
              "      <th>Sulfatos</th>\n",
              "      <th>Alcohol</th>\n",
              "      <th>Calidad</th>\n",
              "    </tr>\n",
              "  </thead>\n",
              "  <tbody>\n",
              "    <tr>\n",
              "      <th>0</th>\n",
              "      <td>7.4</td>\n",
              "      <td>0.700</td>\n",
              "      <td>0.00</td>\n",
              "      <td>1.9</td>\n",
              "      <td>0.076</td>\n",
              "      <td>11.0</td>\n",
              "      <td>34.0</td>\n",
              "      <td>0.9978</td>\n",
              "      <td>3.51</td>\n",
              "      <td>0.56</td>\n",
              "      <td>9.4</td>\n",
              "      <td>5</td>\n",
              "    </tr>\n",
              "    <tr>\n",
              "      <th>1</th>\n",
              "      <td>7.8</td>\n",
              "      <td>0.880</td>\n",
              "      <td>0.00</td>\n",
              "      <td>2.6</td>\n",
              "      <td>0.098</td>\n",
              "      <td>25.0</td>\n",
              "      <td>67.0</td>\n",
              "      <td>0.9968</td>\n",
              "      <td>3.20</td>\n",
              "      <td>0.68</td>\n",
              "      <td>9.8</td>\n",
              "      <td>5</td>\n",
              "    </tr>\n",
              "    <tr>\n",
              "      <th>2</th>\n",
              "      <td>7.8</td>\n",
              "      <td>0.760</td>\n",
              "      <td>0.04</td>\n",
              "      <td>2.3</td>\n",
              "      <td>0.092</td>\n",
              "      <td>15.0</td>\n",
              "      <td>54.0</td>\n",
              "      <td>0.9970</td>\n",
              "      <td>3.26</td>\n",
              "      <td>0.65</td>\n",
              "      <td>9.8</td>\n",
              "      <td>5</td>\n",
              "    </tr>\n",
              "    <tr>\n",
              "      <th>3</th>\n",
              "      <td>11.2</td>\n",
              "      <td>0.280</td>\n",
              "      <td>0.56</td>\n",
              "      <td>1.9</td>\n",
              "      <td>0.075</td>\n",
              "      <td>17.0</td>\n",
              "      <td>60.0</td>\n",
              "      <td>0.9980</td>\n",
              "      <td>3.16</td>\n",
              "      <td>0.58</td>\n",
              "      <td>9.8</td>\n",
              "      <td>6</td>\n",
              "    </tr>\n",
              "    <tr>\n",
              "      <th>4</th>\n",
              "      <td>7.4</td>\n",
              "      <td>0.700</td>\n",
              "      <td>0.00</td>\n",
              "      <td>1.9</td>\n",
              "      <td>0.076</td>\n",
              "      <td>11.0</td>\n",
              "      <td>34.0</td>\n",
              "      <td>0.9978</td>\n",
              "      <td>3.51</td>\n",
              "      <td>0.56</td>\n",
              "      <td>9.4</td>\n",
              "      <td>5</td>\n",
              "    </tr>\n",
              "    <tr>\n",
              "      <th>5</th>\n",
              "      <td>7.4</td>\n",
              "      <td>0.660</td>\n",
              "      <td>0.00</td>\n",
              "      <td>1.8</td>\n",
              "      <td>0.075</td>\n",
              "      <td>13.0</td>\n",
              "      <td>40.0</td>\n",
              "      <td>0.9978</td>\n",
              "      <td>3.51</td>\n",
              "      <td>0.56</td>\n",
              "      <td>9.4</td>\n",
              "      <td>5</td>\n",
              "    </tr>\n",
              "    <tr>\n",
              "      <th>6</th>\n",
              "      <td>7.9</td>\n",
              "      <td>0.600</td>\n",
              "      <td>0.06</td>\n",
              "      <td>1.6</td>\n",
              "      <td>0.069</td>\n",
              "      <td>15.0</td>\n",
              "      <td>59.0</td>\n",
              "      <td>0.9964</td>\n",
              "      <td>3.30</td>\n",
              "      <td>0.46</td>\n",
              "      <td>9.4</td>\n",
              "      <td>5</td>\n",
              "    </tr>\n",
              "    <tr>\n",
              "      <th>7</th>\n",
              "      <td>7.3</td>\n",
              "      <td>0.650</td>\n",
              "      <td>0.00</td>\n",
              "      <td>1.2</td>\n",
              "      <td>0.065</td>\n",
              "      <td>15.0</td>\n",
              "      <td>21.0</td>\n",
              "      <td>0.9946</td>\n",
              "      <td>3.39</td>\n",
              "      <td>0.47</td>\n",
              "      <td>10.0</td>\n",
              "      <td>7</td>\n",
              "    </tr>\n",
              "    <tr>\n",
              "      <th>8</th>\n",
              "      <td>7.8</td>\n",
              "      <td>0.580</td>\n",
              "      <td>0.02</td>\n",
              "      <td>2.0</td>\n",
              "      <td>0.073</td>\n",
              "      <td>9.0</td>\n",
              "      <td>18.0</td>\n",
              "      <td>0.9968</td>\n",
              "      <td>3.36</td>\n",
              "      <td>0.57</td>\n",
              "      <td>9.5</td>\n",
              "      <td>7</td>\n",
              "    </tr>\n",
              "    <tr>\n",
              "      <th>9</th>\n",
              "      <td>7.5</td>\n",
              "      <td>0.500</td>\n",
              "      <td>0.36</td>\n",
              "      <td>6.1</td>\n",
              "      <td>0.071</td>\n",
              "      <td>17.0</td>\n",
              "      <td>102.0</td>\n",
              "      <td>0.9978</td>\n",
              "      <td>3.35</td>\n",
              "      <td>0.80</td>\n",
              "      <td>10.5</td>\n",
              "      <td>5</td>\n",
              "    </tr>\n",
              "    <tr>\n",
              "      <th>10</th>\n",
              "      <td>6.7</td>\n",
              "      <td>0.580</td>\n",
              "      <td>0.08</td>\n",
              "      <td>1.8</td>\n",
              "      <td>0.097</td>\n",
              "      <td>15.0</td>\n",
              "      <td>65.0</td>\n",
              "      <td>0.9959</td>\n",
              "      <td>3.28</td>\n",
              "      <td>0.54</td>\n",
              "      <td>9.2</td>\n",
              "      <td>5</td>\n",
              "    </tr>\n",
              "    <tr>\n",
              "      <th>11</th>\n",
              "      <td>7.5</td>\n",
              "      <td>0.500</td>\n",
              "      <td>0.36</td>\n",
              "      <td>6.1</td>\n",
              "      <td>0.071</td>\n",
              "      <td>17.0</td>\n",
              "      <td>102.0</td>\n",
              "      <td>0.9978</td>\n",
              "      <td>3.35</td>\n",
              "      <td>0.80</td>\n",
              "      <td>10.5</td>\n",
              "      <td>5</td>\n",
              "    </tr>\n",
              "    <tr>\n",
              "      <th>12</th>\n",
              "      <td>5.6</td>\n",
              "      <td>0.615</td>\n",
              "      <td>0.00</td>\n",
              "      <td>1.6</td>\n",
              "      <td>0.089</td>\n",
              "      <td>16.0</td>\n",
              "      <td>59.0</td>\n",
              "      <td>0.9943</td>\n",
              "      <td>3.58</td>\n",
              "      <td>0.52</td>\n",
              "      <td>9.9</td>\n",
              "      <td>5</td>\n",
              "    </tr>\n",
              "    <tr>\n",
              "      <th>13</th>\n",
              "      <td>7.8</td>\n",
              "      <td>0.610</td>\n",
              "      <td>0.29</td>\n",
              "      <td>1.6</td>\n",
              "      <td>0.114</td>\n",
              "      <td>9.0</td>\n",
              "      <td>29.0</td>\n",
              "      <td>0.9974</td>\n",
              "      <td>3.26</td>\n",
              "      <td>1.56</td>\n",
              "      <td>9.1</td>\n",
              "      <td>5</td>\n",
              "    </tr>\n",
              "    <tr>\n",
              "      <th>14</th>\n",
              "      <td>8.9</td>\n",
              "      <td>0.620</td>\n",
              "      <td>0.18</td>\n",
              "      <td>3.8</td>\n",
              "      <td>0.176</td>\n",
              "      <td>52.0</td>\n",
              "      <td>145.0</td>\n",
              "      <td>0.9986</td>\n",
              "      <td>3.16</td>\n",
              "      <td>0.88</td>\n",
              "      <td>9.2</td>\n",
              "      <td>5</td>\n",
              "    </tr>\n",
              "    <tr>\n",
              "      <th>15</th>\n",
              "      <td>8.9</td>\n",
              "      <td>0.620</td>\n",
              "      <td>0.19</td>\n",
              "      <td>3.9</td>\n",
              "      <td>0.170</td>\n",
              "      <td>51.0</td>\n",
              "      <td>148.0</td>\n",
              "      <td>0.9986</td>\n",
              "      <td>3.17</td>\n",
              "      <td>0.93</td>\n",
              "      <td>9.2</td>\n",
              "      <td>5</td>\n",
              "    </tr>\n",
              "    <tr>\n",
              "      <th>16</th>\n",
              "      <td>8.5</td>\n",
              "      <td>0.280</td>\n",
              "      <td>0.56</td>\n",
              "      <td>1.8</td>\n",
              "      <td>0.092</td>\n",
              "      <td>35.0</td>\n",
              "      <td>103.0</td>\n",
              "      <td>0.9969</td>\n",
              "      <td>3.30</td>\n",
              "      <td>0.75</td>\n",
              "      <td>10.5</td>\n",
              "      <td>7</td>\n",
              "    </tr>\n",
              "    <tr>\n",
              "      <th>17</th>\n",
              "      <td>8.1</td>\n",
              "      <td>0.560</td>\n",
              "      <td>0.28</td>\n",
              "      <td>1.7</td>\n",
              "      <td>0.368</td>\n",
              "      <td>16.0</td>\n",
              "      <td>56.0</td>\n",
              "      <td>0.9968</td>\n",
              "      <td>3.11</td>\n",
              "      <td>1.28</td>\n",
              "      <td>9.3</td>\n",
              "      <td>5</td>\n",
              "    </tr>\n",
              "    <tr>\n",
              "      <th>18</th>\n",
              "      <td>7.4</td>\n",
              "      <td>0.590</td>\n",
              "      <td>0.08</td>\n",
              "      <td>4.4</td>\n",
              "      <td>0.086</td>\n",
              "      <td>6.0</td>\n",
              "      <td>29.0</td>\n",
              "      <td>0.9974</td>\n",
              "      <td>3.38</td>\n",
              "      <td>0.50</td>\n",
              "      <td>9.0</td>\n",
              "      <td>4</td>\n",
              "    </tr>\n",
              "    <tr>\n",
              "      <th>19</th>\n",
              "      <td>7.9</td>\n",
              "      <td>0.320</td>\n",
              "      <td>0.51</td>\n",
              "      <td>1.8</td>\n",
              "      <td>0.341</td>\n",
              "      <td>17.0</td>\n",
              "      <td>56.0</td>\n",
              "      <td>0.9969</td>\n",
              "      <td>3.04</td>\n",
              "      <td>1.08</td>\n",
              "      <td>9.2</td>\n",
              "      <td>6</td>\n",
              "    </tr>\n",
              "  </tbody>\n",
              "</table>\n",
              "</div>"
            ],
            "text/plain": [
              "    Acidez_Fija  Acidez_Volatil  Acido_Citrico  Azucar_Residual    Sal  \\\n",
              "0           7.4           0.700           0.00              1.9  0.076   \n",
              "1           7.8           0.880           0.00              2.6  0.098   \n",
              "2           7.8           0.760           0.04              2.3  0.092   \n",
              "3          11.2           0.280           0.56              1.9  0.075   \n",
              "4           7.4           0.700           0.00              1.9  0.076   \n",
              "5           7.4           0.660           0.00              1.8  0.075   \n",
              "6           7.9           0.600           0.06              1.6  0.069   \n",
              "7           7.3           0.650           0.00              1.2  0.065   \n",
              "8           7.8           0.580           0.02              2.0  0.073   \n",
              "9           7.5           0.500           0.36              6.1  0.071   \n",
              "10          6.7           0.580           0.08              1.8  0.097   \n",
              "11          7.5           0.500           0.36              6.1  0.071   \n",
              "12          5.6           0.615           0.00              1.6  0.089   \n",
              "13          7.8           0.610           0.29              1.6  0.114   \n",
              "14          8.9           0.620           0.18              3.8  0.176   \n",
              "15          8.9           0.620           0.19              3.9  0.170   \n",
              "16          8.5           0.280           0.56              1.8  0.092   \n",
              "17          8.1           0.560           0.28              1.7  0.368   \n",
              "18          7.4           0.590           0.08              4.4  0.086   \n",
              "19          7.9           0.320           0.51              1.8  0.341   \n",
              "\n",
              "    Dioxido_Azufre_Libre  Dioxido_Azufre_Total  Densidad    pH  Sulfatos  \\\n",
              "0                   11.0                  34.0    0.9978  3.51      0.56   \n",
              "1                   25.0                  67.0    0.9968  3.20      0.68   \n",
              "2                   15.0                  54.0    0.9970  3.26      0.65   \n",
              "3                   17.0                  60.0    0.9980  3.16      0.58   \n",
              "4                   11.0                  34.0    0.9978  3.51      0.56   \n",
              "5                   13.0                  40.0    0.9978  3.51      0.56   \n",
              "6                   15.0                  59.0    0.9964  3.30      0.46   \n",
              "7                   15.0                  21.0    0.9946  3.39      0.47   \n",
              "8                    9.0                  18.0    0.9968  3.36      0.57   \n",
              "9                   17.0                 102.0    0.9978  3.35      0.80   \n",
              "10                  15.0                  65.0    0.9959  3.28      0.54   \n",
              "11                  17.0                 102.0    0.9978  3.35      0.80   \n",
              "12                  16.0                  59.0    0.9943  3.58      0.52   \n",
              "13                   9.0                  29.0    0.9974  3.26      1.56   \n",
              "14                  52.0                 145.0    0.9986  3.16      0.88   \n",
              "15                  51.0                 148.0    0.9986  3.17      0.93   \n",
              "16                  35.0                 103.0    0.9969  3.30      0.75   \n",
              "17                  16.0                  56.0    0.9968  3.11      1.28   \n",
              "18                   6.0                  29.0    0.9974  3.38      0.50   \n",
              "19                  17.0                  56.0    0.9969  3.04      1.08   \n",
              "\n",
              "    Alcohol  Calidad  \n",
              "0       9.4        5  \n",
              "1       9.8        5  \n",
              "2       9.8        5  \n",
              "3       9.8        6  \n",
              "4       9.4        5  \n",
              "5       9.4        5  \n",
              "6       9.4        5  \n",
              "7      10.0        7  \n",
              "8       9.5        7  \n",
              "9      10.5        5  \n",
              "10      9.2        5  \n",
              "11     10.5        5  \n",
              "12      9.9        5  \n",
              "13      9.1        5  \n",
              "14      9.2        5  \n",
              "15      9.2        5  \n",
              "16     10.5        7  \n",
              "17      9.3        5  \n",
              "18      9.0        4  \n",
              "19      9.2        6  "
            ]
          },
          "metadata": {
            "tags": []
          },
          "execution_count": 212
        }
      ]
    },
    {
      "metadata": {
        "id": "s4ZQK18Cj-NW",
        "colab_type": "code",
        "outputId": "26575cde-1494-4cce-95de-8c3c6db7c6a3",
        "colab": {
          "base_uri": "https://localhost:8080/",
          "height": 320
        }
      },
      "cell_type": "code",
      "source": [
        "# Obtenemos un resumen estadistico\n",
        "wineX.describe()\n",
        "# El 50% del cuantil es en realidad la mediana del conjunto de datos"
      ],
      "execution_count": 213,
      "outputs": [
        {
          "output_type": "execute_result",
          "data": {
            "text/html": [
              "<div>\n",
              "<style scoped>\n",
              "    .dataframe tbody tr th:only-of-type {\n",
              "        vertical-align: middle;\n",
              "    }\n",
              "\n",
              "    .dataframe tbody tr th {\n",
              "        vertical-align: top;\n",
              "    }\n",
              "\n",
              "    .dataframe thead th {\n",
              "        text-align: right;\n",
              "    }\n",
              "</style>\n",
              "<table border=\"1\" class=\"dataframe\">\n",
              "  <thead>\n",
              "    <tr style=\"text-align: right;\">\n",
              "      <th></th>\n",
              "      <th>Acidez_Fija</th>\n",
              "      <th>Acidez_Volatil</th>\n",
              "      <th>Acido_Citrico</th>\n",
              "      <th>Azucar_Residual</th>\n",
              "      <th>Sal</th>\n",
              "      <th>Dioxido_Azufre_Libre</th>\n",
              "      <th>Dioxido_Azufre_Total</th>\n",
              "      <th>Densidad</th>\n",
              "      <th>pH</th>\n",
              "      <th>Sulfatos</th>\n",
              "      <th>Alcohol</th>\n",
              "      <th>Calidad</th>\n",
              "    </tr>\n",
              "  </thead>\n",
              "  <tbody>\n",
              "    <tr>\n",
              "      <th>count</th>\n",
              "      <td>1599.000000</td>\n",
              "      <td>1599.000000</td>\n",
              "      <td>1599.000000</td>\n",
              "      <td>1599.000000</td>\n",
              "      <td>1599.000000</td>\n",
              "      <td>1599.000000</td>\n",
              "      <td>1599.000000</td>\n",
              "      <td>1599.000000</td>\n",
              "      <td>1599.000000</td>\n",
              "      <td>1599.000000</td>\n",
              "      <td>1599.000000</td>\n",
              "      <td>1599.000000</td>\n",
              "    </tr>\n",
              "    <tr>\n",
              "      <th>mean</th>\n",
              "      <td>8.319637</td>\n",
              "      <td>0.527821</td>\n",
              "      <td>0.270976</td>\n",
              "      <td>2.538806</td>\n",
              "      <td>0.087467</td>\n",
              "      <td>15.874922</td>\n",
              "      <td>46.467792</td>\n",
              "      <td>0.996747</td>\n",
              "      <td>3.311113</td>\n",
              "      <td>0.658149</td>\n",
              "      <td>10.422983</td>\n",
              "      <td>5.636023</td>\n",
              "    </tr>\n",
              "    <tr>\n",
              "      <th>std</th>\n",
              "      <td>1.741096</td>\n",
              "      <td>0.179060</td>\n",
              "      <td>0.194801</td>\n",
              "      <td>1.409928</td>\n",
              "      <td>0.047065</td>\n",
              "      <td>10.460157</td>\n",
              "      <td>32.895324</td>\n",
              "      <td>0.001887</td>\n",
              "      <td>0.154386</td>\n",
              "      <td>0.169507</td>\n",
              "      <td>1.065668</td>\n",
              "      <td>0.807569</td>\n",
              "    </tr>\n",
              "    <tr>\n",
              "      <th>min</th>\n",
              "      <td>4.600000</td>\n",
              "      <td>0.120000</td>\n",
              "      <td>0.000000</td>\n",
              "      <td>0.900000</td>\n",
              "      <td>0.012000</td>\n",
              "      <td>1.000000</td>\n",
              "      <td>6.000000</td>\n",
              "      <td>0.990070</td>\n",
              "      <td>2.740000</td>\n",
              "      <td>0.330000</td>\n",
              "      <td>8.400000</td>\n",
              "      <td>3.000000</td>\n",
              "    </tr>\n",
              "    <tr>\n",
              "      <th>25%</th>\n",
              "      <td>7.100000</td>\n",
              "      <td>0.390000</td>\n",
              "      <td>0.090000</td>\n",
              "      <td>1.900000</td>\n",
              "      <td>0.070000</td>\n",
              "      <td>7.000000</td>\n",
              "      <td>22.000000</td>\n",
              "      <td>0.995600</td>\n",
              "      <td>3.210000</td>\n",
              "      <td>0.550000</td>\n",
              "      <td>9.500000</td>\n",
              "      <td>5.000000</td>\n",
              "    </tr>\n",
              "    <tr>\n",
              "      <th>50%</th>\n",
              "      <td>7.900000</td>\n",
              "      <td>0.520000</td>\n",
              "      <td>0.260000</td>\n",
              "      <td>2.200000</td>\n",
              "      <td>0.079000</td>\n",
              "      <td>14.000000</td>\n",
              "      <td>38.000000</td>\n",
              "      <td>0.996750</td>\n",
              "      <td>3.310000</td>\n",
              "      <td>0.620000</td>\n",
              "      <td>10.200000</td>\n",
              "      <td>6.000000</td>\n",
              "    </tr>\n",
              "    <tr>\n",
              "      <th>75%</th>\n",
              "      <td>9.200000</td>\n",
              "      <td>0.640000</td>\n",
              "      <td>0.420000</td>\n",
              "      <td>2.600000</td>\n",
              "      <td>0.090000</td>\n",
              "      <td>21.000000</td>\n",
              "      <td>62.000000</td>\n",
              "      <td>0.997835</td>\n",
              "      <td>3.400000</td>\n",
              "      <td>0.730000</td>\n",
              "      <td>11.100000</td>\n",
              "      <td>6.000000</td>\n",
              "    </tr>\n",
              "    <tr>\n",
              "      <th>max</th>\n",
              "      <td>15.900000</td>\n",
              "      <td>1.580000</td>\n",
              "      <td>1.000000</td>\n",
              "      <td>15.500000</td>\n",
              "      <td>0.611000</td>\n",
              "      <td>72.000000</td>\n",
              "      <td>289.000000</td>\n",
              "      <td>1.003690</td>\n",
              "      <td>4.010000</td>\n",
              "      <td>2.000000</td>\n",
              "      <td>14.900000</td>\n",
              "      <td>8.000000</td>\n",
              "    </tr>\n",
              "  </tbody>\n",
              "</table>\n",
              "</div>"
            ],
            "text/plain": [
              "       Acidez_Fija  Acidez_Volatil  Acido_Citrico  Azucar_Residual  \\\n",
              "count  1599.000000     1599.000000    1599.000000      1599.000000   \n",
              "mean      8.319637        0.527821       0.270976         2.538806   \n",
              "std       1.741096        0.179060       0.194801         1.409928   \n",
              "min       4.600000        0.120000       0.000000         0.900000   \n",
              "25%       7.100000        0.390000       0.090000         1.900000   \n",
              "50%       7.900000        0.520000       0.260000         2.200000   \n",
              "75%       9.200000        0.640000       0.420000         2.600000   \n",
              "max      15.900000        1.580000       1.000000        15.500000   \n",
              "\n",
              "               Sal  Dioxido_Azufre_Libre  Dioxido_Azufre_Total     Densidad  \\\n",
              "count  1599.000000           1599.000000           1599.000000  1599.000000   \n",
              "mean      0.087467             15.874922             46.467792     0.996747   \n",
              "std       0.047065             10.460157             32.895324     0.001887   \n",
              "min       0.012000              1.000000              6.000000     0.990070   \n",
              "25%       0.070000              7.000000             22.000000     0.995600   \n",
              "50%       0.079000             14.000000             38.000000     0.996750   \n",
              "75%       0.090000             21.000000             62.000000     0.997835   \n",
              "max       0.611000             72.000000            289.000000     1.003690   \n",
              "\n",
              "                pH     Sulfatos      Alcohol      Calidad  \n",
              "count  1599.000000  1599.000000  1599.000000  1599.000000  \n",
              "mean      3.311113     0.658149    10.422983     5.636023  \n",
              "std       0.154386     0.169507     1.065668     0.807569  \n",
              "min       2.740000     0.330000     8.400000     3.000000  \n",
              "25%       3.210000     0.550000     9.500000     5.000000  \n",
              "50%       3.310000     0.620000    10.200000     6.000000  \n",
              "75%       3.400000     0.730000    11.100000     6.000000  \n",
              "max       4.010000     2.000000    14.900000     8.000000  "
            ]
          },
          "metadata": {
            "tags": []
          },
          "execution_count": 213
        }
      ]
    },
    {
      "metadata": {
        "id": "hZnV5PHHqYVQ",
        "colab_type": "text"
      },
      "cell_type": "markdown",
      "source": [
        "**Comentarios:** Si miramos los datos obtenidos, podemos notar que:\n",
        "\n",
        "- El valor promedio es mayor que el valor de la mediana (50%) para casi todas las columnas.\n",
        "- Existente una diferencia notoriamente grande entre el 75% y el valor máximo para las columnas como: Azúcar_Residual, Sal, Dioxido_Sulfuro_Libres, y Dioxido_Sulfuro_Total.\n",
        "- Las observaciones anteriores sugieren que existen valores extremos (outliers) en nuestro conjunto de datos. "
      ]
    },
    {
      "metadata": {
        "id": "zI5M8CxVfwVD",
        "colab_type": "text"
      },
      "cell_type": "markdown",
      "source": [
        "## Análisis general de todas las variables\n",
        "\n",
        "Graficaremos algunas variables para observar mejor como están distribuidas y relacionadas entre sí.\n"
      ]
    },
    {
      "metadata": {
        "id": "IKmJQWJNYoU_",
        "colab_type": "code",
        "colab": {}
      },
      "cell_type": "code",
      "source": [
        "# Librerias a emplear\n",
        "import matplotlib.pyplot as plt \n",
        "import numpy as np \n",
        "import seaborn as sns "
      ],
      "execution_count": 0,
      "outputs": []
    },
    {
      "metadata": {
        "id": "AhOEtx48jS_Y",
        "colab_type": "text"
      },
      "cell_type": "markdown",
      "source": [
        "**Calidad:**"
      ]
    },
    {
      "metadata": {
        "id": "zkbBPd7Yqg9o",
        "colab_type": "code",
        "outputId": "00f723b2-aa1f-4908-a566-ab8d4d04df55",
        "colab": {
          "base_uri": "https://localhost:8080/",
          "height": 35
        }
      },
      "cell_type": "code",
      "source": [
        "# Posibles valores que tiene la columna 'Calidad' \n",
        "wineX['Calidad'].unique()"
      ],
      "execution_count": 215,
      "outputs": [
        {
          "output_type": "execute_result",
          "data": {
            "text/plain": [
              "array([5, 6, 7, 4, 8, 3])"
            ]
          },
          "metadata": {
            "tags": []
          },
          "execution_count": 215
        }
      ]
    },
    {
      "metadata": {
        "id": "vK9ZI8wpqhP9",
        "colab_type": "code",
        "outputId": "f5ff2083-6e62-4102-93ee-8b3039633268",
        "colab": {
          "base_uri": "https://localhost:8080/",
          "height": 146
        }
      },
      "cell_type": "code",
      "source": [
        "# Observamos la manera en la que están agrupados\n",
        "wineX.Calidad.value_counts()"
      ],
      "execution_count": 216,
      "outputs": [
        {
          "output_type": "execute_result",
          "data": {
            "text/plain": [
              "5    681\n",
              "6    638\n",
              "7    199\n",
              "4     53\n",
              "8     18\n",
              "3     10\n",
              "Name: Calidad, dtype: int64"
            ]
          },
          "metadata": {
            "tags": []
          },
          "execution_count": 216
        }
      ]
    },
    {
      "metadata": {
        "id": "pEK1X-k5dt_C",
        "colab_type": "code",
        "outputId": "07e92199-15d1-4c54-9ea0-c41b8dcb0f11",
        "colab": {
          "base_uri": "https://localhost:8080/",
          "height": 301
        }
      },
      "cell_type": "code",
      "source": [
        "#Graficamos para ver mejor como es la distribución\n",
        "sns.countplot(wineX['Calidad'])"
      ],
      "execution_count": 217,
      "outputs": [
        {
          "output_type": "execute_result",
          "data": {
            "text/plain": [
              "<matplotlib.axes._subplots.AxesSubplot at 0x7f2ade91b160>"
            ]
          },
          "metadata": {
            "tags": []
          },
          "execution_count": 217
        },
        {
          "output_type": "display_data",
          "data": {
            "image/png": "[encoded data removed]",
            "text/plain": [
              "<Figure size 432x288 with 1 Axes>"
            ]
          },
          "metadata": {
            "tags": []
          }
        }
      ]
    },
    {
      "metadata": {
        "id": "jHMWyHJW9bq8",
        "colab_type": "text"
      },
      "cell_type": "markdown",
      "source": [
        "**Comentarios:** Podemos ver que\n",
        "- La variable dependiente 'Calidad' es discreta y de naturaleza categórica (varían de 3 a 8, donde 3 es malo y 8 es bueno).\n",
        "- Se observa una calificación de calidad entre 3 y 8, es decir; los grados de calidad 1, 2, 9 y 10 no aparecen en el dataset.\n",
        "- La mayor concentración de la calificación de calidad se concentra de 5 y 6, y la menor se concentra en las puntuaciones de 3 y 8. Las clases están ordenadas pero no están equilibradas (por ejemplo, hay más vinos normales que excelentes o pobres).\n",
        "- Dado que la distribución de las muestras para los diferentes valores de calidad no es uniforme, se podría utilizar algún algoritmo de detección de 'Outliers' y retirarlos de nuestro dataset, o no eliminar ningún valor pero sí tenerlo en cuenta al dividir el conjunto de datos de entrenamiento y de validación.\n",
        "- En este caso no eliminaremos los outliers, dado a que la creación de un vino es meramente una reacción química, y los valores extremos que se presentan son posibles. Podríamos pensar que dichos outliers pertenecen a vinos que tienen características muy diferentes al resto."
      ]
    },
    {
      "metadata": {
        "id": "0Wsrl9d_jDH9",
        "colab_type": "text"
      },
      "cell_type": "markdown",
      "source": [
        "A continuación representaremos cada una de las otras columnas contra la variable objetivo \"Calidad\", para posteriormente analizar y obtener las primeras conclusiones:"
      ]
    },
    {
      "metadata": {
        "id": "rhyEBQU7g90z",
        "colab_type": "text"
      },
      "cell_type": "markdown",
      "source": [
        "**Ácidez Fija vs Calidad:**"
      ]
    },
    {
      "metadata": {
        "id": "1BEtdjJAhG56",
        "colab_type": "code",
        "outputId": "8b3bb308-4f17-4040-f169-23eca5ef366e",
        "colab": {
          "base_uri": "https://localhost:8080/",
          "height": 404
        }
      },
      "cell_type": "code",
      "source": [
        "colors = [\"#39ad48\", \"#feb308\", \"#8d8468\", \"#49759c\", \"#4e0550\", \"#ba6873\", \"#017371\"]\n",
        "img1 = plt.figure(figsize = (10,6))\n",
        "sns.barplot(x='Calidad', y='Acidez_Fija', data=wineX, palette=colors)\n",
        "plt.title(\"Acidez Fija como función de la Calidad del Vino\")\n",
        "plt.ylabel(\"Ácidez Fija (g/L)\")\n",
        "plt.show()\n",
        "   "
      ],
      "execution_count": 218,
      "outputs": [
        {
          "output_type": "display_data",
          "data": {
            "image/png": "[encoded data removed]",
            "text/plain": [
              "<Figure size 720x432 with 1 Axes>"
            ]
          },
          "metadata": {
            "tags": []
          }
        }
      ]
    },
    {
      "metadata": {
        "id": "gEomH4SFhrnP",
        "colab_type": "text"
      },
      "cell_type": "markdown",
      "source": [
        "**Comentarios:** Vemos que la ácidez fija no es de gran aporte para clasificar la calidad. Al principio la gráfica muestra una leve tendencia decreciente, pero vemos que vuelve a subir a mayor calidad (9).\n"
      ]
    },
    {
      "metadata": {
        "id": "9T5E1vjYh3HM",
        "colab_type": "text"
      },
      "cell_type": "markdown",
      "source": [
        "**Ácidez Volátil vs Calidad:**"
      ]
    },
    {
      "metadata": {
        "id": "xzZk3V0wgm7l",
        "colab_type": "code",
        "outputId": "22fdbace-bcfa-4829-f589-87e7ec754445",
        "colab": {
          "base_uri": "https://localhost:8080/",
          "height": 404
        }
      },
      "cell_type": "code",
      "source": [
        "colors = [\"#39ad48\", \"#feb308\", \"#8d8468\", \"#49759c\", \"#4e0550\", \"#ba6873\", \"#017371\"]\n",
        "img2 = plt.figure(figsize = (10,6))\n",
        "sns.barplot(x = 'Calidad', y = 'Acidez_Volatil', data = wineX, palette=colors)\n",
        "plt.title(\"Ácidez Volátil como función de la Calidad del Vino\")\n",
        "plt.ylabel(\"Ácidez Volátil (g/L)\")\n",
        "plt.show()"
      ],
      "execution_count": 219,
      "outputs": [
        {
          "output_type": "display_data",
          "data": {
            "image/png": "[encoded data removed]",
            "text/plain": [
              "<Figure size 720x432 with 1 Axes>"
            ]
          },
          "metadata": {
            "tags": []
          }
        }
      ]
    },
    {
      "metadata": {
        "id": "z0fRaRRqiIMc",
        "colab_type": "text"
      },
      "cell_type": "markdown",
      "source": [
        "**Comentarios:** Se observa una tendencia decreciente en la ácidez volátil a medida que aumentamos la calidad.\n",
        "\n",
        "Este resultado era de esperarse en vinos de buena calidad, ya que un aumento de este parámetro tendría un efecto negativo y provocaría el picado acético; que a la hora de catar terminaríamos por percibir aromas y sabores a vinagre. \n",
        "\n",
        "La ácidez volátil es fácilmente perceptible a partir de los 0,8 g/L o los 0,9 g/L, según la sensibilidad del catador."
      ]
    },
    {
      "metadata": {
        "id": "UgonQZW5iZMt",
        "colab_type": "text"
      },
      "cell_type": "markdown",
      "source": [
        "**Ácido Cítrico vs Calidad:**"
      ]
    },
    {
      "metadata": {
        "id": "dXlN9Q_KkHWw",
        "colab_type": "code",
        "outputId": "a6842102-5a3f-4fb2-b029-95ef39976b3d",
        "colab": {
          "base_uri": "https://localhost:8080/",
          "height": 404
        }
      },
      "cell_type": "code",
      "source": [
        "colors = [\"#39ad48\", \"#feb308\", \"#8d8468\", \"#49759c\", \"#4e0550\", \"#ba6873\", \"#017371\"]\n",
        "img3 = plt.figure(figsize = (10,6))\n",
        "sns.barplot(x = 'Calidad', y = 'Acido_Citrico', data = wineX, palette=colors)\n",
        "plt.title(\"Ácido Cítrico como función de la Calidad del Vino\")\n",
        "plt.show()\n"
      ],
      "execution_count": 220,
      "outputs": [
        {
          "output_type": "display_data",
          "data": {
            "image/png": "[encoded data removed]",
            "text/plain": [
              "<Figure size 720x432 with 1 Axes>"
            ]
          },
          "metadata": {
            "tags": []
          }
        }
      ]
    },
    {
      "metadata": {
        "id": "n013TaT8mKRV",
        "colab_type": "text"
      },
      "cell_type": "markdown",
      "source": [
        "**Comentarios**: La composición del ácido cítrico parece aumentar a medida que avanzamos en la calidad del vino."
      ]
    },
    {
      "metadata": {
        "id": "PH3IlyJhmZt8",
        "colab_type": "text"
      },
      "cell_type": "markdown",
      "source": [
        "**Azúcar Residual vs Calidad: **"
      ]
    },
    {
      "metadata": {
        "id": "M2YgL45Nme7u",
        "colab_type": "code",
        "outputId": "55933d84-99e7-4dc1-83c3-c9bb7492b48d",
        "colab": {
          "base_uri": "https://localhost:8080/",
          "height": 404
        }
      },
      "cell_type": "code",
      "source": [
        "colors = [\"#39ad48\", \"#feb308\", \"#8d8468\", \"#49759c\", \"#4e0550\", \"#ba6873\", \"#017371\"]\n",
        "img4 = plt.figure(figsize = (10,6))\n",
        "sns.barplot(x = 'Calidad', y = 'Azucar_Residual', data = wineX, palette=colors)\n",
        "plt.title(\"Ázúcar Residual como función de la Calidad del Vino\")\n",
        "plt.show()"
      ],
      "execution_count": 221,
      "outputs": [
        {
          "output_type": "display_data",
          "data": {
            "image/png": "[encoded data removed]",
            "text/plain": [
              "<Figure size 720x432 with 1 Axes>"
            ]
          },
          "metadata": {
            "tags": []
          }
        }
      ]
    },
    {
      "metadata": {
        "id": "elR4TBJCmq7k",
        "colab_type": "text"
      },
      "cell_type": "markdown",
      "source": [
        "**Comentarios:** Vemos que la Azúcar Residual parece no dar ninguna especificación para clasificar la calidad."
      ]
    },
    {
      "metadata": {
        "id": "sURrAqoHm9cN",
        "colab_type": "text"
      },
      "cell_type": "markdown",
      "source": [
        "**Cloruro vs Calidad:**"
      ]
    },
    {
      "metadata": {
        "id": "pkiowszwmnhq",
        "colab_type": "code",
        "outputId": "2fa59a6f-446c-4179-ced9-9efdf0d6e746",
        "colab": {
          "base_uri": "https://localhost:8080/",
          "height": 404
        }
      },
      "cell_type": "code",
      "source": [
        "colors = [\"#39ad48\", \"#feb308\", \"#8d8468\", \"#49759c\", \"#4e0550\", \"#ba6873\", \"#017371\"]\n",
        "img5 = plt.figure(figsize = (10,6))\n",
        "sns.barplot(x = 'Calidad', y = 'Sal', data = wineX, palette=colors)\n",
        "plt.title(\"Cloruro como función de la Calidad del Vino\")\n",
        "plt.show()"
      ],
      "execution_count": 222,
      "outputs": [
        {
          "output_type": "display_data",
          "data": {
            "image/png": "[encoded data removed]",
            "text/plain": [
              "<Figure size 720x432 with 1 Axes>"
            ]
          },
          "metadata": {
            "tags": []
          }
        }
      ]
    },
    {
      "metadata": {
        "id": "u3g452axnhnB",
        "colab_type": "text"
      },
      "cell_type": "markdown",
      "source": [
        "**Comentarios**: La composición del cloruro (sal) también disminuye a medida que avanzamos en la calidad del vino."
      ]
    },
    {
      "metadata": {
        "id": "HJH_g4GxoYVN",
        "colab_type": "text"
      },
      "cell_type": "markdown",
      "source": [
        "**Dióxido Azúfre Libre vs Calidad:**"
      ]
    },
    {
      "metadata": {
        "id": "vpVsSBuun24M",
        "colab_type": "code",
        "outputId": "9fa2190d-70cf-4bcd-b88a-cf6788d8b53d",
        "colab": {
          "base_uri": "https://localhost:8080/",
          "height": 404
        }
      },
      "cell_type": "code",
      "source": [
        "colors = [\"#39ad48\", \"#feb308\", \"#8d8468\", \"#49759c\", \"#4e0550\", \"#ba6873\", \"#017371\"]\n",
        "img6 = plt.figure(figsize = (10,6))\n",
        "sns.barplot(x = 'Calidad', y = 'Dioxido_Azufre_Libre', data = wineX, palette=colors)\n",
        "plt.title(\"Dióxido de Azúfre Libre como función de la Calidad del Vino\")\n",
        "plt.ylabel(\"Dióxido de Azúfre Libre (mg/L)\")\n",
        "plt.show()"
      ],
      "execution_count": 225,
      "outputs": [
        {
          "output_type": "display_data",
          "data": {
            "image/png": "[encoded data removed]",
            "text/plain": [
              "<Figure size 720x432 with 1 Axes>"
            ]
          },
          "metadata": {
            "tags": []
          }
        }
      ]
    },
    {
      "metadata": {
        "id": "aycF8ZcPovt4",
        "colab_type": "text"
      },
      "cell_type": "markdown",
      "source": [
        "**Comentarios**: En principio pareciera que el Dióxido de Azúfre Libre (o anhídrido sulfuroso libre) no es de mucho aporte para clasificar la calidad, ya que según nuestro gráfico pueden existir vinos tanto de baja como de alta calidad con elevadas concentraciones de esta sustancia. No obstante, podemos ver que para los vinos de categoría media y superior, este valor pareciera ser más estable, entorno a los 32 - 38mg/L, lo cual es de esperarse sabiendo que en vinos de mayor calidad el uso de esta sustancia es más elevada por su función frente a actividades antibacterianas. \n",
        "\n",
        "Esta comprobado que esta sustancia no es nociva para la salud, y que sus propiedades antimicrobianas son 5 a 10 veces mayores que las del SO2 total.\n",
        "\n",
        "Los niveles de anhídrido sulfuroso libres necesarios para frenar la actividad microbiana, oscilan entre los 10 a 20 mg/litro de SO2, libre para los vinos de pH bajo o de 20 a 40 mg/litro de SO2 libre para los vinos de pH elevado.\n",
        "\n"
      ]
    },
    {
      "metadata": {
        "id": "OO49MvxnqH1l",
        "colab_type": "text"
      },
      "cell_type": "markdown",
      "source": [
        "**Dióxido de Azúfre Total vs Calidad:**"
      ]
    },
    {
      "metadata": {
        "id": "1bBNdMfqqZWf",
        "colab_type": "code",
        "outputId": "8e8fab02-8d3a-459d-c75a-0ce3596d6ff7",
        "colab": {
          "base_uri": "https://localhost:8080/",
          "height": 404
        }
      },
      "cell_type": "code",
      "source": [
        "colors = [\"#39ad48\", \"#feb308\", \"#8d8468\", \"#49759c\", \"#4e0550\", \"#ba6873\", \"#017371\"]\n",
        "img7 = plt.figure(figsize = (10,6))\n",
        "sns.barplot(x = 'Calidad', y = 'Dioxido_Azufre_Total', data = wineX, palette=colors)\n",
        "plt.title(\"Dióxido de Azúfre Total como función de la Calidad del Vino\")\n",
        "plt.ylabel(\"Dióxido de Azúfre Total (mg/L)\")\n",
        "plt.show()\n"
      ],
      "execution_count": 226,
      "outputs": [
        {
          "output_type": "display_data",
          "data": {
            "image/png": "[encoded data removed]",
            "text/plain": [
              "<Figure size 720x432 with 1 Axes>"
            ]
          },
          "metadata": {
            "tags": []
          }
        }
      ]
    },
    {
      "metadata": {
        "id": "shb9ZkKW6gZx",
        "colab_type": "text"
      },
      "cell_type": "markdown",
      "source": [
        "**Comentarios:** A simple vista vemos que el Dióxido de Azúfre Total pareciera no dar ninguna especificación para clasificar la calidad, no obstante podemos apreciar como en los vinos de más alta calidad, el contenido total de anhídrido sulfuroso en su mayoría no supera los 140mg/L.\n",
        "\n",
        "La recomendación para el SO2 total no puede superar los 150 mg/l para vinos tintos y los 200 mg/l para vinos blancos y rosados. En dosis muy elevadas puede alterar el aroma y sabor del vino."
      ]
    },
    {
      "metadata": {
        "id": "T3jzaYKfTiEi",
        "colab_type": "code",
        "colab": {}
      },
      "cell_type": "code",
      "source": [
        "# Graficamos la Dióxido de Azúfre Total como función de la calidad y diferenciando por tipo de vino \n",
        "# para intentar explicar mejor los resultados de la gráfica anterior"
      ],
      "execution_count": 0,
      "outputs": []
    },
    {
      "metadata": {
        "id": "yOapo1MwBpDW",
        "colab_type": "text"
      },
      "cell_type": "markdown",
      "source": [
        "**Densidad vs Calidad:**"
      ]
    },
    {
      "metadata": {
        "id": "1mhBWd21BwGU",
        "colab_type": "code",
        "outputId": "4e60ed76-5afc-44cd-f827-f866e994136f",
        "colab": {
          "base_uri": "https://localhost:8080/",
          "height": 404
        }
      },
      "cell_type": "code",
      "source": [
        "colors = [\"#39ad48\", \"#feb308\", \"#8d8468\", \"#49759c\", \"#4e0550\", \"#ba6873\", \"#017371\"]\n",
        "img8 = plt.figure(figsize = (10,6))\n",
        "sns.barplot(x = 'Calidad', y = 'Densidad', data = wineX, palette=colors)\n",
        "plt.title(\"Densidad como función de la Calidad del Vino\")\n",
        "plt.ylabel(\"Densidad (g/mL)\")\n",
        "plt.show()"
      ],
      "execution_count": 227,
      "outputs": [
        {
          "output_type": "display_data",
          "data": {
            "image/png": "[encoded data removed]",
            "text/plain": [
              "<Figure size 720x432 with 1 Axes>"
            ]
          },
          "metadata": {
            "tags": []
          }
        }
      ]
    },
    {
      "metadata": {
        "id": "e-jqibDCHrFm",
        "colab_type": "code",
        "outputId": "19ad463a-365d-40d5-805c-cb46c6b73a10",
        "colab": {
          "base_uri": "https://localhost:8080/",
          "height": 301
        }
      },
      "cell_type": "code",
      "source": [
        "# Usando otro tipo de gráfico\n",
        "wineX.groupby('Calidad')['Densidad'].mean().plot.line()\n",
        "plt.ylabel(\"Densidad (g/mL)\")"
      ],
      "execution_count": 228,
      "outputs": [
        {
          "output_type": "execute_result",
          "data": {
            "text/plain": [
              "Text(0, 0.5, 'Densidad (g/mL)')"
            ]
          },
          "metadata": {
            "tags": []
          },
          "execution_count": 228
        },
        {
          "output_type": "display_data",
          "data": {
            "image/png": "[encoded data removed]",
            "text/plain": [
              "<Figure size 432x288 with 1 Axes>"
            ]
          },
          "metadata": {
            "tags": []
          }
        }
      ]
    },
    {
      "metadata": {
        "id": "uEfyDYuiCMXu",
        "colab_type": "text"
      },
      "cell_type": "markdown",
      "source": [
        "**Comentarios**: En el gráfico lineal se aprecia mejor como la Densidad tiene una relación inversa con la Calidad. \n",
        "Siempre hemos escuchado que la densidad aparente de un vino puede indicarnos su contenido en alcohol, pero sin condicionar su calidad, y por ello es que como criterio de calidad vemos que es importante la densidad, ya que los buenos vinos son aquellos que son ligeros, pero con cuerpo.\n",
        "\n",
        "Los valores de referencia suelen ser: \n",
        "*   Vinos blanco seco: 0,9880 - 0,9930 g/mL.\n",
        "*   Vinos tinto seco: 0,9910 - 0,9950 g/mL.\n",
        "\n"
      ]
    },
    {
      "metadata": {
        "id": "Ojm5rNSEPpcP",
        "colab_type": "code",
        "colab": {}
      },
      "cell_type": "code",
      "source": [
        "# Graficamos la densidad como función de la calidad y diferenciando por tipo de vino \n",
        "# para intentar explicar mejor los resultados de la gráfica anterior"
      ],
      "execution_count": 0,
      "outputs": []
    },
    {
      "metadata": {
        "id": "nZbRwQkjuaCc",
        "colab_type": "text"
      },
      "cell_type": "markdown",
      "source": [
        "**pH vs Calidad:**"
      ]
    },
    {
      "metadata": {
        "id": "hFgR_bnCuehS",
        "colab_type": "code",
        "outputId": "c941e013-87b2-4e36-eb2e-433301c240bb",
        "colab": {
          "base_uri": "https://localhost:8080/",
          "height": 404
        }
      },
      "cell_type": "code",
      "source": [
        "colors = [\"#39ad48\", \"#feb308\", \"#8d8468\", \"#49759c\", \"#4e0550\", \"#ba6873\", \"#017371\"]\n",
        "img9 = plt.figure(figsize = (10,6))\n",
        "sns.barplot(x = 'Calidad', y = 'pH', data = wineX, palette=colors)\n",
        "plt.title(\"pH como función de la Calidad del Vino\")\n",
        "plt.show()"
      ],
      "execution_count": 231,
      "outputs": [
        {
          "output_type": "display_data",
          "data": {
            "image/png": "[encoded data removed]",
            "text/plain": [
              "<Figure size 720x432 with 1 Axes>"
            ]
          },
          "metadata": {
            "tags": []
          }
        }
      ]
    },
    {
      "metadata": {
        "id": "yNC1hmHrE7TY",
        "colab_type": "code",
        "colab": {
          "base_uri": "https://localhost:8080/",
          "height": 301
        },
        "outputId": "1e6d2856-53c4-4dab-b16c-623deeff562d"
      },
      "cell_type": "code",
      "source": [
        "# Usando otro tipo de gráfico\n",
        "wineX.groupby('Calidad')['pH'].mean().plot.line()\n",
        "plt.ylabel(\"pH\")"
      ],
      "execution_count": 232,
      "outputs": [
        {
          "output_type": "execute_result",
          "data": {
            "text/plain": [
              "Text(0, 0.5, 'pH')"
            ]
          },
          "metadata": {
            "tags": []
          },
          "execution_count": 232
        },
        {
          "output_type": "display_data",
          "data": {
            "image/png": "[encoded data removed]",
            "text/plain": [
              "<Figure size 432x288 with 1 Axes>"
            ]
          },
          "metadata": {
            "tags": []
          }
        }
      ]
    },
    {
      "metadata": {
        "id": "in8nO7Q5ura2",
        "colab_type": "text"
      },
      "cell_type": "markdown",
      "source": [
        "**Comentarios**: El pH es uno de los factores más variables del vino, que resulta del equilibrio de los ácidos que lo componen. Como criterio de calidad es importante porque afecta al sabor del vino, no obstante vemos en nuestra gráfica como los valores suelen estar alrededor de 3.21 y 3.32, siendo levemente más elevado en los vinos de mayor de calidad superior.\n",
        "Generalmente se busca que el pH de un vino blanco se encuentre en aproximadamente 3.0-3.3 mientras que el pH de un vino tinto entre 3.3 y 3.6."
      ]
    },
    {
      "metadata": {
        "id": "2B0WhzVqGnL7",
        "colab_type": "code",
        "colab": {}
      },
      "cell_type": "code",
      "source": [
        "# Graficamos el pH como función de la calidad y diferenciando por tipo de vino \n",
        "# para intentar explicar mejor los resultados de la gráfica anterior\n"
      ],
      "execution_count": 0,
      "outputs": []
    },
    {
      "metadata": {
        "id": "27qvHqpLqpi_",
        "colab_type": "text"
      },
      "cell_type": "markdown",
      "source": [
        "**Sulfatos vs Calidad:**"
      ]
    },
    {
      "metadata": {
        "id": "FP9bIBTuqwd1",
        "colab_type": "code",
        "outputId": "a106ebba-dd9d-4ff1-bc3b-efee09a27755",
        "colab": {
          "base_uri": "https://localhost:8080/",
          "height": 404
        }
      },
      "cell_type": "code",
      "source": [
        "colors = [\"#39ad48\", \"#feb308\", \"#8d8468\", \"#49759c\", \"#4e0550\", \"#ba6873\", \"#017371\"]\n",
        "\n",
        "adapt = wineX['Sulfatos']*1000\n",
        "img10 = plt.figure(figsize = (10,6))\n",
        "sns.barplot(x = 'Calidad', y = adapt, data = wineX, palette=colors)\n",
        "plt.title(\"Sulfatos como función de la Calidad del Vino\")\n",
        "plt.ylabel(\"Sulfatos (mg/l)\")\n",
        "plt.show()"
      ],
      "execution_count": 233,
      "outputs": [
        {
          "output_type": "display_data",
          "data": {
            "image/png": "[encoded data removed]",
            "text/plain": [
              "<Figure size 720x432 with 1 Axes>"
            ]
          },
          "metadata": {
            "tags": []
          }
        }
      ]
    },
    {
      "metadata": {
        "id": "UsXQVBINrRcP",
        "colab_type": "text"
      },
      "cell_type": "markdown",
      "source": [
        "**Comentarios**: El nivel de sulfatos es superior en los vinos con calidad media a media-alta. Para los vinos de mayor calidad (9) vemos como las cantidades de sulfato tiene niveles más bajos. \n",
        "\n",
        "Recordemos que los sulfatos son las sales derivadas del ácido sulfúrico utilizadas básicamente en fertilizantes, pesticidas, colorantes, jabones, vidrios, papel fármacos, entre otros; y que aparecen en el agua y por lo tanto en la uva. Una alta concentración de los mismos podría hacer que un agua no fuera de calidad alimentaria. \n",
        "\n",
        "Un agua con una cantidad de sulfatos inferior a 250mg/l se considera en este aspecto un agua de calidad y con valores superiores a 400mg/l insalubre. Los resultados obtenidos para todas las categorías de calidad estaban por encima de 400mg/l."
      ]
    },
    {
      "metadata": {
        "id": "c3PqHFczrdkD",
        "colab_type": "text"
      },
      "cell_type": "markdown",
      "source": [
        "**Alcohol vs Calidad: **"
      ]
    },
    {
      "metadata": {
        "id": "_6zjYvYjrhBy",
        "colab_type": "code",
        "outputId": "16b0fd98-f1db-4340-b61b-e6bb388f131e",
        "colab": {
          "base_uri": "https://localhost:8080/",
          "height": 404
        }
      },
      "cell_type": "code",
      "source": [
        "colors = [\"#39ad48\", \"#feb308\", \"#8d8468\", \"#49759c\", \"#4e0550\", \"#ba6873\", \"#017371\"]\n",
        "\n",
        "img11 = plt.figure(figsize = (10,6))\n",
        "sns.barplot(x = 'Calidad', y = 'Alcohol', data = wineX, palette=colors)\n",
        "plt.title(\"Alcohol como función de la Calidad del Vino\")\n",
        "plt.ylabel(\"Alcohol (grados/l)\")\n",
        "plt.show()"
      ],
      "execution_count": 234,
      "outputs": [
        {
          "output_type": "display_data",
          "data": {
            "image/png": "[encoded data removed]",
            "text/plain": [
              "<Figure size 720x432 with 1 Axes>"
            ]
          },
          "metadata": {
            "tags": []
          }
        }
      ]
    },
    {
      "metadata": {
        "id": "lMsd1hglroaM",
        "colab_type": "text"
      },
      "cell_type": "markdown",
      "source": [
        "**Comentarios**: Vemos que el nivel de alcohol aumenta a medida que aumenta la calidad del vino. Los valores de graduación para los vinos de mayor calidad (8 y 9) son superiores (entre 12º y 14º), cuatro puntos porcentuales por encima del promedio (10.49º). \n"
      ]
    },
    {
      "metadata": {
        "id": "yxS142Fqa51C",
        "colab_type": "code",
        "colab": {
          "base_uri": "https://localhost:8080/",
          "height": 478
        },
        "outputId": "6fc19692-0aea-466f-ee36-98ca49c068a0"
      },
      "cell_type": "code",
      "source": [
        "# Graficamos la densidad como función del alcohol para ver mejor su relación\n",
        "plt.figure(figsize=(10,1))\n",
        "sns.jointplot(y= 'Densidad', x= 'Alcohol', data = wineX, kind=\"hex\")"
      ],
      "execution_count": 235,
      "outputs": [
        {
          "output_type": "execute_result",
          "data": {
            "text/plain": [
              "<seaborn.axisgrid.JointGrid at 0x7f2ada803908>"
            ]
          },
          "metadata": {
            "tags": []
          },
          "execution_count": 235
        },
        {
          "output_type": "display_data",
          "data": {
            "text/plain": [
              "<Figure size 720x72 with 0 Axes>"
            ]
          },
          "metadata": {
            "tags": []
          }
        },
        {
          "output_type": "display_data",
          "data": {
            "image/png": "[encoded data removed]",
            "text/plain": [
              "<Figure size 432x432 with 3 Axes>"
            ]
          },
          "metadata": {
            "tags": []
          }
        }
      ]
    },
    {
      "metadata": {
        "id": "-RYRm8lYdTqx",
        "colab_type": "text"
      },
      "cell_type": "markdown",
      "source": [
        "**Comentarios:** Como era de esperarse vemos que a mayor grado de alcohol disminuye la densidad del vino, y que la mayoría de los vinos tienen un grado de alcohol entre 9º y 10º con una densidad de mosto 0.9950 g/mL."
      ]
    },
    {
      "metadata": {
        "id": "cNscaM3keJbE",
        "colab_type": "text"
      },
      "cell_type": "markdown",
      "source": [
        "### **Mapa de Calor (Correlation Heatmap):**"
      ]
    },
    {
      "metadata": {
        "id": "qLtZnomYBye6",
        "colab_type": "code",
        "outputId": "7256f2fc-4387-455f-f5e1-28c000ee7f65",
        "colab": {
          "base_uri": "https://localhost:8080/",
          "height": 817
        }
      },
      "cell_type": "code",
      "source": [
        "#Pintamos la correlación entre variables\n",
        "corr_map= wineX.corr()\n",
        "mask = np.array(corr_map)\n",
        "mask[np.tril_indices_from(mask)] = False\n",
        "img=plt.gcf()\n",
        "img.set_size_inches(30,12)\n",
        "sns.heatmap(data=corr_map,mask=mask,square=True,annot=True,cbar=True)"
      ],
      "execution_count": 236,
      "outputs": [
        {
          "output_type": "execute_result",
          "data": {
            "text/plain": [
              "<matplotlib.axes._subplots.AxesSubplot at 0x7f2ae0849160>"
            ]
          },
          "metadata": {
            "tags": []
          },
          "execution_count": 236
        },
        {
          "output_type": "display_data",
          "data": {
            "image/png": "[encoded data removed]",
            "text/plain": [
              "<Figure size 2160x864 with 2 Axes>"
            ]
          },
          "metadata": {
            "tags": []
          }
        }
      ]
    },
    {
      "metadata": {
        "id": "tNC3sLfnM7Kn",
        "colab_type": "text"
      },
      "cell_type": "markdown",
      "source": [
        "**Comentarios:** La gráfica de correlación nos dice es que hay muy pocas características fuertemente correlacionadas entre sí. Desde el punto de vista de incluir estas características en nuestros modelos ML, esto significa que no hay mucha información redundante, y que cada característica lleva consigo información única. No obstante podemos ver que:\n",
        "\n",
        "- La variable dependiente \"Calidad\" del vino está altamente relacionada con el \"Alcohol\". Más que cualquier otra variable, el \"Alcohol\" es la que más correlacionada con la \"Calidad\" en un 0.44. Fuertemente relacionadas pero de manera inversa, también tenemos el \"Alcohol\" y la \"Densidad\" en -0.69. Por tanto, podemos centrarnos en las relaciones de calidad-alcohol y las relaciones densidad-alcohol para obtener una exploración significativa. \n",
        "\n",
        "- Otras relaciones directas que podemos ver con el mapa de calor, son:\n",
        "       \"Dióxido de Sulfuro Total\" con \"Dióxido de Sulfuro Libres\"; \n",
        "       \"Ácidez Fija\" con \"Densidad\" y \"Ácido Cítrico\"; \n",
        "       \"Azúcar Residual\" con \"Densidad\" y \"Dióxido de Sulfuro Total\"; \n",
        "\n",
        "- El pH está altamente relacionado de manera inversa con el \"Ácido Cítrico\" y la \"Ácidez Fija\", lo cual se esperaba ya que sabemos que los ácidos tienen valores de pH mucho más pequeños.\n",
        "\n",
        "- El \"Azúcar Residual\", el \"Dióxido de Sulfuro Total\", y la \"Ácidez Fija\", tienen baja correlacion con la \"calidad\".\n",
        "\n",
        "- La auto-relación, es decir, de una característica para sí misma es 1 como se esperaba.\n",
        "\n",
        "-\n",
        "-\n",
        "\n",
        "- Una opción podría ser eliminar algunas características altamente relacionadas, aunque en nuestro caso nos quedaramos con ellas para observar los resultados. \n",
        "\n"
      ]
    },
    {
      "metadata": {
        "id": "AIIzuOndSmQu",
        "colab_type": "text"
      },
      "cell_type": "markdown",
      "source": [
        "## Parte 3- Pre-procesado de los Datos para aplicar Algoritmos de Machine Learning\n"
      ]
    },
    {
      "metadata": {
        "id": "bhDMmhRwVtCv",
        "colab_type": "code",
        "colab": {}
      },
      "cell_type": "code",
      "source": [
        "#Librerias a utilizar\n",
        "from sklearn.preprocessing import LabelEncoder"
      ],
      "execution_count": 0,
      "outputs": []
    },
    {
      "metadata": {
        "id": "Vm5ZxpRLTo4K",
        "colab_type": "text"
      },
      "cell_type": "markdown",
      "source": [
        "A continuación realizaremos una clasificación para la variable de respuesta 'Calidad'. Para ello reemplazamos los valores númericos enteros de la columna 'Calidad' por las categorias 'Buena', 'Aceptable' y 'Mala'. Daremos el límite a la calidad basándonos en los valores obtenidos en la parte 2 del proyecto, del promedio y del percentil 25, 50 y 75 para la columna 'Calidad'."
      ]
    },
    {
      "metadata": {
        "id": "ukM0ba9EKOuO",
        "colab_type": "code",
        "outputId": "56c936cb-d778-4c05-9960-6a0bcfed81cd",
        "colab": {
          "base_uri": "https://localhost:8080/",
          "height": 182
        }
      },
      "cell_type": "code",
      "source": [
        "wineX['Calidad'].describe()"
      ],
      "execution_count": 238,
      "outputs": [
        {
          "output_type": "execute_result",
          "data": {
            "text/plain": [
              "count    1599.000000\n",
              "mean        5.636023\n",
              "std         0.807569\n",
              "min         3.000000\n",
              "25%         5.000000\n",
              "50%         6.000000\n",
              "75%         6.000000\n",
              "max         8.000000\n",
              "Name: Calidad, dtype: float64"
            ]
          },
          "metadata": {
            "tags": []
          },
          "execution_count": 238
        }
      ]
    },
    {
      "metadata": {
        "id": "9y01C87oKUW9",
        "colab_type": "code",
        "colab": {
          "base_uri": "https://localhost:8080/",
          "height": 283
        },
        "outputId": "1b4f75ce-0615-4ca8-eb55-d9073536ab0d"
      },
      "cell_type": "code",
      "source": [
        "val, base = np.histogram(wineX['Calidad'], bins=20)\n",
        "Acumulado = np.cumsum(val/wineX.shape[0])\n",
        "plt.plot(base[:-1], Acumulado, c='blue')\n",
        "plt.xlabel('Calidad')\n",
        "plt.ylabel('Frecuencia')\n",
        "plt.show()"
      ],
      "execution_count": 239,
      "outputs": [
        {
          "output_type": "display_data",
          "data": {
            "image/png": "[encoded data removed]",
            "text/plain": [
              "<Figure size 432x288 with 1 Axes>"
            ]
          },
          "metadata": {
            "tags": []
          }
        }
      ]
    },
    {
      "metadata": {
        "id": "W3ZBT0rBLa11",
        "colab_type": "text"
      },
      "cell_type": "markdown",
      "source": [
        "**Comentario**: Dado que la mediana para la 'Calidad' es 6, y el promedio está entre 5 y 6; clasificaremos el vino como 'Malo' si la calidad es menor o igual a 4, 'Aceptable' si la calidad está entre 5 y 7 incluidos, y mayor o igual a 8 clasificaremos el vino como 'Bueno'. \n"
      ]
    },
    {
      "metadata": {
        "id": "5CrmN-r1qQIJ",
        "colab_type": "code",
        "colab": {}
      },
      "cell_type": "code",
      "source": [
        "# Creamos una nueva variable \"Categoria\" y \n",
        "# categorizamos en ella la variable \"Calidad\" según los parámetros \n",
        "# de calidad que hemos definido\n",
        "\n",
        "categor = []\n",
        "for i in wineX['Calidad']:\n",
        "    if i >= 1 and i <= 4:\n",
        "        categor.append('1')\n",
        "    elif i >= 5 and i <= 7:\n",
        "        categor.append('2')\n",
        "    else:\n",
        "        categor.append('3')\n",
        "wineX['Categoria'] = categor\n"
      ],
      "execution_count": 0,
      "outputs": []
    },
    {
      "metadata": {
        "id": "vYRIx4fLvsR_",
        "colab_type": "code",
        "colab": {
          "base_uri": "https://localhost:8080/",
          "height": 90
        },
        "outputId": "286feadb-0cf1-4804-920a-7d9929e298ce"
      },
      "cell_type": "code",
      "source": [
        "# Echamos un vistazo para ver como a quedado nuestro dataset\n",
        "wineX.columns"
      ],
      "execution_count": 241,
      "outputs": [
        {
          "output_type": "execute_result",
          "data": {
            "text/plain": [
              "Index(['Acidez_Fija', 'Acidez_Volatil', 'Acido_Citrico', 'Azucar_Residual',\n",
              "       'Sal', 'Dioxido_Azufre_Libre', 'Dioxido_Azufre_Total', 'Densidad', 'pH',\n",
              "       'Sulfatos', 'Alcohol', 'Calidad', 'Categoria'],\n",
              "      dtype='object')"
            ]
          },
          "metadata": {
            "tags": []
          },
          "execution_count": 241
        }
      ]
    },
    {
      "metadata": {
        "id": "UwB3TfvhvsX3",
        "colab_type": "code",
        "colab": {
          "base_uri": "https://localhost:8080/",
          "height": 35
        },
        "outputId": "8530e64a-5403-491a-a523-f71f6435c383"
      },
      "cell_type": "code",
      "source": [
        "wineX['Categoria'].unique()"
      ],
      "execution_count": 242,
      "outputs": [
        {
          "output_type": "execute_result",
          "data": {
            "text/plain": [
              "array(['2', '1', '3'], dtype=object)"
            ]
          },
          "metadata": {
            "tags": []
          },
          "execution_count": 242
        }
      ]
    },
    {
      "metadata": {
        "id": "6vUlzHSOwa2Y",
        "colab_type": "code",
        "colab": {
          "base_uri": "https://localhost:8080/",
          "height": 90
        },
        "outputId": "93ffe22f-e00f-48ac-ddea-ac009346ea4c"
      },
      "cell_type": "code",
      "source": [
        "wineX.Categoria.value_counts()"
      ],
      "execution_count": 243,
      "outputs": [
        {
          "output_type": "execute_result",
          "data": {
            "text/plain": [
              "2    1518\n",
              "1      63\n",
              "3      18\n",
              "Name: Categoria, dtype: int64"
            ]
          },
          "metadata": {
            "tags": []
          },
          "execution_count": 243
        }
      ]
    },
    {
      "metadata": {
        "id": "pSWiM3KI5tuH",
        "colab_type": "text"
      },
      "cell_type": "markdown",
      "source": [
        "### Definición de variables y división de los datos"
      ]
    },
    {
      "metadata": {
        "id": "udbgYq0WLKgO",
        "colab_type": "code",
        "colab": {
          "base_uri": "https://localhost:8080/",
          "height": 697
        },
        "outputId": "75819d3d-3293-4a8f-a635-aa5b7d5a0e8a"
      },
      "cell_type": "code",
      "source": [
        "wineX.head(20)"
      ],
      "execution_count": 244,
      "outputs": [
        {
          "output_type": "execute_result",
          "data": {
            "text/html": [
              "<div>\n",
              "<style scoped>\n",
              "    .dataframe tbody tr th:only-of-type {\n",
              "        vertical-align: middle;\n",
              "    }\n",
              "\n",
              "    .dataframe tbody tr th {\n",
              "        vertical-align: top;\n",
              "    }\n",
              "\n",
              "    .dataframe thead th {\n",
              "        text-align: right;\n",
              "    }\n",
              "</style>\n",
              "<table border=\"1\" class=\"dataframe\">\n",
              "  <thead>\n",
              "    <tr style=\"text-align: right;\">\n",
              "      <th></th>\n",
              "      <th>Acidez_Fija</th>\n",
              "      <th>Acidez_Volatil</th>\n",
              "      <th>Acido_Citrico</th>\n",
              "      <th>Azucar_Residual</th>\n",
              "      <th>Sal</th>\n",
              "      <th>Dioxido_Azufre_Libre</th>\n",
              "      <th>Dioxido_Azufre_Total</th>\n",
              "      <th>Densidad</th>\n",
              "      <th>pH</th>\n",
              "      <th>Sulfatos</th>\n",
              "      <th>Alcohol</th>\n",
              "      <th>Calidad</th>\n",
              "      <th>Categoria</th>\n",
              "    </tr>\n",
              "  </thead>\n",
              "  <tbody>\n",
              "    <tr>\n",
              "      <th>0</th>\n",
              "      <td>7.4</td>\n",
              "      <td>0.700</td>\n",
              "      <td>0.00</td>\n",
              "      <td>1.9</td>\n",
              "      <td>0.076</td>\n",
              "      <td>11.0</td>\n",
              "      <td>34.0</td>\n",
              "      <td>0.9978</td>\n",
              "      <td>3.51</td>\n",
              "      <td>0.56</td>\n",
              "      <td>9.4</td>\n",
              "      <td>5</td>\n",
              "      <td>2</td>\n",
              "    </tr>\n",
              "    <tr>\n",
              "      <th>1</th>\n",
              "      <td>7.8</td>\n",
              "      <td>0.880</td>\n",
              "      <td>0.00</td>\n",
              "      <td>2.6</td>\n",
              "      <td>0.098</td>\n",
              "      <td>25.0</td>\n",
              "      <td>67.0</td>\n",
              "      <td>0.9968</td>\n",
              "      <td>3.20</td>\n",
              "      <td>0.68</td>\n",
              "      <td>9.8</td>\n",
              "      <td>5</td>\n",
              "      <td>2</td>\n",
              "    </tr>\n",
              "    <tr>\n",
              "      <th>2</th>\n",
              "      <td>7.8</td>\n",
              "      <td>0.760</td>\n",
              "      <td>0.04</td>\n",
              "      <td>2.3</td>\n",
              "      <td>0.092</td>\n",
              "      <td>15.0</td>\n",
              "      <td>54.0</td>\n",
              "      <td>0.9970</td>\n",
              "      <td>3.26</td>\n",
              "      <td>0.65</td>\n",
              "      <td>9.8</td>\n",
              "      <td>5</td>\n",
              "      <td>2</td>\n",
              "    </tr>\n",
              "    <tr>\n",
              "      <th>3</th>\n",
              "      <td>11.2</td>\n",
              "      <td>0.280</td>\n",
              "      <td>0.56</td>\n",
              "      <td>1.9</td>\n",
              "      <td>0.075</td>\n",
              "      <td>17.0</td>\n",
              "      <td>60.0</td>\n",
              "      <td>0.9980</td>\n",
              "      <td>3.16</td>\n",
              "      <td>0.58</td>\n",
              "      <td>9.8</td>\n",
              "      <td>6</td>\n",
              "      <td>2</td>\n",
              "    </tr>\n",
              "    <tr>\n",
              "      <th>4</th>\n",
              "      <td>7.4</td>\n",
              "      <td>0.700</td>\n",
              "      <td>0.00</td>\n",
              "      <td>1.9</td>\n",
              "      <td>0.076</td>\n",
              "      <td>11.0</td>\n",
              "      <td>34.0</td>\n",
              "      <td>0.9978</td>\n",
              "      <td>3.51</td>\n",
              "      <td>0.56</td>\n",
              "      <td>9.4</td>\n",
              "      <td>5</td>\n",
              "      <td>2</td>\n",
              "    </tr>\n",
              "    <tr>\n",
              "      <th>5</th>\n",
              "      <td>7.4</td>\n",
              "      <td>0.660</td>\n",
              "      <td>0.00</td>\n",
              "      <td>1.8</td>\n",
              "      <td>0.075</td>\n",
              "      <td>13.0</td>\n",
              "      <td>40.0</td>\n",
              "      <td>0.9978</td>\n",
              "      <td>3.51</td>\n",
              "      <td>0.56</td>\n",
              "      <td>9.4</td>\n",
              "      <td>5</td>\n",
              "      <td>2</td>\n",
              "    </tr>\n",
              "    <tr>\n",
              "      <th>6</th>\n",
              "      <td>7.9</td>\n",
              "      <td>0.600</td>\n",
              "      <td>0.06</td>\n",
              "      <td>1.6</td>\n",
              "      <td>0.069</td>\n",
              "      <td>15.0</td>\n",
              "      <td>59.0</td>\n",
              "      <td>0.9964</td>\n",
              "      <td>3.30</td>\n",
              "      <td>0.46</td>\n",
              "      <td>9.4</td>\n",
              "      <td>5</td>\n",
              "      <td>2</td>\n",
              "    </tr>\n",
              "    <tr>\n",
              "      <th>7</th>\n",
              "      <td>7.3</td>\n",
              "      <td>0.650</td>\n",
              "      <td>0.00</td>\n",
              "      <td>1.2</td>\n",
              "      <td>0.065</td>\n",
              "      <td>15.0</td>\n",
              "      <td>21.0</td>\n",
              "      <td>0.9946</td>\n",
              "      <td>3.39</td>\n",
              "      <td>0.47</td>\n",
              "      <td>10.0</td>\n",
              "      <td>7</td>\n",
              "      <td>2</td>\n",
              "    </tr>\n",
              "    <tr>\n",
              "      <th>8</th>\n",
              "      <td>7.8</td>\n",
              "      <td>0.580</td>\n",
              "      <td>0.02</td>\n",
              "      <td>2.0</td>\n",
              "      <td>0.073</td>\n",
              "      <td>9.0</td>\n",
              "      <td>18.0</td>\n",
              "      <td>0.9968</td>\n",
              "      <td>3.36</td>\n",
              "      <td>0.57</td>\n",
              "      <td>9.5</td>\n",
              "      <td>7</td>\n",
              "      <td>2</td>\n",
              "    </tr>\n",
              "    <tr>\n",
              "      <th>9</th>\n",
              "      <td>7.5</td>\n",
              "      <td>0.500</td>\n",
              "      <td>0.36</td>\n",
              "      <td>6.1</td>\n",
              "      <td>0.071</td>\n",
              "      <td>17.0</td>\n",
              "      <td>102.0</td>\n",
              "      <td>0.9978</td>\n",
              "      <td>3.35</td>\n",
              "      <td>0.80</td>\n",
              "      <td>10.5</td>\n",
              "      <td>5</td>\n",
              "      <td>2</td>\n",
              "    </tr>\n",
              "    <tr>\n",
              "      <th>10</th>\n",
              "      <td>6.7</td>\n",
              "      <td>0.580</td>\n",
              "      <td>0.08</td>\n",
              "      <td>1.8</td>\n",
              "      <td>0.097</td>\n",
              "      <td>15.0</td>\n",
              "      <td>65.0</td>\n",
              "      <td>0.9959</td>\n",
              "      <td>3.28</td>\n",
              "      <td>0.54</td>\n",
              "      <td>9.2</td>\n",
              "      <td>5</td>\n",
              "      <td>2</td>\n",
              "    </tr>\n",
              "    <tr>\n",
              "      <th>11</th>\n",
              "      <td>7.5</td>\n",
              "      <td>0.500</td>\n",
              "      <td>0.36</td>\n",
              "      <td>6.1</td>\n",
              "      <td>0.071</td>\n",
              "      <td>17.0</td>\n",
              "      <td>102.0</td>\n",
              "      <td>0.9978</td>\n",
              "      <td>3.35</td>\n",
              "      <td>0.80</td>\n",
              "      <td>10.5</td>\n",
              "      <td>5</td>\n",
              "      <td>2</td>\n",
              "    </tr>\n",
              "    <tr>\n",
              "      <th>12</th>\n",
              "      <td>5.6</td>\n",
              "      <td>0.615</td>\n",
              "      <td>0.00</td>\n",
              "      <td>1.6</td>\n",
              "      <td>0.089</td>\n",
              "      <td>16.0</td>\n",
              "      <td>59.0</td>\n",
              "      <td>0.9943</td>\n",
              "      <td>3.58</td>\n",
              "      <td>0.52</td>\n",
              "      <td>9.9</td>\n",
              "      <td>5</td>\n",
              "      <td>2</td>\n",
              "    </tr>\n",
              "    <tr>\n",
              "      <th>13</th>\n",
              "      <td>7.8</td>\n",
              "      <td>0.610</td>\n",
              "      <td>0.29</td>\n",
              "      <td>1.6</td>\n",
              "      <td>0.114</td>\n",
              "      <td>9.0</td>\n",
              "      <td>29.0</td>\n",
              "      <td>0.9974</td>\n",
              "      <td>3.26</td>\n",
              "      <td>1.56</td>\n",
              "      <td>9.1</td>\n",
              "      <td>5</td>\n",
              "      <td>2</td>\n",
              "    </tr>\n",
              "    <tr>\n",
              "      <th>14</th>\n",
              "      <td>8.9</td>\n",
              "      <td>0.620</td>\n",
              "      <td>0.18</td>\n",
              "      <td>3.8</td>\n",
              "      <td>0.176</td>\n",
              "      <td>52.0</td>\n",
              "      <td>145.0</td>\n",
              "      <td>0.9986</td>\n",
              "      <td>3.16</td>\n",
              "      <td>0.88</td>\n",
              "      <td>9.2</td>\n",
              "      <td>5</td>\n",
              "      <td>2</td>\n",
              "    </tr>\n",
              "    <tr>\n",
              "      <th>15</th>\n",
              "      <td>8.9</td>\n",
              "      <td>0.620</td>\n",
              "      <td>0.19</td>\n",
              "      <td>3.9</td>\n",
              "      <td>0.170</td>\n",
              "      <td>51.0</td>\n",
              "      <td>148.0</td>\n",
              "      <td>0.9986</td>\n",
              "      <td>3.17</td>\n",
              "      <td>0.93</td>\n",
              "      <td>9.2</td>\n",
              "      <td>5</td>\n",
              "      <td>2</td>\n",
              "    </tr>\n",
              "    <tr>\n",
              "      <th>16</th>\n",
              "      <td>8.5</td>\n",
              "      <td>0.280</td>\n",
              "      <td>0.56</td>\n",
              "      <td>1.8</td>\n",
              "      <td>0.092</td>\n",
              "      <td>35.0</td>\n",
              "      <td>103.0</td>\n",
              "      <td>0.9969</td>\n",
              "      <td>3.30</td>\n",
              "      <td>0.75</td>\n",
              "      <td>10.5</td>\n",
              "      <td>7</td>\n",
              "      <td>2</td>\n",
              "    </tr>\n",
              "    <tr>\n",
              "      <th>17</th>\n",
              "      <td>8.1</td>\n",
              "      <td>0.560</td>\n",
              "      <td>0.28</td>\n",
              "      <td>1.7</td>\n",
              "      <td>0.368</td>\n",
              "      <td>16.0</td>\n",
              "      <td>56.0</td>\n",
              "      <td>0.9968</td>\n",
              "      <td>3.11</td>\n",
              "      <td>1.28</td>\n",
              "      <td>9.3</td>\n",
              "      <td>5</td>\n",
              "      <td>2</td>\n",
              "    </tr>\n",
              "    <tr>\n",
              "      <th>18</th>\n",
              "      <td>7.4</td>\n",
              "      <td>0.590</td>\n",
              "      <td>0.08</td>\n",
              "      <td>4.4</td>\n",
              "      <td>0.086</td>\n",
              "      <td>6.0</td>\n",
              "      <td>29.0</td>\n",
              "      <td>0.9974</td>\n",
              "      <td>3.38</td>\n",
              "      <td>0.50</td>\n",
              "      <td>9.0</td>\n",
              "      <td>4</td>\n",
              "      <td>1</td>\n",
              "    </tr>\n",
              "    <tr>\n",
              "      <th>19</th>\n",
              "      <td>7.9</td>\n",
              "      <td>0.320</td>\n",
              "      <td>0.51</td>\n",
              "      <td>1.8</td>\n",
              "      <td>0.341</td>\n",
              "      <td>17.0</td>\n",
              "      <td>56.0</td>\n",
              "      <td>0.9969</td>\n",
              "      <td>3.04</td>\n",
              "      <td>1.08</td>\n",
              "      <td>9.2</td>\n",
              "      <td>6</td>\n",
              "      <td>2</td>\n",
              "    </tr>\n",
              "  </tbody>\n",
              "</table>\n",
              "</div>"
            ],
            "text/plain": [
              "    Acidez_Fija  Acidez_Volatil  Acido_Citrico  Azucar_Residual    Sal  \\\n",
              "0           7.4           0.700           0.00              1.9  0.076   \n",
              "1           7.8           0.880           0.00              2.6  0.098   \n",
              "2           7.8           0.760           0.04              2.3  0.092   \n",
              "3          11.2           0.280           0.56              1.9  0.075   \n",
              "4           7.4           0.700           0.00              1.9  0.076   \n",
              "5           7.4           0.660           0.00              1.8  0.075   \n",
              "6           7.9           0.600           0.06              1.6  0.069   \n",
              "7           7.3           0.650           0.00              1.2  0.065   \n",
              "8           7.8           0.580           0.02              2.0  0.073   \n",
              "9           7.5           0.500           0.36              6.1  0.071   \n",
              "10          6.7           0.580           0.08              1.8  0.097   \n",
              "11          7.5           0.500           0.36              6.1  0.071   \n",
              "12          5.6           0.615           0.00              1.6  0.089   \n",
              "13          7.8           0.610           0.29              1.6  0.114   \n",
              "14          8.9           0.620           0.18              3.8  0.176   \n",
              "15          8.9           0.620           0.19              3.9  0.170   \n",
              "16          8.5           0.280           0.56              1.8  0.092   \n",
              "17          8.1           0.560           0.28              1.7  0.368   \n",
              "18          7.4           0.590           0.08              4.4  0.086   \n",
              "19          7.9           0.320           0.51              1.8  0.341   \n",
              "\n",
              "    Dioxido_Azufre_Libre  Dioxido_Azufre_Total  Densidad    pH  Sulfatos  \\\n",
              "0                   11.0                  34.0    0.9978  3.51      0.56   \n",
              "1                   25.0                  67.0    0.9968  3.20      0.68   \n",
              "2                   15.0                  54.0    0.9970  3.26      0.65   \n",
              "3                   17.0                  60.0    0.9980  3.16      0.58   \n",
              "4                   11.0                  34.0    0.9978  3.51      0.56   \n",
              "5                   13.0                  40.0    0.9978  3.51      0.56   \n",
              "6                   15.0                  59.0    0.9964  3.30      0.46   \n",
              "7                   15.0                  21.0    0.9946  3.39      0.47   \n",
              "8                    9.0                  18.0    0.9968  3.36      0.57   \n",
              "9                   17.0                 102.0    0.9978  3.35      0.80   \n",
              "10                  15.0                  65.0    0.9959  3.28      0.54   \n",
              "11                  17.0                 102.0    0.9978  3.35      0.80   \n",
              "12                  16.0                  59.0    0.9943  3.58      0.52   \n",
              "13                   9.0                  29.0    0.9974  3.26      1.56   \n",
              "14                  52.0                 145.0    0.9986  3.16      0.88   \n",
              "15                  51.0                 148.0    0.9986  3.17      0.93   \n",
              "16                  35.0                 103.0    0.9969  3.30      0.75   \n",
              "17                  16.0                  56.0    0.9968  3.11      1.28   \n",
              "18                   6.0                  29.0    0.9974  3.38      0.50   \n",
              "19                  17.0                  56.0    0.9969  3.04      1.08   \n",
              "\n",
              "    Alcohol  Calidad Categoria  \n",
              "0       9.4        5         2  \n",
              "1       9.8        5         2  \n",
              "2       9.8        5         2  \n",
              "3       9.8        6         2  \n",
              "4       9.4        5         2  \n",
              "5       9.4        5         2  \n",
              "6       9.4        5         2  \n",
              "7      10.0        7         2  \n",
              "8       9.5        7         2  \n",
              "9      10.5        5         2  \n",
              "10      9.2        5         2  \n",
              "11     10.5        5         2  \n",
              "12      9.9        5         2  \n",
              "13      9.1        5         2  \n",
              "14      9.2        5         2  \n",
              "15      9.2        5         2  \n",
              "16     10.5        7         2  \n",
              "17      9.3        5         2  \n",
              "18      9.0        4         1  \n",
              "19      9.2        6         2  "
            ]
          },
          "metadata": {
            "tags": []
          },
          "execution_count": 244
        }
      ]
    },
    {
      "metadata": {
        "id": "8L5zguJRvsea",
        "colab_type": "code",
        "colab": {}
      },
      "cell_type": "code",
      "source": [
        "# Creamos las variables 'x' e 'y', para ello:\n",
        "\n",
        "# Para 'x', consideramos todas las filas, pero quitamos la columna 'Tipo' \n",
        "# y las últimas dos columnas 'Calidad' y 'Categoria'\n",
        "\n",
        "x = wineX.iloc[:,1:12]  #'x' serán los features\n",
        "y = wineX['Categoria']  #'y' será la variable objetivo (1=Malo, 2=Aceptable, 3=Bueno)"
      ],
      "execution_count": 0,
      "outputs": []
    },
    {
      "metadata": {
        "id": "1qIN6eNlxkJP",
        "colab_type": "code",
        "colab": {
          "base_uri": "https://localhost:8080/",
          "height": 363
        },
        "outputId": "78276192-9010-4171-fd7a-91ed1e708d40"
      },
      "cell_type": "code",
      "source": [
        "x.head(10)"
      ],
      "execution_count": 246,
      "outputs": [
        {
          "output_type": "execute_result",
          "data": {
            "text/html": [
              "<div>\n",
              "<style scoped>\n",
              "    .dataframe tbody tr th:only-of-type {\n",
              "        vertical-align: middle;\n",
              "    }\n",
              "\n",
              "    .dataframe tbody tr th {\n",
              "        vertical-align: top;\n",
              "    }\n",
              "\n",
              "    .dataframe thead th {\n",
              "        text-align: right;\n",
              "    }\n",
              "</style>\n",
              "<table border=\"1\" class=\"dataframe\">\n",
              "  <thead>\n",
              "    <tr style=\"text-align: right;\">\n",
              "      <th></th>\n",
              "      <th>Acidez_Volatil</th>\n",
              "      <th>Acido_Citrico</th>\n",
              "      <th>Azucar_Residual</th>\n",
              "      <th>Sal</th>\n",
              "      <th>Dioxido_Azufre_Libre</th>\n",
              "      <th>Dioxido_Azufre_Total</th>\n",
              "      <th>Densidad</th>\n",
              "      <th>pH</th>\n",
              "      <th>Sulfatos</th>\n",
              "      <th>Alcohol</th>\n",
              "      <th>Calidad</th>\n",
              "    </tr>\n",
              "  </thead>\n",
              "  <tbody>\n",
              "    <tr>\n",
              "      <th>0</th>\n",
              "      <td>0.70</td>\n",
              "      <td>0.00</td>\n",
              "      <td>1.9</td>\n",
              "      <td>0.076</td>\n",
              "      <td>11.0</td>\n",
              "      <td>34.0</td>\n",
              "      <td>0.9978</td>\n",
              "      <td>3.51</td>\n",
              "      <td>0.56</td>\n",
              "      <td>9.4</td>\n",
              "      <td>5</td>\n",
              "    </tr>\n",
              "    <tr>\n",
              "      <th>1</th>\n",
              "      <td>0.88</td>\n",
              "      <td>0.00</td>\n",
              "      <td>2.6</td>\n",
              "      <td>0.098</td>\n",
              "      <td>25.0</td>\n",
              "      <td>67.0</td>\n",
              "      <td>0.9968</td>\n",
              "      <td>3.20</td>\n",
              "      <td>0.68</td>\n",
              "      <td>9.8</td>\n",
              "      <td>5</td>\n",
              "    </tr>\n",
              "    <tr>\n",
              "      <th>2</th>\n",
              "      <td>0.76</td>\n",
              "      <td>0.04</td>\n",
              "      <td>2.3</td>\n",
              "      <td>0.092</td>\n",
              "      <td>15.0</td>\n",
              "      <td>54.0</td>\n",
              "      <td>0.9970</td>\n",
              "      <td>3.26</td>\n",
              "      <td>0.65</td>\n",
              "      <td>9.8</td>\n",
              "      <td>5</td>\n",
              "    </tr>\n",
              "    <tr>\n",
              "      <th>3</th>\n",
              "      <td>0.28</td>\n",
              "      <td>0.56</td>\n",
              "      <td>1.9</td>\n",
              "      <td>0.075</td>\n",
              "      <td>17.0</td>\n",
              "      <td>60.0</td>\n",
              "      <td>0.9980</td>\n",
              "      <td>3.16</td>\n",
              "      <td>0.58</td>\n",
              "      <td>9.8</td>\n",
              "      <td>6</td>\n",
              "    </tr>\n",
              "    <tr>\n",
              "      <th>4</th>\n",
              "      <td>0.70</td>\n",
              "      <td>0.00</td>\n",
              "      <td>1.9</td>\n",
              "      <td>0.076</td>\n",
              "      <td>11.0</td>\n",
              "      <td>34.0</td>\n",
              "      <td>0.9978</td>\n",
              "      <td>3.51</td>\n",
              "      <td>0.56</td>\n",
              "      <td>9.4</td>\n",
              "      <td>5</td>\n",
              "    </tr>\n",
              "    <tr>\n",
              "      <th>5</th>\n",
              "      <td>0.66</td>\n",
              "      <td>0.00</td>\n",
              "      <td>1.8</td>\n",
              "      <td>0.075</td>\n",
              "      <td>13.0</td>\n",
              "      <td>40.0</td>\n",
              "      <td>0.9978</td>\n",
              "      <td>3.51</td>\n",
              "      <td>0.56</td>\n",
              "      <td>9.4</td>\n",
              "      <td>5</td>\n",
              "    </tr>\n",
              "    <tr>\n",
              "      <th>6</th>\n",
              "      <td>0.60</td>\n",
              "      <td>0.06</td>\n",
              "      <td>1.6</td>\n",
              "      <td>0.069</td>\n",
              "      <td>15.0</td>\n",
              "      <td>59.0</td>\n",
              "      <td>0.9964</td>\n",
              "      <td>3.30</td>\n",
              "      <td>0.46</td>\n",
              "      <td>9.4</td>\n",
              "      <td>5</td>\n",
              "    </tr>\n",
              "    <tr>\n",
              "      <th>7</th>\n",
              "      <td>0.65</td>\n",
              "      <td>0.00</td>\n",
              "      <td>1.2</td>\n",
              "      <td>0.065</td>\n",
              "      <td>15.0</td>\n",
              "      <td>21.0</td>\n",
              "      <td>0.9946</td>\n",
              "      <td>3.39</td>\n",
              "      <td>0.47</td>\n",
              "      <td>10.0</td>\n",
              "      <td>7</td>\n",
              "    </tr>\n",
              "    <tr>\n",
              "      <th>8</th>\n",
              "      <td>0.58</td>\n",
              "      <td>0.02</td>\n",
              "      <td>2.0</td>\n",
              "      <td>0.073</td>\n",
              "      <td>9.0</td>\n",
              "      <td>18.0</td>\n",
              "      <td>0.9968</td>\n",
              "      <td>3.36</td>\n",
              "      <td>0.57</td>\n",
              "      <td>9.5</td>\n",
              "      <td>7</td>\n",
              "    </tr>\n",
              "    <tr>\n",
              "      <th>9</th>\n",
              "      <td>0.50</td>\n",
              "      <td>0.36</td>\n",
              "      <td>6.1</td>\n",
              "      <td>0.071</td>\n",
              "      <td>17.0</td>\n",
              "      <td>102.0</td>\n",
              "      <td>0.9978</td>\n",
              "      <td>3.35</td>\n",
              "      <td>0.80</td>\n",
              "      <td>10.5</td>\n",
              "      <td>5</td>\n",
              "    </tr>\n",
              "  </tbody>\n",
              "</table>\n",
              "</div>"
            ],
            "text/plain": [
              "   Acidez_Volatil  Acido_Citrico  Azucar_Residual    Sal  \\\n",
              "0            0.70           0.00              1.9  0.076   \n",
              "1            0.88           0.00              2.6  0.098   \n",
              "2            0.76           0.04              2.3  0.092   \n",
              "3            0.28           0.56              1.9  0.075   \n",
              "4            0.70           0.00              1.9  0.076   \n",
              "5            0.66           0.00              1.8  0.075   \n",
              "6            0.60           0.06              1.6  0.069   \n",
              "7            0.65           0.00              1.2  0.065   \n",
              "8            0.58           0.02              2.0  0.073   \n",
              "9            0.50           0.36              6.1  0.071   \n",
              "\n",
              "   Dioxido_Azufre_Libre  Dioxido_Azufre_Total  Densidad    pH  Sulfatos  \\\n",
              "0                  11.0                  34.0    0.9978  3.51      0.56   \n",
              "1                  25.0                  67.0    0.9968  3.20      0.68   \n",
              "2                  15.0                  54.0    0.9970  3.26      0.65   \n",
              "3                  17.0                  60.0    0.9980  3.16      0.58   \n",
              "4                  11.0                  34.0    0.9978  3.51      0.56   \n",
              "5                  13.0                  40.0    0.9978  3.51      0.56   \n",
              "6                  15.0                  59.0    0.9964  3.30      0.46   \n",
              "7                  15.0                  21.0    0.9946  3.39      0.47   \n",
              "8                   9.0                  18.0    0.9968  3.36      0.57   \n",
              "9                  17.0                 102.0    0.9978  3.35      0.80   \n",
              "\n",
              "   Alcohol  Calidad  \n",
              "0      9.4        5  \n",
              "1      9.8        5  \n",
              "2      9.8        5  \n",
              "3      9.8        6  \n",
              "4      9.4        5  \n",
              "5      9.4        5  \n",
              "6      9.4        5  \n",
              "7     10.0        7  \n",
              "8      9.5        7  \n",
              "9     10.5        5  "
            ]
          },
          "metadata": {
            "tags": []
          },
          "execution_count": 246
        }
      ]
    },
    {
      "metadata": {
        "id": "CSIYwyJGKsKP",
        "colab_type": "code",
        "colab": {
          "base_uri": "https://localhost:8080/",
          "height": 219
        },
        "outputId": "4a9c477e-aa2d-46eb-f26e-374d650e1892"
      },
      "cell_type": "code",
      "source": [
        "y.head(10)"
      ],
      "execution_count": 247,
      "outputs": [
        {
          "output_type": "execute_result",
          "data": {
            "text/plain": [
              "0    2\n",
              "1    2\n",
              "2    2\n",
              "3    2\n",
              "4    2\n",
              "5    2\n",
              "6    2\n",
              "7    2\n",
              "8    2\n",
              "9    2\n",
              "Name: Categoria, dtype: object"
            ]
          },
          "metadata": {
            "tags": []
          },
          "execution_count": 247
        }
      ]
    },
    {
      "metadata": {
        "id": "hrBHQTiaKuwi",
        "colab_type": "code",
        "colab": {}
      },
      "cell_type": "code",
      "source": [
        "# verificar antes de seguir con los modelos\n",
        "# x.isna().count"
      ],
      "execution_count": 0,
      "outputs": []
    },
    {
      "metadata": {
        "id": "6gW6N_kCxkh8",
        "colab_type": "code",
        "colab": {}
      },
      "cell_type": "code",
      "source": [
        "%matplotlib inline"
      ],
      "execution_count": 0,
      "outputs": []
    },
    {
      "metadata": {
        "id": "iZBu8CSA3VoJ",
        "colab_type": "text"
      },
      "cell_type": "markdown",
      "source": [
        "**Datasets para el Training y el Test**"
      ]
    },
    {
      "metadata": {
        "id": "lrEPA_vX3VSo",
        "colab_type": "code",
        "colab": {}
      },
      "cell_type": "code",
      "source": [
        "# Dividimos el dataset en 2 partes: 80% para train y 20% para test\n",
        "from sklearn.model_selection import train_test_split\n",
        "X_train, X_test, y_train, y_test = train_test_split(x, y, test_size = 0.2, random_state = 42)"
      ],
      "execution_count": 0,
      "outputs": []
    },
    {
      "metadata": {
        "id": "CUoKxYg63_8y",
        "colab_type": "text"
      },
      "cell_type": "markdown",
      "source": [
        "**Característica de escalado**\n",
        "\n",
        "Antes de nada, debemos escalar nuestros datos de modo que cada característica tenga una variación de unidades. La biblioteca de scikit proporciona varios tipos de escaladores, incluidos MinMax Scaler y StandardScaler. A continuación, se utilizará el StandardScaler para escalar los datos.\n"
      ]
    },
    {
      "metadata": {
        "id": "gp9PmVSa30br",
        "colab_type": "code",
        "colab": {
          "base_uri": "https://localhost:8080/",
          "height": 184
        },
        "outputId": "bb86a9ee-635a-4610-8619-0526c25771bd"
      },
      "cell_type": "code",
      "source": [
        "from sklearn.preprocessing import StandardScaler\n",
        "scaler_X = StandardScaler()\n",
        "X_train = scaler_X.fit_transform(X_train)\n",
        "X_test = scaler_X.fit_transform(X_test)"
      ],
      "execution_count": 290,
      "outputs": [
        {
          "output_type": "stream",
          "text": [
            "/usr/local/lib/python3.6/dist-packages/sklearn/preprocessing/data.py:645: DataConversionWarning: Data with input dtype int64, float64 were all converted to float64 by StandardScaler.\n",
            "  return self.partial_fit(X, y)\n",
            "/usr/local/lib/python3.6/dist-packages/sklearn/base.py:464: DataConversionWarning: Data with input dtype int64, float64 were all converted to float64 by StandardScaler.\n",
            "  return self.fit(X, **fit_params).transform(X)\n",
            "/usr/local/lib/python3.6/dist-packages/sklearn/preprocessing/data.py:645: DataConversionWarning: Data with input dtype int64, float64 were all converted to float64 by StandardScaler.\n",
            "  return self.partial_fit(X, y)\n",
            "/usr/local/lib/python3.6/dist-packages/sklearn/base.py:464: DataConversionWarning: Data with input dtype int64, float64 were all converted to float64 by StandardScaler.\n",
            "  return self.fit(X, **fit_params).transform(X)\n"
          ],
          "name": "stderr"
        }
      ]
    },
    {
      "metadata": {
        "id": "rPW_nFb54JF3",
        "colab_type": "code",
        "colab": {
          "base_uri": "https://localhost:8080/",
          "height": 256
        },
        "outputId": "a91590db-e6e3-45e1-8c7d-f71f91509086"
      },
      "cell_type": "code",
      "source": [
        "# comprobamos los features escalados\n",
        "print(X_test)"
      ],
      "execution_count": 291,
      "outputs": [
        {
          "output_type": "stream",
          "text": [
            "[[ 0.24258119 -0.96313679  0.02140418 ...  0.0634928  -0.75508835\n",
            "   0.39043312]\n",
            " [-0.09492307 -0.49458376 -0.6712254  ... -1.15964614 -0.84471308\n",
            "  -0.84658271]\n",
            " [ 0.86133899 -0.23427652  0.17532186 ...  2.23796204 -0.48621416\n",
            "   0.39043312]\n",
            " ...\n",
            " [ 0.46758403 -0.07809217 -0.20947235 ... -0.81988533 -0.57583889\n",
            "  -0.84658271]\n",
            " [-1.3886894   0.6507681  -0.36339003 ...  0.26734929  0.67890733\n",
            "   0.39043312]\n",
            " [ 1.39572074 -1.17138258 -0.6712254  ... -0.75193316 -0.66546362\n",
            "  -2.08359854]]\n"
          ],
          "name": "stdout"
        }
      ]
    },
    {
      "metadata": {
        "id": "l4xTybMK-5vo",
        "colab_type": "code",
        "colab": {}
      },
      "cell_type": "code",
      "source": [
        "# Creamos listas vacías para ir guardando los valores obtenidos\n",
        "# para las métricas en cada modelo a evaluar a continuación\n",
        "acc={}\n",
        "prec={}\n",
        "rec={}\n",
        "auroc={}"
      ],
      "execution_count": 0,
      "outputs": []
    },
    {
      "metadata": {
        "id": "2F8NZvqlviz4",
        "colab_type": "text"
      },
      "cell_type": "markdown",
      "source": [
        "### **Entrenamiento del Modelo y Predicciones sobre el Test Dataset**\n",
        "\n",
        "Un dato que debemos considerar es que por sí sola la precisión no es una buena opción a la hora de evaluar un modelo. Esto se debe a que, dado que los datos están sesgados, incluso un algoritmo que clasifica el objetivo como el que pertenece a la clase mayoritaria en todo momento logrará una precisión muy alta. Por lo tanto, en este tipo de situaciones conviene también usar otras métricas como:\n",
        "\n",
        "    Precision: (verdaderos positivos) / (verdaderos positivos + falsos positivos)\n",
        "    Recall: (verdaderos positivos) / (verdaderos positivos + falsos negativos)\n",
        "    Accuracy: el resultado armónico de la precision y el recall\n",
        "    AUC ROC (Curva ROC): es la gráfica entre la precision y el recall\n",
        "\n",
        "En esta sección, se han usado diferentes modelos de la biblioteca de scikit y los hemos entrenado en los datos previamente escalados y luego se han utilizado para cumplir los propósitos de predicción.\n",
        "\n",
        "\n",
        "Comenzaremos con el modelo '***Support Vector Machine***' (SVM):"
      ]
    },
    {
      "metadata": {
        "id": "p9WSgUzg448F",
        "colab_type": "code",
        "colab": {}
      },
      "cell_type": "code",
      "source": [
        "from sklearn.svm import SVC\n",
        "from sklearn.metrics import confusion_matrix, classification_report, accuracy_score, precision_score, recall_score,confusion_matrix,roc_curve,roc_auc_score"
      ],
      "execution_count": 0,
      "outputs": []
    },
    {
      "metadata": {
        "id": "Dz_EcDCnviLj",
        "colab_type": "code",
        "colab": {
          "base_uri": "https://localhost:8080/",
          "height": 201
        },
        "outputId": "d35aed7f-6029-4d64-af81-ce4007ae6aee"
      },
      "cell_type": "code",
      "source": [
        "svm = SVC()\n",
        "svm.fit(X_train,y_train)\n",
        "predicho_svm =svm.predict(X_test)\n",
        "print(classification_report(y_test,predicho_svm))"
      ],
      "execution_count": 296,
      "outputs": [
        {
          "output_type": "stream",
          "text": [
            "              precision    recall  f1-score   support\n",
            "\n",
            "           1       1.00      1.00      1.00        11\n",
            "           2       0.99      1.00      1.00       304\n",
            "           3       1.00      0.60      0.75         5\n",
            "\n",
            "   micro avg       0.99      0.99      0.99       320\n",
            "   macro avg       1.00      0.87      0.92       320\n",
            "weighted avg       0.99      0.99      0.99       320\n",
            "\n"
          ],
          "name": "stdout"
        }
      ]
    },
    {
      "metadata": {
        "id": "78G_aDAT4tbe",
        "colab_type": "code",
        "colab": {
          "base_uri": "https://localhost:8080/",
          "height": 90
        },
        "outputId": "8e823f8b-6d48-4ff3-985b-3893f848237d"
      },
      "cell_type": "code",
      "source": [
        "svm_cmatrix = confusion_matrix(y_test, predicho_svm)\n",
        "svm_accuracy = accuracy_score(y_test, predicho_svm)\n",
        "svm_precision = precision_score(y_test, predicho_svm)\n",
        "svm_recall = recall_score(y_test, predicho_svm)\n",
        "svm_auroc = roc_auc_score(y_test, predicho_svm)\n",
        "print(svm_cmatrix)\n",
        "print(svm_accuracy*100)\n",
        "acc.update({'SVM': svm_accuracy*100})\n",
        "prec.update({'SVM': svm_precision})\n",
        "rec.update({'SVM': svm_recall})\n",
        "auroc.update({'SVM': svm_auroc})"
      ],
      "execution_count": 301,
      "outputs": [
        {
          "output_type": "stream",
          "text": [
            "[[ 11   0   0]\n",
            " [  0 304   0]\n",
            " [  0   2   3]]\n",
            "99.375\n"
          ],
          "name": "stdout"
        }
      ]
    },
    {
      "metadata": {
        "id": "aLWHNwdPBEqq",
        "colab_type": "text"
      },
      "cell_type": "markdown",
      "source": [
        "Ahora probaremos el modelo '***Random Forest:***':"
      ]
    },
    {
      "metadata": {
        "id": "Fltwi0ueBu4D",
        "colab_type": "code",
        "colab": {}
      },
      "cell_type": "code",
      "source": [
        "from sklearn.ensemble import RandomForestClassifier"
      ],
      "execution_count": 0,
      "outputs": []
    },
    {
      "metadata": {
        "id": "Pk6dEaOA9C8_",
        "colab_type": "code",
        "colab": {
          "base_uri": "https://localhost:8080/",
          "height": 201
        },
        "outputId": "97745b10-5a92-4cbd-b33f-a4b2be7aa510"
      },
      "cell_type": "code",
      "source": [
        "rclf = RandomForestClassifier(n_estimators=200)\n",
        "rclf.fit(X_train, y_train)\n",
        "predicho_rclf = rclf.predict(X_test)\n",
        "print(classification_report(y_test, predicho_rclf))"
      ],
      "execution_count": 305,
      "outputs": [
        {
          "output_type": "stream",
          "text": [
            "              precision    recall  f1-score   support\n",
            "\n",
            "           1       1.00      1.00      1.00        11\n",
            "           2       1.00      1.00      1.00       304\n",
            "           3       1.00      1.00      1.00         5\n",
            "\n",
            "   micro avg       1.00      1.00      1.00       320\n",
            "   macro avg       1.00      1.00      1.00       320\n",
            "weighted avg       1.00      1.00      1.00       320\n",
            "\n"
          ],
          "name": "stdout"
        }
      ]
    },
    {
      "metadata": {
        "id": "UWy3PsaEClWE",
        "colab_type": "code",
        "colab": {
          "base_uri": "https://localhost:8080/",
          "height": 90
        },
        "outputId": "50fc2997-4810-4c13-b03a-d1880cce6a8e"
      },
      "cell_type": "code",
      "source": [
        "rclf_cmatrix = confusion_matrix(y_test, predicho_rclf)\n",
        "rclf_accuracy = accuracy_score(y_test, predicho_rclf)\n",
        "print(rclf_cmatrix)\n",
        "print(rclf_accuracy*100)\n",
        "acc.update({'Random_Forest_Classifier': rclf_accuracy*100})"
      ],
      "execution_count": 306,
      "outputs": [
        {
          "output_type": "stream",
          "text": [
            "[[ 11   0   0]\n",
            " [  0 304   0]\n",
            " [  0   0   5]]\n",
            "100.0\n"
          ],
          "name": "stdout"
        }
      ]
    },
    {
      "metadata": {
        "id": "wu9S0qtE3Fk0",
        "colab_type": "text"
      },
      "cell_type": "markdown",
      "source": [
        "Probaremos a continuación el modelo '***Decision Tree Classifier***':\n",
        "\n",
        "\n"
      ]
    },
    {
      "metadata": {
        "id": "JgCiot1SEjeF",
        "colab_type": "code",
        "colab": {}
      },
      "cell_type": "code",
      "source": [
        "from sklearn.tree import DecisionTreeClassifier"
      ],
      "execution_count": 0,
      "outputs": []
    },
    {
      "metadata": {
        "id": "VyV2X2Kc2mT-",
        "colab_type": "code",
        "colab": {}
      },
      "cell_type": "code",
      "source": [
        "tree = DecisionTreeClassifier()\n",
        "tree.fit(X_train,y_train)\n",
        "predicho_tree = tree.predict(X_test)\n",
        "print(classification_report(y_test, predicho_tree))"
      ],
      "execution_count": 0,
      "outputs": []
    },
    {
      "metadata": {
        "id": "95miXAWS2mg1",
        "colab_type": "code",
        "colab": {}
      },
      "cell_type": "code",
      "source": [
        "tree_cmatrix = confusion_matrix(y_test, predicho_tree)\n",
        "tree_accuracy = accuracy_score(y_test, predicho_tree)\n",
        "print(tree_cmatrix)\n",
        "print(tree_accuracy*100)\n",
        "acc.update({'Decision_Tree_Classifier': tree_accuracy*100})"
      ],
      "execution_count": 0,
      "outputs": []
    },
    {
      "metadata": {
        "id": "1K4hUTupF4OV",
        "colab_type": "text"
      },
      "cell_type": "markdown",
      "source": [
        "Ahora probaremos el *** 'K-Nearest Neighbors***' (KNN):"
      ]
    },
    {
      "metadata": {
        "id": "aMG8_e6I2mx1",
        "colab_type": "code",
        "colab": {}
      },
      "cell_type": "code",
      "source": [
        "from sklearn.neighbors import KNeighborsClassifier"
      ],
      "execution_count": 0,
      "outputs": []
    },
    {
      "metadata": {
        "id": "VZ1yDLpV2m1S",
        "colab_type": "code",
        "colab": {}
      },
      "cell_type": "code",
      "source": [
        "kvecinos = KNeighborsClassifier()\n",
        "kvecinos.fit(X_train,y_train)\n",
        "predicho_kvecinos=kvecinos.predict(X_test)\n",
        "print(classification_report(y_test, predicho_kvecinos))"
      ],
      "execution_count": 0,
      "outputs": []
    },
    {
      "metadata": {
        "id": "fg7f8W6t2muM",
        "colab_type": "code",
        "colab": {}
      },
      "cell_type": "code",
      "source": [
        "kvecinos_cmatrix = confusion_matrix(y_test, predicho_kvecinos)\n",
        "kvecinos_accuracy = accuracy_score(y_test, predicho_kvecinos)\n",
        "print(kvecinos_cmatrix)\n",
        "print(kvecinos_accuracy*100)\n",
        "acc.update({'K_Nearest_Neighbors': kvecinos_accuracy*100})"
      ],
      "execution_count": 0,
      "outputs": []
    },
    {
      "metadata": {
        "id": "b4j_lgnORQ9N",
        "colab_type": "text"
      },
      "cell_type": "markdown",
      "source": [
        "Ahora probaremos con el modelo '***Logistic Regression***':"
      ]
    },
    {
      "metadata": {
        "id": "5edCe7NCRnF_",
        "colab_type": "code",
        "colab": {}
      },
      "cell_type": "code",
      "source": [
        "from sklearn.linear_model import LogisticRegression"
      ],
      "execution_count": 0,
      "outputs": []
    },
    {
      "metadata": {
        "id": "jGe-tcNSRnR5",
        "colab_type": "code",
        "colab": {}
      },
      "cell_type": "code",
      "source": [
        "regresion = LogisticRegression()\n",
        "regresion.fit(X_train, y_train)\n",
        "predicho_regresion = regresion.predict(X_test)\n",
        "print(classification_report(y_test, predicho_regresion))"
      ],
      "execution_count": 0,
      "outputs": []
    },
    {
      "metadata": {
        "id": "YEObt680Rnhp",
        "colab_type": "code",
        "colab": {}
      },
      "cell_type": "code",
      "source": [
        "regresion_cmatrix = confusion_matrix(y_test, predicho_regresion)\n",
        "regresion_accuracy = accuracy_score(y_test, predicho_regresion)\n",
        "print(regresion_cmatrix)\n",
        "print(regresion_accuracy*100)\n",
        "acc.update({'Logistic_Regression': regresion_accuracy*100})"
      ],
      "execution_count": 0,
      "outputs": []
    },
    {
      "metadata": {
        "id": "sXh6fYEgIsWx",
        "colab_type": "text"
      },
      "cell_type": "markdown",
      "source": [
        "**Comparando los diferentes modelos**"
      ]
    },
    {
      "metadata": {
        "id": "yVffMmCB2mrX",
        "colab_type": "code",
        "colab": {}
      },
      "cell_type": "code",
      "source": [
        "evaluacion_modelo = pd.DataFrame()\n",
        "evaluacion_modelo['Modelo'] = acc.keys() \n",
        "evaluacion_modelo['Accuracy'] = acc.values()\n",
        "evaluacion_modelo['Precision'] = prec.values()\n",
        "evaluacion_modelo['Recall'] = rec.values()\n",
        "evaluacion_modelo['Area_Under_ROC_Curve'] = auroc.values()\n",
        "evaluacion_modelo"
      ],
      "execution_count": 0,
      "outputs": []
    },
    {
      "metadata": {
        "id": "rZDh_8lP2mog",
        "colab_type": "code",
        "colab": {}
      },
      "cell_type": "code",
      "source": [
        "# Comparamos graficando los valores obtenidos de cada métrica y para cada modelo.\n",
        "# Cargamos la libreria\n",
        "from matplotlib.pyplot import xticks"
      ],
      "execution_count": 0,
      "outputs": []
    },
    {
      "metadata": {
        "id": "9OfAQUI72mkg",
        "colab_type": "code",
        "colab": {}
      },
      "cell_type": "code",
      "source": [
        "fig,ax = plt.subplots(2,2, figsize=(20,20)) \n",
        "plt.suptitle(\"Resultados de los Modelos\", fontsize=20)\n",
        "sns.lineplot(x='Modelo', y='Accuracy',data=evaluacion_modelo, ax = ax[0,0])\n",
        "sns.lineplot(x='Modelo', y='Precision',data=evaluacion_modelo, ax = ax[0,1])\n",
        "sns.lineplot(x='Modelo', y='Area_Under_ROC_Curve',data=evaluacion_modelo, ax = ax[1,0])\n",
        "sns.lineplot(x='Modelo', y='Recall',data=evaluacion_modelo, ax = ax[1,1])\n",
        "xticks(rotation=90)"
      ],
      "execution_count": 0,
      "outputs": []
    },
    {
      "metadata": {
        "id": "KROePJyI2mdH",
        "colab_type": "code",
        "colab": {}
      },
      "cell_type": "code",
      "source": [
        ""
      ],
      "execution_count": 0,
      "outputs": []
    },
    {
      "metadata": {
        "id": "M2tcpUwC2mZI",
        "colab_type": "code",
        "colab": {}
      },
      "cell_type": "code",
      "source": [
        ""
      ],
      "execution_count": 0,
      "outputs": []
    },
    {
      "metadata": {
        "id": "IXU93xMK2mOt",
        "colab_type": "code",
        "colab": {}
      },
      "cell_type": "code",
      "source": [
        ""
      ],
      "execution_count": 0,
      "outputs": []
    },
    {
      "metadata": {
        "id": "qiXulNmJ-Qig",
        "colab_type": "text"
      },
      "cell_type": "markdown",
      "source": [
        "**Principal Component Analysis (PCA)** \n",
        "\n",
        "PCA es esencialmente un método que reduce la dimensión del espacio de características de tal manera que las nuevas variables son ortogonales entre sí (es decir, son independientes o no están correlacionadas), y nos ayuda a poder seleccionar para nuestros modelos solo los componentes que aporten más valor."
      ]
    },
    {
      "metadata": {
        "id": "vpq9Ch_3jlD3",
        "colab_type": "code",
        "colab": {}
      },
      "cell_type": "code",
      "source": [
        "from sklearn.decomposition import PCA"
      ],
      "execution_count": 0,
      "outputs": []
    },
    {
      "metadata": {
        "id": "Lzd1CM58jxrb",
        "colab_type": "code",
        "colab": {}
      },
      "cell_type": "code",
      "source": [
        "component = PCA()\n",
        "x_component = component.fit_transform(X_test)"
      ],
      "execution_count": 0,
      "outputs": []
    },
    {
      "metadata": {
        "id": "Zz-3r9I8kwCE",
        "colab_type": "code",
        "colab": {
          "base_uri": "https://localhost:8080/",
          "height": 716
        },
        "outputId": "7579c9a1-b7f3-44b4-e544-03e52f90492c"
      },
      "cell_type": "code",
      "source": [
        "# Graficamos para encontrar los principales componentes\n",
        "plt.figure(figsize=(10,12))\n",
        "plt.plot(np.cumsum(component.explained_variance_ratio_), '-.')\n",
        "plt.title(\"Principal Component Analysis (PCA)\")\n",
        "plt.grid()"
      ],
      "execution_count": 288,
      "outputs": [
        {
          "output_type": "display_data",
          "data": {
            "image/png": "[encoded data removed]",
            "text/plain": [
              "<Figure size 720x864 with 1 Axes>"
            ]
          },
          "metadata": {
            "tags": []
          }
        }
      ]
    },
    {
      "metadata": {
        "id": "FIakIHomlrtW",
        "colab_type": "text"
      },
      "cell_type": "markdown",
      "source": [
        "\n",
        "**Comentarios**: Como se puede ver en el gráfico obtenido, todos los componentes aportan valor, no obstante hay 8 de ellos que contribuyen al 90% de la variación de los datos. "
      ]
    },
    {
      "metadata": {
        "id": "moimZALGlq6V",
        "colab_type": "code",
        "colab": {}
      },
      "cell_type": "code",
      "source": [
        "# Elegiremos los primeros 8 componentes para nuestra predicción\n",
        "component_new = PCA(n_components=8)\n",
        "x_new = component_new.fit_transform(X_test)"
      ],
      "execution_count": 0,
      "outputs": []
    },
    {
      "metadata": {
        "id": "MFBtPJkBx_iU",
        "colab_type": "code",
        "colab": {}
      },
      "cell_type": "code",
      "source": [
        "### Los principales componentes #"
      ],
      "execution_count": 0,
      "outputs": []
    },
    {
      "metadata": {
        "id": "9EZsERUasDla",
        "colab_type": "code",
        "colab": {
          "base_uri": "https://localhost:8080/",
          "height": 256
        },
        "outputId": "0de2552d-03ee-4bf5-bfbf-bcacd016e1c8"
      },
      "cell_type": "code",
      "source": [
        "# comprobamos los resultados\n",
        "print(x_new)"
      ],
      "execution_count": 280,
      "outputs": [
        {
          "output_type": "stream",
          "text": [
            "[[-0.01031445 -0.71397393 -0.49575586 ...  0.35712678  0.70609523\n",
            "  -0.94495313]\n",
            " [-1.10840193 -1.26226274  0.8304654  ...  0.13336474  0.27592237\n",
            "   0.07424593]\n",
            " [ 1.24554235 -1.04386487 -0.79286777 ... -1.20624652 -0.61704359\n",
            "  -0.70329803]\n",
            " ...\n",
            " [-0.16577063 -0.9347263  -1.13220458 ...  1.37964534  0.0632857\n",
            "  -0.05957994]\n",
            " [ 1.33147003  1.20682656 -0.02772343 ...  0.70659167  0.34346809\n",
            "   0.1801763 ]\n",
            " [-1.84856735 -1.5262699  -2.10698899 ...  0.05662039 -0.64992871\n",
            "   0.21812915]]\n"
          ],
          "name": "stdout"
        }
      ]
    },
    {
      "metadata": {
        "id": "oxWxYhapwP3A",
        "colab_type": "text"
      },
      "cell_type": "markdown",
      "source": [
        "#### De ahora en adelante, usaramos solo estas 8 variables y eliminaremos las variables menos importantes del modelo."
      ]
    },
    {
      "metadata": {
        "id": "lZJ8pxwGybmR",
        "colab_type": "text"
      },
      "cell_type": "markdown",
      "source": [
        "Dividiremos nuevamente nuestro dataset:"
      ]
    },
    {
      "metadata": {
        "id": "XRGb-tuquEc7",
        "colab_type": "code",
        "colab": {}
      },
      "cell_type": "code",
      "source": [
        "# Dividimos el dataset en 2 partes: train y test\n",
        "from sklearn.model_selection import train_test_split\n",
        "X_train, X_test, y_train, y_test = train_test_split(x_new, y, test_size = 0.2, random_state = 42)"
      ],
      "execution_count": 0,
      "outputs": []
    },
    {
      "metadata": {
        "id": "EJbvm1eKuCsb",
        "colab_type": "code",
        "colab": {}
      },
      "cell_type": "code",
      "source": [
        ""
      ],
      "execution_count": 0,
      "outputs": []
    },
    {
      "metadata": {
        "id": "keJVpfh914nR",
        "colab_type": "code",
        "colab": {}
      },
      "cell_type": "code",
      "source": [
        "\n"
      ],
      "execution_count": 0,
      "outputs": []
    },
    {
      "metadata": {
        "id": "AQoPBuHc149u",
        "colab_type": "code",
        "colab": {}
      },
      "cell_type": "code",
      "source": [
        ""
      ],
      "execution_count": 0,
      "outputs": []
    },
    {
      "metadata": {
        "id": "DUtuqZ4U14dh",
        "colab_type": "code",
        "colab": {}
      },
      "cell_type": "code",
      "source": [
        ""
      ],
      "execution_count": 0,
      "outputs": []
    },
    {
      "metadata": {
        "id": "Ao8vOxn6vsjq",
        "colab_type": "code",
        "colab": {}
      },
      "cell_type": "code",
      "source": [
        ""
      ],
      "execution_count": 0,
      "outputs": []
    },
    {
      "metadata": {
        "id": "vyzkcDL5UsFg",
        "colab_type": "code",
        "colab": {}
      },
      "cell_type": "code",
      "source": [
        ""
      ],
      "execution_count": 0,
      "outputs": []
    },
    {
      "metadata": {
        "id": "-87w8NpKUsJd",
        "colab_type": "code",
        "colab": {}
      },
      "cell_type": "code",
      "source": [
        ""
      ],
      "execution_count": 0,
      "outputs": []
    },
    {
      "metadata": {
        "id": "nRC9b0exUsBN",
        "colab_type": "code",
        "colab": {}
      },
      "cell_type": "code",
      "source": [
        ""
      ],
      "execution_count": 0,
      "outputs": []
    },
    {
      "metadata": {
        "id": "TDVIg5SWHUzM",
        "colab_type": "code",
        "colab": {}
      },
      "cell_type": "code",
      "source": [
        ""
      ],
      "execution_count": 0,
      "outputs": []
    },
    {
      "metadata": {
        "id": "iUfvGdEHIpZF",
        "colab_type": "code",
        "colab": {}
      },
      "cell_type": "code",
      "source": [
        ""
      ],
      "execution_count": 0,
      "outputs": []
    },
    {
      "metadata": {
        "id": "aogOMm1FYDv3",
        "colab_type": "code",
        "colab": {}
      },
      "cell_type": "code",
      "source": [
        ""
      ],
      "execution_count": 0,
      "outputs": []
    },
    {
      "metadata": {
        "id": "Bcn2W7IZoB_C",
        "colab_type": "code",
        "colab": {}
      },
      "cell_type": "code",
      "source": [
        ""
      ],
      "execution_count": 0,
      "outputs": []
    },
    {
      "metadata": {
        "id": "fAlnkxAbYDXx",
        "colab_type": "code",
        "colab": {}
      },
      "cell_type": "code",
      "source": [
        ""
      ],
      "execution_count": 0,
      "outputs": []
    },
    {
      "metadata": {
        "id": "W0EICpPYWZ9b",
        "colab_type": "code",
        "colab": {}
      },
      "cell_type": "code",
      "source": [
        ""
      ],
      "execution_count": 0,
      "outputs": []
    },
    {
      "metadata": {
        "id": "j3PpRXzaWaE6",
        "colab_type": "code",
        "colab": {}
      },
      "cell_type": "code",
      "source": [
        ""
      ],
      "execution_count": 0,
      "outputs": []
    },
    {
      "metadata": {
        "id": "INzVmeFzWZ2s",
        "colab_type": "code",
        "colab": {}
      },
      "cell_type": "code",
      "source": [
        ""
      ],
      "execution_count": 0,
      "outputs": []
    },
    {
      "metadata": {
        "id": "3MnS_YX3AMHq",
        "colab_type": "code",
        "colab": {}
      },
      "cell_type": "code",
      "source": [
        ""
      ],
      "execution_count": 0,
      "outputs": []
    },
    {
      "metadata": {
        "id": "YgSoEbxuAMKs",
        "colab_type": "code",
        "colab": {}
      },
      "cell_type": "code",
      "source": [
        ""
      ],
      "execution_count": 0,
      "outputs": []
    },
    {
      "metadata": {
        "id": "YWSSEbPHCVdE",
        "colab_type": "code",
        "colab": {}
      },
      "cell_type": "code",
      "source": [
        ""
      ],
      "execution_count": 0,
      "outputs": []
    },
    {
      "metadata": {
        "id": "fmtsADrOCVjO",
        "colab_type": "code",
        "colab": {}
      },
      "cell_type": "code",
      "source": [
        ""
      ],
      "execution_count": 0,
      "outputs": []
    },
    {
      "metadata": {
        "id": "_EkxdKVTCVgR",
        "colab_type": "code",
        "colab": {}
      },
      "cell_type": "code",
      "source": [
        ""
      ],
      "execution_count": 0,
      "outputs": []
    },
    {
      "metadata": {
        "id": "nnI6uNtBCVl8",
        "colab_type": "code",
        "colab": {}
      },
      "cell_type": "code",
      "source": [
        ""
      ],
      "execution_count": 0,
      "outputs": []
    },
    {
      "metadata": {
        "id": "vEQ7E5sPCVW0",
        "colab_type": "code",
        "colab": {}
      },
      "cell_type": "code",
      "source": [
        ""
      ],
      "execution_count": 0,
      "outputs": []
    },
    {
      "metadata": {
        "id": "-LTEy_8Is3Zn",
        "colab_type": "text"
      },
      "cell_type": "markdown",
      "source": [
        ""
      ]
    },
    {
      "metadata": {
        "id": "oVJNbs1AvWGh",
        "colab_type": "code",
        "colab": {}
      },
      "cell_type": "code",
      "source": [
        ""
      ],
      "execution_count": 0,
      "outputs": []
    },
    {
      "metadata": {
        "id": "iv_IIEeC2W-J",
        "colab_type": "code",
        "colab": {}
      },
      "cell_type": "code",
      "source": [
        ""
      ],
      "execution_count": 0,
      "outputs": []
    },
    {
      "metadata": {
        "id": "1B8w7WtB2XBd",
        "colab_type": "code",
        "colab": {}
      },
      "cell_type": "code",
      "source": [
        ""
      ],
      "execution_count": 0,
      "outputs": []
    }
  ]
}