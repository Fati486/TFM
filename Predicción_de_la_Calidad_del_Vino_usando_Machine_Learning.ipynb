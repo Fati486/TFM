{
  "nbformat": 4,
  "nbformat_minor": 0,
  "metadata": {
    "colab": {
      "name": "Predicción de la Calidad del Vino usando Machine Learning.ipynb",
      "version": "0.3.2",
      "provenance": [],
      "collapsed_sections": []
    },
    "kernelspec": {
      "name": "python3",
      "display_name": "Python 3"
    },
    "accelerator": "GPU"
  },
  "cells": [
    {
      "metadata": {
        "id": "XysaW8XfSpSm",
        "colab_type": "text"
      },
      "cell_type": "markdown",
      "source": [
        "\n",
        "## Parte 1- Carga del Dataset\n",
        "\n",
        "### **Introducción**\n",
        "Este proyecto explora principalmente la relación existente entre la calidad del vino y las variables fisicoquímicas y sensoriales del mismo (como por ejemplo la ácidez, el pH, y el alcohol). El objetivo principal es análizar cuales de estas variables hacen que un vino sea considerado bueno.\n",
        "\n",
        "Para el desarrollo del proyecto se ha utilizado el Dataset (winequalityX2.csv) sobre diferentes muestras de vino. Este dataset ha sido obtenido de la página https://www.kaggle.com/, con própositos de aprendizaje, y consta de 1599 filas y 12 columnas de atributos physicoquímicos (Ej: pH) y sensoriales (calidad percibida). Los valores de calidad de este dataset están basados en la media de al menos 3 evaluaciones hechas por expertos, donde cada experto calificó la calidad del vino entre 0 (muy malo) y 10 (excelente). \n",
        "\n",
        "A continuación se muestran las variables de los que consta nuestro dataset:\n",
        "1.     fixed acidity\n",
        "2.     volatile acidity\n",
        "3.     citric acid\n",
        "4.     residual sugar\n",
        "5.     chlorides\n",
        "6.     free sulfur dioxide\n",
        "7.     total sulfur dioxide\n",
        "8.     density\n",
        "9.     pH\n",
        "10.   sulphates\n",
        "11.   alcohol\n",
        "12.   quality (calificación entre 0 y 10 basada en la percepción sensorial de los usuarios) \n",
        "\n",
        "Para la exploración y el análisis de los datos se utilizó gráficos (como seaborn y ggplot), y varios algoritmos de aprendizaje automático para determinar qué propiedades fisicoquímicas poseen un mayor impacto en la calidad de un vino.\n",
        "\n",
        "####**Entorno de Desarrollo**\n",
        "\n",
        "El entorno de trabajo para el desarrollo del código y la elaboración del proyecto ha sido la plataforma Google Colaboratory, no obstante; el correcto funcionamiento del código también se ha validado en el entorno de la máquina virtual facilitada por la escuela Kschool (Jupyter Notebook).\n",
        "\n",
        "Los notebooks subidos serán los validados desde la máquina virtual, no obstante, se dejará comentado el código utilizado en la fase de desarrollo desde la plataforma google colaboratory.\n",
        "\n",
        "\n",
        "\n",
        "\n"
      ]
    },
    {
      "metadata": {
        "id": "K9bVjkKT5WF4",
        "colab_type": "code",
        "outputId": "eff1abd4-1519-4321-c054-bea1e6780fa6",
        "colab": {
          "base_uri": "https://localhost:8080/",
          "height": 331
        }
      },
      "cell_type": "code",
      "source": [
        "# Instalando librerias\n",
        "!pip install seaborn --upgrade catplot"
      ],
      "execution_count": 1,
      "outputs": [
        {
          "output_type": "stream",
          "text": [
            "Requirement already up-to-date: seaborn in /usr/local/lib/python3.6/dist-packages (0.9.0)\n",
            "Collecting catplot\n",
            "  Downloading https://files.pythonhosted.org/packages/5e/f0/222e53d17e303da6752972c60efcf881a15002f8df2689b50c0759154435/catplot-1.3.3-py2.py3-none-any.whl\n",
            "Requirement already satisfied, skipping upgrade: numpy>=1.9.3 in /usr/local/lib/python3.6/dist-packages (from seaborn) (1.16.2)\n",
            "Requirement already satisfied, skipping upgrade: matplotlib>=1.4.3 in /usr/local/lib/python3.6/dist-packages (from seaborn) (3.0.3)\n",
            "Requirement already satisfied, skipping upgrade: pandas>=0.15.2 in /usr/local/lib/python3.6/dist-packages (from seaborn) (0.23.4)\n",
            "Requirement already satisfied, skipping upgrade: scipy>=0.14.0 in /usr/local/lib/python3.6/dist-packages (from seaborn) (1.2.1)\n",
            "Requirement already satisfied, skipping upgrade: pyparsing!=2.0.4,!=2.1.2,!=2.1.6,>=2.0.1 in /usr/local/lib/python3.6/dist-packages (from matplotlib>=1.4.3->seaborn) (2.4.0)\n",
            "Requirement already satisfied, skipping upgrade: python-dateutil>=2.1 in /usr/local/lib/python3.6/dist-packages (from matplotlib>=1.4.3->seaborn) (2.5.3)\n",
            "Requirement already satisfied, skipping upgrade: kiwisolver>=1.0.1 in /usr/local/lib/python3.6/dist-packages (from matplotlib>=1.4.3->seaborn) (1.0.1)\n",
            "Requirement already satisfied, skipping upgrade: cycler>=0.10 in /usr/local/lib/python3.6/dist-packages (from matplotlib>=1.4.3->seaborn) (0.10.0)\n",
            "Requirement already satisfied, skipping upgrade: pytz>=2011k in /usr/local/lib/python3.6/dist-packages (from pandas>=0.15.2->seaborn) (2018.9)\n",
            "Requirement already satisfied, skipping upgrade: six>=1.5 in /usr/local/lib/python3.6/dist-packages (from python-dateutil>=2.1->matplotlib>=1.4.3->seaborn) (1.11.0)\n",
            "Requirement already satisfied, skipping upgrade: setuptools in /usr/local/lib/python3.6/dist-packages (from kiwisolver>=1.0.1->matplotlib>=1.4.3->seaborn) (40.9.0)\n",
            "Installing collected packages: catplot\n",
            "Successfully installed catplot-1.3.3\n"
          ],
          "name": "stdout"
        }
      ]
    },
    {
      "metadata": {
        "id": "6WToEqyOfVYH",
        "colab_type": "code",
        "colab": {}
      },
      "cell_type": "code",
      "source": [
        "# Cargando otras librerias\n",
        "import pandas as pd\n",
        "from sklearn.svm import SVC\n",
        "import matplotlib.pyplot as plt\n",
        "import seaborn as sns\n",
        "import numpy as np\n",
        "%matplotlib inline\n",
        "\n",
        "# Ignore  the warnings\n",
        "import warnings\n",
        "warnings.filterwarnings('always')\n",
        "warnings.filterwarnings('ignore')"
      ],
      "execution_count": 0,
      "outputs": []
    },
    {
      "metadata": {
        "id": "zVzmsACehg0o",
        "colab_type": "code",
        "colab": {
          "base_uri": "https://localhost:8080/",
          "height": 54
        },
        "outputId": "bbefaa89-d56e-445d-be79-09927d8f7635"
      },
      "cell_type": "code",
      "source": [
        "# Autenticación y autorización en google drive\n",
        "!pip install -U -q PyDrive\n",
        "from pydrive.auth import GoogleAuth\n",
        "from pydrive.drive import GoogleDrive\n",
        "from google.colab import auth\n",
        "from oauth2client.client import GoogleCredentials\n",
        "\n",
        "auth.authenticate_user()\n",
        "gauth = GoogleAuth()\n",
        "gauth.credentials = GoogleCredentials.get_application_default()\n",
        "drive = GoogleDrive(gauth)"
      ],
      "execution_count": 3,
      "outputs": [
        {
          "output_type": "stream",
          "text": [
            "\u001b[?25l\r\u001b[K    1% |▎                               | 10kB 22.1MB/s eta 0:00:01\r\u001b[K    2% |▋                               | 20kB 28.1MB/s eta 0:00:01\r\u001b[K    3% |█                               | 30kB 33.3MB/s eta 0:00:01\r\u001b[K    4% |█▎                              | 40kB 34.1MB/s eta 0:00:01\r\u001b[K    5% |█▋                              | 51kB 36.9MB/s eta 0:00:01\r\u001b[K    6% |██                              | 61kB 39.8MB/s eta 0:00:01\r\u001b[K    7% |██▎                             | 71kB 30.1MB/s eta 0:00:01\r\u001b[K    8% |██▋                             | 81kB 31.3MB/s eta 0:00:01\r\u001b[K    9% |███                             | 92kB 33.2MB/s eta 0:00:01\r\u001b[K    10% |███▎                            | 102kB 33.4MB/s eta 0:00:01\r\u001b[K    11% |███▋                            | 112kB 35.7MB/s eta 0:00:01\r\u001b[K    12% |████                            | 122kB 37.0MB/s eta 0:00:01\r\u001b[K    13% |████▎                           | 133kB 27.5MB/s eta 0:00:01\r\u001b[K    14% |████▋                           | 143kB 28.1MB/s eta 0:00:01\r\u001b[K    15% |█████                           | 153kB 28.2MB/s eta 0:00:01\r\u001b[K    16% |█████▎                          | 163kB 23.1MB/s eta 0:00:01\r\u001b[K    17% |█████▋                          | 174kB 25.7MB/s eta 0:00:01\r\u001b[K    18% |██████                          | 184kB 26.0MB/s eta 0:00:01\r\u001b[K    19% |██████▎                         | 194kB 25.9MB/s eta 0:00:01\r\u001b[K    20% |██████▋                         | 204kB 24.4MB/s eta 0:00:01\r\u001b[K    21% |███████                         | 215kB 24.7MB/s eta 0:00:01\r\u001b[K    22% |███████▎                        | 225kB 24.8MB/s eta 0:00:01\r\u001b[K    23% |███████▋                        | 235kB 32.1MB/s eta 0:00:01\r\u001b[K    24% |████████                        | 245kB 32.2MB/s eta 0:00:01\r\u001b[K    25% |████████▎                       | 256kB 32.0MB/s eta 0:00:01\r\u001b[K    26% |████████▋                       | 266kB 37.7MB/s eta 0:00:01\r\u001b[K    27% |█████████                       | 276kB 41.1MB/s eta 0:00:01\r\u001b[K    29% |█████████▎                      | 286kB 41.6MB/s eta 0:00:01\r\u001b[K    30% |█████████▋                      | 296kB 40.8MB/s eta 0:00:01\r\u001b[K    31% |██████████                      | 307kB 47.8MB/s eta 0:00:01\r\u001b[K    32% |██████████▎                     | 317kB 48.7MB/s eta 0:00:01\r\u001b[K    33% |██████████▋                     | 327kB 45.0MB/s eta 0:00:01\r\u001b[K    34% |███████████                     | 337kB 45.8MB/s eta 0:00:01\r\u001b[K    35% |███████████▎                    | 348kB 38.2MB/s eta 0:00:01\r\u001b[K    36% |███████████▋                    | 358kB 38.2MB/s eta 0:00:01\r\u001b[K    37% |████████████                    | 368kB 40.7MB/s eta 0:00:01\r\u001b[K    38% |████████████▎                   | 378kB 39.1MB/s eta 0:00:01\r\u001b[K    39% |████████████▋                   | 389kB 38.7MB/s eta 0:00:01\r\u001b[K    40% |█████████████                   | 399kB 38.2MB/s eta 0:00:01\r\u001b[K    41% |█████████████▎                  | 409kB 35.6MB/s eta 0:00:01\r\u001b[K    42% |█████████████▋                  | 419kB 35.1MB/s eta 0:00:01\r\u001b[K    43% |██████████████                  | 430kB 36.1MB/s eta 0:00:01\r\u001b[K    44% |██████████████▎                 | 440kB 35.4MB/s eta 0:00:01\r\u001b[K    45% |██████████████▋                 | 450kB 37.5MB/s eta 0:00:01\r\u001b[K    46% |███████████████                 | 460kB 36.3MB/s eta 0:00:01\r\u001b[K    47% |███████████████▎                | 471kB 37.5MB/s eta 0:00:01\r\u001b[K    48% |███████████████▋                | 481kB 36.2MB/s eta 0:00:01\r\u001b[K    49% |████████████████                | 491kB 34.9MB/s eta 0:00:01\r\u001b[K    50% |████████████████▎               | 501kB 35.6MB/s eta 0:00:01\r\u001b[K    51% |████████████████▋               | 512kB 34.2MB/s eta 0:00:01\r\u001b[K    52% |█████████████████               | 522kB 33.9MB/s eta 0:00:01\r\u001b[K    53% |█████████████████▎              | 532kB 34.2MB/s eta 0:00:01\r\u001b[K    54% |█████████████████▋              | 542kB 34.8MB/s eta 0:00:01\r\u001b[K    55% |██████████████████              | 552kB 38.5MB/s eta 0:00:01\r\u001b[K    57% |██████████████████▎             | 563kB 40.0MB/s eta 0:00:01\r\u001b[K    58% |██████████████████▋             | 573kB 40.3MB/s eta 0:00:01\r\u001b[K    59% |███████████████████             | 583kB 42.7MB/s eta 0:00:01\r\u001b[K    60% |███████████████████▎            | 593kB 43.9MB/s eta 0:00:01\r\u001b[K    61% |███████████████████▋            | 604kB 44.2MB/s eta 0:00:01\r\u001b[K    62% |████████████████████            | 614kB 49.7MB/s eta 0:00:01\r\u001b[K    63% |████████████████████▎           | 624kB 50.1MB/s eta 0:00:01\r\u001b[K    64% |████████████████████▋           | 634kB 50.9MB/s eta 0:00:01\r\u001b[K    65% |█████████████████████           | 645kB 51.0MB/s eta 0:00:01\r\u001b[K    66% |█████████████████████▎          | 655kB 50.7MB/s eta 0:00:01\r\u001b[K    67% |█████████████████████▋          | 665kB 40.6MB/s eta 0:00:01\r\u001b[K    68% |██████████████████████          | 675kB 40.4MB/s eta 0:00:01\r\u001b[K    69% |██████████████████████▎         | 686kB 40.9MB/s eta 0:00:01\r\u001b[K    70% |██████████████████████▋         | 696kB 42.4MB/s eta 0:00:01\r\u001b[K    71% |███████████████████████         | 706kB 43.2MB/s eta 0:00:01\r\u001b[K    72% |███████████████████████▎        | 716kB 44.2MB/s eta 0:00:01\r\u001b[K    73% |███████████████████████▋        | 727kB 44.5MB/s eta 0:00:01\r\u001b[K    74% |████████████████████████        | 737kB 44.0MB/s eta 0:00:01\r\u001b[K    75% |████████████████████████▎       | 747kB 44.1MB/s eta 0:00:01\r\u001b[K    76% |████████████████████████▋       | 757kB 44.6MB/s eta 0:00:01\r\u001b[K    77% |████████████████████████▉       | 768kB 59.1MB/s eta 0:00:01\r\u001b[K    78% |█████████████████████████▏      | 778kB 60.2MB/s eta 0:00:01\r\u001b[K    79% |█████████████████████████▌      | 788kB 58.6MB/s eta 0:00:01\r\u001b[K    80% |█████████████████████████▉      | 798kB 57.7MB/s eta 0:00:01\r\u001b[K    81% |██████████████████████████▏     | 808kB 56.3MB/s eta 0:00:01\r\u001b[K    82% |██████████████████████████▌     | 819kB 56.0MB/s eta 0:00:01\r\u001b[K    83% |██████████████████████████▉     | 829kB 58.3MB/s eta 0:00:01\r\u001b[K    85% |███████████████████████████▏    | 839kB 58.5MB/s eta 0:00:01\r\u001b[K    86% |███████████████████████████▌    | 849kB 58.7MB/s eta 0:00:01\r\u001b[K    87% |███████████████████████████▉    | 860kB 50.8MB/s eta 0:00:01\r\u001b[K    88% |████████████████████████████▏   | 870kB 50.1MB/s eta 0:00:01\r\u001b[K    89% |████████████████████████████▌   | 880kB 50.9MB/s eta 0:00:01\r\u001b[K    90% |████████████████████████████▉   | 890kB 53.4MB/s eta 0:00:01\r\u001b[K    91% |█████████████████████████████▏  | 901kB 54.2MB/s eta 0:00:01\r\u001b[K    92% |█████████████████████████████▌  | 911kB 54.4MB/s eta 0:00:01\r\u001b[K    93% |█████████████████████████████▉  | 921kB 54.1MB/s eta 0:00:01\r\u001b[K    94% |██████████████████████████████▏ | 931kB 53.9MB/s eta 0:00:01\r\u001b[K    95% |██████████████████████████████▌ | 942kB 55.3MB/s eta 0:00:01\r\u001b[K    96% |██████████████████████████████▉ | 952kB 55.4MB/s eta 0:00:01\r\u001b[K    97% |███████████████████████████████▏| 962kB 65.4MB/s eta 0:00:01\r\u001b[K    98% |███████████████████████████████▌| 972kB 63.2MB/s eta 0:00:01\r\u001b[K    99% |███████████████████████████████▉| 983kB 61.6MB/s eta 0:00:01\r\u001b[K    100% |████████████████████████████████| 993kB 22.1MB/s \n",
            "\u001b[?25h  Building wheel for PyDrive (setup.py) ... \u001b[?25ldone\n",
            "\u001b[?25h"
          ],
          "name": "stdout"
        }
      ]
    },
    {
      "metadata": {
        "id": "DyZzuBcTmLtH",
        "colab_type": "code",
        "colab": {}
      },
      "cell_type": "code",
      "source": [
        "# Carga del Fichero desde GoogleDrive\n",
        "file_id = '14dMLG12VMVRQodfEJ5iQz7tgBPYzOQJP'    \n",
        "downloaded = drive.CreateFile({'id': file_id})\n",
        "downloaded.GetContentFile(\"winequalityX2.csv\")  "
      ],
      "execution_count": 0,
      "outputs": []
    },
    {
      "metadata": {
        "id": "svW_AlUxmMR4",
        "colab_type": "code",
        "outputId": "5916242a-a6a8-4607-f14b-74ec54339882",
        "colab": {
          "base_uri": "https://localhost:8080/",
          "height": 35
        }
      },
      "cell_type": "code",
      "source": [
        "!ls"
      ],
      "execution_count": 6,
      "outputs": [
        {
          "output_type": "stream",
          "text": [
            "adc.json  sample_data  winequalityX2.csv\n"
          ],
          "name": "stdout"
        }
      ]
    },
    {
      "metadata": {
        "id": "s3c3KdypeWxE",
        "colab_type": "code",
        "outputId": "9c824841-fa7f-4b86-f43a-acbcbb4edb7b",
        "colab": {
          "base_uri": "https://localhost:8080/",
          "height": 694
        }
      },
      "cell_type": "code",
      "source": [
        "# Carga del Dataset winequalityX2.csv\n",
        "wineX = pd.read_csv('winequalityX2.csv')\n",
        "\n",
        "# Obtenemos una muestra de 20 registros\n",
        "wineX.head(20)\n"
      ],
      "execution_count": 7,
      "outputs": [
        {
          "output_type": "execute_result",
          "data": {
            "text/html": [
              "<div>\n",
              "<style scoped>\n",
              "    .dataframe tbody tr th:only-of-type {\n",
              "        vertical-align: middle;\n",
              "    }\n",
              "\n",
              "    .dataframe tbody tr th {\n",
              "        vertical-align: top;\n",
              "    }\n",
              "\n",
              "    .dataframe thead th {\n",
              "        text-align: right;\n",
              "    }\n",
              "</style>\n",
              "<table border=\"1\" class=\"dataframe\">\n",
              "  <thead>\n",
              "    <tr style=\"text-align: right;\">\n",
              "      <th></th>\n",
              "      <th>fixed acidity</th>\n",
              "      <th>volatile acidity</th>\n",
              "      <th>citric acid</th>\n",
              "      <th>residual sugar</th>\n",
              "      <th>chlorides</th>\n",
              "      <th>free sulfur dioxide</th>\n",
              "      <th>total sulfur dioxide</th>\n",
              "      <th>density</th>\n",
              "      <th>pH</th>\n",
              "      <th>sulphates</th>\n",
              "      <th>alcohol</th>\n",
              "      <th>quality</th>\n",
              "    </tr>\n",
              "  </thead>\n",
              "  <tbody>\n",
              "    <tr>\n",
              "      <th>0</th>\n",
              "      <td>7.4</td>\n",
              "      <td>0.700</td>\n",
              "      <td>0.00</td>\n",
              "      <td>1.9</td>\n",
              "      <td>0.076</td>\n",
              "      <td>11.0</td>\n",
              "      <td>34.0</td>\n",
              "      <td>0.9978</td>\n",
              "      <td>3.51</td>\n",
              "      <td>0.56</td>\n",
              "      <td>9.4</td>\n",
              "      <td>5</td>\n",
              "    </tr>\n",
              "    <tr>\n",
              "      <th>1</th>\n",
              "      <td>7.8</td>\n",
              "      <td>0.880</td>\n",
              "      <td>0.00</td>\n",
              "      <td>2.6</td>\n",
              "      <td>0.098</td>\n",
              "      <td>25.0</td>\n",
              "      <td>67.0</td>\n",
              "      <td>0.9968</td>\n",
              "      <td>3.20</td>\n",
              "      <td>0.68</td>\n",
              "      <td>9.8</td>\n",
              "      <td>5</td>\n",
              "    </tr>\n",
              "    <tr>\n",
              "      <th>2</th>\n",
              "      <td>7.8</td>\n",
              "      <td>0.760</td>\n",
              "      <td>0.04</td>\n",
              "      <td>2.3</td>\n",
              "      <td>0.092</td>\n",
              "      <td>15.0</td>\n",
              "      <td>54.0</td>\n",
              "      <td>0.9970</td>\n",
              "      <td>3.26</td>\n",
              "      <td>0.65</td>\n",
              "      <td>9.8</td>\n",
              "      <td>5</td>\n",
              "    </tr>\n",
              "    <tr>\n",
              "      <th>3</th>\n",
              "      <td>11.2</td>\n",
              "      <td>0.280</td>\n",
              "      <td>0.56</td>\n",
              "      <td>1.9</td>\n",
              "      <td>0.075</td>\n",
              "      <td>17.0</td>\n",
              "      <td>60.0</td>\n",
              "      <td>0.9980</td>\n",
              "      <td>3.16</td>\n",
              "      <td>0.58</td>\n",
              "      <td>9.8</td>\n",
              "      <td>6</td>\n",
              "    </tr>\n",
              "    <tr>\n",
              "      <th>4</th>\n",
              "      <td>7.4</td>\n",
              "      <td>0.700</td>\n",
              "      <td>0.00</td>\n",
              "      <td>1.9</td>\n",
              "      <td>0.076</td>\n",
              "      <td>11.0</td>\n",
              "      <td>34.0</td>\n",
              "      <td>0.9978</td>\n",
              "      <td>3.51</td>\n",
              "      <td>0.56</td>\n",
              "      <td>9.4</td>\n",
              "      <td>5</td>\n",
              "    </tr>\n",
              "    <tr>\n",
              "      <th>5</th>\n",
              "      <td>7.4</td>\n",
              "      <td>0.660</td>\n",
              "      <td>0.00</td>\n",
              "      <td>1.8</td>\n",
              "      <td>0.075</td>\n",
              "      <td>13.0</td>\n",
              "      <td>40.0</td>\n",
              "      <td>0.9978</td>\n",
              "      <td>3.51</td>\n",
              "      <td>0.56</td>\n",
              "      <td>9.4</td>\n",
              "      <td>5</td>\n",
              "    </tr>\n",
              "    <tr>\n",
              "      <th>6</th>\n",
              "      <td>7.9</td>\n",
              "      <td>0.600</td>\n",
              "      <td>0.06</td>\n",
              "      <td>1.6</td>\n",
              "      <td>0.069</td>\n",
              "      <td>15.0</td>\n",
              "      <td>59.0</td>\n",
              "      <td>0.9964</td>\n",
              "      <td>3.30</td>\n",
              "      <td>0.46</td>\n",
              "      <td>9.4</td>\n",
              "      <td>5</td>\n",
              "    </tr>\n",
              "    <tr>\n",
              "      <th>7</th>\n",
              "      <td>7.3</td>\n",
              "      <td>0.650</td>\n",
              "      <td>0.00</td>\n",
              "      <td>1.2</td>\n",
              "      <td>0.065</td>\n",
              "      <td>15.0</td>\n",
              "      <td>21.0</td>\n",
              "      <td>0.9946</td>\n",
              "      <td>3.39</td>\n",
              "      <td>0.47</td>\n",
              "      <td>10.0</td>\n",
              "      <td>7</td>\n",
              "    </tr>\n",
              "    <tr>\n",
              "      <th>8</th>\n",
              "      <td>7.8</td>\n",
              "      <td>0.580</td>\n",
              "      <td>0.02</td>\n",
              "      <td>2.0</td>\n",
              "      <td>0.073</td>\n",
              "      <td>9.0</td>\n",
              "      <td>18.0</td>\n",
              "      <td>0.9968</td>\n",
              "      <td>3.36</td>\n",
              "      <td>0.57</td>\n",
              "      <td>9.5</td>\n",
              "      <td>7</td>\n",
              "    </tr>\n",
              "    <tr>\n",
              "      <th>9</th>\n",
              "      <td>7.5</td>\n",
              "      <td>0.500</td>\n",
              "      <td>0.36</td>\n",
              "      <td>6.1</td>\n",
              "      <td>0.071</td>\n",
              "      <td>17.0</td>\n",
              "      <td>102.0</td>\n",
              "      <td>0.9978</td>\n",
              "      <td>3.35</td>\n",
              "      <td>0.80</td>\n",
              "      <td>10.5</td>\n",
              "      <td>5</td>\n",
              "    </tr>\n",
              "    <tr>\n",
              "      <th>10</th>\n",
              "      <td>6.7</td>\n",
              "      <td>0.580</td>\n",
              "      <td>0.08</td>\n",
              "      <td>1.8</td>\n",
              "      <td>0.097</td>\n",
              "      <td>15.0</td>\n",
              "      <td>65.0</td>\n",
              "      <td>0.9959</td>\n",
              "      <td>3.28</td>\n",
              "      <td>0.54</td>\n",
              "      <td>9.2</td>\n",
              "      <td>5</td>\n",
              "    </tr>\n",
              "    <tr>\n",
              "      <th>11</th>\n",
              "      <td>7.5</td>\n",
              "      <td>0.500</td>\n",
              "      <td>0.36</td>\n",
              "      <td>6.1</td>\n",
              "      <td>0.071</td>\n",
              "      <td>17.0</td>\n",
              "      <td>102.0</td>\n",
              "      <td>0.9978</td>\n",
              "      <td>3.35</td>\n",
              "      <td>0.80</td>\n",
              "      <td>10.5</td>\n",
              "      <td>5</td>\n",
              "    </tr>\n",
              "    <tr>\n",
              "      <th>12</th>\n",
              "      <td>5.6</td>\n",
              "      <td>0.615</td>\n",
              "      <td>0.00</td>\n",
              "      <td>1.6</td>\n",
              "      <td>0.089</td>\n",
              "      <td>16.0</td>\n",
              "      <td>59.0</td>\n",
              "      <td>0.9943</td>\n",
              "      <td>3.58</td>\n",
              "      <td>0.52</td>\n",
              "      <td>9.9</td>\n",
              "      <td>5</td>\n",
              "    </tr>\n",
              "    <tr>\n",
              "      <th>13</th>\n",
              "      <td>7.8</td>\n",
              "      <td>0.610</td>\n",
              "      <td>0.29</td>\n",
              "      <td>1.6</td>\n",
              "      <td>0.114</td>\n",
              "      <td>9.0</td>\n",
              "      <td>29.0</td>\n",
              "      <td>0.9974</td>\n",
              "      <td>3.26</td>\n",
              "      <td>1.56</td>\n",
              "      <td>9.1</td>\n",
              "      <td>5</td>\n",
              "    </tr>\n",
              "    <tr>\n",
              "      <th>14</th>\n",
              "      <td>8.9</td>\n",
              "      <td>0.620</td>\n",
              "      <td>0.18</td>\n",
              "      <td>3.8</td>\n",
              "      <td>0.176</td>\n",
              "      <td>52.0</td>\n",
              "      <td>145.0</td>\n",
              "      <td>0.9986</td>\n",
              "      <td>3.16</td>\n",
              "      <td>0.88</td>\n",
              "      <td>9.2</td>\n",
              "      <td>5</td>\n",
              "    </tr>\n",
              "    <tr>\n",
              "      <th>15</th>\n",
              "      <td>8.9</td>\n",
              "      <td>0.620</td>\n",
              "      <td>0.19</td>\n",
              "      <td>3.9</td>\n",
              "      <td>0.170</td>\n",
              "      <td>51.0</td>\n",
              "      <td>148.0</td>\n",
              "      <td>0.9986</td>\n",
              "      <td>3.17</td>\n",
              "      <td>0.93</td>\n",
              "      <td>9.2</td>\n",
              "      <td>5</td>\n",
              "    </tr>\n",
              "    <tr>\n",
              "      <th>16</th>\n",
              "      <td>8.5</td>\n",
              "      <td>0.280</td>\n",
              "      <td>0.56</td>\n",
              "      <td>1.8</td>\n",
              "      <td>0.092</td>\n",
              "      <td>35.0</td>\n",
              "      <td>103.0</td>\n",
              "      <td>0.9969</td>\n",
              "      <td>3.30</td>\n",
              "      <td>0.75</td>\n",
              "      <td>10.5</td>\n",
              "      <td>7</td>\n",
              "    </tr>\n",
              "    <tr>\n",
              "      <th>17</th>\n",
              "      <td>8.1</td>\n",
              "      <td>0.560</td>\n",
              "      <td>0.28</td>\n",
              "      <td>1.7</td>\n",
              "      <td>0.368</td>\n",
              "      <td>16.0</td>\n",
              "      <td>56.0</td>\n",
              "      <td>0.9968</td>\n",
              "      <td>3.11</td>\n",
              "      <td>1.28</td>\n",
              "      <td>9.3</td>\n",
              "      <td>5</td>\n",
              "    </tr>\n",
              "    <tr>\n",
              "      <th>18</th>\n",
              "      <td>7.4</td>\n",
              "      <td>0.590</td>\n",
              "      <td>0.08</td>\n",
              "      <td>4.4</td>\n",
              "      <td>0.086</td>\n",
              "      <td>6.0</td>\n",
              "      <td>29.0</td>\n",
              "      <td>0.9974</td>\n",
              "      <td>3.38</td>\n",
              "      <td>0.50</td>\n",
              "      <td>9.0</td>\n",
              "      <td>4</td>\n",
              "    </tr>\n",
              "    <tr>\n",
              "      <th>19</th>\n",
              "      <td>7.9</td>\n",
              "      <td>0.320</td>\n",
              "      <td>0.51</td>\n",
              "      <td>1.8</td>\n",
              "      <td>0.341</td>\n",
              "      <td>17.0</td>\n",
              "      <td>56.0</td>\n",
              "      <td>0.9969</td>\n",
              "      <td>3.04</td>\n",
              "      <td>1.08</td>\n",
              "      <td>9.2</td>\n",
              "      <td>6</td>\n",
              "    </tr>\n",
              "  </tbody>\n",
              "</table>\n",
              "</div>"
            ],
            "text/plain": [
              "    fixed acidity  volatile acidity  citric acid  residual sugar  chlorides  \\\n",
              "0             7.4             0.700         0.00             1.9      0.076   \n",
              "1             7.8             0.880         0.00             2.6      0.098   \n",
              "2             7.8             0.760         0.04             2.3      0.092   \n",
              "3            11.2             0.280         0.56             1.9      0.075   \n",
              "4             7.4             0.700         0.00             1.9      0.076   \n",
              "5             7.4             0.660         0.00             1.8      0.075   \n",
              "6             7.9             0.600         0.06             1.6      0.069   \n",
              "7             7.3             0.650         0.00             1.2      0.065   \n",
              "8             7.8             0.580         0.02             2.0      0.073   \n",
              "9             7.5             0.500         0.36             6.1      0.071   \n",
              "10            6.7             0.580         0.08             1.8      0.097   \n",
              "11            7.5             0.500         0.36             6.1      0.071   \n",
              "12            5.6             0.615         0.00             1.6      0.089   \n",
              "13            7.8             0.610         0.29             1.6      0.114   \n",
              "14            8.9             0.620         0.18             3.8      0.176   \n",
              "15            8.9             0.620         0.19             3.9      0.170   \n",
              "16            8.5             0.280         0.56             1.8      0.092   \n",
              "17            8.1             0.560         0.28             1.7      0.368   \n",
              "18            7.4             0.590         0.08             4.4      0.086   \n",
              "19            7.9             0.320         0.51             1.8      0.341   \n",
              "\n",
              "    free sulfur dioxide  total sulfur dioxide  density    pH  sulphates  \\\n",
              "0                  11.0                  34.0   0.9978  3.51       0.56   \n",
              "1                  25.0                  67.0   0.9968  3.20       0.68   \n",
              "2                  15.0                  54.0   0.9970  3.26       0.65   \n",
              "3                  17.0                  60.0   0.9980  3.16       0.58   \n",
              "4                  11.0                  34.0   0.9978  3.51       0.56   \n",
              "5                  13.0                  40.0   0.9978  3.51       0.56   \n",
              "6                  15.0                  59.0   0.9964  3.30       0.46   \n",
              "7                  15.0                  21.0   0.9946  3.39       0.47   \n",
              "8                   9.0                  18.0   0.9968  3.36       0.57   \n",
              "9                  17.0                 102.0   0.9978  3.35       0.80   \n",
              "10                 15.0                  65.0   0.9959  3.28       0.54   \n",
              "11                 17.0                 102.0   0.9978  3.35       0.80   \n",
              "12                 16.0                  59.0   0.9943  3.58       0.52   \n",
              "13                  9.0                  29.0   0.9974  3.26       1.56   \n",
              "14                 52.0                 145.0   0.9986  3.16       0.88   \n",
              "15                 51.0                 148.0   0.9986  3.17       0.93   \n",
              "16                 35.0                 103.0   0.9969  3.30       0.75   \n",
              "17                 16.0                  56.0   0.9968  3.11       1.28   \n",
              "18                  6.0                  29.0   0.9974  3.38       0.50   \n",
              "19                 17.0                  56.0   0.9969  3.04       1.08   \n",
              "\n",
              "    alcohol  quality  \n",
              "0       9.4        5  \n",
              "1       9.8        5  \n",
              "2       9.8        5  \n",
              "3       9.8        6  \n",
              "4       9.4        5  \n",
              "5       9.4        5  \n",
              "6       9.4        5  \n",
              "7      10.0        7  \n",
              "8       9.5        7  \n",
              "9      10.5        5  \n",
              "10      9.2        5  \n",
              "11     10.5        5  \n",
              "12      9.9        5  \n",
              "13      9.1        5  \n",
              "14      9.2        5  \n",
              "15      9.2        5  \n",
              "16     10.5        7  \n",
              "17      9.3        5  \n",
              "18      9.0        4  \n",
              "19      9.2        6  "
            ]
          },
          "metadata": {
            "tags": []
          },
          "execution_count": 7
        }
      ]
    },
    {
      "metadata": {
        "id": "Nr83z-5cLP2e",
        "colab_type": "text"
      },
      "cell_type": "markdown",
      "source": [
        "**Comentario:** Tras la fase de carga del Dataset, nos encontramos con una serie de datos numéricos y categóricos. Vamos a realizar una serie de comprobaciones sencillas como es la integridad de los datos para ver si hay valores nulos o NaN"
      ]
    },
    {
      "metadata": {
        "id": "QrtYvOKghg8g",
        "colab_type": "code",
        "outputId": "7831be33-7e95-4f89-ea6e-b18b6b6246c6",
        "colab": {
          "base_uri": "https://localhost:8080/",
          "height": 35
        }
      },
      "cell_type": "code",
      "source": [
        "# Comprobamos el número de filas y columnas\n",
        "wineX.shape"
      ],
      "execution_count": 8,
      "outputs": [
        {
          "output_type": "execute_result",
          "data": {
            "text/plain": [
              "(1599, 12)"
            ]
          },
          "metadata": {
            "tags": []
          },
          "execution_count": 8
        }
      ]
    },
    {
      "metadata": {
        "id": "ptmlMzjmhhBb",
        "colab_type": "code",
        "outputId": "f8ce3643-7048-4092-8987-19fed6f2710b",
        "colab": {
          "base_uri": "https://localhost:8080/",
          "height": 329
        }
      },
      "cell_type": "code",
      "source": [
        "# Comprobamos la estructura del Data Set y que no haya ningún valor nulo \n",
        "# dentro del Dataset\n",
        "wineX.info()"
      ],
      "execution_count": 9,
      "outputs": [
        {
          "output_type": "stream",
          "text": [
            "<class 'pandas.core.frame.DataFrame'>\n",
            "RangeIndex: 1599 entries, 0 to 1598\n",
            "Data columns (total 12 columns):\n",
            "fixed acidity           1599 non-null float64\n",
            "volatile acidity        1599 non-null float64\n",
            "citric acid             1599 non-null float64\n",
            "residual sugar          1599 non-null float64\n",
            "chlorides               1599 non-null float64\n",
            "free sulfur dioxide     1599 non-null float64\n",
            "total sulfur dioxide    1599 non-null float64\n",
            "density                 1599 non-null float64\n",
            "pH                      1599 non-null float64\n",
            "sulphates               1599 non-null float64\n",
            "alcohol                 1599 non-null float64\n",
            "quality                 1599 non-null int64\n",
            "dtypes: float64(11), int64(1)\n",
            "memory usage: 150.0 KB\n"
          ],
          "name": "stdout"
        }
      ]
    },
    {
      "metadata": {
        "id": "Z_l2-T2Shg5U",
        "colab_type": "code",
        "outputId": "f0e1df53-6477-4154-ec42-c3b936d653a0",
        "colab": {
          "base_uri": "https://localhost:8080/",
          "height": 90
        }
      },
      "cell_type": "code",
      "source": [
        "#Obtenemos la descripción de los campos de las columnas\n",
        "wineX.columns"
      ],
      "execution_count": 10,
      "outputs": [
        {
          "output_type": "execute_result",
          "data": {
            "text/plain": [
              "Index(['fixed acidity', 'volatile acidity', 'citric acid', 'residual sugar',\n",
              "       'chlorides', 'free sulfur dioxide', 'total sulfur dioxide', 'density',\n",
              "       'pH', 'sulphates', 'alcohol', 'quality'],\n",
              "      dtype='object')"
            ]
          },
          "metadata": {
            "tags": []
          },
          "execution_count": 10
        }
      ]
    },
    {
      "metadata": {
        "id": "cQzi-FV2g1Q0",
        "colab_type": "text"
      },
      "cell_type": "markdown",
      "source": [
        "En total, tenemos 12 características numéricas. La variable objetivo es el 'quality' (Calidad del vino), que puede ser buena o mala según el valor que tenga del 0 al 10.\n"
      ]
    },
    {
      "metadata": {
        "id": "T1lxUAwBgZ3p",
        "colab_type": "code",
        "outputId": "d14c6be6-cf47-4442-80a2-f91c3d4e27c0",
        "colab": {
          "base_uri": "https://localhost:8080/",
          "height": 256
        }
      },
      "cell_type": "code",
      "source": [
        "#Revisamos si tenemos valores NA para cada columna\n",
        "wineX.isna().sum() "
      ],
      "execution_count": 11,
      "outputs": [
        {
          "output_type": "execute_result",
          "data": {
            "text/plain": [
              "fixed acidity           0\n",
              "volatile acidity        0\n",
              "citric acid             0\n",
              "residual sugar          0\n",
              "chlorides               0\n",
              "free sulfur dioxide     0\n",
              "total sulfur dioxide    0\n",
              "density                 0\n",
              "pH                      0\n",
              "sulphates               0\n",
              "alcohol                 0\n",
              "quality                 0\n",
              "dtype: int64"
            ]
          },
          "metadata": {
            "tags": []
          },
          "execution_count": 11
        }
      ]
    },
    {
      "metadata": {
        "id": "iQ1sb_rBgrue",
        "colab_type": "text"
      },
      "cell_type": "markdown",
      "source": [
        "No se han encontrado valores de NaN en nuestro dataset."
      ]
    },
    {
      "metadata": {
        "id": "hW6L395cF0oy",
        "colab_type": "text"
      },
      "cell_type": "markdown",
      "source": [
        "\n",
        "**Comentario**: El Dataset que seguiremos utilizando en los tratamientos de la parte 2 del proyecto seguirá siendo el \"winequalityX2.csv\".\n"
      ]
    },
    {
      "metadata": {
        "id": "6alYsHoAhq0v",
        "colab_type": "text"
      },
      "cell_type": "markdown",
      "source": [
        "## Parte 2- Exploración y Análisis de Datos\n",
        "\n",
        "### **Introducción**:\n",
        "\n",
        "En esta parte segunda parte, se realizarán las modificaciones necesarias al dataset para adaptarlo a las necesidades del proyecto.\n",
        "\n",
        "\n",
        "\n",
        "\n"
      ]
    },
    {
      "metadata": {
        "id": "H7b15gj8PdRU",
        "colab_type": "text"
      },
      "cell_type": "markdown",
      "source": [
        "**Términos Enológicos como variables del dataset y su significado: **\n",
        "\n",
        "   **Fixed Acidity (Ácidez Fija):** Es el conjunto de ácidos naturales procedentes de la uva (tartárico, málico, cítrico y succínico) o formados en la fermentación maloláctica (láctico). En general, los ácidos (acidez fija) son preservantes naturales del vino y ayudan a mantener el color y las cualidades aromáticas del mismo.\n",
        "\n",
        "   **Volatile Acidity (Ácidez Volátil):** Es el conjunto de ácidos formados durante la fermentación o como consecuencia de alteraciones microbianas; su valor es un índice de la degradación del vino. Estos ácidos son: ácido acético, ácido propionico, ácido butírico y ácido sulfúrico; no obstante el más importante es el ácido acético, síntoma de la transformación del vino en vinagre. \n",
        "    Si la acidez volátil, presente en todos los vinos, es muy elevada el vino se picará y avigranará con el paso del tiempo. Es conveniente que la acidez volátil de un vino sea lo más baja posible.\n",
        "    El contenido en ácidez volátil no puede ser superior a: a) 18 miliequivalentes por litro para los mostos de uva parcialmente fermentados, b) 18 miliequivalentes por litro para los vinos blancos y rosados, c) 20 miliequivalentes por litro para los vinos tintos.\n",
        "\n",
        "   **Citric Acid (Ácido Cítrico):** En pequeñas cantidades este ácido puede añadir frescor y sabor a los vinos (es un ácido fijo).\n",
        "\n",
        "   **Residual Sugar (Azúcar Residual):** Durante la fermentación, y por acción de las levaduras, el azucar (glucosa + fructosa) se transforma en alcohol etílico, anhídrido carbónico y otras muchas sustancias que caracterizan al vino. Cuando la fermentación es prácticamente total se dice que el vino es seco, pero lo normal es que en todo vino quede cierta cantidad de azúcares sin fermentar, denominados azúcares residuales. \n",
        "    \n",
        "   **Chlorides (Cloruros):** Cantidad de sal en el vino.\n",
        "\n",
        "   **Free Sulfur Dioxide (Dióxido de Azúfre Libre):** El SO2 es una herramienta indispensable en la elaboración y conservación de vinos. Una correcta utilización del SO2 permite obtener vinos menos oxidados, dotados de un mejor color y aroma, y una menor acidez volátil, debido a sus efectos como:\n",
        "   \n",
        "   →Antioxidante: posee propiedades reductoras, acaparando oxígeno e impidiendo la oxidación.\n",
        "   →Antioxidásico: Destruye las oxidasas evitando quiebras.\n",
        "   →Antimicrobiano: Ejerce una actividad inhibidora sobre levaduras, bacterias lácticas y bacterias acéticas. \n",
        " \n",
        " Es también conocido como anhídrido sulfuroso o como óxido de azufre.\n",
        "\n",
        "   **Total Sulfur Dioxide (Dióxido de Azúfre Total):** Suma de concentraciones libres y amarradas de S02; concentraciones de dioxodo de sulfuro libres superiores a 50 ppm se vuelven evidentes en el sabor y olor.\n",
        "\n",
        "   **Density (Densidad):** densidad del vino, suele ser similar al del agua dependiendo de la concentración de azucar y de alcohol.\n",
        "\n",
        "   **pH:** Describe cómo de ácido o básico es el vino: 0 (muy ácido) a 14 (muy básico). La mayoría de vinos se encuentra en la escala 3-4.\n",
        "\n",
        "   **Sulphates (Sulfatos):** Actua como un antimicrobial y antioxidante. Un agua con una cantidad de sulfatos inferior a 250mg/l se considera en este aspecto un agua de calidad y con valores superiores a 400mg/l insalubre.\n",
        "\n",
        "   **Alcohol:** cantidad de alcohol del vino. Tras el agua, es el componente más abundante en el vino y el que lo caracteriza. Se produce por la transformación de los azúcares del mosto durante la fermentación. La riqueza alcohólica de un vino se mide en porcentaje en volumen o grado y en la etiqueta se expresa con la fórmula % vol. Significa que un vino de 12 grados (12%vol) contiene un 12% de alcohol puro.\n",
        "\n",
        "   **Quality (Calidad):** calidad del vino entre 0 y 10 catada por lo usuarios.\n",
        "\n"
      ]
    },
    {
      "metadata": {
        "id": "9Q2_D_N5Y_8E",
        "colab_type": "text"
      },
      "cell_type": "markdown",
      "source": [
        "**Comentario:** Con el objetivo de poder realizar una mejor comprensión en la fase de análisis, se modificarán los nombres de las columnas para adaptarlas a la terminología española."
      ]
    },
    {
      "metadata": {
        "id": "ixUd3kuuOEeZ",
        "colab_type": "code",
        "colab": {}
      },
      "cell_type": "code",
      "source": [
        "# Renombramos los nombres de las columnas para adaptarlas \n",
        "# a los términos enológicos en español\n",
        "\n",
        "wineX.rename(columns=\n",
        " {'type':'Tipo','fixed acidity':'Acidez_Fija', \n",
        "  'volatile acidity':'Acidez_Volatil','citric acid':'Acido_Citrico',\n",
        "  'residual sugar':'Azucar_Residual','chlorides':'Cloruro',\n",
        "  'free sulfur dioxide':'Dioxido_Azufre_Libre','total sulfur dioxide':'Dioxido_Azufre_Total',\n",
        "  'density':'Densidad',\n",
        "  'pH':'pH','sulphates':'Sulfatos',\n",
        "  'alcohol':'Alcohol','quality':'Calidad'}, inplace=True)"
      ],
      "execution_count": 0,
      "outputs": []
    },
    {
      "metadata": {
        "id": "gyHr86t8YpJd",
        "colab_type": "code",
        "outputId": "2909f967-d023-48f1-a274-6f616e67cacc",
        "colab": {
          "base_uri": "https://localhost:8080/",
          "height": 697
        }
      },
      "cell_type": "code",
      "source": [
        "# Comprobamos los cambios realizados\n",
        "wineX.head(20)"
      ],
      "execution_count": 13,
      "outputs": [
        {
          "output_type": "execute_result",
          "data": {
            "text/html": [
              "<div>\n",
              "<style scoped>\n",
              "    .dataframe tbody tr th:only-of-type {\n",
              "        vertical-align: middle;\n",
              "    }\n",
              "\n",
              "    .dataframe tbody tr th {\n",
              "        vertical-align: top;\n",
              "    }\n",
              "\n",
              "    .dataframe thead th {\n",
              "        text-align: right;\n",
              "    }\n",
              "</style>\n",
              "<table border=\"1\" class=\"dataframe\">\n",
              "  <thead>\n",
              "    <tr style=\"text-align: right;\">\n",
              "      <th></th>\n",
              "      <th>Acidez_Fija</th>\n",
              "      <th>Acidez_Volatil</th>\n",
              "      <th>Acido_Citrico</th>\n",
              "      <th>Azucar_Residual</th>\n",
              "      <th>Cloruro</th>\n",
              "      <th>Dioxido_Azufre_Libre</th>\n",
              "      <th>Dioxido_Azufre_Total</th>\n",
              "      <th>Densidad</th>\n",
              "      <th>pH</th>\n",
              "      <th>Sulfatos</th>\n",
              "      <th>Alcohol</th>\n",
              "      <th>Calidad</th>\n",
              "    </tr>\n",
              "  </thead>\n",
              "  <tbody>\n",
              "    <tr>\n",
              "      <th>0</th>\n",
              "      <td>7.4</td>\n",
              "      <td>0.700</td>\n",
              "      <td>0.00</td>\n",
              "      <td>1.9</td>\n",
              "      <td>0.076</td>\n",
              "      <td>11.0</td>\n",
              "      <td>34.0</td>\n",
              "      <td>0.9978</td>\n",
              "      <td>3.51</td>\n",
              "      <td>0.56</td>\n",
              "      <td>9.4</td>\n",
              "      <td>5</td>\n",
              "    </tr>\n",
              "    <tr>\n",
              "      <th>1</th>\n",
              "      <td>7.8</td>\n",
              "      <td>0.880</td>\n",
              "      <td>0.00</td>\n",
              "      <td>2.6</td>\n",
              "      <td>0.098</td>\n",
              "      <td>25.0</td>\n",
              "      <td>67.0</td>\n",
              "      <td>0.9968</td>\n",
              "      <td>3.20</td>\n",
              "      <td>0.68</td>\n",
              "      <td>9.8</td>\n",
              "      <td>5</td>\n",
              "    </tr>\n",
              "    <tr>\n",
              "      <th>2</th>\n",
              "      <td>7.8</td>\n",
              "      <td>0.760</td>\n",
              "      <td>0.04</td>\n",
              "      <td>2.3</td>\n",
              "      <td>0.092</td>\n",
              "      <td>15.0</td>\n",
              "      <td>54.0</td>\n",
              "      <td>0.9970</td>\n",
              "      <td>3.26</td>\n",
              "      <td>0.65</td>\n",
              "      <td>9.8</td>\n",
              "      <td>5</td>\n",
              "    </tr>\n",
              "    <tr>\n",
              "      <th>3</th>\n",
              "      <td>11.2</td>\n",
              "      <td>0.280</td>\n",
              "      <td>0.56</td>\n",
              "      <td>1.9</td>\n",
              "      <td>0.075</td>\n",
              "      <td>17.0</td>\n",
              "      <td>60.0</td>\n",
              "      <td>0.9980</td>\n",
              "      <td>3.16</td>\n",
              "      <td>0.58</td>\n",
              "      <td>9.8</td>\n",
              "      <td>6</td>\n",
              "    </tr>\n",
              "    <tr>\n",
              "      <th>4</th>\n",
              "      <td>7.4</td>\n",
              "      <td>0.700</td>\n",
              "      <td>0.00</td>\n",
              "      <td>1.9</td>\n",
              "      <td>0.076</td>\n",
              "      <td>11.0</td>\n",
              "      <td>34.0</td>\n",
              "      <td>0.9978</td>\n",
              "      <td>3.51</td>\n",
              "      <td>0.56</td>\n",
              "      <td>9.4</td>\n",
              "      <td>5</td>\n",
              "    </tr>\n",
              "    <tr>\n",
              "      <th>5</th>\n",
              "      <td>7.4</td>\n",
              "      <td>0.660</td>\n",
              "      <td>0.00</td>\n",
              "      <td>1.8</td>\n",
              "      <td>0.075</td>\n",
              "      <td>13.0</td>\n",
              "      <td>40.0</td>\n",
              "      <td>0.9978</td>\n",
              "      <td>3.51</td>\n",
              "      <td>0.56</td>\n",
              "      <td>9.4</td>\n",
              "      <td>5</td>\n",
              "    </tr>\n",
              "    <tr>\n",
              "      <th>6</th>\n",
              "      <td>7.9</td>\n",
              "      <td>0.600</td>\n",
              "      <td>0.06</td>\n",
              "      <td>1.6</td>\n",
              "      <td>0.069</td>\n",
              "      <td>15.0</td>\n",
              "      <td>59.0</td>\n",
              "      <td>0.9964</td>\n",
              "      <td>3.30</td>\n",
              "      <td>0.46</td>\n",
              "      <td>9.4</td>\n",
              "      <td>5</td>\n",
              "    </tr>\n",
              "    <tr>\n",
              "      <th>7</th>\n",
              "      <td>7.3</td>\n",
              "      <td>0.650</td>\n",
              "      <td>0.00</td>\n",
              "      <td>1.2</td>\n",
              "      <td>0.065</td>\n",
              "      <td>15.0</td>\n",
              "      <td>21.0</td>\n",
              "      <td>0.9946</td>\n",
              "      <td>3.39</td>\n",
              "      <td>0.47</td>\n",
              "      <td>10.0</td>\n",
              "      <td>7</td>\n",
              "    </tr>\n",
              "    <tr>\n",
              "      <th>8</th>\n",
              "      <td>7.8</td>\n",
              "      <td>0.580</td>\n",
              "      <td>0.02</td>\n",
              "      <td>2.0</td>\n",
              "      <td>0.073</td>\n",
              "      <td>9.0</td>\n",
              "      <td>18.0</td>\n",
              "      <td>0.9968</td>\n",
              "      <td>3.36</td>\n",
              "      <td>0.57</td>\n",
              "      <td>9.5</td>\n",
              "      <td>7</td>\n",
              "    </tr>\n",
              "    <tr>\n",
              "      <th>9</th>\n",
              "      <td>7.5</td>\n",
              "      <td>0.500</td>\n",
              "      <td>0.36</td>\n",
              "      <td>6.1</td>\n",
              "      <td>0.071</td>\n",
              "      <td>17.0</td>\n",
              "      <td>102.0</td>\n",
              "      <td>0.9978</td>\n",
              "      <td>3.35</td>\n",
              "      <td>0.80</td>\n",
              "      <td>10.5</td>\n",
              "      <td>5</td>\n",
              "    </tr>\n",
              "    <tr>\n",
              "      <th>10</th>\n",
              "      <td>6.7</td>\n",
              "      <td>0.580</td>\n",
              "      <td>0.08</td>\n",
              "      <td>1.8</td>\n",
              "      <td>0.097</td>\n",
              "      <td>15.0</td>\n",
              "      <td>65.0</td>\n",
              "      <td>0.9959</td>\n",
              "      <td>3.28</td>\n",
              "      <td>0.54</td>\n",
              "      <td>9.2</td>\n",
              "      <td>5</td>\n",
              "    </tr>\n",
              "    <tr>\n",
              "      <th>11</th>\n",
              "      <td>7.5</td>\n",
              "      <td>0.500</td>\n",
              "      <td>0.36</td>\n",
              "      <td>6.1</td>\n",
              "      <td>0.071</td>\n",
              "      <td>17.0</td>\n",
              "      <td>102.0</td>\n",
              "      <td>0.9978</td>\n",
              "      <td>3.35</td>\n",
              "      <td>0.80</td>\n",
              "      <td>10.5</td>\n",
              "      <td>5</td>\n",
              "    </tr>\n",
              "    <tr>\n",
              "      <th>12</th>\n",
              "      <td>5.6</td>\n",
              "      <td>0.615</td>\n",
              "      <td>0.00</td>\n",
              "      <td>1.6</td>\n",
              "      <td>0.089</td>\n",
              "      <td>16.0</td>\n",
              "      <td>59.0</td>\n",
              "      <td>0.9943</td>\n",
              "      <td>3.58</td>\n",
              "      <td>0.52</td>\n",
              "      <td>9.9</td>\n",
              "      <td>5</td>\n",
              "    </tr>\n",
              "    <tr>\n",
              "      <th>13</th>\n",
              "      <td>7.8</td>\n",
              "      <td>0.610</td>\n",
              "      <td>0.29</td>\n",
              "      <td>1.6</td>\n",
              "      <td>0.114</td>\n",
              "      <td>9.0</td>\n",
              "      <td>29.0</td>\n",
              "      <td>0.9974</td>\n",
              "      <td>3.26</td>\n",
              "      <td>1.56</td>\n",
              "      <td>9.1</td>\n",
              "      <td>5</td>\n",
              "    </tr>\n",
              "    <tr>\n",
              "      <th>14</th>\n",
              "      <td>8.9</td>\n",
              "      <td>0.620</td>\n",
              "      <td>0.18</td>\n",
              "      <td>3.8</td>\n",
              "      <td>0.176</td>\n",
              "      <td>52.0</td>\n",
              "      <td>145.0</td>\n",
              "      <td>0.9986</td>\n",
              "      <td>3.16</td>\n",
              "      <td>0.88</td>\n",
              "      <td>9.2</td>\n",
              "      <td>5</td>\n",
              "    </tr>\n",
              "    <tr>\n",
              "      <th>15</th>\n",
              "      <td>8.9</td>\n",
              "      <td>0.620</td>\n",
              "      <td>0.19</td>\n",
              "      <td>3.9</td>\n",
              "      <td>0.170</td>\n",
              "      <td>51.0</td>\n",
              "      <td>148.0</td>\n",
              "      <td>0.9986</td>\n",
              "      <td>3.17</td>\n",
              "      <td>0.93</td>\n",
              "      <td>9.2</td>\n",
              "      <td>5</td>\n",
              "    </tr>\n",
              "    <tr>\n",
              "      <th>16</th>\n",
              "      <td>8.5</td>\n",
              "      <td>0.280</td>\n",
              "      <td>0.56</td>\n",
              "      <td>1.8</td>\n",
              "      <td>0.092</td>\n",
              "      <td>35.0</td>\n",
              "      <td>103.0</td>\n",
              "      <td>0.9969</td>\n",
              "      <td>3.30</td>\n",
              "      <td>0.75</td>\n",
              "      <td>10.5</td>\n",
              "      <td>7</td>\n",
              "    </tr>\n",
              "    <tr>\n",
              "      <th>17</th>\n",
              "      <td>8.1</td>\n",
              "      <td>0.560</td>\n",
              "      <td>0.28</td>\n",
              "      <td>1.7</td>\n",
              "      <td>0.368</td>\n",
              "      <td>16.0</td>\n",
              "      <td>56.0</td>\n",
              "      <td>0.9968</td>\n",
              "      <td>3.11</td>\n",
              "      <td>1.28</td>\n",
              "      <td>9.3</td>\n",
              "      <td>5</td>\n",
              "    </tr>\n",
              "    <tr>\n",
              "      <th>18</th>\n",
              "      <td>7.4</td>\n",
              "      <td>0.590</td>\n",
              "      <td>0.08</td>\n",
              "      <td>4.4</td>\n",
              "      <td>0.086</td>\n",
              "      <td>6.0</td>\n",
              "      <td>29.0</td>\n",
              "      <td>0.9974</td>\n",
              "      <td>3.38</td>\n",
              "      <td>0.50</td>\n",
              "      <td>9.0</td>\n",
              "      <td>4</td>\n",
              "    </tr>\n",
              "    <tr>\n",
              "      <th>19</th>\n",
              "      <td>7.9</td>\n",
              "      <td>0.320</td>\n",
              "      <td>0.51</td>\n",
              "      <td>1.8</td>\n",
              "      <td>0.341</td>\n",
              "      <td>17.0</td>\n",
              "      <td>56.0</td>\n",
              "      <td>0.9969</td>\n",
              "      <td>3.04</td>\n",
              "      <td>1.08</td>\n",
              "      <td>9.2</td>\n",
              "      <td>6</td>\n",
              "    </tr>\n",
              "  </tbody>\n",
              "</table>\n",
              "</div>"
            ],
            "text/plain": [
              "    Acidez_Fija  Acidez_Volatil  Acido_Citrico  Azucar_Residual  Cloruro  \\\n",
              "0           7.4           0.700           0.00              1.9    0.076   \n",
              "1           7.8           0.880           0.00              2.6    0.098   \n",
              "2           7.8           0.760           0.04              2.3    0.092   \n",
              "3          11.2           0.280           0.56              1.9    0.075   \n",
              "4           7.4           0.700           0.00              1.9    0.076   \n",
              "5           7.4           0.660           0.00              1.8    0.075   \n",
              "6           7.9           0.600           0.06              1.6    0.069   \n",
              "7           7.3           0.650           0.00              1.2    0.065   \n",
              "8           7.8           0.580           0.02              2.0    0.073   \n",
              "9           7.5           0.500           0.36              6.1    0.071   \n",
              "10          6.7           0.580           0.08              1.8    0.097   \n",
              "11          7.5           0.500           0.36              6.1    0.071   \n",
              "12          5.6           0.615           0.00              1.6    0.089   \n",
              "13          7.8           0.610           0.29              1.6    0.114   \n",
              "14          8.9           0.620           0.18              3.8    0.176   \n",
              "15          8.9           0.620           0.19              3.9    0.170   \n",
              "16          8.5           0.280           0.56              1.8    0.092   \n",
              "17          8.1           0.560           0.28              1.7    0.368   \n",
              "18          7.4           0.590           0.08              4.4    0.086   \n",
              "19          7.9           0.320           0.51              1.8    0.341   \n",
              "\n",
              "    Dioxido_Azufre_Libre  Dioxido_Azufre_Total  Densidad    pH  Sulfatos  \\\n",
              "0                   11.0                  34.0    0.9978  3.51      0.56   \n",
              "1                   25.0                  67.0    0.9968  3.20      0.68   \n",
              "2                   15.0                  54.0    0.9970  3.26      0.65   \n",
              "3                   17.0                  60.0    0.9980  3.16      0.58   \n",
              "4                   11.0                  34.0    0.9978  3.51      0.56   \n",
              "5                   13.0                  40.0    0.9978  3.51      0.56   \n",
              "6                   15.0                  59.0    0.9964  3.30      0.46   \n",
              "7                   15.0                  21.0    0.9946  3.39      0.47   \n",
              "8                    9.0                  18.0    0.9968  3.36      0.57   \n",
              "9                   17.0                 102.0    0.9978  3.35      0.80   \n",
              "10                  15.0                  65.0    0.9959  3.28      0.54   \n",
              "11                  17.0                 102.0    0.9978  3.35      0.80   \n",
              "12                  16.0                  59.0    0.9943  3.58      0.52   \n",
              "13                   9.0                  29.0    0.9974  3.26      1.56   \n",
              "14                  52.0                 145.0    0.9986  3.16      0.88   \n",
              "15                  51.0                 148.0    0.9986  3.17      0.93   \n",
              "16                  35.0                 103.0    0.9969  3.30      0.75   \n",
              "17                  16.0                  56.0    0.9968  3.11      1.28   \n",
              "18                   6.0                  29.0    0.9974  3.38      0.50   \n",
              "19                  17.0                  56.0    0.9969  3.04      1.08   \n",
              "\n",
              "    Alcohol  Calidad  \n",
              "0       9.4        5  \n",
              "1       9.8        5  \n",
              "2       9.8        5  \n",
              "3       9.8        6  \n",
              "4       9.4        5  \n",
              "5       9.4        5  \n",
              "6       9.4        5  \n",
              "7      10.0        7  \n",
              "8       9.5        7  \n",
              "9      10.5        5  \n",
              "10      9.2        5  \n",
              "11     10.5        5  \n",
              "12      9.9        5  \n",
              "13      9.1        5  \n",
              "14      9.2        5  \n",
              "15      9.2        5  \n",
              "16     10.5        7  \n",
              "17      9.3        5  \n",
              "18      9.0        4  \n",
              "19      9.2        6  "
            ]
          },
          "metadata": {
            "tags": []
          },
          "execution_count": 13
        }
      ]
    },
    {
      "metadata": {
        "id": "s4ZQK18Cj-NW",
        "colab_type": "code",
        "outputId": "eb2f9f31-bd87-4aa6-ec24-df4b096ab1d1",
        "colab": {
          "base_uri": "https://localhost:8080/",
          "height": 320
        }
      },
      "cell_type": "code",
      "source": [
        "# Obtenemos un resumen estadistico\n",
        "wineX.describe()\n",
        "# El 50% del cuantil es en realidad la mediana del conjunto de datos"
      ],
      "execution_count": 14,
      "outputs": [
        {
          "output_type": "execute_result",
          "data": {
            "text/html": [
              "<div>\n",
              "<style scoped>\n",
              "    .dataframe tbody tr th:only-of-type {\n",
              "        vertical-align: middle;\n",
              "    }\n",
              "\n",
              "    .dataframe tbody tr th {\n",
              "        vertical-align: top;\n",
              "    }\n",
              "\n",
              "    .dataframe thead th {\n",
              "        text-align: right;\n",
              "    }\n",
              "</style>\n",
              "<table border=\"1\" class=\"dataframe\">\n",
              "  <thead>\n",
              "    <tr style=\"text-align: right;\">\n",
              "      <th></th>\n",
              "      <th>Acidez_Fija</th>\n",
              "      <th>Acidez_Volatil</th>\n",
              "      <th>Acido_Citrico</th>\n",
              "      <th>Azucar_Residual</th>\n",
              "      <th>Cloruro</th>\n",
              "      <th>Dioxido_Azufre_Libre</th>\n",
              "      <th>Dioxido_Azufre_Total</th>\n",
              "      <th>Densidad</th>\n",
              "      <th>pH</th>\n",
              "      <th>Sulfatos</th>\n",
              "      <th>Alcohol</th>\n",
              "      <th>Calidad</th>\n",
              "    </tr>\n",
              "  </thead>\n",
              "  <tbody>\n",
              "    <tr>\n",
              "      <th>count</th>\n",
              "      <td>1599.000000</td>\n",
              "      <td>1599.000000</td>\n",
              "      <td>1599.000000</td>\n",
              "      <td>1599.000000</td>\n",
              "      <td>1599.000000</td>\n",
              "      <td>1599.000000</td>\n",
              "      <td>1599.000000</td>\n",
              "      <td>1599.000000</td>\n",
              "      <td>1599.000000</td>\n",
              "      <td>1599.000000</td>\n",
              "      <td>1599.000000</td>\n",
              "      <td>1599.000000</td>\n",
              "    </tr>\n",
              "    <tr>\n",
              "      <th>mean</th>\n",
              "      <td>8.319637</td>\n",
              "      <td>0.527821</td>\n",
              "      <td>0.270976</td>\n",
              "      <td>2.538806</td>\n",
              "      <td>0.087467</td>\n",
              "      <td>15.874922</td>\n",
              "      <td>46.467792</td>\n",
              "      <td>0.996747</td>\n",
              "      <td>3.311113</td>\n",
              "      <td>0.658149</td>\n",
              "      <td>10.422983</td>\n",
              "      <td>5.636023</td>\n",
              "    </tr>\n",
              "    <tr>\n",
              "      <th>std</th>\n",
              "      <td>1.741096</td>\n",
              "      <td>0.179060</td>\n",
              "      <td>0.194801</td>\n",
              "      <td>1.409928</td>\n",
              "      <td>0.047065</td>\n",
              "      <td>10.460157</td>\n",
              "      <td>32.895324</td>\n",
              "      <td>0.001887</td>\n",
              "      <td>0.154386</td>\n",
              "      <td>0.169507</td>\n",
              "      <td>1.065668</td>\n",
              "      <td>0.807569</td>\n",
              "    </tr>\n",
              "    <tr>\n",
              "      <th>min</th>\n",
              "      <td>4.600000</td>\n",
              "      <td>0.120000</td>\n",
              "      <td>0.000000</td>\n",
              "      <td>0.900000</td>\n",
              "      <td>0.012000</td>\n",
              "      <td>1.000000</td>\n",
              "      <td>6.000000</td>\n",
              "      <td>0.990070</td>\n",
              "      <td>2.740000</td>\n",
              "      <td>0.330000</td>\n",
              "      <td>8.400000</td>\n",
              "      <td>3.000000</td>\n",
              "    </tr>\n",
              "    <tr>\n",
              "      <th>25%</th>\n",
              "      <td>7.100000</td>\n",
              "      <td>0.390000</td>\n",
              "      <td>0.090000</td>\n",
              "      <td>1.900000</td>\n",
              "      <td>0.070000</td>\n",
              "      <td>7.000000</td>\n",
              "      <td>22.000000</td>\n",
              "      <td>0.995600</td>\n",
              "      <td>3.210000</td>\n",
              "      <td>0.550000</td>\n",
              "      <td>9.500000</td>\n",
              "      <td>5.000000</td>\n",
              "    </tr>\n",
              "    <tr>\n",
              "      <th>50%</th>\n",
              "      <td>7.900000</td>\n",
              "      <td>0.520000</td>\n",
              "      <td>0.260000</td>\n",
              "      <td>2.200000</td>\n",
              "      <td>0.079000</td>\n",
              "      <td>14.000000</td>\n",
              "      <td>38.000000</td>\n",
              "      <td>0.996750</td>\n",
              "      <td>3.310000</td>\n",
              "      <td>0.620000</td>\n",
              "      <td>10.200000</td>\n",
              "      <td>6.000000</td>\n",
              "    </tr>\n",
              "    <tr>\n",
              "      <th>75%</th>\n",
              "      <td>9.200000</td>\n",
              "      <td>0.640000</td>\n",
              "      <td>0.420000</td>\n",
              "      <td>2.600000</td>\n",
              "      <td>0.090000</td>\n",
              "      <td>21.000000</td>\n",
              "      <td>62.000000</td>\n",
              "      <td>0.997835</td>\n",
              "      <td>3.400000</td>\n",
              "      <td>0.730000</td>\n",
              "      <td>11.100000</td>\n",
              "      <td>6.000000</td>\n",
              "    </tr>\n",
              "    <tr>\n",
              "      <th>max</th>\n",
              "      <td>15.900000</td>\n",
              "      <td>1.580000</td>\n",
              "      <td>1.000000</td>\n",
              "      <td>15.500000</td>\n",
              "      <td>0.611000</td>\n",
              "      <td>72.000000</td>\n",
              "      <td>289.000000</td>\n",
              "      <td>1.003690</td>\n",
              "      <td>4.010000</td>\n",
              "      <td>2.000000</td>\n",
              "      <td>14.900000</td>\n",
              "      <td>8.000000</td>\n",
              "    </tr>\n",
              "  </tbody>\n",
              "</table>\n",
              "</div>"
            ],
            "text/plain": [
              "       Acidez_Fija  Acidez_Volatil  Acido_Citrico  Azucar_Residual  \\\n",
              "count  1599.000000     1599.000000    1599.000000      1599.000000   \n",
              "mean      8.319637        0.527821       0.270976         2.538806   \n",
              "std       1.741096        0.179060       0.194801         1.409928   \n",
              "min       4.600000        0.120000       0.000000         0.900000   \n",
              "25%       7.100000        0.390000       0.090000         1.900000   \n",
              "50%       7.900000        0.520000       0.260000         2.200000   \n",
              "75%       9.200000        0.640000       0.420000         2.600000   \n",
              "max      15.900000        1.580000       1.000000        15.500000   \n",
              "\n",
              "           Cloruro  Dioxido_Azufre_Libre  Dioxido_Azufre_Total     Densidad  \\\n",
              "count  1599.000000           1599.000000           1599.000000  1599.000000   \n",
              "mean      0.087467             15.874922             46.467792     0.996747   \n",
              "std       0.047065             10.460157             32.895324     0.001887   \n",
              "min       0.012000              1.000000              6.000000     0.990070   \n",
              "25%       0.070000              7.000000             22.000000     0.995600   \n",
              "50%       0.079000             14.000000             38.000000     0.996750   \n",
              "75%       0.090000             21.000000             62.000000     0.997835   \n",
              "max       0.611000             72.000000            289.000000     1.003690   \n",
              "\n",
              "                pH     Sulfatos      Alcohol      Calidad  \n",
              "count  1599.000000  1599.000000  1599.000000  1599.000000  \n",
              "mean      3.311113     0.658149    10.422983     5.636023  \n",
              "std       0.154386     0.169507     1.065668     0.807569  \n",
              "min       2.740000     0.330000     8.400000     3.000000  \n",
              "25%       3.210000     0.550000     9.500000     5.000000  \n",
              "50%       3.310000     0.620000    10.200000     6.000000  \n",
              "75%       3.400000     0.730000    11.100000     6.000000  \n",
              "max       4.010000     2.000000    14.900000     8.000000  "
            ]
          },
          "metadata": {
            "tags": []
          },
          "execution_count": 14
        }
      ]
    },
    {
      "metadata": {
        "id": "hZnV5PHHqYVQ",
        "colab_type": "text"
      },
      "cell_type": "markdown",
      "source": [
        "**Comentarios:** Si miramos los datos obtenidos, podemos notar que:\n",
        "\n",
        "- El valor promedio es mayor que el valor de la mediana (50%) para casi todas las columnas.\n",
        "- Existente una diferencia notoriamente grande entre el 75% y el valor máximo para las columnas como: Azúcar_Residual, Sal, Dioxido_Sulfuro_Libres, y Dioxido_Sulfuro_Total.\n",
        "- Las observaciones anteriores sugieren que existen valores extremos (outliers) en nuestro conjunto de datos. "
      ]
    },
    {
      "metadata": {
        "id": "zI5M8CxVfwVD",
        "colab_type": "text"
      },
      "cell_type": "markdown",
      "source": [
        "## Análisis general de todas las variables\n",
        "\n",
        "Graficaremos algunas variables para observar mejor como están distribuidas y relacionadas entre sí.\n"
      ]
    },
    {
      "metadata": {
        "id": "IKmJQWJNYoU_",
        "colab_type": "code",
        "colab": {}
      },
      "cell_type": "code",
      "source": [
        "# Librerias a emplear\n",
        "import matplotlib.pyplot as plt \n",
        "import numpy as np \n",
        "import seaborn as sns "
      ],
      "execution_count": 0,
      "outputs": []
    },
    {
      "metadata": {
        "id": "AhOEtx48jS_Y",
        "colab_type": "text"
      },
      "cell_type": "markdown",
      "source": [
        "**Calidad:**"
      ]
    },
    {
      "metadata": {
        "id": "zkbBPd7Yqg9o",
        "colab_type": "code",
        "outputId": "c11df6ff-4aaf-40e3-84f0-82c8edd520be",
        "colab": {
          "base_uri": "https://localhost:8080/",
          "height": 35
        }
      },
      "cell_type": "code",
      "source": [
        "# Posibles valores que tiene la columna 'Calidad' \n",
        "wineX['Calidad'].unique()"
      ],
      "execution_count": 16,
      "outputs": [
        {
          "output_type": "execute_result",
          "data": {
            "text/plain": [
              "array([5, 6, 7, 4, 8, 3])"
            ]
          },
          "metadata": {
            "tags": []
          },
          "execution_count": 16
        }
      ]
    },
    {
      "metadata": {
        "id": "vK9ZI8wpqhP9",
        "colab_type": "code",
        "outputId": "d6868c75-cc50-470e-cf25-97da1cec62a5",
        "colab": {
          "base_uri": "https://localhost:8080/",
          "height": 146
        }
      },
      "cell_type": "code",
      "source": [
        "# Observamos la manera en la que están agrupados\n",
        "wineX.Calidad.value_counts()"
      ],
      "execution_count": 17,
      "outputs": [
        {
          "output_type": "execute_result",
          "data": {
            "text/plain": [
              "5    681\n",
              "6    638\n",
              "7    199\n",
              "4     53\n",
              "8     18\n",
              "3     10\n",
              "Name: Calidad, dtype: int64"
            ]
          },
          "metadata": {
            "tags": []
          },
          "execution_count": 17
        }
      ]
    },
    {
      "metadata": {
        "id": "pEK1X-k5dt_C",
        "colab_type": "code",
        "outputId": "14a357a1-bcb5-42b7-b4c7-fce669469300",
        "colab": {
          "base_uri": "https://localhost:8080/",
          "height": 301
        }
      },
      "cell_type": "code",
      "source": [
        "#Graficamos para ver mejor como es la distribución\n",
        "sns.countplot(wineX['Calidad'])"
      ],
      "execution_count": 18,
      "outputs": [
        {
          "output_type": "execute_result",
          "data": {
            "text/plain": [
              "<matplotlib.axes._subplots.AxesSubplot at 0x7fb5175ab0f0>"
            ]
          },
          "metadata": {
            "tags": []
          },
          "execution_count": 18
        },
        {
          "output_type": "display_data",
          "data": {
            "image/png": "[encoded data removed]",
            "text/plain": [
              "<Figure size 432x288 with 1 Axes>"
            ]
          },
          "metadata": {
            "tags": []
          }
        }
      ]
    },
    {
      "metadata": {
        "id": "jHMWyHJW9bq8",
        "colab_type": "text"
      },
      "cell_type": "markdown",
      "source": [
        "**Comentarios:** Podemos ver que\n",
        "- La variable dependiente 'Calidad' es discreta y de naturaleza categórica (varían de 3 a 8, donde 3 es malo y 8 es bueno).\n",
        "- Se observa una calificación de calidad entre 3 y 8, es decir; los grados de calidad 1, 2, 9 y 10 no aparecen en el dataset.\n",
        "- La mayor concentración de la calificación de calidad se concentra de 5 y 6, y la menor se concentra en las puntuaciones de 3 y 8. Las clases están ordenadas pero no están equilibradas (por ejemplo, hay más vinos normales que excelentes o pobres).\n",
        "- Dado que la distribución de las muestras para los diferentes valores de calidad no es uniforme, se podría utilizar algún algoritmo de detección de 'Outliers' y retirarlos de nuestro dataset, o no eliminar ningún valor pero sí tenerlo en cuenta al dividir el conjunto de datos de entrenamiento y de validación.\n",
        "- En este caso no eliminaremos los outliers, dado a que la creación de un vino es meramente una reacción química, y los valores extremos que se presentan son posibles. Podríamos pensar que dichos outliers pertenecen a vinos que tienen características muy diferentes al resto."
      ]
    },
    {
      "metadata": {
        "id": "0Wsrl9d_jDH9",
        "colab_type": "text"
      },
      "cell_type": "markdown",
      "source": [
        "A continuación representaremos cada una de las otras columnas contra la variable objetivo \"Calidad\", para posteriormente analizar y obtener las primeras conclusiones:"
      ]
    },
    {
      "metadata": {
        "id": "rhyEBQU7g90z",
        "colab_type": "text"
      },
      "cell_type": "markdown",
      "source": [
        "**Ácidez Fija vs Calidad:**"
      ]
    },
    {
      "metadata": {
        "id": "1BEtdjJAhG56",
        "colab_type": "code",
        "outputId": "ba28b99f-df80-46bc-c404-be0100ed4f92",
        "colab": {
          "base_uri": "https://localhost:8080/",
          "height": 406
        }
      },
      "cell_type": "code",
      "source": [
        "colors = [\"#39ad48\", \"#feb308\", \"#8d8468\", \"#49759c\", \"#4e0550\", \"#ba6873\", \"#017371\"]\n",
        "img1 = plt.figure(figsize = (10,6))\n",
        "sns.barplot(x='Calidad', y='Acidez_Fija', data=wineX, palette=colors)\n",
        "plt.title(\"Ácidez Fija como función de la Calidad del Vino\")\n",
        "plt.ylabel(\"Ácidez Fija (g/L)\")\n",
        "plt.show()   "
      ],
      "execution_count": 19,
      "outputs": [
        {
          "output_type": "display_data",
          "data": {
            "image/png": "[encoded data removed]",
            "text/plain": [
              "<Figure size 720x432 with 1 Axes>"
            ]
          },
          "metadata": {
            "tags": []
          }
        }
      ]
    },
    {
      "metadata": {
        "id": "gEomH4SFhrnP",
        "colab_type": "text"
      },
      "cell_type": "markdown",
      "source": [
        "**Comentarios:** Vemos que la ácidez fija no es de gran aporte para clasificar la calidad. Al principio la gráfica muestra una leve tendencia decreciente, pero vemos que vuelve a subir a mayor calidad (9).\n"
      ]
    },
    {
      "metadata": {
        "id": "9T5E1vjYh3HM",
        "colab_type": "text"
      },
      "cell_type": "markdown",
      "source": [
        "**Ácidez Volátil vs Calidad:**"
      ]
    },
    {
      "metadata": {
        "id": "xzZk3V0wgm7l",
        "colab_type": "code",
        "outputId": "cbe668d5-272e-47d0-a9fc-0024451f6f55",
        "colab": {
          "base_uri": "https://localhost:8080/",
          "height": 404
        }
      },
      "cell_type": "code",
      "source": [
        "colors = [\"#39ad48\", \"#feb308\", \"#8d8468\", \"#49759c\", \"#4e0550\", \"#ba6873\", \"#017371\"]\n",
        "img2 = plt.figure(figsize = (10,6))\n",
        "sns.barplot(x = 'Calidad', y = 'Acidez_Volatil', data = wineX, palette=colors)\n",
        "plt.title(\"Ácidez Volátil como función de la Calidad del Vino\")\n",
        "plt.ylabel(\"Ácidez Volátil (g/L)\")\n",
        "plt.show()"
      ],
      "execution_count": 20,
      "outputs": [
        {
          "output_type": "display_data",
          "data": {
            "image/png": "[encoded data removed]",
            "text/plain": [
              "<Figure size 720x432 with 1 Axes>"
            ]
          },
          "metadata": {
            "tags": []
          }
        }
      ]
    },
    {
      "metadata": {
        "id": "z0fRaRRqiIMc",
        "colab_type": "text"
      },
      "cell_type": "markdown",
      "source": [
        "**Comentarios:** Se observa una tendencia decreciente en la ácidez volátil a medida que aumentamos la calidad.\n",
        "\n",
        "Este resultado era de esperarse en vinos de buena calidad, ya que un aumento de este parámetro tendría un efecto negativo y provocaría el picado acético; que a la hora de catar terminaríamos por percibir aromas y sabores a vinagre. \n",
        "\n",
        "La ácidez volátil es fácilmente perceptible a partir de los 0,8 g/L o los 0,9 g/L, según la sensibilidad del catador."
      ]
    },
    {
      "metadata": {
        "id": "UgonQZW5iZMt",
        "colab_type": "text"
      },
      "cell_type": "markdown",
      "source": [
        "**Ácido Cítrico vs Calidad:**"
      ]
    },
    {
      "metadata": {
        "id": "dXlN9Q_KkHWw",
        "colab_type": "code",
        "outputId": "84972490-a54f-4804-db6a-dece50f3c456",
        "colab": {
          "base_uri": "https://localhost:8080/",
          "height": 404
        }
      },
      "cell_type": "code",
      "source": [
        "colors = [\"#39ad48\", \"#feb308\", \"#8d8468\", \"#49759c\", \"#4e0550\", \"#ba6873\", \"#017371\"]\n",
        "img3 = plt.figure(figsize = (10,6))\n",
        "sns.barplot(x = 'Calidad', y = 'Acido_Citrico', data = wineX, palette=colors)\n",
        "plt.title(\"Ácido Cítrico como función de la Calidad del Vino\")\n",
        "plt.show()\n"
      ],
      "execution_count": 21,
      "outputs": [
        {
          "output_type": "display_data",
          "data": {
            "image/png": "[encoded data removed]",
            "text/plain": [
              "<Figure size 720x432 with 1 Axes>"
            ]
          },
          "metadata": {
            "tags": []
          }
        }
      ]
    },
    {
      "metadata": {
        "id": "n013TaT8mKRV",
        "colab_type": "text"
      },
      "cell_type": "markdown",
      "source": [
        "**Comentarios**: La composición del ácido cítrico parece aumentar a medida que avanzamos en la calidad del vino."
      ]
    },
    {
      "metadata": {
        "id": "PH3IlyJhmZt8",
        "colab_type": "text"
      },
      "cell_type": "markdown",
      "source": [
        "**Azúcar Residual vs Calidad: **"
      ]
    },
    {
      "metadata": {
        "id": "M2YgL45Nme7u",
        "colab_type": "code",
        "outputId": "5c8af884-027d-4052-cc3f-d615079be390",
        "colab": {
          "base_uri": "https://localhost:8080/",
          "height": 404
        }
      },
      "cell_type": "code",
      "source": [
        "colors = [\"#39ad48\", \"#feb308\", \"#8d8468\", \"#49759c\", \"#4e0550\", \"#ba6873\", \"#017371\"]\n",
        "img4 = plt.figure(figsize = (10,6))\n",
        "sns.barplot(x = 'Calidad', y = 'Azucar_Residual', data = wineX, palette=colors)\n",
        "plt.title(\"Ázúcar Residual como función de la Calidad del Vino\")\n",
        "plt.show()"
      ],
      "execution_count": 22,
      "outputs": [
        {
          "output_type": "display_data",
          "data": {
            "image/png": "[encoded data removed]",
            "text/plain": [
              "<Figure size 720x432 with 1 Axes>"
            ]
          },
          "metadata": {
            "tags": []
          }
        }
      ]
    },
    {
      "metadata": {
        "id": "elR4TBJCmq7k",
        "colab_type": "text"
      },
      "cell_type": "markdown",
      "source": [
        "**Comentarios:** Vemos que la Azúcar Residual parece no dar ninguna especificación para clasificar la calidad."
      ]
    },
    {
      "metadata": {
        "id": "sURrAqoHm9cN",
        "colab_type": "text"
      },
      "cell_type": "markdown",
      "source": [
        "**Cloruro vs Calidad:**"
      ]
    },
    {
      "metadata": {
        "id": "pkiowszwmnhq",
        "colab_type": "code",
        "outputId": "22cb3f3e-3c50-4723-8b6c-9a4f1198867f",
        "colab": {
          "base_uri": "https://localhost:8080/",
          "height": 404
        }
      },
      "cell_type": "code",
      "source": [
        "colors = [\"#39ad48\", \"#feb308\", \"#8d8468\", \"#49759c\", \"#4e0550\", \"#ba6873\", \"#017371\"]\n",
        "img5 = plt.figure(figsize = (10,6))\n",
        "sns.barplot(x = 'Calidad', y = 'Cloruro', data = wineX, palette=colors)\n",
        "plt.title(\"Cloruro como función de la Calidad del Vino\")\n",
        "plt.show()"
      ],
      "execution_count": 23,
      "outputs": [
        {
          "output_type": "display_data",
          "data": {
            "image/png": "[encoded data removed]",
            "text/plain": [
              "<Figure size 720x432 with 1 Axes>"
            ]
          },
          "metadata": {
            "tags": []
          }
        }
      ]
    },
    {
      "metadata": {
        "id": "u3g452axnhnB",
        "colab_type": "text"
      },
      "cell_type": "markdown",
      "source": [
        "**Comentarios**: La composición del cloruro (sal) también disminuye a medida que avanzamos en la calidad del vino."
      ]
    },
    {
      "metadata": {
        "id": "HJH_g4GxoYVN",
        "colab_type": "text"
      },
      "cell_type": "markdown",
      "source": [
        "**Dióxido Azúfre Libre vs Calidad:**"
      ]
    },
    {
      "metadata": {
        "id": "vpVsSBuun24M",
        "colab_type": "code",
        "outputId": "44a63ccc-926e-47fe-f96a-c45d5a2c2646",
        "colab": {
          "base_uri": "https://localhost:8080/",
          "height": 404
        }
      },
      "cell_type": "code",
      "source": [
        "colors = [\"#39ad48\", \"#feb308\", \"#8d8468\", \"#49759c\", \"#4e0550\", \"#ba6873\", \"#017371\"]\n",
        "img6 = plt.figure(figsize = (10,6))\n",
        "sns.barplot(x = 'Calidad', y = 'Dioxido_Azufre_Libre', data = wineX, palette=colors)\n",
        "plt.title(\"Dióxido de Azúfre Libre como función de la Calidad del Vino\")\n",
        "plt.ylabel(\"Dióxido de Azúfre Libre (mg/L)\")\n",
        "plt.show()"
      ],
      "execution_count": 24,
      "outputs": [
        {
          "output_type": "display_data",
          "data": {
            "image/png": "[encoded data removed]",
            "text/plain": [
              "<Figure size 720x432 with 1 Axes>"
            ]
          },
          "metadata": {
            "tags": []
          }
        }
      ]
    },
    {
      "metadata": {
        "id": "aycF8ZcPovt4",
        "colab_type": "text"
      },
      "cell_type": "markdown",
      "source": [
        "**Comentarios**: En principio pareciera que el Dióxido de Azúfre Libre (o anhídrido sulfuroso libre) no es de mucho aporte para clasificar la calidad, ya que según nuestro gráfico pueden existir vinos tanto de baja como de alta calidad con elevadas concentraciones de esta sustancia. No obstante, podemos ver que para los vinos de categoría media y superior, este valor pareciera ser más estable, entorno a los 32 - 38mg/L, lo cual es de esperarse sabiendo que en vinos de mayor calidad el uso de esta sustancia es más elevada por su función frente a actividades antibacterianas. \n",
        "\n",
        "Esta comprobado que esta sustancia no es nociva para la salud, y que sus propiedades antimicrobianas son 5 a 10 veces mayores que las del SO2 total.\n",
        "\n",
        "Los niveles de anhídrido sulfuroso libres necesarios para frenar la actividad microbiana, oscilan entre los 10 a 20 mg/litro de SO2, libre para los vinos de pH bajo o de 20 a 40 mg/litro de SO2 libre para los vinos de pH elevado.\n",
        "\n"
      ]
    },
    {
      "metadata": {
        "id": "OO49MvxnqH1l",
        "colab_type": "text"
      },
      "cell_type": "markdown",
      "source": [
        "**Dióxido de Azúfre Total vs Calidad:**"
      ]
    },
    {
      "metadata": {
        "id": "1bBNdMfqqZWf",
        "colab_type": "code",
        "outputId": "589fc5d7-f335-4458-b725-83e95cc9210a",
        "colab": {
          "base_uri": "https://localhost:8080/",
          "height": 404
        }
      },
      "cell_type": "code",
      "source": [
        "colors = [\"#39ad48\", \"#feb308\", \"#8d8468\", \"#49759c\", \"#4e0550\", \"#ba6873\", \"#017371\"]\n",
        "img7 = plt.figure(figsize = (10,6))\n",
        "sns.barplot(x = 'Calidad', y = 'Dioxido_Azufre_Total', data = wineX, palette=colors)\n",
        "plt.title(\"Dióxido de Azúfre Total como función de la Calidad del Vino\")\n",
        "plt.ylabel(\"Dióxido de Azúfre Total (mg/L)\")\n",
        "plt.show()"
      ],
      "execution_count": 25,
      "outputs": [
        {
          "output_type": "display_data",
          "data": {
            "image/png": "[encoded data removed]",
            "text/plain": [
              "<Figure size 720x432 with 1 Axes>"
            ]
          },
          "metadata": {
            "tags": []
          }
        }
      ]
    },
    {
      "metadata": {
        "id": "shb9ZkKW6gZx",
        "colab_type": "text"
      },
      "cell_type": "markdown",
      "source": [
        "**Comentarios:** A simple vista vemos que el Dióxido de Azúfre Total pareciera no dar ninguna especificación para clasificar la calidad, no obstante podemos apreciar como en los vinos de más alta calidad, el contenido total de anhídrido sulfuroso en su mayoría no supera los 140mg/L.\n",
        "\n",
        "La recomendación para el SO2 total no puede superar los 150 mg/l para vinos tintos y los 200 mg/l para vinos blancos y rosados. En dosis muy elevadas puede alterar el aroma y sabor del vino."
      ]
    },
    {
      "metadata": {
        "id": "yOapo1MwBpDW",
        "colab_type": "text"
      },
      "cell_type": "markdown",
      "source": [
        "**Densidad vs Calidad:**"
      ]
    },
    {
      "metadata": {
        "id": "1mhBWd21BwGU",
        "colab_type": "code",
        "outputId": "43b17ea3-84bd-417e-bb4f-cf5a081fb7cc",
        "colab": {
          "base_uri": "https://localhost:8080/",
          "height": 404
        }
      },
      "cell_type": "code",
      "source": [
        "colors = [\"#39ad48\", \"#feb308\", \"#8d8468\", \"#49759c\", \"#4e0550\", \"#ba6873\", \"#017371\"]\n",
        "img8 = plt.figure(figsize = (10,6))\n",
        "sns.barplot(x = 'Calidad', y = 'Densidad', data = wineX, palette=colors)\n",
        "plt.title(\"Densidad como función de la Calidad del Vino\")\n",
        "plt.ylabel(\"Densidad (g/mL)\")\n",
        "plt.show()"
      ],
      "execution_count": 26,
      "outputs": [
        {
          "output_type": "display_data",
          "data": {
            "image/png": "[encoded data removed]",
            "text/plain": [
              "<Figure size 720x432 with 1 Axes>"
            ]
          },
          "metadata": {
            "tags": []
          }
        }
      ]
    },
    {
      "metadata": {
        "id": "e-jqibDCHrFm",
        "colab_type": "code",
        "outputId": "688c3abd-f2f1-4c6e-816f-f17e53b7fda0",
        "colab": {
          "base_uri": "https://localhost:8080/",
          "height": 301
        }
      },
      "cell_type": "code",
      "source": [
        "wineX.groupby('Calidad')['Densidad'].mean().plot.line()\n",
        "plt.ylabel(\"Densidad (g/mL)\")"
      ],
      "execution_count": 27,
      "outputs": [
        {
          "output_type": "execute_result",
          "data": {
            "text/plain": [
              "Text(0, 0.5, 'Densidad (g/mL)')"
            ]
          },
          "metadata": {
            "tags": []
          },
          "execution_count": 27
        },
        {
          "output_type": "display_data",
          "data": {
            "image/png": "[encoded data removed]",
            "text/plain": [
              "<Figure size 432x288 with 1 Axes>"
            ]
          },
          "metadata": {
            "tags": []
          }
        }
      ]
    },
    {
      "metadata": {
        "id": "uEfyDYuiCMXu",
        "colab_type": "text"
      },
      "cell_type": "markdown",
      "source": [
        "**Comentarios**: En el gráfico lineal se aprecia mejor como la Densidad tiene una relación inversa con la Calidad. \n",
        "Siempre hemos escuchado que la densidad aparente de un vino puede indicarnos su contenido en alcohol, pero sin condicionar su calidad, y por ello es que como criterio de calidad vemos que es importante la densidad, ya que los buenos vinos son aquellos que son ligeros, pero con cuerpo.\n",
        "\n",
        "Los valores de referencia suelen ser: \n",
        "*   Vinos blanco seco: 0,9880 - 0,9930 g/mL.\n",
        "*   Vinos tinto seco: 0,9910 - 0,9950 g/mL.\n",
        "\n"
      ]
    },
    {
      "metadata": {
        "id": "nZbRwQkjuaCc",
        "colab_type": "text"
      },
      "cell_type": "markdown",
      "source": [
        "**pH vs Calidad:**"
      ]
    },
    {
      "metadata": {
        "id": "hFgR_bnCuehS",
        "colab_type": "code",
        "outputId": "b8d30be9-edc6-4d50-8e4e-fdc925dac6af",
        "colab": {
          "base_uri": "https://localhost:8080/",
          "height": 404
        }
      },
      "cell_type": "code",
      "source": [
        "colors = [\"#39ad48\", \"#feb308\", \"#8d8468\", \"#49759c\", \"#4e0550\", \"#ba6873\", \"#017371\"]\n",
        "img9 = plt.figure(figsize = (10,6))\n",
        "sns.barplot(x = 'Calidad', y = 'pH', data = wineX, palette=colors)\n",
        "plt.title(\"pH como función de la Calidad del Vino\")\n",
        "plt.show()"
      ],
      "execution_count": 28,
      "outputs": [
        {
          "output_type": "display_data",
          "data": {
            "image/png": "[encoded data removed]",
            "text/plain": [
              "<Figure size 720x432 with 1 Axes>"
            ]
          },
          "metadata": {
            "tags": []
          }
        }
      ]
    },
    {
      "metadata": {
        "id": "yNC1hmHrE7TY",
        "colab_type": "code",
        "outputId": "166376c0-ec07-46cc-90b9-79aab64bebf6",
        "colab": {
          "base_uri": "https://localhost:8080/",
          "height": 301
        }
      },
      "cell_type": "code",
      "source": [
        "wineX.groupby('Calidad')['pH'].mean().plot.line()\n",
        "plt.ylabel(\"pH\")"
      ],
      "execution_count": 29,
      "outputs": [
        {
          "output_type": "execute_result",
          "data": {
            "text/plain": [
              "Text(0, 0.5, 'pH')"
            ]
          },
          "metadata": {
            "tags": []
          },
          "execution_count": 29
        },
        {
          "output_type": "display_data",
          "data": {
            "image/png": "[encoded data removed]",
            "text/plain": [
              "<Figure size 432x288 with 1 Axes>"
            ]
          },
          "metadata": {
            "tags": []
          }
        }
      ]
    },
    {
      "metadata": {
        "id": "in8nO7Q5ura2",
        "colab_type": "text"
      },
      "cell_type": "markdown",
      "source": [
        "**Comentarios**: El pH es uno de los factores más variables del vino, que resulta del equilibrio de los ácidos que lo componen. Como criterio de calidad es importante porque afecta al sabor del vino, no obstante vemos en nuestra gráfica como los valores suelen estar alrededor de 3.21 y 3.32, siendo levemente más elevado en los vinos de mayor de calidad superior.\n",
        "Generalmente se busca que el pH de un vino blanco se encuentre en aproximadamente 3.0-3.3 mientras que el pH de un vino tinto entre 3.3 y 3.6."
      ]
    },
    {
      "metadata": {
        "id": "27qvHqpLqpi_",
        "colab_type": "text"
      },
      "cell_type": "markdown",
      "source": [
        "**Sulfatos vs Calidad:**"
      ]
    },
    {
      "metadata": {
        "id": "FP9bIBTuqwd1",
        "colab_type": "code",
        "outputId": "480e1d96-d14f-4711-cf54-641f5512ab68",
        "colab": {
          "base_uri": "https://localhost:8080/",
          "height": 404
        }
      },
      "cell_type": "code",
      "source": [
        "colors = [\"#39ad48\", \"#feb308\", \"#8d8468\", \"#49759c\", \"#4e0550\", \"#ba6873\", \"#017371\"]\n",
        "\n",
        "adapt = wineX['Sulfatos']*1000\n",
        "img10 = plt.figure(figsize = (10,6))\n",
        "sns.barplot(x = 'Calidad', y = adapt, data = wineX, palette=colors)\n",
        "plt.title(\"Sulfatos como función de la Calidad del Vino\")\n",
        "plt.ylabel(\"Sulfatos (mg/l)\")\n",
        "plt.show()"
      ],
      "execution_count": 30,
      "outputs": [
        {
          "output_type": "display_data",
          "data": {
            "image/png": "[encoded data removed]",
            "text/plain": [
              "<Figure size 720x432 with 1 Axes>"
            ]
          },
          "metadata": {
            "tags": []
          }
        }
      ]
    },
    {
      "metadata": {
        "id": "UsXQVBINrRcP",
        "colab_type": "text"
      },
      "cell_type": "markdown",
      "source": [
        "**Comentarios**: El nivel de sulfatos es superior en los vinos con calidad media a media-alta. Para los vinos de mayor calidad (9) vemos como las cantidades de sulfato tiene niveles más bajos. \n",
        "\n",
        "Recordemos que los sulfatos son las sales derivadas del ácido sulfúrico utilizadas básicamente en fertilizantes, pesticidas, colorantes, jabones, vidrios, papel fármacos, entre otros; y que aparecen en el agua y por lo tanto en la uva. Una alta concentración de los mismos podría hacer que un agua no fuera de calidad alimentaria. \n",
        "\n",
        "Un agua con una cantidad de sulfatos inferior a 250mg/l se considera en este aspecto un agua de calidad y con valores superiores a 400mg/l insalubre. Los resultados obtenidos para todas las categorías de calidad estaban por encima de 400mg/l."
      ]
    },
    {
      "metadata": {
        "id": "c3PqHFczrdkD",
        "colab_type": "text"
      },
      "cell_type": "markdown",
      "source": [
        "**Alcohol vs Calidad: **"
      ]
    },
    {
      "metadata": {
        "id": "_6zjYvYjrhBy",
        "colab_type": "code",
        "outputId": "43e5d2b8-430c-48bc-f0bb-2bfe83e56d22",
        "colab": {
          "base_uri": "https://localhost:8080/",
          "height": 404
        }
      },
      "cell_type": "code",
      "source": [
        "colors = [\"#39ad48\", \"#feb308\", \"#8d8468\", \"#49759c\", \"#4e0550\", \"#ba6873\", \"#017371\"]\n",
        "\n",
        "img11 = plt.figure(figsize = (10,6))\n",
        "sns.barplot(x = 'Calidad', y = 'Alcohol', data = wineX, palette=colors)\n",
        "plt.title(\"Alcohol como función de la Calidad del Vino\")\n",
        "plt.ylabel(\"Alcohol (grados/l)\")\n",
        "plt.show()"
      ],
      "execution_count": 31,
      "outputs": [
        {
          "output_type": "display_data",
          "data": {
            "image/png": "[encoded data removed]",
            "text/plain": [
              "<Figure size 720x432 with 1 Axes>"
            ]
          },
          "metadata": {
            "tags": []
          }
        }
      ]
    },
    {
      "metadata": {
        "id": "lMsd1hglroaM",
        "colab_type": "text"
      },
      "cell_type": "markdown",
      "source": [
        "**Comentarios**: Vemos que el nivel de alcohol aumenta a medida que aumenta la calidad del vino. Los valores de graduación para los vinos de mayor calidad (8 y 9) son superiores (entre 12º y 14º), cuatro puntos porcentuales por encima del promedio (10.49º). \n"
      ]
    },
    {
      "metadata": {
        "id": "yxS142Fqa51C",
        "colab_type": "code",
        "outputId": "40d7470b-bd19-4909-fcfb-01835602837a",
        "colab": {
          "base_uri": "https://localhost:8080/",
          "height": 478
        }
      },
      "cell_type": "code",
      "source": [
        "# Graficamos la densidad como función del alcohol para ver mejor su relación\n",
        "plt.figure(figsize=(10,1))\n",
        "sns.jointplot(y= 'Densidad', x= 'Alcohol', data = wineX, kind=\"hex\")"
      ],
      "execution_count": 32,
      "outputs": [
        {
          "output_type": "execute_result",
          "data": {
            "text/plain": [
              "<seaborn.axisgrid.JointGrid at 0x7fb5150a4da0>"
            ]
          },
          "metadata": {
            "tags": []
          },
          "execution_count": 32
        },
        {
          "output_type": "display_data",
          "data": {
            "text/plain": [
              "<Figure size 720x72 with 0 Axes>"
            ]
          },
          "metadata": {
            "tags": []
          }
        },
        {
          "output_type": "display_data",
          "data": {
            "image/png": "[encoded data removed]",
            "text/plain": [
              "<Figure size 432x432 with 3 Axes>"
            ]
          },
          "metadata": {
            "tags": []
          }
        }
      ]
    },
    {
      "metadata": {
        "id": "-RYRm8lYdTqx",
        "colab_type": "text"
      },
      "cell_type": "markdown",
      "source": [
        "**Comentarios:** Como era de esperarse vemos que a mayor grado de alcohol disminuye la densidad del vino, y que la mayoría de los vinos tienen un grado de alcohol entre 9º y 10º con una densidad de mosto 0.9950 g/mL."
      ]
    },
    {
      "metadata": {
        "id": "cNscaM3keJbE",
        "colab_type": "text"
      },
      "cell_type": "markdown",
      "source": [
        "### **Mapa de Calor (Correlation Heatmap):**"
      ]
    },
    {
      "metadata": {
        "id": "qLtZnomYBye6",
        "colab_type": "code",
        "outputId": "1b65e508-f9fb-4219-996b-3b889ec42d93",
        "colab": {
          "base_uri": "https://localhost:8080/",
          "height": 817
        }
      },
      "cell_type": "code",
      "source": [
        "#Pintamos la correlación entre variables\n",
        "corr_map= wineX.corr()\n",
        "maska = np.array(corr_map)\n",
        "maska[np.tril_indices_from(maska)] = False\n",
        "img12=plt.gcf()\n",
        "img12.set_size_inches(30,12)\n",
        "sns.heatmap(data=corr_map,mask=maska,square=True,annot=True,cbar=True)"
      ],
      "execution_count": 33,
      "outputs": [
        {
          "output_type": "execute_result",
          "data": {
            "text/plain": [
              "<matplotlib.axes._subplots.AxesSubplot at 0x7fb515034588>"
            ]
          },
          "metadata": {
            "tags": []
          },
          "execution_count": 33
        },
        {
          "output_type": "display_data",
          "data": {
            "image/png": "[encoded data removed]",
            "text/plain": [
              "<Figure size 2160x864 with 2 Axes>"
            ]
          },
          "metadata": {
            "tags": []
          }
        }
      ]
    },
    {
      "metadata": {
        "id": "tNC3sLfnM7Kn",
        "colab_type": "text"
      },
      "cell_type": "markdown",
      "source": [
        "**Comentarios:** La gráfica de correlación nos dice es que hay muy pocas características fuertemente correlacionadas entre sí. Desde el punto de vista de incluir estas características en nuestros modelos ML, esto significa que no hay mucha información redundante, y que cada característica lleva consigo información única. No obstante podemos ver que:\n",
        "\n",
        "- La variable dependiente \"Calidad\" del vino está altamente relacionada con el \"Alcohol\". Más que cualquier otra variable, el \"Alcohol\" es la que más correlacionada con la \"Calidad\" en un 0.44. Fuertemente relacionadas pero de manera inversa, también tenemos el \"Alcohol\" y la \"Densidad\" en -0.69. Por tanto, podemos centrarnos en las relaciones de calidad-alcohol y las relaciones densidad-alcohol para obtener una exploración significativa. \n",
        "\n",
        "- Otras relaciones directas que podemos ver con el mapa de calor, son:\n",
        "       \"Dióxido de Sulfuro Total\" con \"Dióxido de Sulfuro Libres\"; \n",
        "       \"Ácidez Fija\" con \"Densidad\" y \"Ácido Cítrico\"; \n",
        "       \"Azúcar Residual\" con \"Densidad\" y \"Dióxido de Sulfuro Total\"; \n",
        "\n",
        "- El pH está altamente relacionado de manera inversa con el \"Ácido Cítrico\" y la \"Ácidez Fija\", lo cual se esperaba ya que sabemos que los ácidos tienen valores de pH mucho más pequeños.\n",
        "\n",
        "- El \"Azúcar Residual\", el \"Dióxido de Sulfuro Total\", y la \"Ácidez Fija\", tienen baja correlacion con la \"calidad\".\n",
        "\n",
        "- La auto-relación, es decir, de una característica para sí misma es 1 como se esperaba.\n",
        "\n",
        "-\n",
        "-\n",
        "\n",
        "- Una opción podría ser eliminar algunas características altamente relacionadas, aunque en nuestro caso nos quedaramos con ellas para observar los resultados. \n",
        "\n"
      ]
    },
    {
      "metadata": {
        "id": "Vm5ZxpRLTo4K",
        "colab_type": "text"
      },
      "cell_type": "markdown",
      "source": [
        "**A continuación realizaremos una clasificación para la variable de respuesta 'Calidad'. Para ello reemplazamos los valores númericos enteros de la columna 'Calidad' por nuevos 3 valores (1: Buena, 2: Aceptable y 3: Mala). Daremos el límite a la calidad basándonos en los valores obtenidos en la parte 2 del proyecto, del promedio y del percentil 25, 50 y 75 para la columna 'Calidad'.**"
      ]
    },
    {
      "metadata": {
        "id": "ukM0ba9EKOuO",
        "colab_type": "code",
        "outputId": "9253d374-278e-4233-8246-d68d0bc3a210",
        "colab": {
          "base_uri": "https://localhost:8080/",
          "height": 182
        }
      },
      "cell_type": "code",
      "source": [
        "wineX['Calidad'].describe()"
      ],
      "execution_count": 34,
      "outputs": [
        {
          "output_type": "execute_result",
          "data": {
            "text/plain": [
              "count    1599.000000\n",
              "mean        5.636023\n",
              "std         0.807569\n",
              "min         3.000000\n",
              "25%         5.000000\n",
              "50%         6.000000\n",
              "75%         6.000000\n",
              "max         8.000000\n",
              "Name: Calidad, dtype: float64"
            ]
          },
          "metadata": {
            "tags": []
          },
          "execution_count": 34
        }
      ]
    },
    {
      "metadata": {
        "id": "9y01C87oKUW9",
        "colab_type": "code",
        "outputId": "2728c656-689e-401f-901e-7e6270f87608",
        "colab": {
          "base_uri": "https://localhost:8080/",
          "height": 283
        }
      },
      "cell_type": "code",
      "source": [
        "val, base = np.histogram(wineX['Calidad'], bins=20)\n",
        "Acumulado = np.cumsum(val/wineX.shape[0])\n",
        "plt.plot(base[:-1], Acumulado, c='blue')\n",
        "plt.xlabel('Calidad')\n",
        "plt.ylabel('Frecuencia')\n",
        "plt.show()"
      ],
      "execution_count": 35,
      "outputs": [
        {
          "output_type": "display_data",
          "data": {
            "image/png": "[encoded data removed]",
            "text/plain": [
              "<Figure size 432x288 with 1 Axes>"
            ]
          },
          "metadata": {
            "tags": []
          }
        }
      ]
    },
    {
      "metadata": {
        "id": "W3ZBT0rBLa11",
        "colab_type": "text"
      },
      "cell_type": "markdown",
      "source": [
        "**Comentario**: Dado que la mediana para la 'Calidad' es 6, y el promedio está entre 5 y 6; clasificaremos el vino como 'Malo' si la calidad es menor o igual a 4, 'Aceptable' si la calidad está entre 5 y 6 incluidos, y mayor o igual a 7 clasificaremos el vino como 'Bueno'. \n"
      ]
    },
    {
      "metadata": {
        "id": "5CrmN-r1qQIJ",
        "colab_type": "code",
        "colab": {}
      },
      "cell_type": "code",
      "source": [
        "# Creamos una nueva variable \"Categoria\" y \n",
        "# categorizamos en ella la variable \"Calidad\" según los parámetros \n",
        "# de calidad que hemos definido\n",
        "\n",
        "categor = []\n",
        "for i in wineX['Calidad']:\n",
        "    if i >= 1 and i <= 4:\n",
        "        categor.append('1')\n",
        "    elif i >= 5 and i <= 6:\n",
        "        categor.append('2')\n",
        "    else:\n",
        "        categor.append('3')\n",
        "wineX['Categoria'] = categor\n"
      ],
      "execution_count": 0,
      "outputs": []
    },
    {
      "metadata": {
        "id": "vYRIx4fLvsR_",
        "colab_type": "code",
        "outputId": "95d69fd2-fb44-443a-e5c0-aff1bb5c8c68",
        "colab": {
          "base_uri": "https://localhost:8080/",
          "height": 90
        }
      },
      "cell_type": "code",
      "source": [
        "# Echamos un vistazo para ver como a quedado nuestro dataset\n",
        "wineX.columns"
      ],
      "execution_count": 37,
      "outputs": [
        {
          "output_type": "execute_result",
          "data": {
            "text/plain": [
              "Index(['Acidez_Fija', 'Acidez_Volatil', 'Acido_Citrico', 'Azucar_Residual',\n",
              "       'Cloruro', 'Dioxido_Azufre_Libre', 'Dioxido_Azufre_Total', 'Densidad',\n",
              "       'pH', 'Sulfatos', 'Alcohol', 'Calidad', 'Categoria'],\n",
              "      dtype='object')"
            ]
          },
          "metadata": {
            "tags": []
          },
          "execution_count": 37
        }
      ]
    },
    {
      "metadata": {
        "id": "UwB3TfvhvsX3",
        "colab_type": "code",
        "outputId": "204bc5ce-2fce-43e6-a56e-e6e687144a2a",
        "colab": {
          "base_uri": "https://localhost:8080/",
          "height": 35
        }
      },
      "cell_type": "code",
      "source": [
        "wineX['Categoria'].unique()"
      ],
      "execution_count": 38,
      "outputs": [
        {
          "output_type": "execute_result",
          "data": {
            "text/plain": [
              "array(['2', '3', '1'], dtype=object)"
            ]
          },
          "metadata": {
            "tags": []
          },
          "execution_count": 38
        }
      ]
    },
    {
      "metadata": {
        "id": "6vUlzHSOwa2Y",
        "colab_type": "code",
        "outputId": "450aa576-6aaf-4e06-fca1-e708ac289f31",
        "colab": {
          "base_uri": "https://localhost:8080/",
          "height": 90
        }
      },
      "cell_type": "code",
      "source": [
        "wineX.Categoria.value_counts()"
      ],
      "execution_count": 39,
      "outputs": [
        {
          "output_type": "execute_result",
          "data": {
            "text/plain": [
              "2    1319\n",
              "3     217\n",
              "1      63\n",
              "Name: Categoria, dtype: int64"
            ]
          },
          "metadata": {
            "tags": []
          },
          "execution_count": 39
        }
      ]
    },
    {
      "metadata": {
        "id": "YkjyJdguayFD",
        "colab_type": "text"
      },
      "cell_type": "markdown",
      "source": [
        "Al crear las 3 nuevas clases, podemos corraborar que las muestras de vino de mayor calidad, tienen niveles más bajos de Ácidez Volátil y niveles más altos de contenido de alcohol en comparación con las muestras de vino con calificaciones medias y bajas."
      ]
    },
    {
      "metadata": {
        "id": "IsWHAk44cn-o",
        "colab_type": "code",
        "colab": {
          "base_uri": "https://localhost:8080/",
          "height": 261
        },
        "outputId": "4f5e70f0-7c4f-4440-b941-a277e31fa97a"
      },
      "cell_type": "code",
      "source": [
        "# Análisis bivariado para las características más altamente correlacionadas\n",
        "img13 = sns.FacetGrid(wineX, hue='Categoria', hue_order=['1', '2', '3'],\n",
        "                  aspect=1.2, size=3.5, palette=sns.light_palette('darkblue', 3))\n",
        "img13.map(plt.scatter, 'Acidez_Volatil', 'Alcohol', alpha=0.9, edgecolor='white', linewidth=0.5)\n",
        "titu = img13.add_legend(title='Calidad del Vino por Clases')   # (1=Bueno, 2=Aceptable, 3=Malo)"
      ],
      "execution_count": 40,
      "outputs": [
        {
          "output_type": "display_data",
          "data": {
            "image/png": "[encoded data removed]",
            "text/plain": [
              "<Figure size 446.9x252 with 1 Axes>"
            ]
          },
          "metadata": {
            "tags": []
          }
        }
      ]
    },
    {
      "metadata": {
        "id": "iUPcegoWi32F",
        "colab_type": "code",
        "colab": {
          "base_uri": "https://localhost:8080/",
          "height": 314
        },
        "outputId": "3a4ade3f-5024-438a-e826-9c6da6da0449"
      },
      "cell_type": "code",
      "source": [
        "import seaborn as sns\n",
        "import matplotlib.pyplot as plt\n",
        "\n",
        "# Párametros para el gráfico de pie\n",
        "labels = ['1-Bueno', '2-Aceptable', '3-Malo']\n",
        "sizes = [13.57, 82.48, 3.9]\n",
        "explode = (0, 0.1, 0,)  \n",
        "\n",
        "fig, ax = plt.subplots()\n",
        "ax.pie(sizes, explode=explode, labels=labels, autopct='%1.1f%%',\n",
        "        shadow=True, startangle=90)\n",
        "\n",
        "# Equal aspect ratio ensures that pie is drawn as a circle\n",
        "ax.axis('equal')  \n",
        "\n",
        "plt.tight_layout()\n",
        "plt.title('Nueva Distribución por Categoria',fontsize=17)\n",
        "plt.show()"
      ],
      "execution_count": 41,
      "outputs": [
        {
          "output_type": "display_data",
          "data": {
            "image/png": "[encoded data removed]",
            "text/plain": [
              "<Figure size 432x288 with 1 Axes>"
            ]
          },
          "metadata": {
            "tags": []
          }
        }
      ]
    },
    {
      "metadata": {
        "id": "vq16-IiwpRqU",
        "colab_type": "text"
      },
      "cell_type": "markdown",
      "source": [
        "Para el caso del grado de calidad vemos que tenemos un conjunto de datos con predominio de vinos Aceptables (82 %) sobre los vinos Buenos (13.5 %) y Malos (3.9 %). Nuestro conjunto de datos es poco equilibrado, lo cual puede llegar a afectar a nuestro modelo, no obstante evaluaremos el rendimiento de nuestro modelo primero sin tomar medidas para el balanceo a fin de posteriormente compararlo con los resultados que se obtienen aplicando alguna técnica para su corrección. \n",
        "\n",
        "\n"
      ]
    },
    {
      "metadata": {
        "id": "p4VX3qkcgeEL",
        "colab_type": "text"
      },
      "cell_type": "markdown",
      "source": [
        "**Conclusiones:**  De esta segunda fase podemos concluir que, las variables conmayor peso para definir un vino de calidad, son el 'Alcohol', seguido por la 'Ácidez Volátil', y luego la 'Densidad'. Adicionalmente pudimos ver que en comparación con el nivel de calidad deficiente, el nivel de calidad excelente tiene una mayor proporción de vino con alto contenido de alcohol; en promedio, a mayor nivel de calidad del vino, menor acidez volátil y mayor ácido cítrico.\n",
        "\n",
        "**El dataset que utilizaremos para los desarrollos de para la parte 3 será wineX3**"
      ]
    },
    {
      "metadata": {
        "id": "wHY9nlUhhf6O",
        "colab_type": "code",
        "colab": {}
      },
      "cell_type": "code",
      "source": [
        "# Hacemos una copia de la base de datos wineX que denominaremos wineX3\n",
        "wineX3 = wineX.copy()"
      ],
      "execution_count": 0,
      "outputs": []
    },
    {
      "metadata": {
        "id": "DmicyuhvjaOX",
        "colab_type": "text"
      },
      "cell_type": "markdown",
      "source": [
        "## Parte 3- Pre-procesado de los Datos para aplicar Algoritmos de Machine Learning"
      ]
    },
    {
      "metadata": {
        "id": "pSWiM3KI5tuH",
        "colab_type": "text"
      },
      "cell_type": "markdown",
      "source": [
        "### Definición de variables y división de los datos"
      ]
    },
    {
      "metadata": {
        "id": "8L5zguJRvsea",
        "colab_type": "code",
        "colab": {}
      },
      "cell_type": "code",
      "source": [
        "# Creamos las variables 'x' e 'y', para ello quitamos \n",
        "# las últimas dos columnas 'Calidad' y 'Categoria' del dataset\n",
        "\n",
        "x = wineX3.iloc[:,1:11]  #'x' serán los features\n",
        "y = wineX3['Categoria']  #'y' será la variable objetivo (1=Bueno, 2=Aceptable, 3=Malo)"
      ],
      "execution_count": 0,
      "outputs": []
    },
    {
      "metadata": {
        "id": "1qIN6eNlxkJP",
        "colab_type": "code",
        "outputId": "210017e2-a884-4feb-d7b0-51fdc1521b24",
        "colab": {
          "base_uri": "https://localhost:8080/",
          "height": 363
        }
      },
      "cell_type": "code",
      "source": [
        "x.head(10)"
      ],
      "execution_count": 44,
      "outputs": [
        {
          "output_type": "execute_result",
          "data": {
            "text/html": [
              "<div>\n",
              "<style scoped>\n",
              "    .dataframe tbody tr th:only-of-type {\n",
              "        vertical-align: middle;\n",
              "    }\n",
              "\n",
              "    .dataframe tbody tr th {\n",
              "        vertical-align: top;\n",
              "    }\n",
              "\n",
              "    .dataframe thead th {\n",
              "        text-align: right;\n",
              "    }\n",
              "</style>\n",
              "<table border=\"1\" class=\"dataframe\">\n",
              "  <thead>\n",
              "    <tr style=\"text-align: right;\">\n",
              "      <th></th>\n",
              "      <th>Acidez_Volatil</th>\n",
              "      <th>Acido_Citrico</th>\n",
              "      <th>Azucar_Residual</th>\n",
              "      <th>Cloruro</th>\n",
              "      <th>Dioxido_Azufre_Libre</th>\n",
              "      <th>Dioxido_Azufre_Total</th>\n",
              "      <th>Densidad</th>\n",
              "      <th>pH</th>\n",
              "      <th>Sulfatos</th>\n",
              "      <th>Alcohol</th>\n",
              "    </tr>\n",
              "  </thead>\n",
              "  <tbody>\n",
              "    <tr>\n",
              "      <th>0</th>\n",
              "      <td>0.70</td>\n",
              "      <td>0.00</td>\n",
              "      <td>1.9</td>\n",
              "      <td>0.076</td>\n",
              "      <td>11.0</td>\n",
              "      <td>34.0</td>\n",
              "      <td>0.9978</td>\n",
              "      <td>3.51</td>\n",
              "      <td>0.56</td>\n",
              "      <td>9.4</td>\n",
              "    </tr>\n",
              "    <tr>\n",
              "      <th>1</th>\n",
              "      <td>0.88</td>\n",
              "      <td>0.00</td>\n",
              "      <td>2.6</td>\n",
              "      <td>0.098</td>\n",
              "      <td>25.0</td>\n",
              "      <td>67.0</td>\n",
              "      <td>0.9968</td>\n",
              "      <td>3.20</td>\n",
              "      <td>0.68</td>\n",
              "      <td>9.8</td>\n",
              "    </tr>\n",
              "    <tr>\n",
              "      <th>2</th>\n",
              "      <td>0.76</td>\n",
              "      <td>0.04</td>\n",
              "      <td>2.3</td>\n",
              "      <td>0.092</td>\n",
              "      <td>15.0</td>\n",
              "      <td>54.0</td>\n",
              "      <td>0.9970</td>\n",
              "      <td>3.26</td>\n",
              "      <td>0.65</td>\n",
              "      <td>9.8</td>\n",
              "    </tr>\n",
              "    <tr>\n",
              "      <th>3</th>\n",
              "      <td>0.28</td>\n",
              "      <td>0.56</td>\n",
              "      <td>1.9</td>\n",
              "      <td>0.075</td>\n",
              "      <td>17.0</td>\n",
              "      <td>60.0</td>\n",
              "      <td>0.9980</td>\n",
              "      <td>3.16</td>\n",
              "      <td>0.58</td>\n",
              "      <td>9.8</td>\n",
              "    </tr>\n",
              "    <tr>\n",
              "      <th>4</th>\n",
              "      <td>0.70</td>\n",
              "      <td>0.00</td>\n",
              "      <td>1.9</td>\n",
              "      <td>0.076</td>\n",
              "      <td>11.0</td>\n",
              "      <td>34.0</td>\n",
              "      <td>0.9978</td>\n",
              "      <td>3.51</td>\n",
              "      <td>0.56</td>\n",
              "      <td>9.4</td>\n",
              "    </tr>\n",
              "    <tr>\n",
              "      <th>5</th>\n",
              "      <td>0.66</td>\n",
              "      <td>0.00</td>\n",
              "      <td>1.8</td>\n",
              "      <td>0.075</td>\n",
              "      <td>13.0</td>\n",
              "      <td>40.0</td>\n",
              "      <td>0.9978</td>\n",
              "      <td>3.51</td>\n",
              "      <td>0.56</td>\n",
              "      <td>9.4</td>\n",
              "    </tr>\n",
              "    <tr>\n",
              "      <th>6</th>\n",
              "      <td>0.60</td>\n",
              "      <td>0.06</td>\n",
              "      <td>1.6</td>\n",
              "      <td>0.069</td>\n",
              "      <td>15.0</td>\n",
              "      <td>59.0</td>\n",
              "      <td>0.9964</td>\n",
              "      <td>3.30</td>\n",
              "      <td>0.46</td>\n",
              "      <td>9.4</td>\n",
              "    </tr>\n",
              "    <tr>\n",
              "      <th>7</th>\n",
              "      <td>0.65</td>\n",
              "      <td>0.00</td>\n",
              "      <td>1.2</td>\n",
              "      <td>0.065</td>\n",
              "      <td>15.0</td>\n",
              "      <td>21.0</td>\n",
              "      <td>0.9946</td>\n",
              "      <td>3.39</td>\n",
              "      <td>0.47</td>\n",
              "      <td>10.0</td>\n",
              "    </tr>\n",
              "    <tr>\n",
              "      <th>8</th>\n",
              "      <td>0.58</td>\n",
              "      <td>0.02</td>\n",
              "      <td>2.0</td>\n",
              "      <td>0.073</td>\n",
              "      <td>9.0</td>\n",
              "      <td>18.0</td>\n",
              "      <td>0.9968</td>\n",
              "      <td>3.36</td>\n",
              "      <td>0.57</td>\n",
              "      <td>9.5</td>\n",
              "    </tr>\n",
              "    <tr>\n",
              "      <th>9</th>\n",
              "      <td>0.50</td>\n",
              "      <td>0.36</td>\n",
              "      <td>6.1</td>\n",
              "      <td>0.071</td>\n",
              "      <td>17.0</td>\n",
              "      <td>102.0</td>\n",
              "      <td>0.9978</td>\n",
              "      <td>3.35</td>\n",
              "      <td>0.80</td>\n",
              "      <td>10.5</td>\n",
              "    </tr>\n",
              "  </tbody>\n",
              "</table>\n",
              "</div>"
            ],
            "text/plain": [
              "   Acidez_Volatil  Acido_Citrico  Azucar_Residual  Cloruro  \\\n",
              "0            0.70           0.00              1.9    0.076   \n",
              "1            0.88           0.00              2.6    0.098   \n",
              "2            0.76           0.04              2.3    0.092   \n",
              "3            0.28           0.56              1.9    0.075   \n",
              "4            0.70           0.00              1.9    0.076   \n",
              "5            0.66           0.00              1.8    0.075   \n",
              "6            0.60           0.06              1.6    0.069   \n",
              "7            0.65           0.00              1.2    0.065   \n",
              "8            0.58           0.02              2.0    0.073   \n",
              "9            0.50           0.36              6.1    0.071   \n",
              "\n",
              "   Dioxido_Azufre_Libre  Dioxido_Azufre_Total  Densidad    pH  Sulfatos  \\\n",
              "0                  11.0                  34.0    0.9978  3.51      0.56   \n",
              "1                  25.0                  67.0    0.9968  3.20      0.68   \n",
              "2                  15.0                  54.0    0.9970  3.26      0.65   \n",
              "3                  17.0                  60.0    0.9980  3.16      0.58   \n",
              "4                  11.0                  34.0    0.9978  3.51      0.56   \n",
              "5                  13.0                  40.0    0.9978  3.51      0.56   \n",
              "6                  15.0                  59.0    0.9964  3.30      0.46   \n",
              "7                  15.0                  21.0    0.9946  3.39      0.47   \n",
              "8                   9.0                  18.0    0.9968  3.36      0.57   \n",
              "9                  17.0                 102.0    0.9978  3.35      0.80   \n",
              "\n",
              "   Alcohol  \n",
              "0      9.4  \n",
              "1      9.8  \n",
              "2      9.8  \n",
              "3      9.8  \n",
              "4      9.4  \n",
              "5      9.4  \n",
              "6      9.4  \n",
              "7     10.0  \n",
              "8      9.5  \n",
              "9     10.5  "
            ]
          },
          "metadata": {
            "tags": []
          },
          "execution_count": 44
        }
      ]
    },
    {
      "metadata": {
        "id": "CSIYwyJGKsKP",
        "colab_type": "code",
        "outputId": "91c58efb-bb4e-4edb-c062-312700ac45c9",
        "colab": {
          "base_uri": "https://localhost:8080/",
          "height": 219
        }
      },
      "cell_type": "code",
      "source": [
        "y.head(10)"
      ],
      "execution_count": 45,
      "outputs": [
        {
          "output_type": "execute_result",
          "data": {
            "text/plain": [
              "0    2\n",
              "1    2\n",
              "2    2\n",
              "3    2\n",
              "4    2\n",
              "5    2\n",
              "6    2\n",
              "7    3\n",
              "8    3\n",
              "9    2\n",
              "Name: Categoria, dtype: object"
            ]
          },
          "metadata": {
            "tags": []
          },
          "execution_count": 45
        }
      ]
    },
    {
      "metadata": {
        "id": "ETTpyBrVG77p",
        "colab_type": "text"
      },
      "cell_type": "markdown",
      "source": [
        "**Característica de escalado **\n",
        "\n",
        "Antes de continuar, debemos escalar nuestros datos de modo que cada característica tenga una variación de unidades. La biblioteca de scikit proporciona varios tipos de escaladores, incluidos MinMax Scaler y StandardScaler. A continuación, se utilizará el StandardScaler para escalar los datos."
      ]
    },
    {
      "metadata": {
        "id": "E63UPPCd_WlB",
        "colab_type": "code",
        "colab": {}
      },
      "cell_type": "code",
      "source": [
        "from sklearn.preprocessing import StandardScaler\n",
        "xn = wineX3.iloc[:,1:11].values\n",
        "\n",
        "sc=StandardScaler()\n",
        "xsc=sc.fit_transform(xn[:,:])"
      ],
      "execution_count": 0,
      "outputs": []
    },
    {
      "metadata": {
        "id": "C7EYgsAjFBuI",
        "colab_type": "code",
        "colab": {
          "base_uri": "https://localhost:8080/",
          "height": 256
        },
        "outputId": "efdae7c9-320a-4946-f353-6695c21a5576"
      },
      "cell_type": "code",
      "source": [
        "print(xsc)"
      ],
      "execution_count": 47,
      "outputs": [
        {
          "output_type": "stream",
          "text": [
            "[[ 0.96187667 -1.39147228 -0.45321841 ...  1.28864292 -0.57920652\n",
            "  -0.96024611]\n",
            " [ 1.96744245 -1.39147228  0.04341614 ... -0.7199333   0.1289504\n",
            "  -0.58477711]\n",
            " [ 1.29706527 -1.18607043 -0.16942723 ... -0.33117661 -0.04808883\n",
            "  -0.58477711]\n",
            " ...\n",
            " [-0.09955388 -0.72391627 -0.16942723 ...  0.70550789  0.54204194\n",
            "   0.54162988]\n",
            " [ 0.65462046 -0.77526673 -0.38227061 ...  1.6773996   0.30598963\n",
            "  -0.20930812]\n",
            " [-1.21684919  1.02199944  0.75289408 ...  0.51112954  0.01092425\n",
            "   0.54162988]]\n"
          ],
          "name": "stdout"
        }
      ]
    },
    {
      "metadata": {
        "id": "iZBu8CSA3VoJ",
        "colab_type": "text"
      },
      "cell_type": "markdown",
      "source": [
        "**Datasets para el Training y el Test**\n",
        "\n",
        "Se dividen los datos en conjuntos de entrenamiento y validación.\n"
      ]
    },
    {
      "metadata": {
        "id": "lrEPA_vX3VSo",
        "colab_type": "code",
        "colab": {}
      },
      "cell_type": "code",
      "source": [
        "# Dividimos el dataset en 2 partes: 80% para train y 20% para test\n",
        "from sklearn.model_selection import train_test_split\n",
        "#X_train, X_test, y_train, y_test = train_test_split(x, y, test_size = 0.25, random_state = 42)\n",
        "X_train, X_test, y_train, y_test = train_test_split(xsc, y, test_size = 0.20, random_state = 42)"
      ],
      "execution_count": 0,
      "outputs": []
    },
    {
      "metadata": {
        "id": "OWzy6lQ3OAgv",
        "colab_type": "code",
        "colab": {
          "base_uri": "https://localhost:8080/",
          "height": 35
        },
        "outputId": "590e88b5-893f-4035-d1f5-b79ee79b842e"
      },
      "cell_type": "code",
      "source": [
        "X_train.shape, y_train.shape, X_test.shape, y_test.shape "
      ],
      "execution_count": 49,
      "outputs": [
        {
          "output_type": "execute_result",
          "data": {
            "text/plain": [
              "((1279, 10), (1279,), (320, 10), (320,))"
            ]
          },
          "metadata": {
            "tags": []
          },
          "execution_count": 49
        }
      ]
    },
    {
      "metadata": {
        "id": "gp9PmVSa30br",
        "colab_type": "code",
        "colab": {}
      },
      "cell_type": "code",
      "source": [
        "### da mejores resultados escalando antes de hacer el split de train/test\n",
        "\n",
        "#from sklearn.preprocessing import StandardScaler\n",
        "#scaler_X = StandardScaler()\n",
        "#X_train = scaler_X.fit_transform(X_train)\n",
        "#X_test = scaler_X.fit_transform(X_test)"
      ],
      "execution_count": 0,
      "outputs": []
    },
    {
      "metadata": {
        "id": "rPW_nFb54JF3",
        "colab_type": "code",
        "outputId": "353f4094-49ef-4966-e084-8db1ba297fd4",
        "colab": {
          "base_uri": "https://localhost:8080/",
          "height": 256
        }
      },
      "cell_type": "code",
      "source": [
        "# comprobamos el train y el test  \n",
        "print(X_test)"
      ],
      "execution_count": 51,
      "outputs": [
        {
          "output_type": "stream",
          "text": [
            "[[ 0.17976995 -0.98066858 -0.02753165 ... -0.46076217  0.01092425\n",
            "  -0.77251161]\n",
            " [-0.15541864 -0.51851442 -0.66606179 ...  0.51112954 -1.05131114\n",
            "  -0.86637886]\n",
            " [ 0.79428237 -0.26176211  0.11436394 ... -0.20159105  1.89934271\n",
            "  -0.49090986]\n",
            " ...\n",
            " [ 0.40322901 -0.10771073 -0.24037503 ... -1.0438972  -0.75624575\n",
            "  -0.58477711]\n",
            " [-1.44030825  0.61119574 -0.38227061 ... -1.0438972   0.18796348\n",
            "   0.72936437]\n",
            " [ 1.32499765 -1.18607043 -0.66606179 ... -0.13679827 -0.69723268\n",
            "  -0.67864436]]\n"
          ],
          "name": "stdout"
        }
      ]
    },
    {
      "metadata": {
        "id": "b_Y_7WKGIPgQ",
        "colab_type": "code",
        "colab": {
          "base_uri": "https://localhost:8080/",
          "height": 256
        },
        "outputId": "1aa014ae-514d-485f-a3df-5d19245cd62a"
      },
      "cell_type": "code",
      "source": [
        "print(X_train)"
      ],
      "execution_count": 52,
      "outputs": [
        {
          "output_type": "stream",
          "text": [
            "[[ 0.90601191  0.20039205  0.32720732 ...  1.09426457  0.48302886\n",
            "   1.10483337]\n",
            " [-1.77549685  0.66254621 -0.80795737 ... -0.39596939 -0.40216729\n",
            "   1.38643512]\n",
            " [-0.76993107  1.02199944 -0.5241662  ... -0.07200549  0.54204194\n",
            "  -0.58477711]\n",
            " ...\n",
            " [ 0.51495855 -1.08336951  0.11436394 ...  1.28864292 -0.69723268\n",
            "  -0.86637886]\n",
            " [-1.83136161  0.4057939  -0.59511399 ...  0.05758008  0.83710732\n",
            "   1.38643512]\n",
            " [-1.32857872 -0.05636026 -0.59511399 ...  0.51112954 -0.69723268\n",
            "   2.8883111 ]]\n"
          ],
          "name": "stdout"
        }
      ]
    },
    {
      "metadata": {
        "id": "l4xTybMK-5vo",
        "colab_type": "code",
        "colab": {}
      },
      "cell_type": "code",
      "source": [
        "# Creamos listas vacías para ir guardando los valores obtenidos\n",
        "# para las métricas en cada modelo a evaluar a continuación\n",
        "acc={}\n",
        "prec={}\n",
        "rec={}\n",
        "auroc={}"
      ],
      "execution_count": 0,
      "outputs": []
    },
    {
      "metadata": {
        "id": "2F8NZvqlviz4",
        "colab_type": "text"
      },
      "cell_type": "markdown",
      "source": [
        "### **Entrenamiento del Modelo y Predicciones sobre el Test Dataset**\n",
        "\n",
        "Un dato que debemos considerar es que por sí sola la precisión no es una buena opción a la hora de evaluar un modelo. Esto se debe a que, dado que los datos están sesgados, incluso un algoritmo que clasifica el objetivo como el que pertenece a la clase mayoritaria en todo momento logrará una precisión muy alta. Por lo tanto, en este tipo de situaciones conviene también usar otras métricas como:\n",
        "\n",
        "    Precision: (verdaderos positivos) / (verdaderos positivos + falsos positivos)\n",
        "    Recall: (verdaderos positivos) / (verdaderos positivos + falsos negativos)\n",
        "    Accuracy: el resultado armónico de la precision y el recall\n",
        "    AUC ROC (Curva ROC): es la gráfica entre la precision y el recall\n",
        "\n",
        "\n",
        "En esta sección, se han usado diferentes modelos de la biblioteca de scikit y los hemos entrenado en los datos previamente escalados y que luego serán utilizados para cumplir los propósitos de predicción.\n",
        "\n",
        "Comenzaremos con el modelo '***Support Vector Machine***' (SVM):"
      ]
    },
    {
      "metadata": {
        "id": "p9WSgUzg448F",
        "colab_type": "code",
        "colab": {}
      },
      "cell_type": "code",
      "source": [
        "from sklearn.svm import SVC\n",
        "from sklearn.metrics import confusion_matrix, classification_report, accuracy_score, precision_score, recall_score,confusion_matrix,roc_curve,roc_auc_score\n",
        "from sklearn import metrics"
      ],
      "execution_count": 0,
      "outputs": []
    },
    {
      "metadata": {
        "id": "Dz_EcDCnviLj",
        "colab_type": "code",
        "outputId": "8776c103-9655-4237-96d0-17c1197ae9a1",
        "colab": {
          "base_uri": "https://localhost:8080/",
          "height": 201
        }
      },
      "cell_type": "code",
      "source": [
        "svm = SVC()\n",
        "svm.fit(X_train,y_train)\n",
        "predicho_svm =svm.predict(X_test)\n",
        "print(classification_report(y_test,predicho_svm))"
      ],
      "execution_count": 55,
      "outputs": [
        {
          "output_type": "stream",
          "text": [
            "              precision    recall  f1-score   support\n",
            "\n",
            "           1       0.00      0.00      0.00        11\n",
            "           2       0.85      0.98      0.91       262\n",
            "           3       0.72      0.28      0.40        47\n",
            "\n",
            "   micro avg       0.84      0.84      0.84       320\n",
            "   macro avg       0.52      0.42      0.44       320\n",
            "weighted avg       0.80      0.84      0.80       320\n",
            "\n"
          ],
          "name": "stdout"
        }
      ]
    },
    {
      "metadata": {
        "id": "78G_aDAT4tbe",
        "colab_type": "code",
        "outputId": "a21395d1-ccb8-4201-f8ab-6b657e70ad1f",
        "colab": {
          "base_uri": "https://localhost:8080/",
          "height": 90
        }
      },
      "cell_type": "code",
      "source": [
        "svm_cmatrix = confusion_matrix(y_test, predicho_svm)\n",
        "svm_accuracy = accuracy_score(y_test, predicho_svm)\n",
        "print(svm_cmatrix)\n",
        "print(svm_accuracy*100)\n",
        "acc.update({'Support_Vector_Machine': svm_accuracy*100})"
      ],
      "execution_count": 56,
      "outputs": [
        {
          "output_type": "stream",
          "text": [
            "[[  0  11   0]\n",
            " [  0 257   5]\n",
            " [  0  34  13]]\n",
            "84.375\n"
          ],
          "name": "stdout"
        }
      ]
    },
    {
      "metadata": {
        "id": "aLWHNwdPBEqq",
        "colab_type": "text"
      },
      "cell_type": "markdown",
      "source": [
        "Ahora probaremos el modelo '***Random Forest:***':"
      ]
    },
    {
      "metadata": {
        "id": "Fltwi0ueBu4D",
        "colab_type": "code",
        "colab": {}
      },
      "cell_type": "code",
      "source": [
        "from sklearn.ensemble import RandomForestClassifier"
      ],
      "execution_count": 0,
      "outputs": []
    },
    {
      "metadata": {
        "id": "Pk6dEaOA9C8_",
        "colab_type": "code",
        "outputId": "de8596fa-7a67-4ac6-f173-2e9fcb3e524f",
        "colab": {
          "base_uri": "https://localhost:8080/",
          "height": 201
        }
      },
      "cell_type": "code",
      "source": [
        "#rclf = RandomForestClassifier(n_estimators=200)\n",
        "#rclf = RandomForestClassifier(n_estimators=200, random_state=42, max_depth=20, oob_score=True)\n",
        "rclf = RandomForestClassifier(n_estimators=200, max_depth=20, oob_score=True)\n",
        "rclf.fit(X_train, y_train)\n",
        "predicho_rclf = rclf.predict(X_test)\n",
        "print(classification_report(y_test, predicho_rclf))"
      ],
      "execution_count": 58,
      "outputs": [
        {
          "output_type": "stream",
          "text": [
            "              precision    recall  f1-score   support\n",
            "\n",
            "           1       0.00      0.00      0.00        11\n",
            "           2       0.88      0.95      0.92       262\n",
            "           3       0.68      0.53      0.60        47\n",
            "\n",
            "   micro avg       0.86      0.86      0.86       320\n",
            "   macro avg       0.52      0.50      0.50       320\n",
            "weighted avg       0.82      0.86      0.84       320\n",
            "\n"
          ],
          "name": "stdout"
        }
      ]
    },
    {
      "metadata": {
        "id": "UWy3PsaEClWE",
        "colab_type": "code",
        "outputId": "09969339-b702-474f-e52b-8d1bf119a218",
        "colab": {
          "base_uri": "https://localhost:8080/",
          "height": 90
        }
      },
      "cell_type": "code",
      "source": [
        "rclf_cmatrix = confusion_matrix(y_test, predicho_rclf)\n",
        "rclf_accuracy = accuracy_score(y_test, predicho_rclf)\n",
        "print(rclf_cmatrix)\n",
        "print(rclf_accuracy*100)\n",
        "acc.update({'Random_Forest_Classifier': rclf_accuracy*100})"
      ],
      "execution_count": 59,
      "outputs": [
        {
          "output_type": "stream",
          "text": [
            "[[  0  11   0]\n",
            " [  0 250  12]\n",
            " [  0  22  25]]\n",
            "85.9375\n"
          ],
          "name": "stdout"
        }
      ]
    },
    {
      "metadata": {
        "id": "wu9S0qtE3Fk0",
        "colab_type": "text"
      },
      "cell_type": "markdown",
      "source": [
        "Probaremos a continuación el modelo '***Decision Tree Classifier***':\n",
        "\n",
        "\n"
      ]
    },
    {
      "metadata": {
        "id": "JgCiot1SEjeF",
        "colab_type": "code",
        "colab": {}
      },
      "cell_type": "code",
      "source": [
        "from sklearn.tree import DecisionTreeClassifier"
      ],
      "execution_count": 0,
      "outputs": []
    },
    {
      "metadata": {
        "id": "VyV2X2Kc2mT-",
        "colab_type": "code",
        "colab": {
          "base_uri": "https://localhost:8080/",
          "height": 201
        },
        "outputId": "c3cb1dea-742a-413a-8eba-9d0a44a7861b"
      },
      "cell_type": "code",
      "source": [
        "tree = DecisionTreeClassifier()\n",
        "tree.fit(X_train,y_train)\n",
        "predicho_tree = tree.predict(X_test)\n",
        "print(classification_report(y_test, predicho_tree))"
      ],
      "execution_count": 61,
      "outputs": [
        {
          "output_type": "stream",
          "text": [
            "              precision    recall  f1-score   support\n",
            "\n",
            "           1       0.18      0.18      0.18        11\n",
            "           2       0.90      0.87      0.89       262\n",
            "           3       0.56      0.66      0.61        47\n",
            "\n",
            "   micro avg       0.82      0.82      0.82       320\n",
            "   macro avg       0.55      0.57      0.56       320\n",
            "weighted avg       0.83      0.82      0.82       320\n",
            "\n"
          ],
          "name": "stdout"
        }
      ]
    },
    {
      "metadata": {
        "id": "95miXAWS2mg1",
        "colab_type": "code",
        "colab": {
          "base_uri": "https://localhost:8080/",
          "height": 90
        },
        "outputId": "cb5ad88d-5092-4440-fd35-78efe68065c7"
      },
      "cell_type": "code",
      "source": [
        "tree_cmatrix = confusion_matrix(y_test, predicho_tree)\n",
        "tree_accuracy = accuracy_score(y_test, predicho_tree)\n",
        "print(tree_cmatrix)\n",
        "print(tree_accuracy*100)\n",
        "acc.update({'Decision_Tree_Classifier': tree_accuracy*100})"
      ],
      "execution_count": 62,
      "outputs": [
        {
          "output_type": "stream",
          "text": [
            "[[  2   9   0]\n",
            " [  9 229  24]\n",
            " [  0  16  31]]\n",
            "81.875\n"
          ],
          "name": "stdout"
        }
      ]
    },
    {
      "metadata": {
        "id": "1K4hUTupF4OV",
        "colab_type": "text"
      },
      "cell_type": "markdown",
      "source": [
        "Ahora probaremos el *** 'K-Nearest Neighbors***' (KNN):"
      ]
    },
    {
      "metadata": {
        "id": "aMG8_e6I2mx1",
        "colab_type": "code",
        "colab": {}
      },
      "cell_type": "code",
      "source": [
        "from sklearn.neighbors import KNeighborsClassifier"
      ],
      "execution_count": 0,
      "outputs": []
    },
    {
      "metadata": {
        "id": "VZ1yDLpV2m1S",
        "colab_type": "code",
        "colab": {
          "base_uri": "https://localhost:8080/",
          "height": 201
        },
        "outputId": "a8bb4a2e-dcd3-420e-a2f3-ba91494cc463"
      },
      "cell_type": "code",
      "source": [
        "kvecinos = KNeighborsClassifier()\n",
        "kvecinos.fit(X_train,y_train)\n",
        "predicho_kvecinos=kvecinos.predict(X_test)\n",
        "print(classification_report(y_test, predicho_kvecinos))"
      ],
      "execution_count": 64,
      "outputs": [
        {
          "output_type": "stream",
          "text": [
            "              precision    recall  f1-score   support\n",
            "\n",
            "           1       0.00      0.00      0.00        11\n",
            "           2       0.87      0.95      0.91       262\n",
            "           3       0.62      0.43      0.51        47\n",
            "\n",
            "   micro avg       0.84      0.84      0.84       320\n",
            "   macro avg       0.50      0.46      0.47       320\n",
            "weighted avg       0.80      0.84      0.82       320\n",
            "\n"
          ],
          "name": "stdout"
        }
      ]
    },
    {
      "metadata": {
        "id": "fg7f8W6t2muM",
        "colab_type": "code",
        "colab": {
          "base_uri": "https://localhost:8080/",
          "height": 90
        },
        "outputId": "bc2ecba2-2877-4438-ebda-c51cd61a2470"
      },
      "cell_type": "code",
      "source": [
        "kvecinos_cmatrix = confusion_matrix(y_test, predicho_kvecinos)\n",
        "kvecinos_accuracy = accuracy_score(y_test, predicho_kvecinos)\n",
        "print(kvecinos_cmatrix)\n",
        "print(kvecinos_accuracy*100)\n",
        "acc.update({'K_Nearest_Neighbors': kvecinos_accuracy*100})"
      ],
      "execution_count": 65,
      "outputs": [
        {
          "output_type": "stream",
          "text": [
            "[[  0  11   0]\n",
            " [  1 249  12]\n",
            " [  0  27  20]]\n",
            "84.0625\n"
          ],
          "name": "stdout"
        }
      ]
    },
    {
      "metadata": {
        "id": "b4j_lgnORQ9N",
        "colab_type": "text"
      },
      "cell_type": "markdown",
      "source": [
        "Ahora probaremos con el modelo '***Logistic Regression***':"
      ]
    },
    {
      "metadata": {
        "id": "5edCe7NCRnF_",
        "colab_type": "code",
        "colab": {}
      },
      "cell_type": "code",
      "source": [
        "from sklearn.linear_model import LogisticRegression"
      ],
      "execution_count": 0,
      "outputs": []
    },
    {
      "metadata": {
        "id": "jGe-tcNSRnR5",
        "colab_type": "code",
        "colab": {
          "base_uri": "https://localhost:8080/",
          "height": 201
        },
        "outputId": "70812485-69f2-4d64-a77b-109dd2fafc54"
      },
      "cell_type": "code",
      "source": [
        "regresion = LogisticRegression()\n",
        "regresion.fit(X_train, y_train)\n",
        "predicho_regresion = regresion.predict(X_test)\n",
        "print(classification_report(y_test, predicho_regresion))"
      ],
      "execution_count": 67,
      "outputs": [
        {
          "output_type": "stream",
          "text": [
            "              precision    recall  f1-score   support\n",
            "\n",
            "           1       0.00      0.00      0.00        11\n",
            "           2       0.84      0.97      0.90       262\n",
            "           3       0.61      0.23      0.34        47\n",
            "\n",
            "   micro avg       0.83      0.83      0.83       320\n",
            "   macro avg       0.49      0.40      0.41       320\n",
            "weighted avg       0.78      0.83      0.79       320\n",
            "\n"
          ],
          "name": "stdout"
        }
      ]
    },
    {
      "metadata": {
        "id": "YEObt680Rnhp",
        "colab_type": "code",
        "colab": {
          "base_uri": "https://localhost:8080/",
          "height": 90
        },
        "outputId": "48a9aee4-9a66-40f6-da66-3acecd43d9fd"
      },
      "cell_type": "code",
      "source": [
        "regresion_cmatrix = confusion_matrix(y_test, predicho_regresion)\n",
        "regresion_accuracy = accuracy_score(y_test, predicho_regresion)\n",
        "print(regresion_cmatrix)\n",
        "print(regresion_accuracy*100)\n",
        "acc.update({'Logistic_Regression': regresion_accuracy*100})"
      ],
      "execution_count": 68,
      "outputs": [
        {
          "output_type": "stream",
          "text": [
            "[[  0  11   0]\n",
            " [  0 255   7]\n",
            " [  0  36  11]]\n",
            "83.125\n"
          ],
          "name": "stdout"
        }
      ]
    },
    {
      "metadata": {
        "id": "sXh6fYEgIsWx",
        "colab_type": "text"
      },
      "cell_type": "markdown",
      "source": [
        "### Comparando los diferentes modelos"
      ]
    },
    {
      "metadata": {
        "id": "yVffMmCB2mrX",
        "colab_type": "code",
        "colab": {
          "base_uri": "https://localhost:8080/",
          "height": 206
        },
        "outputId": "90c6f0f9-f9f3-4d3f-c463-7f877c8841a0"
      },
      "cell_type": "code",
      "source": [
        "evaluacion_modelo = pd.DataFrame()\n",
        "evaluacion_modelo['Modelo'] = acc.keys() \n",
        "evaluacion_modelo['Accuracy'] = acc.values()\n",
        "evaluacion_modelo"
      ],
      "execution_count": 69,
      "outputs": [
        {
          "output_type": "execute_result",
          "data": {
            "text/html": [
              "<div>\n",
              "<style scoped>\n",
              "    .dataframe tbody tr th:only-of-type {\n",
              "        vertical-align: middle;\n",
              "    }\n",
              "\n",
              "    .dataframe tbody tr th {\n",
              "        vertical-align: top;\n",
              "    }\n",
              "\n",
              "    .dataframe thead th {\n",
              "        text-align: right;\n",
              "    }\n",
              "</style>\n",
              "<table border=\"1\" class=\"dataframe\">\n",
              "  <thead>\n",
              "    <tr style=\"text-align: right;\">\n",
              "      <th></th>\n",
              "      <th>Modelo</th>\n",
              "      <th>Accuracy</th>\n",
              "    </tr>\n",
              "  </thead>\n",
              "  <tbody>\n",
              "    <tr>\n",
              "      <th>0</th>\n",
              "      <td>Support_Vector_Machine</td>\n",
              "      <td>84.3750</td>\n",
              "    </tr>\n",
              "    <tr>\n",
              "      <th>1</th>\n",
              "      <td>Random_Forest_Classifier</td>\n",
              "      <td>85.9375</td>\n",
              "    </tr>\n",
              "    <tr>\n",
              "      <th>2</th>\n",
              "      <td>Decision_Tree_Classifier</td>\n",
              "      <td>81.8750</td>\n",
              "    </tr>\n",
              "    <tr>\n",
              "      <th>3</th>\n",
              "      <td>K_Nearest_Neighbors</td>\n",
              "      <td>84.0625</td>\n",
              "    </tr>\n",
              "    <tr>\n",
              "      <th>4</th>\n",
              "      <td>Logistic_Regression</td>\n",
              "      <td>83.1250</td>\n",
              "    </tr>\n",
              "  </tbody>\n",
              "</table>\n",
              "</div>"
            ],
            "text/plain": [
              "                     Modelo  Accuracy\n",
              "0    Support_Vector_Machine   84.3750\n",
              "1  Random_Forest_Classifier   85.9375\n",
              "2  Decision_Tree_Classifier   81.8750\n",
              "3       K_Nearest_Neighbors   84.0625\n",
              "4       Logistic_Regression   83.1250"
            ]
          },
          "metadata": {
            "tags": []
          },
          "execution_count": 69
        }
      ]
    },
    {
      "metadata": {
        "id": "9OfAQUI72mkg",
        "colab_type": "code",
        "colab": {
          "base_uri": "https://localhost:8080/",
          "height": 445
        },
        "outputId": "c218087c-5c78-4557-dfcb-9c3d54935874"
      },
      "cell_type": "code",
      "source": [
        "from matplotlib.pyplot import xticks\n",
        "\n",
        "plt.suptitle(\"Resultados de los Modelos\", fontsize=20)\n",
        "sns.lineplot(x='Modelo', y='Accuracy',data=evaluacion_modelo)\n",
        "xticks(rotation=90)"
      ],
      "execution_count": 70,
      "outputs": [
        {
          "output_type": "execute_result",
          "data": {
            "text/plain": [
              "([0, 1, 2, 3, 4], <a list of 5 Text xticklabel objects>)"
            ]
          },
          "metadata": {
            "tags": []
          },
          "execution_count": 70
        },
        {
          "output_type": "display_data",
          "data": {
            "image/png": "[encoded data removed]",
            "text/plain": [
              "<Figure size 432x288 with 1 Axes>"
            ]
          },
          "metadata": {
            "tags": []
          }
        }
      ]
    },
    {
      "metadata": {
        "id": "gqiC10VpWMoy",
        "colab_type": "text"
      },
      "cell_type": "markdown",
      "source": [
        "**Comentarios**: Después de haber analizado diferentes modelos, los mejores resultados obtenidos fueron para el modelo 'Random Forest' con un Accuracy de 85.93%, seguido del modelo SVM con 84.37%. \n",
        "\n",
        "OJO FALTA TERMINAR\n",
        "\n"
      ]
    },
    {
      "metadata": {
        "id": "QEww4C-cs53t",
        "colab_type": "text"
      },
      "cell_type": "markdown",
      "source": [
        "### Features de Importancia"
      ]
    },
    {
      "metadata": {
        "id": "5vOb7-rBUfOR",
        "colab_type": "text"
      },
      "cell_type": "markdown",
      "source": [
        "Hemos visto que para 'Random Forest' los resultados obtenidos han sido mejores comparando con otros modelos; no obstante, intentaremos ajustar los hiperparámetros para el modelo 'Random Forest' y ver si con ello podemos mejorar un poco más la precisión.\n"
      ]
    },
    {
      "metadata": {
        "id": "I8XXxpZ7UcuR",
        "colab_type": "code",
        "colab": {
          "base_uri": "https://localhost:8080/",
          "height": 35
        },
        "outputId": "035a4707-0de2-46c2-8115-37fee9ebd2c7"
      },
      "cell_type": "code",
      "source": [
        "rclf.oob_score_"
      ],
      "execution_count": 71,
      "outputs": [
        {
          "output_type": "execute_result",
          "data": {
            "text/plain": [
              "0.8694292415949961"
            ]
          },
          "metadata": {
            "tags": []
          },
          "execution_count": 71
        }
      ]
    },
    {
      "metadata": {
        "id": "eGJaxNjzs-xZ",
        "colab_type": "code",
        "colab": {
          "base_uri": "https://localhost:8080/",
          "height": 269
        },
        "outputId": "e52a050e-8888-4199-9788-50f7f71d3d80"
      },
      "cell_type": "code",
      "source": [
        "plt.plot(sorted(rclf.feature_importances_,reverse=True))\n",
        "plt.show()"
      ],
      "execution_count": 72,
      "outputs": [
        {
          "output_type": "display_data",
          "data": {
            "image/png": "[encoded data removed]",
            "text/plain": [
              "<Figure size 432x288 with 1 Axes>"
            ]
          },
          "metadata": {
            "tags": []
          }
        }
      ]
    },
    {
      "metadata": {
        "id": "uaNC2g8vtTWu",
        "colab_type": "text"
      },
      "cell_type": "markdown",
      "source": [
        "Como podemos ver en el gráfico de arriba, hay 8 variables principales. Más allá de esto, el modelo se mantiene estable. Veamos cuales son las variables:"
      ]
    },
    {
      "metadata": {
        "id": "Hn-ZzPGBs--o",
        "colab_type": "code",
        "colab": {
          "base_uri": "https://localhost:8080/",
          "height": 55
        },
        "outputId": "4cd744b1-1d9a-4a84-e014-c4bd6a1e31f3"
      },
      "cell_type": "code",
      "source": [
        "print (sorted(zip(map(lambda x: round(x, 4), rclf.feature_importances_), x), reverse=True))"
      ],
      "execution_count": 73,
      "outputs": [
        {
          "output_type": "stream",
          "text": [
            "[(0.1626, 'Alcohol'), (0.121, 'Acidez_Volatil'), (0.1196, 'Sulfatos'), (0.098, 'Dioxido_Azufre_Total'), (0.0927, 'Acido_Citrico'), (0.0922, 'Densidad'), (0.0841, 'Cloruro'), (0.083, 'Azucar_Residual'), (0.0765, 'pH'), (0.0701, 'Dioxido_Azufre_Libre')]\n"
          ],
          "name": "stdout"
        }
      ]
    },
    {
      "metadata": {
        "id": "-8CwaXTms-Cz",
        "colab_type": "code",
        "colab": {
          "base_uri": "https://localhost:8080/",
          "height": 431
        },
        "outputId": "d3d8b53a-eae8-4b44-a958-7c2b74e260c3"
      },
      "cell_type": "code",
      "source": [
        "nombres = list(x.columns)\n",
        "importantes = rclf.feature_importances_\n",
        "\n",
        "# Graficamos los features importantes \n",
        "plt.figure(figsize=(10,5))\n",
        "plt.title(\"Features Importantes\")\n",
        "y_pos = np.arange(len(nombres))\n",
        "plt.bar(y_pos, importantes, align='center')\n",
        "plt.xticks(y_pos, nombres, rotation=90)\n",
        "plt.show()"
      ],
      "execution_count": 74,
      "outputs": [
        {
          "output_type": "display_data",
          "data": {
            "image/png": "[encoded data removed]",
            "text/plain": [
              "<Figure size 720x360 with 1 Axes>"
            ]
          },
          "metadata": {
            "tags": []
          }
        }
      ]
    },
    {
      "metadata": {
        "id": "oTghES3wtmpW",
        "colab_type": "text"
      },
      "cell_type": "markdown",
      "source": [
        "**Comentarios**: Las características que contribuyen más a la calidad del vino incluyen el alcohol (el más alto) seguido de sulfatos, ácidez volátil, y densidad. Esto es similar a lo que observamos anteriormente.\n",
        "\n",
        "De ahora en adelante, usaremos solo estas 8 variables y eliminaremos las variables menos importantes del modelo:"
      ]
    },
    {
      "metadata": {
        "id": "0qUoZM2Ss99E",
        "colab_type": "code",
        "colab": {}
      },
      "cell_type": "code",
      "source": [
        "x_newrclf = x[['Acidez_Volatil', 'Acido_Citrico', 'Azucar_Residual', 'Cloruro', 'Dioxido_Azufre_Total', 'Densidad', 'Sulfatos', 'Alcohol']]"
      ],
      "execution_count": 0,
      "outputs": []
    },
    {
      "metadata": {
        "id": "RwvD_pvUUmQe",
        "colab_type": "code",
        "colab": {
          "base_uri": "https://localhost:8080/",
          "height": 72
        },
        "outputId": "f507943e-1bbc-4086-ff69-69de95d5e30f"
      },
      "cell_type": "code",
      "source": [
        "# Comprobamos los resultados\n",
        "x_newrclf.columns"
      ],
      "execution_count": 76,
      "outputs": [
        {
          "output_type": "execute_result",
          "data": {
            "text/plain": [
              "Index(['Acidez_Volatil', 'Acido_Citrico', 'Azucar_Residual', 'Cloruro',\n",
              "       'Dioxido_Azufre_Total', 'Densidad', 'Sulfatos', 'Alcohol'],\n",
              "      dtype='object')"
            ]
          },
          "metadata": {
            "tags": []
          },
          "execution_count": 76
        }
      ]
    },
    {
      "metadata": {
        "id": "yTzIJCSpt73L",
        "colab_type": "text"
      },
      "cell_type": "markdown",
      "source": [
        "Escalamos otra vez (x_newrclf):"
      ]
    },
    {
      "metadata": {
        "id": "OoTCX09AZxoY",
        "colab_type": "code",
        "colab": {}
      },
      "cell_type": "code",
      "source": [
        "from sklearn.preprocessing import StandardScaler\n",
        "xn2 = x_newrclf.iloc[:,:].values\n",
        "\n",
        "sc=StandardScaler()\n",
        "xsc2=sc.fit_transform(xn2[:,:])"
      ],
      "execution_count": 0,
      "outputs": []
    },
    {
      "metadata": {
        "id": "lnTdsrkpuCyE",
        "colab_type": "text"
      },
      "cell_type": "markdown",
      "source": [
        "Dividimos el dataset otra vez :"
      ]
    },
    {
      "metadata": {
        "id": "koDpKaGqtzqV",
        "colab_type": "code",
        "colab": {}
      },
      "cell_type": "code",
      "source": [
        "from sklearn.model_selection import train_test_split\n",
        "X_train, X_test, y_train, y_test = train_test_split(xsc2, y, test_size = 0.20, random_state = 42)"
      ],
      "execution_count": 0,
      "outputs": []
    },
    {
      "metadata": {
        "id": "WGi1q9J5uV8Q",
        "colab_type": "text"
      },
      "cell_type": "markdown",
      "source": [
        "Y entrenamos por segunda vez con 'Random Forest' para ver que resultados obtenemos:"
      ]
    },
    {
      "metadata": {
        "id": "iS8lJ8L8uLdM",
        "colab_type": "code",
        "colab": {
          "base_uri": "https://localhost:8080/",
          "height": 201
        },
        "outputId": "65013a16-0530-4861-c5cc-ca1d5b4caa5e"
      },
      "cell_type": "code",
      "source": [
        "rclf2 = RandomForestClassifier(n_estimators=200, max_depth=20, oob_score=True)\n",
        "rclf2.fit(X_train, y_train)\n",
        "predicho_rclf2 = rclf2.predict(X_test)\n",
        "print(classification_report(y_test, predicho_rclf2))"
      ],
      "execution_count": 79,
      "outputs": [
        {
          "output_type": "stream",
          "text": [
            "              precision    recall  f1-score   support\n",
            "\n",
            "           1       0.00      0.00      0.00        11\n",
            "           2       0.88      0.97      0.92       262\n",
            "           3       0.74      0.53      0.62        47\n",
            "\n",
            "   micro avg       0.87      0.87      0.87       320\n",
            "   macro avg       0.54      0.50      0.51       320\n",
            "weighted avg       0.83      0.87      0.85       320\n",
            "\n"
          ],
          "name": "stdout"
        }
      ]
    },
    {
      "metadata": {
        "id": "OfaMtEvstz3S",
        "colab_type": "code",
        "colab": {
          "base_uri": "https://localhost:8080/",
          "height": 90
        },
        "outputId": "b7565f37-be47-4615-9838-0d3fa07a3f20"
      },
      "cell_type": "code",
      "source": [
        "rclf2_cmatrix = confusion_matrix(y_test, predicho_rclf2)\n",
        "rclf2_accuracy = accuracy_score(y_test, predicho_rclf2)\n",
        "print(rclf2_cmatrix)\n",
        "print(rclf2_accuracy*100)\n",
        "acc.update({'Random_Forest_Classifier': rclf2_accuracy*100})"
      ],
      "execution_count": 80,
      "outputs": [
        {
          "output_type": "stream",
          "text": [
            "[[  0  11   0]\n",
            " [  0 253   9]\n",
            " [  0  22  25]]\n",
            "86.875\n"
          ],
          "name": "stdout"
        }
      ]
    },
    {
      "metadata": {
        "id": "VYCbzbIlu1bl",
        "colab_type": "text"
      },
      "cell_type": "markdown",
      "source": [
        "**Comentarios**: En nuestro caso los resultados obtenidos con 'Random Forest' (dejando solo las variables de más importancia), han logrado mejorar el resultado de la precisión. Los nuevos valores de precisión y recall han sido ligeramente más altos, así como el accuracy alcanzado de 86.87 %, contra un 85.93 % del ejemplo anterior en el que usabamos todas las variables involucradas. No obstante, en nuestro caso parece no tener mucho sentido sacrificar cierta exactitud por el bien de la interpretabilidad. \n",
        "\n",
        "\n",
        "Las ventajas de usar la función del 'feature importance' puede ser más notoria en situaciones donde haya un mayor número de variables, y en el que la eliminación de algunas de ellas (no tan significativas) compense con una mejoría, ya sea para comprender la lógica del modelo, o para tener un rendimiento similar o en un tiempo de entrenamiento mucho más corto. \n"
      ]
    },
    {
      "metadata": {
        "id": "kWfiRqXRiQwS",
        "colab_type": "code",
        "colab": {}
      },
      "cell_type": "code",
      "source": [
        ""
      ],
      "execution_count": 0,
      "outputs": []
    },
    {
      "metadata": {
        "id": "HIga1mmsX7jl",
        "colab_type": "text"
      },
      "cell_type": "markdown",
      "source": [
        "### Técnica sobremuestreo (SMOTE)\n",
        "\n",
        "Como ya hemos visto, para el caso del grado de calidad tenemos un conjunto de datos desbalanceado, con predominio de vinos Aceptables (82%) sobre los vinos Buenos (13.5%) y Malos (3.9%).\n",
        "\n",
        "Para intentar mejorar el rendimiento de nuestros modelos, utilizaremos la técnica de sobremuestreo conocida como SMOTE (Técnica de sobremuestreo de minorías sintéticas) que crea aleatoriamente algunos casos 'sintéticos' de las clases minoritarias para que las observaciones netas de todas clases se equilibren.\n",
        "\n",
        "Utilizaremos el paquete 'imblearn' para muestrear las clases minoritarias y lo realizaremos sobre el dataset dataset winequalityX3.\n"
      ]
    },
    {
      "metadata": {
        "id": "-tfJA954b1LT",
        "colab_type": "text"
      },
      "cell_type": "markdown",
      "source": [
        "Dividiremos nuevamente nuestro dataset aplicando SMOTE:"
      ]
    },
    {
      "metadata": {
        "id": "y7si3xe_dTJb",
        "colab_type": "code",
        "colab": {
          "base_uri": "https://localhost:8080/",
          "height": 35
        },
        "outputId": "6a8cf2a3-8159-4565-dc46-7a04da69b4c8"
      },
      "cell_type": "code",
      "source": [
        "from imblearn.over_sampling import SMOTE\n",
        "\n",
        "smote = SMOTE('minority')   #Usamos el ratio='minority' para remuestrear la clase minoritaria\n",
        "X_train_sm, y_train_sm = smote.fit_sample(X_train, y_train)\n",
        "print(X_train_sm.shape, y_train_sm.shape)\n"
      ],
      "execution_count": 81,
      "outputs": [
        {
          "output_type": "stream",
          "text": [
            "(2284, 8) (2284,)\n"
          ],
          "name": "stdout"
        }
      ]
    },
    {
      "metadata": {
        "id": "wNavS2KlhIcL",
        "colab_type": "text"
      },
      "cell_type": "markdown",
      "source": [
        "Volvemos a sacar entrenar los modelos:\n",
        "\n",
        "OJO TERMINAR"
      ]
    },
    {
      "metadata": {
        "id": "WS_CZO8pXn71",
        "colab_type": "code",
        "colab": {}
      },
      "cell_type": "code",
      "source": [
        "\n",
        "\n",
        "\n",
        "\n"
      ],
      "execution_count": 0,
      "outputs": []
    },
    {
      "metadata": {
        "id": "ZCH92nRwXnzm",
        "colab_type": "code",
        "colab": {}
      },
      "cell_type": "code",
      "source": [
        "\n",
        "\n"
      ],
      "execution_count": 0,
      "outputs": []
    },
    {
      "metadata": {
        "id": "IXU93xMK2mOt",
        "colab_type": "code",
        "colab": {}
      },
      "cell_type": "code",
      "source": [
        ""
      ],
      "execution_count": 0,
      "outputs": []
    },
    {
      "metadata": {
        "id": "EJbvm1eKuCsb",
        "colab_type": "code",
        "colab": {}
      },
      "cell_type": "code",
      "source": [
        ""
      ],
      "execution_count": 0,
      "outputs": []
    },
    {
      "metadata": {
        "id": "keJVpfh914nR",
        "colab_type": "code",
        "colab": {}
      },
      "cell_type": "code",
      "source": [
        "\n"
      ],
      "execution_count": 0,
      "outputs": []
    },
    {
      "metadata": {
        "id": "AQoPBuHc149u",
        "colab_type": "code",
        "colab": {}
      },
      "cell_type": "code",
      "source": [
        ""
      ],
      "execution_count": 0,
      "outputs": []
    },
    {
      "metadata": {
        "id": "DUtuqZ4U14dh",
        "colab_type": "code",
        "colab": {}
      },
      "cell_type": "code",
      "source": [
        ""
      ],
      "execution_count": 0,
      "outputs": []
    },
    {
      "metadata": {
        "id": "Ao8vOxn6vsjq",
        "colab_type": "code",
        "colab": {}
      },
      "cell_type": "code",
      "source": [
        ""
      ],
      "execution_count": 0,
      "outputs": []
    },
    {
      "metadata": {
        "id": "vyzkcDL5UsFg",
        "colab_type": "code",
        "colab": {}
      },
      "cell_type": "code",
      "source": [
        ""
      ],
      "execution_count": 0,
      "outputs": []
    },
    {
      "metadata": {
        "id": "-87w8NpKUsJd",
        "colab_type": "code",
        "colab": {}
      },
      "cell_type": "code",
      "source": [
        ""
      ],
      "execution_count": 0,
      "outputs": []
    },
    {
      "metadata": {
        "id": "nRC9b0exUsBN",
        "colab_type": "code",
        "colab": {}
      },
      "cell_type": "code",
      "source": [
        ""
      ],
      "execution_count": 0,
      "outputs": []
    },
    {
      "metadata": {
        "id": "TDVIg5SWHUzM",
        "colab_type": "code",
        "colab": {}
      },
      "cell_type": "code",
      "source": [
        ""
      ],
      "execution_count": 0,
      "outputs": []
    },
    {
      "metadata": {
        "id": "iUfvGdEHIpZF",
        "colab_type": "code",
        "colab": {}
      },
      "cell_type": "code",
      "source": [
        ""
      ],
      "execution_count": 0,
      "outputs": []
    },
    {
      "metadata": {
        "id": "aogOMm1FYDv3",
        "colab_type": "code",
        "colab": {}
      },
      "cell_type": "code",
      "source": [
        ""
      ],
      "execution_count": 0,
      "outputs": []
    },
    {
      "metadata": {
        "id": "Bcn2W7IZoB_C",
        "colab_type": "code",
        "colab": {}
      },
      "cell_type": "code",
      "source": [
        ""
      ],
      "execution_count": 0,
      "outputs": []
    },
    {
      "metadata": {
        "id": "fAlnkxAbYDXx",
        "colab_type": "code",
        "colab": {}
      },
      "cell_type": "code",
      "source": [
        ""
      ],
      "execution_count": 0,
      "outputs": []
    },
    {
      "metadata": {
        "id": "W0EICpPYWZ9b",
        "colab_type": "code",
        "colab": {}
      },
      "cell_type": "code",
      "source": [
        ""
      ],
      "execution_count": 0,
      "outputs": []
    },
    {
      "metadata": {
        "id": "j3PpRXzaWaE6",
        "colab_type": "code",
        "colab": {}
      },
      "cell_type": "code",
      "source": [
        ""
      ],
      "execution_count": 0,
      "outputs": []
    },
    {
      "metadata": {
        "id": "INzVmeFzWZ2s",
        "colab_type": "code",
        "colab": {}
      },
      "cell_type": "code",
      "source": [
        ""
      ],
      "execution_count": 0,
      "outputs": []
    },
    {
      "metadata": {
        "id": "3MnS_YX3AMHq",
        "colab_type": "code",
        "colab": {}
      },
      "cell_type": "code",
      "source": [
        ""
      ],
      "execution_count": 0,
      "outputs": []
    },
    {
      "metadata": {
        "id": "YgSoEbxuAMKs",
        "colab_type": "code",
        "colab": {}
      },
      "cell_type": "code",
      "source": [
        ""
      ],
      "execution_count": 0,
      "outputs": []
    },
    {
      "metadata": {
        "id": "YWSSEbPHCVdE",
        "colab_type": "code",
        "colab": {}
      },
      "cell_type": "code",
      "source": [
        ""
      ],
      "execution_count": 0,
      "outputs": []
    },
    {
      "metadata": {
        "id": "fmtsADrOCVjO",
        "colab_type": "code",
        "colab": {}
      },
      "cell_type": "code",
      "source": [
        ""
      ],
      "execution_count": 0,
      "outputs": []
    },
    {
      "metadata": {
        "id": "_EkxdKVTCVgR",
        "colab_type": "code",
        "colab": {}
      },
      "cell_type": "code",
      "source": [
        ""
      ],
      "execution_count": 0,
      "outputs": []
    },
    {
      "metadata": {
        "id": "nnI6uNtBCVl8",
        "colab_type": "code",
        "colab": {}
      },
      "cell_type": "code",
      "source": [
        ""
      ],
      "execution_count": 0,
      "outputs": []
    },
    {
      "metadata": {
        "id": "vEQ7E5sPCVW0",
        "colab_type": "code",
        "colab": {}
      },
      "cell_type": "code",
      "source": [
        ""
      ],
      "execution_count": 0,
      "outputs": []
    },
    {
      "metadata": {
        "id": "-LTEy_8Is3Zn",
        "colab_type": "text"
      },
      "cell_type": "markdown",
      "source": [
        ""
      ]
    },
    {
      "metadata": {
        "id": "oVJNbs1AvWGh",
        "colab_type": "code",
        "colab": {}
      },
      "cell_type": "code",
      "source": [
        ""
      ],
      "execution_count": 0,
      "outputs": []
    },
    {
      "metadata": {
        "id": "iv_IIEeC2W-J",
        "colab_type": "code",
        "colab": {}
      },
      "cell_type": "code",
      "source": [
        ""
      ],
      "execution_count": 0,
      "outputs": []
    },
    {
      "metadata": {
        "id": "1B8w7WtB2XBd",
        "colab_type": "code",
        "colab": {}
      },
      "cell_type": "code",
      "source": [
        ""
      ],
      "execution_count": 0,
      "outputs": []
    }
  ]
}